{
  "nbformat": 4,
  "nbformat_minor": 0,
  "metadata": {
    "colab": {
      "provenance": [],
      "toc_visible": true
    },
    "kernelspec": {
      "name": "python3",
      "display_name": "Python 3"
    },
    "language_info": {
      "name": "python"
    }
  },
  "cells": [
    {
      "cell_type": "markdown",
      "metadata": {
        "id": "s6ihxB30nsJT"
      },
      "source": [
        "![image](https://www.python.org/static/img/python-logo.png)\n",
        "# AUP111-Fundamentals of Programming\n",
        "![Open In Colab](https://colab.research.google.com/assets/colab-badge.svg)\n"
      ]
    },
    {
      "cell_type": "markdown",
      "metadata": {
        "id": "ZPpsBwman_l5"
      },
      "source": [
        "# Week17-Advanced programming-web crawler related basic package\n",
        "* URL tool (urllib)\n",
        "* Database (Database)\n",
        "* Network crawler (Network)\n",
        "* Asynchronous execution (asynchronous)\n",
        "\n",
        "\n",
        "\n"
      ]
    },
    {
      "cell_type": "markdown",
      "metadata": {
        "id": "9HG7FUT9jiDv"
      },
      "source": [
        "## Topic 1(主題1)-urllib\n",
        "https://docs.python.org/3/howto/urllib2.html\n",
        "\n",
        "urllib.request is a Python module used to get data from URLs (Uniform Resource Locators). It provides a very simple interface that can accept many different protocols, the urlopen function. It also provides a more complex interface to handle some common situations, such as: basic authentication, cookies, proxies, etc., which can be operated by handler or opener objects.\n",
        "\n",
        "Under normal circumstances urlopen is very easy to use, but when you encounter errors or more complicated situations, you may need to have a certain understanding of the HyperText Transfer Protocol. The most complete and reference value is RFC 2616."
      ]
    },
    {
      "cell_type": "markdown",
      "metadata": {
        "id": "a70lrlzymQpE"
      },
      "source": [
        "### Step 1: Get resources from URL"
      ]
    },
    {
      "cell_type": "code",
      "metadata": {
        "id": "gh-Isx3EmU7F"
      },
      "source": [
        "import urllib.request\n",
        "with urllib.request.urlopen('http://www.asia.edu.tw/') as response:\n",
        "   html = response.read()"
      ],
      "execution_count": null,
      "outputs": []
    },
    {
      "cell_type": "markdown",
      "metadata": {
        "id": "T8fkJwhAm9gM"
      },
      "source": [
        "### Step 2:Exception handling\n",
        "* URLError: If urlopen cannot process the response message, URLError will be triggered.\n",
        "* HTTPError is a subclass of URLError and will be triggered when the URL is HTTP.\n",
        "\n"
      ]
    },
    {
      "cell_type": "code",
      "metadata": {
        "id": "bY4UiBfHjjEd"
      },
      "source": [
        "#plan 1\n",
        "from urllib.request import Request, urlopen\n",
        "from urllib.error import URLError, HTTPError\n",
        "req = Request(someurl)\n",
        "try:\n",
        "    response = urlopen(req)\n",
        "except HTTPError as e:\n",
        "    print('The server couldn\\'t fulfill the request.')\n",
        "    print('Error code: ', e.code)\n",
        "except URLError as e:\n",
        "    print('We failed to reach a server.')\n",
        "    print('Reason: ', e.reason)\n",
        "else:\n",
        "    # everything is fine"
      ],
      "execution_count": null,
      "outputs": []
    },
    {
      "cell_type": "code",
      "metadata": {
        "id": "NhOcehk8nlcV"
      },
      "source": [
        "# plan 2\n",
        "from urllib.request import Request, urlopen\n",
        "from urllib.error import URLError\n",
        "req = Request(someurl)\n",
        "try:\n",
        "    response = urlopen(req)\n",
        "except URLError as e:\n",
        "    if hasattr(e, 'reason'):\n",
        "        print('We failed to reach a server.')\n",
        "        print('Reason: ', e.reason)\n",
        "    elif hasattr(e, 'code'):\n",
        "        print('The server couldn\\'t fulfill the request.')\n",
        "        print('Error code: ', e.code)\n",
        "else:\n",
        "    # everything is fine"
      ],
      "execution_count": null,
      "outputs": []
    },
    {
      "cell_type": "markdown",
      "metadata": {
        "id": "Lbnyj71Mo4F1"
      },
      "source": [
        "## Topic 2-SQLite database DB-API 2.0 interface\n",
        "https://docs.python.org/3/library/sqlite3.html\n"
      ]
    },
    {
      "cell_type": "markdown",
      "metadata": {
        "id": "CpFvy3Aapem2"
      },
      "source": [
        "### Step 3:Create a Connection object\n",
        "To use SQLite, you must first create a Connection object, which represents the database."
      ]
    },
    {
      "cell_type": "code",
      "metadata": {
        "id": "oklZ0HDepzqk"
      },
      "source": [
        "import sqlite3\n",
        "con = sqlite3.connect('example.db')"
      ],
      "execution_count": null,
      "outputs": []
    },
    {
      "cell_type": "markdown",
      "metadata": {
        "id": "ftkXoqSIpgIh"
      },
      "source": [
        "### Step 4:Create a Cursor object\n",
        "When you have a Connection object, you can create a Cursor object, and then call its execute() method to execute SQL statements:"
      ]
    },
    {
      "cell_type": "code",
      "metadata": {
        "id": "2TsxPejhp9Fu"
      },
      "source": [
        "import sqlite3\n",
        "con = sqlite3.connect('example.db')\n",
        "\n",
        "cur = con.cursor()\n",
        "\n",
        "# Create table\n",
        "cur.execute('''CREATE TABLE stocks\n",
        "               (date text, trans text, symbol text, qty real, price real)''')\n",
        "\n",
        "# Insert a row of data\n",
        "cur.execute(\"INSERT INTO stocks VALUES ('2006-01-05','BUY','RHAT',100,35.14)\")\n",
        "\n",
        "# Save (commit) the changes\n",
        "con.commit()\n",
        "\n",
        "# We can also close the connection if we are done with it.\n",
        "# Just be sure any changes have been committed or they will be lost.\n",
        "con.close()"
      ],
      "execution_count": null,
      "outputs": []
    },
    {
      "cell_type": "markdown",
      "metadata": {
        "id": "MXSWJ8UVph5F"
      },
      "source": [
        "### Step 5:Get data after executing SELECT SQL query\n",
        "\n",
        "To get data after executing a SELECT statement, you can use the cursor as an iterator, and then call its fetchone() method to get a matching row, or you can call fetchall() to get a list of multiple matching rows."
      ]
    },
    {
      "cell_type": "code",
      "metadata": {
        "id": "uS7O9p9FpzEA"
      },
      "source": [
        "import sqlite3\n",
        "con = sqlite3.connect('example.db')\n",
        "cur = con.cursor()\n",
        "for row in cur.execute('SELECT * FROM stocks ORDER BY price'):\n",
        "  print(row)"
      ],
      "execution_count": null,
      "outputs": []
    },
    {
      "cell_type": "markdown",
      "metadata": {
        "id": "MEfmXzpIpi_h"
      },
      "source": [
        "### Step 6:Question mark style\n",
        "What should be used is DB-API's formal parameter substitution. Put a placeholder wherever you want to use a value, and then provide a tuple containing multiple values as the second parameter of the execute() method of the data cursor. SQL statements can use one of two types of placeholders: question mark placeholders (question mark style) or name placeholders (name style). For question mark style, parameters must be a sequence. For the name style, it can be a sequence or a dict instance. The length of the sequence must match the number of placeholders, otherwise a ProgrammingError will be raised. If a dict is given, it must contain the keys corresponding to all the name parameters. Any extra entries will be ignored. The following are examples that include these two styles:"
      ]
    },
    {
      "cell_type": "code",
      "metadata": {
        "id": "fGGG6DNUq6zc"
      },
      "source": [
        "import sqlite3\n",
        "\n",
        "con = sqlite3.connect(\":memory:\")\n",
        "cur = con.cursor()\n",
        "cur.execute(\"create table lang (name, first_appeared)\")\n",
        "\n",
        "# This is the qmark style:\n",
        "cur.execute(\"insert into lang values (?, ?)\", (\"C\", 1972))\n",
        "\n",
        "# The qmark style used with executemany():\n",
        "lang_list = [\n",
        "    (\"Fortran\", 1957),\n",
        "    (\"Python\", 1991),\n",
        "    (\"Go\", 2009),\n",
        "]\n",
        "cur.executemany(\"insert into lang values (?, ?)\", lang_list)\n",
        "\n",
        "# And this is the named style:\n",
        "cur.execute(\"select * from lang where first_appeared=:year\", {\"year\": 1972})\n",
        "print(cur.fetchall())\n",
        "\n",
        "con.close()"
      ],
      "execution_count": null,
      "outputs": []
    },
    {
      "cell_type": "markdown",
      "metadata": {
        "id": "173Eb3IkpkcO"
      },
      "source": [
        "### Step 7: Time processing of sqlite3\n",
        "The sqlite3 module has two adapters that can be used with Python's built-in datetime.date and datetime.datetime types."
      ]
    },
    {
      "cell_type": "code",
      "metadata": {
        "id": "Hu-S8cAUrjuY"
      },
      "source": [
        "import sqlite3\n",
        "import datetime\n",
        "import time\n",
        "\n",
        "def adapt_datetime(ts):\n",
        "    return time.mktime(ts.timetuple())\n",
        "\n",
        "sqlite3.register_adapter(datetime.datetime, adapt_datetime)\n",
        "\n",
        "con = sqlite3.connect(\":memory:\")\n",
        "cur = con.cursor()\n",
        "\n",
        "now = datetime.datetime.now()\n",
        "cur.execute(\"select ?\", (now,))\n",
        "print(cur.fetchone()[0])\n",
        "\n",
        "con.close()"
      ],
      "execution_count": null,
      "outputs": []
    },
    {
      "cell_type": "markdown",
      "metadata": {
        "id": "CDnl3Z__o-Fp"
      },
      "source": [
        "## Topic 3-Collect big data of school news\n"
      ]
    },
    {
      "cell_type": "markdown",
      "metadata": {
        "id": "OkEY6p00sGf7"
      },
      "source": [
        "### Step 8: Read school news headlines"
      ]
    },
    {
      "cell_type": "code",
      "metadata": {
        "id": "su5wQNKHr_rW"
      },
      "source": [
        "from urllib import request\n",
        "with request.urlopen('http://www.asia.edu.tw/news1.php') as response:\n",
        "    html = response.read().decode('utf-8')\n",
        "    print(html)"
      ],
      "execution_count": null,
      "outputs": []
    },
    {
      "cell_type": "markdown",
      "metadata": {
        "id": "P3jlrJamsPZj"
      },
      "source": [
        "### Step 9: News headlines for each year"
      ]
    },
    {
      "cell_type": "code",
      "metadata": {
        "id": "vl831oHEsg5G"
      },
      "source": [
        "import re\n",
        "from urllib import request\n",
        "count = 0\n",
        "sss = [\"2008\", \"2009\",\"2010\", \"2011\", \"2012\",\"2013\",\"2014\",\"2015\",\"2016\",\"2017\",\"2018\" ,\"2019\",\"2020\", \"2021\"]\n",
        "titles=list()\n",
        "for i in range(len(sss)):\n",
        "    year = sss[i]\n",
        "    with request.urlopen('http://www.asia.edu.tw/news1.php?y='+year) as response:\n",
        "        html = response.read().decode('utf-8')\n",
        "        #print(html)\n",
        "        pattern = '<font color=\"#446666\" face=\"新細明體\" style=\"font-weight: 700;\" size=\"2\">'\n",
        "        for pos in re.finditer(pattern, html):\n",
        "            pos2 = html.find('</font>', pos.end())\n",
        "            sub = html[pos.end():pos2]\n",
        "            titles.append(sub)\n",
        "            count = count + 1\n",
        "print (count)"
      ],
      "execution_count": null,
      "outputs": []
    },
    {
      "cell_type": "markdown",
      "metadata": {
        "id": "0470moFOsp7N"
      },
      "source": [
        "### Step 10: Build a database of news headlines\n",
        "\n"
      ]
    },
    {
      "cell_type": "code",
      "metadata": {
        "id": "erwaVEZNsuMy"
      },
      "source": [
        "import sqlite3\n",
        "conn = sqlite3.connect('news.db')\n",
        "c = conn.cursor()\n",
        "\n",
        "# Create table\n",
        "c.execute(\"CREATE TABLE news (title text)\")\n",
        "\n",
        "# Insert a row of data\n",
        "for t in titles:\n",
        "  ss = \"INSERT INTO news VALUES ('{}')\".format(t)\n",
        "  c.execute(ss)\n",
        "\n",
        "# Save (commit) the changes\n",
        "conn.commit()\n",
        "conn.close()"
      ],
      "execution_count": null,
      "outputs": []
    },
    {
      "cell_type": "markdown",
      "metadata": {
        "id": "qB0q1_cKsxRU"
      },
      "source": [
        "### Step 11: Query school news headlines have artificial intelligence"
      ]
    },
    {
      "cell_type": "code",
      "metadata": {
        "id": "NNLG-sk7s4IG"
      },
      "source": [
        "conn = sqlite3.connect('news.db')\n",
        "c = conn.cursor()\n",
        "for row in c.execute('''SELECT * FROM news \n",
        "                        WHERE title LIKE '%AI%' '''):\n",
        "    print(row)\n",
        "conn.close()"
      ],
      "execution_count": null,
      "outputs": []
    },
    {
      "cell_type": "markdown",
      "metadata": {
        "id": "3CNQrElPpBti"
      },
      "source": [
        "## Topic 4-asyncio (Since 3.4) Asynchronous program"
      ]
    },
    {
      "cell_type": "markdown",
      "metadata": {
        "id": "1s_jkY4AvHf0"
      },
      "source": [
        "### Step 12:同步的網頁要求\n",
        "以下範例是常見的程式寫法，該範例在 do_requests() 函式中以 for 迴圈對 example.com 發出 10 次 HTTP GET 要求(request)，並且列印其狀態碼(status code)：\n",
        "\n",
        "![](https://myapollo.com.tw/images/begin-to-asyncio/seq.png)\n",
        "\n",
        "\n"
      ]
    },
    {
      "cell_type": "code",
      "metadata": {
        "id": "yLBeT4u_s4fU"
      },
      "source": [
        "import requests\n",
        "import time\n",
        "\n",
        "url = 'https://www.asia.edu.tw/'\n",
        "\n",
        "start_time = time.time()\n",
        "\n",
        "def send_req(url):\n",
        "\n",
        "    t = time.time()\n",
        "    print(\"Send a request at\",t-start_time,\"seconds.\")\n",
        "\n",
        "    res = requests.get(url)\n",
        "\n",
        "    t = time.time()\n",
        "    print(\"Receive a response at\",t-start_time,\"seconds.\")\n",
        "\n",
        "for i in range(10):\n",
        "    send_req(url)"
      ],
      "execution_count": null,
      "outputs": []
    },
    {
      "cell_type": "markdown",
      "metadata": {
        "id": "4pe4XaUDvbM_"
      },
      "source": [
        "### Step 13: Asynchronous http page request"
      ]
    },
    {
      "cell_type": "code",
      "metadata": {
        "id": "jMmAaGcivxKs"
      },
      "source": [
        "!pip install aiohttp requests"
      ],
      "execution_count": null,
      "outputs": []
    },
    {
      "cell_type": "code",
      "metadata": {
        "id": "e2mX5i4wvqQY"
      },
      "source": [
        "import requests\n",
        "import time\n",
        "import asyncio\n",
        "\n",
        "url = 'https://www.asia.edu.tw/'\n",
        "\n",
        "start_time = time.time()\n",
        "async def send_req(url):\n",
        "    t = time.time()\n",
        "    print(\"Send a request at\",t-start_time,\"seconds.\")\n",
        "    res = await loop.run_in_executor(None,requests.get,url)\n",
        "    t = time.time()\n",
        "    print(\"Receive a response at\",t-start_time,\"seconds.\")\n",
        "tasks = []\n",
        "\n",
        "loop = asyncio.get_event_loop()\n",
        "for i in range(10):\n",
        "    task = loop.create_task(send_req(url))\n",
        "    tasks.append(task)\n",
        "try:\n",
        "  loop.run_until_complete(asyncio.wait(tasks))\n",
        "except:\n",
        "     print(\"ended!\")"
      ],
      "execution_count": null,
      "outputs": []
    },
    {
      "cell_type": "markdown",
      "metadata": {
        "id": "9ZWW3FiabIc4"
      },
      "source": [
        "##Topic 5-Concurrency\n",
        "\n",
        "multithreading"
      ]
    },
    {
      "cell_type": "markdown",
      "metadata": {
        "id": "BZC6UHujbi-A"
      },
      "source": [
        "### Step 14: The two functions are executed in the same process(thread)."
      ]
    },
    {
      "cell_type": "code",
      "metadata": {
        "id": "AG8d0BUQbjNY"
      },
      "source": [
        "import time\n",
        "def sleep_A():\n",
        "    for i in range(2):\n",
        "        print(i, end=\"_\")\n",
        "        time.sleep(1)\n",
        "    return\n",
        "def sleep_B():\n",
        "    for i in range(3):\n",
        "        print(i, end=\"=\")\n",
        "        time.sleep(1)\n",
        "    return\n",
        "start_time = time.time()\n",
        "sleep_A()\n",
        "sleep_B()\n",
        "end_time = time.time()\n",
        "print(f'It costs {end_time - start_time} seconds')"
      ],
      "execution_count": null,
      "outputs": []
    },
    {
      "cell_type": "markdown",
      "metadata": {
        "id": "yKmeK3-GGw29"
      },
      "source": [
        "### Step 15:Perform two functions in different threads at the same time."
      ]
    },
    {
      "cell_type": "code",
      "metadata": {
        "id": "XP8yKcuMFs-L"
      },
      "source": [
        "import os\n",
        "import threading\n",
        "\n",
        "def sleep_A():\n",
        "    for i in range(2):\n",
        "        print(i, end=\"_\")\n",
        "        time.sleep(1)\n",
        "    return\n",
        "\n",
        "def sleep_B():\n",
        "    for i in range(3):\n",
        "        print(i, end=\"=\")\n",
        "        time.sleep(1)\n",
        "    return\n",
        "  \n",
        "start_time = time.time()\n",
        "\n",
        "thread_1 = threading.Thread(target=sleep_A) # Instantiate a thread object to make the thread execute this function\n",
        "thread_2 = threading.Thread(target=sleep_B) # Instantiate a thread object to make the thread execute this function\n",
        "thread_1.start() # Start this thread\n",
        "thread_2.start() # Start this thread\n",
        "thread_1.join() # Wait for the end of thread_1, if the join program is not opened, it will execute directly\n",
        "thread_2.join() # Wait for the end of thread_2, if the join program is not opened, it will execute directly\n",
        "\n",
        "end_time = time.time()\n",
        "print(f'It costs {end_time - start_time} seconds')"
      ],
      "execution_count": null,
      "outputs": []
    },
    {
      "cell_type": "markdown",
      "metadata": {
        "id": "m_JbXTkzgrlW"
      },
      "source": [
        "##Topic 6--Review of built-in functions and function libraries"
      ]
    },
    {
      "cell_type": "markdown",
      "metadata": {
        "id": "Vjhqclf7g7vI"
      },
      "source": [
        "### Step 16:Text sort"
      ]
    },
    {
      "cell_type": "code",
      "metadata": {
        "id": "kbjS8PUBhise"
      },
      "source": [
        "# ascending sort \n",
        "coms = ['Microsoft', 'Google', 'Amazon', 'Facebook', 'Apple']\n",
        "print(sorted(coms))"
      ],
      "execution_count": null,
      "outputs": []
    },
    {
      "cell_type": "code",
      "metadata": {
        "id": "8S6uHkBph0W_"
      },
      "source": [
        "# descending sort \n",
        "coms = ['Microsoft', 'Google', 'Amazon', 'Facebook', 'Apple']\n",
        "print(sorted(coms, reverse=True))"
      ],
      "execution_count": null,
      "outputs": []
    },
    {
      "cell_type": "markdown",
      "metadata": {
        "id": "TYv9_z7Fic60"
      },
      "source": [
        "### Step 17: The first day of the month and the days of the week"
      ]
    },
    {
      "cell_type": "code",
      "metadata": {
        "id": "HLR7g-nyiiCE"
      },
      "source": [
        "#calendar.monthrange()The function can know the day of the week and the number of days on the first day of each month\n",
        "import calendar\n",
        "from datetime import datetime, timezone, timedelta\n",
        "# Set to +8 time zone\n",
        "tz = timezone(timedelta(hours=+8))\n",
        "dt=datetime.now(tz)\n",
        "wday, mdays = calendar.monthrange(dt.year,dt.month)\n",
        "print(f\"For {dt.year}/{dt.month}, weekday is {wday}; number of days is {mdays}\") #weekday (0-6 ~ Mon-Sun)"
      ],
      "execution_count": null,
      "outputs": []
    }
  ]
}