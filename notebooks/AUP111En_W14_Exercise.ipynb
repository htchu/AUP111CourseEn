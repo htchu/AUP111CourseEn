{
  "cells": [
    {
      "cell_type": "markdown",
      "metadata": {
        "id": "NmNGnQFiHXY5"
      },
      "source": [
        "# W14 Exercise"
      ]
    },
    {
      "cell_type": "markdown",
      "metadata": {
        "id": "7wlkzLnAHqgd"
      },
      "source": [
        "## M3 Problems:Q11-Q15"
      ]
    },
    {
      "cell_type": "markdown",
      "metadata": {
        "id": "21njLIiCIE37"
      },
      "source": [
        "### M3Q11. Sum of continuous elements as 0\n",
        "Problem Description:\n",
        "There are positive numbers, negative numbers, and 0s in an integer array, and the elements are not repeated. Please write a program to find out in this array\n",
        "For several consecutive elements, the sum is zero. For example: in 1, 2, 3, -5, 4, the sum of 2, 3, -5 is 0.\n",
        "\n",
        "Input description:\n",
        "Enter the array size N and the number sequence with N elements respectively.\n",
        "\n",
        "Output description:\n",
        "Please find out the number of consecutive elements in the array whose sum is 0, and output the result.\n",
        "Line characters.\n",
        "\n",
        "| Sample Input:   |      Sample Output:      |\n",
        "|:----------------|:-------------------------|\n",
        "| 1 2 3 -5 4  | 2 3 -5 ⏎|"
      ]
    },
    {
      "cell_type": "code",
      "source": [],
      "metadata": {
        "id": "kkKTNmO-bIPI"
      },
      "execution_count": null,
      "outputs": []
    },
    {
      "cell_type": "markdown",
      "metadata": {
        "id": "rCfPBrLvD2Hz"
      },
      "source": [
        "<font size=\"10\">&#x0210B;</font>int:\n",
        "\n",
        "__Input:__ Input a line directly into a list\n",
        "\n",
        "__Process:__ Use the dictionary to record the accumulated value\n",
        "\n",
        "__Output:__"
      ]
    },
    {
      "cell_type": "code",
      "execution_count": null,
      "metadata": {
        "colab": {
          "base_uri": "https://localhost:8080/"
        },
        "id": "0ohsTBWrIHP1",
        "outputId": "342b99e7-2762-4e1e-90bf-ea2f5f6c83a4"
      },
      "outputs": [
        {
          "name": "stdout",
          "output_type": "stream",
          "text": [
            "1 2 3 -5 4\n",
            "2 3 -5 \n"
          ]
        }
      ],
      "source": [
        "#from here\n",
        "nums =  list(map(int, input().split()))\n",
        "n = len(nums)\n",
        "for start in range(n):\n",
        "  sum = 0\n",
        "  for x in range(start, n):\n",
        "    sum +=nums[x]\n",
        "    if sum == 0:\n",
        "      for y in range(start, x+1):\n",
        "        print(nums[y], end=\" \")\n",
        "      print()"
      ]
    },
    {
      "cell_type": "markdown",
      "metadata": {
        "id": "j5b08Gk7IHln"
      },
      "source": [
        "### M3Q12. Find the same element\n",
        "\n",
        "Problem Description:\n",
        "Given that two integer arrays f and g, their elements have been arranged from small to large, and the elements of the two arrays are all different\n",
        "Self-different. For example, f has 1, 3, 4, 7, 9, and g has 3, 5, 7, 8, 10. Please write a program to calculate these two matrices\n",
        "List how many sets of the same data are between each other. In the above example, f[2] and g[1] are both 3, which is the first group. f[4] and\n",
        "g[3] are all 7, which is the second group.\n",
        "\n",
        "Input description:\n",
        "Enter two numbers with N1 elements and N2 elements.\n",
        "\n",
        "Output description:\n",
        "How many groups of elements appear in each of the two arrays.\n",
        "\n",
        "| Sample Input:   |      Sample Output:      |\n",
        "|:----------------|:-------------------------|\n",
        "| 2 3 3 2 3 4 5 6 | 2⏎|\n",
        "|3 3 1 -1 4 7||"
      ]
    },
    {
      "cell_type": "markdown",
      "metadata": {
        "id": "pi4-gmTFEBK4"
      },
      "source": [
        "<font size=\"10\">&#x0210B;</font>int:\n",
        "\n",
        "__Input:__ Input 2 lines directly into 2 lists\n",
        "\n",
        "__Process:__ Use collection {}\n",
        "\n",
        "__Output:__"
      ]
    },
    {
      "cell_type": "code",
      "execution_count": null,
      "metadata": {
        "colab": {
          "base_uri": "https://localhost:8080/"
        },
        "id": "esutHg5DIL8j",
        "outputId": "06553e65-ba08-43b1-e152-95d6fa93102f"
      },
      "outputs": [
        {
          "name": "stdout",
          "output_type": "stream",
          "text": [
            "2 3 3 2 3 4 5 6\n",
            "3 3 1 -1 4 7\n",
            "2\n"
          ]
        }
      ],
      "source": [
        "#from here\n",
        "nums1 = list(map(int, input().split()))\n",
        "nums2 = list(map(int, input().split()))\n",
        "set1 = set()\n",
        "set2 = set()\n",
        "\n",
        "for x in nums1:\n",
        "  if x not in set1:\n",
        "    set1.add(x)\n",
        "\n",
        "for x in nums2:\n",
        "  if x not in set2:\n",
        "    set2.add(x)\n",
        "count = 0\n",
        "for x in set1:\n",
        "  if x in set2:\n",
        "    count +=1\n",
        "\n",
        "print(count)"
      ]
    },
    {
      "cell_type": "markdown",
      "metadata": {
        "id": "u1uXXKNJIMEs"
      },
      "source": [
        "### M3Q13. Calendar\n",
        "\n",
        "Problem Description:\n",
        "Please design a perpetual calendar, you can enter any year (year) and month (month), and print out the monthly calendar for that month.\n",
        "Take March 2001 as an example, the format is as follows:\n",
        "\n",
        "| SU MO TU WE TH FR SA |\n",
        "|:-------------------------|\n",
        "|&nbsp;&nbsp;&nbsp;&nbsp;&nbsp;&nbsp;&nbsp;&nbsp;&nbsp;&nbsp;&nbsp;&nbsp;&nbsp;&nbsp;&nbsp;&nbsp;&nbsp;&nbsp;&nbsp;&nbsp;&nbsp;&nbsp;&nbsp;&nbsp;&nbsp;&nbsp;&nbsp;&nbsp;1&nbsp;&nbsp;&nbsp; 2&nbsp;&nbsp;&nbsp; 3|\n",
        "|&nbsp;&nbsp;4 &nbsp;&nbsp;&nbsp;5 &nbsp;&nbsp;&nbsp;6 &nbsp;&nbsp;&nbsp;7 &nbsp;&nbsp;&nbsp;8 &nbsp;&nbsp;&nbsp;9&nbsp;&nbsp; 10|\n",
        "|11&nbsp; 12 &nbsp;13 &nbsp;14&nbsp; 15 &nbsp;16&nbsp; 17|\n",
        "|18&nbsp; 19 &nbsp;20 &nbsp;21 &nbsp;22 &nbsp;23 &nbsp;24|\n",
        "|25&nbsp; 26&nbsp; 27&nbsp; 28&nbsp; 29&nbsp; 30&nbsp; 31|\n",
        "\n",
        "1. The number of days per month in a year is as follows: February 29th in a lunar year and 28th in a normal year\n",
        "\n",
        "| Month | 1 | 2 | 3 | 4 | 5 | 6 | 7 | 8 | 9 | 10 | 11 | 12 |\n",
        "|---|---|---|---|---|---|---|---|---|---|---|---|- --|\n",
        "| Days |31| 28| 31| 30| 31| 30| 31| 31| 30| 31| 30| 31 |\n",
        "\n",
        "2. Runnian is judged to be one run for 4 years, no run for 100 years, and run again for 400 years.\n",
        "3. Therefore, January 1 of AD 1 is a Monday, and there are 52 weeks and 1 day in a year, so 2 AD 1\n",
        "1st is Tuesday, and so on)\n",
        "\n",
        "Input description:\n",
        "Enter the year (year) and month (month).\n",
        "\n",
        "Output description:\n",
        "To output the monthly calendar of the month, please use a tab space between each number, and there must be a newline character at the end.\n",
        "\n",
        "\n",
        "| Sample Input:   |      Sample Output:      |\n",
        "|:----------------|:-------------------------|\n",
        "| 2001 3 | SU MO TU WE TH FR SA |\n",
        "||&nbsp;&nbsp;&nbsp;&nbsp;&nbsp;&nbsp;&nbsp;&nbsp;&nbsp;&nbsp;&nbsp;&nbsp;&nbsp;&nbsp;&nbsp;&nbsp;&nbsp;&nbsp;&nbsp;&nbsp;&nbsp;&nbsp;&nbsp;&nbsp;&nbsp;&nbsp;&nbsp;&nbsp;1&nbsp;&nbsp;&nbsp; 2&nbsp;&nbsp;&nbsp; 3|\n",
        "||&nbsp;&nbsp;4 &nbsp;&nbsp;&nbsp;5 &nbsp;&nbsp;&nbsp;6 &nbsp;&nbsp;&nbsp;7 &nbsp;&nbsp;&nbsp;8 &nbsp;&nbsp;&nbsp;9&nbsp;&nbsp; 10|\n",
        "||11&nbsp; 12 &nbsp;13 &nbsp;14&nbsp; 15 &nbsp;16&nbsp; 17|\n",
        "||18&nbsp; 19 &nbsp;20 &nbsp;21 &nbsp;22 &nbsp;23 &nbsp;24|\n",
        "||25&nbsp; 26&nbsp; 27&nbsp; 28&nbsp; 29&nbsp; 30&nbsp; 31⏎|"
      ]
    },
    {
      "cell_type": "markdown",
      "metadata": {
        "id": "qNRpDVi5ECjr"
      },
      "source": [
        "<font size=\"10\">&#x0210B;</font>int:\n",
        "\n",
        "__Input:__ The input is 2 integers\n",
        "\n",
        "__Process:__ calendar.monthrange() function can know the first day of each month and the days of the week\n",
        "\n",
        "__Output:__"
      ]
    },
    {
      "cell_type": "code",
      "execution_count": null,
      "metadata": {
        "colab": {
          "base_uri": "https://localhost:8080/"
        },
        "id": "wqiJsX8CGbZD",
        "outputId": "b7541e5c-1a58-4965-81af-5a3e042fad45"
      },
      "outputs": [
        {
          "name": "stdout",
          "output_type": "stream",
          "text": [
            "Help on function monthrange in module calendar:\n",
            "\n",
            "monthrange(year, month)\n",
            "    Return weekday (0-6 ~ Mon-Sun) and number of days (28-31) for\n",
            "    year, month.\n",
            "\n",
            "2001 3\n",
            "2001 3\n",
            "3 31\n"
          ]
        }
      ],
      "source": [
        "#from here\n",
        "import calendar\n",
        "help(calendar.monthrange)\n",
        "year, month = map(int, input().split())\n",
        "print(year, month)\n",
        "wday, ndays= calendar.monthrange(year, month)\n",
        "print(wday, ndays)"
      ]
    },
    {
      "cell_type": "code",
      "execution_count": null,
      "metadata": {
        "colab": {
          "base_uri": "https://localhost:8080/"
        },
        "id": "M_qYgMu2IQ9p",
        "outputId": "7eebfecd-4b86-4c31-c41c-2fbc31adcf33"
      },
      "outputs": [
        {
          "name": "stdout",
          "output_type": "stream",
          "text": [
            "SU\tMO\tTU\tWE\tTH\tFR\tSA\n",
            "\t\t\t\t1\t2\t3\t\n",
            "4\t5\t6\t7\t8\t9\t10\t\n",
            "11\t12\t13\t14\t15\t16\t17\t\n",
            "18\t19\t20\t21\t22\t23\t24\t\n",
            "25\t26\t27\t28\t29\t30\t31\t\n"
          ]
        }
      ],
      "source": [
        "print(\"SU\\tMO\\tTU\\tWE\\tTH\\tFR\\tSA\")\n",
        "for i in range(wday+1):\n",
        "  print(\"\", end=\"\\t\")\n",
        "theday = 1\n",
        "for i in range(wday, 6):\n",
        "  print(theday, end=\"\\t\")\n",
        "  theday += 1\n",
        "print()\n",
        "\n",
        "while theday <= ndays:\n",
        "  for i in range(7):\n",
        "    print(theday, end=\"\\t\")\n",
        "    theday += 1\n",
        "    if theday > ndays:\n",
        "      break\n",
        "  print()"
      ]
    },
    {
      "cell_type": "markdown",
      "metadata": {
        "id": "WRSmnbRXLeSH"
      },
      "source": [
        "### M3Q14. Array A[n][n], B[n][n]\n",
        "\n",
        "Problem Description:\n",
        "Let the user input a positive integer n, and output two two-dimensional arrays A[n][n], B[n][n] as follows: (Don’t just use\n",
        "printf, try using loops or other methods)\n",
        "\n",
        "Input description:\n",
        "Enter a positive integer n\n",
        "\n",
        "Output description:\n",
        "Output two two-dimensional arrays A[n][n] and B[n][n]. Please use tabs between each number, and there must be a newline character at the end.\n",
        "\n",
        "\n",
        "| Sample Input:   |      Sample Output:      |\n",
        "|:----------------|:-------------------------|\n",
        "| 5| 1 2 3 4 5|\n",
        "||10 9 8 7 6|\n",
        "||11 12 13 14 15|\n",
        "||20 19 18 17 16|\n",
        "||21 22 23 24 25|\n",
        "||1 10 11 20 21|\n",
        "||2 9 12 19 22|\n",
        "||3 8 13 18 23|\n",
        "||4 7 14 17 24|\n",
        "||5 6 15 16 25|\n",
        "|  | ⏎|"
      ]
    },
    {
      "cell_type": "markdown",
      "metadata": {
        "id": "rNKvNJ_ZED9q"
      },
      "source": [
        "<font size=\"10\">&#x0210B;</font>int:\n",
        "\n",
        "__Input:__ The input is an integer\n",
        "\n",
        "__Process:__ For-loop of the second layer\n",
        "\n",
        "__Output:__"
      ]
    },
    {
      "cell_type": "code",
      "execution_count": null,
      "metadata": {
        "colab": {
          "base_uri": "https://localhost:8080/"
        },
        "id": "DHgR2CUyLh5l",
        "outputId": "1b0a8496-3925-4b08-96b1-b921295c0aa5"
      },
      "outputs": [
        {
          "name": "stdout",
          "output_type": "stream",
          "text": [
            "5\n",
            "[[1, 2, 3, 4, 5], [10, 9, 8, 7, 6], [11, 12, 13, 14, 15], [20, 19, 18, 17, 16], [21, 22, 23, 24, 25]]\n",
            "1\t2\t3\t4\t5\t\n",
            "10\t9\t8\t7\t6\t\n",
            "11\t12\t13\t14\t15\t\n",
            "20\t19\t18\t17\t16\t\n",
            "21\t22\t23\t24\t25\t\n",
            "1\t10\t11\t20\t21\t\n",
            "2\t9\t12\t19\t22\t\n",
            "3\t8\t13\t18\t23\t\n",
            "4\t7\t14\t17\t24\t\n",
            "5\t6\t15\t16\t25\t\n"
          ]
        }
      ],
      "source": [
        "#from here\n",
        "n = int(input())\n",
        "mat = list()\n",
        "for i in range(n):\n",
        "  if i %2 == 0:\n",
        "    row =[x for x in range(i*n+1, (i+1)*n+1)]\n",
        "  else:\n",
        "    row =[x for x in range((i+1)*n, i*n, -1)]\n",
        "  mat.append(row)\n",
        "print(mat)\n",
        "\n",
        "for x in range(n):\n",
        "  for y in range(n):\n",
        "    print(mat[x][y], end=\"\\t\")\n",
        "  print()\n",
        "\n",
        "for x in range(n):\n",
        "  for y in range(n):\n",
        "    print(mat[y][x], end=\"\\t\")\n",
        "  print()"
      ]
    },
    {
      "cell_type": "markdown",
      "metadata": {
        "id": "hOEbQ3DGckd3"
      },
      "source": [
        "### M3Q15. Matrix multiplication\n",
        "Problem Description:\n",
        "Write a program to calculate the multiplication of two matrices, for example, A is a n1 x m1 matrix, B is a n2 x m2 matrix,\n",
        "C=AB is the n1 x m2 matrix.\n",
        "\n",
        "Input description:\n",
        "Enter 4 integers such as n1, m1, n2 and m2 in the first column, n1 and m1 are the row and column of the first array,\n",
        "And n2 and m2 are the rows and columns of the second array, where m2 = n2. Then enter two arrays\n",
        "Content.\n",
        "\n",
        "Output description:\n",
        "The result of multiplying the output matrix must have a newline character at the end.\n",
        "\n",
        "| Sample Input:   |      Sample Output:      |\n",
        "|:----------------|:-------------------------|\n",
        "| 3 2 2 3    | 9 2 -1 |\n",
        "| 1 4    | 8 4 3   |\n",
        "| 2 3  | 7 6 7  ⏎|\n",
        "| 3 2  | |\n",
        "|1 2 3||\n",
        "|2 0 -1||"
      ]
    },
    {
      "cell_type": "markdown",
      "metadata": {
        "id": "K-7L2kRuEZMW"
      },
      "source": [
        "<font size=\"10\">&#x0210B;</font>int:\n",
        "\n",
        "__Input:__ The input is m1+m2+1 line\n",
        "\n",
        "__Process:__ Use 3-layer for-loop to calculate i-row*j-column\n",
        "\n",
        "__Output:__"
      ]
    },
    {
      "cell_type": "code",
      "execution_count": null,
      "metadata": {
        "id": "ma2UplsDqAP5"
      },
      "outputs": [],
      "source": [
        "#from here\n"
      ]
    }
  ],
  "metadata": {
    "colab": {
      "provenance": []
    },
    "kernelspec": {
      "display_name": "Python 3 (ipykernel)",
      "language": "python",
      "name": "python3"
    },
    "language_info": {
      "codemirror_mode": {
        "name": "ipython",
        "version": 3
      },
      "file_extension": ".py",
      "mimetype": "text/x-python",
      "name": "python",
      "nbconvert_exporter": "python",
      "pygments_lexer": "ipython3",
      "version": "3.9.7"
    }
  },
  "nbformat": 4,
  "nbformat_minor": 0
}