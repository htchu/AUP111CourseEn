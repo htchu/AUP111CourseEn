{
  "nbformat": 4,
  "nbformat_minor": 0,
  "metadata": {
    "colab": {
      "provenance": [],
      "collapsed_sections": [],
      "toc_visible": true
    },
    "kernelspec": {
      "display_name": "Python 3",
      "language": "python",
      "name": "python3"
    },
    "language_info": {
      "codemirror_mode": {
        "name": "ipython",
        "version": 3
      },
      "file_extension": ".py",
      "mimetype": "text/x-python",
      "name": "python",
      "nbconvert_exporter": "python",
      "pygments_lexer": "ipython3",
      "version": "3.7.6"
    }
  },
  "cells": [
    {
      "cell_type": "markdown",
      "metadata": {
        "id": "9wQnr1QXVlZ2"
      },
      "source": [
        "![image](https://www.python.org/static/img/python-logo.png)\n",
        "# AUP111-Fundamentals of Programming\n",
        "[![Open In Colab](https://colab.research.google.com/assets/colab-badge.svg)](https://colab.research.google.com/github/googlecolab/colabtools/blob/master/notebooks/colab-github-demo.ipynb)"
      ]
    },
    {
      "cell_type": "markdown",
      "metadata": {
        "id": "oECo_NZME-ZS"
      },
      "source": [
        "# Week9-Function\n"
      ]
    },
    {
      "cell_type": "markdown",
      "metadata": {
        "id": "8-yn9nw-FB9y"
      },
      "source": [
        "## Topic 1(主題1)-function definition and call"
      ]
    },
    {
      "cell_type": "markdown",
      "metadata": {
        "id": "R2rmbqJlGdCs"
      },
      "source": [
        "### Step 1: Calculate the greatest common factor gcd of 240 and 96"
      ]
    },
    {
      "cell_type": "code",
      "metadata": {
        "id": "gAbu3N3RE9F6"
      },
      "source": [
        "a=240; b=96\n",
        "r=a%b\n",
        "while r!=0:\n",
        "  a=b;b=r\n",
        "  r=a%b\n",
        "print(f\"gcd={b}\")"
      ],
      "execution_count": null,
      "outputs": []
    },
    {
      "cell_type": "markdown",
      "metadata": {
        "id": "8i-WxoTWGpbm"
      },
      "source": [
        "### Step 2: Define a function gcd()\n",
        "\n",
        "* parameter參數：函數定義中的型式變數 def gcd(x, y):\n",
        "* argument引數：函數呼叫時的真實變數  gcd(a,b)"
      ]
    },
    {
      "cell_type": "code",
      "metadata": {
        "id": "AaTEHpB6Gu-l"
      },
      "source": [
        "def gcd(x, y):\n",
        "  r=x%y\n",
        "  while r!=0:\n",
        "    x=y;y=r\n",
        "    r=x%y\n",
        "  return y"
      ],
      "execution_count": null,
      "outputs": []
    },
    {
      "cell_type": "code",
      "metadata": {
        "id": "aotFrthRbJGc"
      },
      "source": [
        "a=240; b=96\n",
        "print(f\"{a}, {b}, {gcd(a,b)}\")"
      ],
      "execution_count": null,
      "outputs": []
    },
    {
      "cell_type": "markdown",
      "metadata": {
        "id": "7NlEOCrW82us"
      },
      "source": [
        "### Step 3: factorial\n",
        "$ 5 ! = 5 × 4 × 3 × 2 × 1 = 120$"
      ]
    },
    {
      "cell_type": "code",
      "metadata": {
        "id": "Wf-u60ds9AgC"
      },
      "source": [
        "n = 5\n",
        "v = 1\n",
        "for i in range(1, n + 1):\n",
        "    v *= i\n",
        "print(v)"
      ],
      "execution_count": null,
      "outputs": []
    },
    {
      "cell_type": "markdown",
      "metadata": {
        "id": "bY8XFAAA9Jjz"
      },
      "source": [
        "### Step 4: Define a function factorial()"
      ]
    },
    {
      "cell_type": "code",
      "metadata": {
        "id": "P9d0qIgc9Jwx"
      },
      "source": [
        "def factorial(n):\n",
        "    v = 1\n",
        "    for i in range(1,n+1):\n",
        "        v *= i\n",
        "    return v\n",
        "\n",
        "print(factorial(5))"
      ],
      "execution_count": null,
      "outputs": []
    },
    {
      "cell_type": "markdown",
      "metadata": {
        "id": "Y6fA-gcCduPm"
      },
      "source": [
        "## Topic 2-function parameter and return value"
      ]
    },
    {
      "cell_type": "markdown",
      "metadata": {
        "id": "2BKX_YRQGv-S"
      },
      "source": [
        "### Step 5: default parameter"
      ]
    },
    {
      "cell_type": "code",
      "metadata": {
        "id": "9VwVLOwSGzvA"
      },
      "source": [
        "def greet(name=\"Sir\",msg=\"Good day\"):\n",
        "   print(\"Hello\",name + ', ' + msg)\n",
        "\n",
        "greet(\"John\",\"Good morning!\")\n",
        "greet(\"Mary\")\n",
        "greet()\n"
      ],
      "execution_count": null,
      "outputs": []
    },
    {
      "cell_type": "markdown",
      "metadata": {
        "id": "5C64PXAJeQ8q"
      },
      "source": [
        "### Step 6: Keyword argument"
      ]
    },
    {
      "cell_type": "code",
      "metadata": {
        "id": "ajcS7Oj1eWDK"
      },
      "source": [
        "greet(msg=\"Good morning!\", name=\"John\")\n",
        "greet(msg=\"Good day!\")"
      ],
      "execution_count": null,
      "outputs": []
    },
    {
      "cell_type": "markdown",
      "metadata": {
        "id": "-Nnh7TJCNWqp"
      },
      "source": [
        "### Step 7: return value"
      ]
    },
    {
      "cell_type": "code",
      "metadata": {
        "id": "56eURVOcNmIT"
      },
      "source": [
        "#------------------------------------\n",
        "# 從1加到100\n",
        "#------------------------------------\n",
        "def add100():\n",
        "    i = 1\n",
        "    sum = 0\n",
        "    while i <= 100:\n",
        "        sum += i\n",
        "        i += 1\n",
        "    return sum\n",
        "\n",
        "a = add100() \n",
        "print(a)\n",
        "print(type(a))\n",
        "\n"
      ],
      "execution_count": null,
      "outputs": []
    },
    {
      "cell_type": "markdown",
      "metadata": {
        "id": "D_IKixtfcExR"
      },
      "source": [
        "### Step 8: multiple return values\n",
        "#------------------------------------\n",
        "# Convert centimeters to feet, inches\n",
        "# Input: cm\n",
        "# Return: feet, inches\n",
        "# 1 inch is 2.54 cm, 1 inch is 30.48 cm\n",
        "# 1 ft = 12 inches\n",
        "#------------------------------------\n",
        "```"
      ]
    },
    {
      "cell_type": "code",
      "metadata": {
        "id": "9dlx4oU0cCay"
      },
      "source": [
        "def cm_2_feet_and_inch(cm):\n",
        "    inch = cm/2.54\n",
        "    feet = inch //12\n",
        "    inch = inch %12\n",
        "    return feet, inch\n"
      ],
      "execution_count": null,
      "outputs": []
    },
    {
      "cell_type": "code",
      "metadata": {
        "id": "O6vE9Zd4cNfY"
      },
      "source": [
        "num = input()\n",
        "cm = float(num) #centimeters\n",
        "i, f = cm_2_feet_and_inch(cm)\n",
        "print(f\"{cm:.2f} cm= {i:.0f} feets {f:.2f} inches\")"
      ],
      "execution_count": null,
      "outputs": []
    },
    {
      "cell_type": "markdown",
      "metadata": {
        "id": "FP0Ifx-jOhZm"
      },
      "source": [
        "## Topic 3(主題3)-Built-in function review\n",
        "\n",
        "* Type conversion functions: int(), float(), str()\n",
        "* Construct container functions: list(), set(), tuple(), dict(),\n",
        "* Object attribute functions: len(), type(), dir()\n",
        "* Generate object functions: range(), zip(), enumerate()\n",
        "* Set calculation function: max()/min()/abs()/round() function\n",
        "* Function execution function: map()/exec()\n",
        "\n"
      ]
    },
    {
      "cell_type": "markdown",
      "metadata": {
        "id": "4NAmC0LpxnI0"
      },
      "source": [
        "### Step 9: 型別轉換函數"
      ]
    },
    {
      "cell_type": "code",
      "metadata": {
        "id": "OLX7GTnixrJw"
      },
      "source": [
        "a = \"15\"\n",
        "print(type(a))   #列印變數a的型別\n",
        "b = int(a)\n",
        "print(type(b))   #列印變數b的型別\n",
        "c = float(a)\n",
        "print(type(c))   #列印變數c的型別"
      ],
      "execution_count": null,
      "outputs": []
    },
    {
      "cell_type": "markdown",
      "metadata": {
        "id": "lsBzbTrSxrUA"
      },
      "source": [
        "### Step 10: 建構容器函數"
      ]
    },
    {
      "cell_type": "code",
      "metadata": {
        "id": "iyUE_6fQxvwB"
      },
      "source": [
        "a =  list()\n",
        "print(type(a))   #列印變數a的型別\n",
        "b = tuple()\n",
        "print(type(b))   #列印變數b的型別\n",
        "c = dict()\n",
        "print(type(c))   #列印變數c的型別"
      ],
      "execution_count": null,
      "outputs": []
    },
    {
      "cell_type": "markdown",
      "metadata": {
        "id": "gQQtZnZKxwFX"
      },
      "source": [
        "### Step 11: 物件屬性函數"
      ]
    },
    {
      "cell_type": "code",
      "metadata": {
        "id": "8FDk8QZPxxN_"
      },
      "source": [
        "ss = [1 , 3, 5, 7]\n",
        "print(type(ss))\n",
        "print(len(ss))\n",
        "print(dir(ss))"
      ],
      "execution_count": null,
      "outputs": []
    },
    {
      "cell_type": "code",
      "metadata": {
        "id": "ydwFIDV7zUM4"
      },
      "source": [
        "ss = \"This is a pen\"\n",
        "print(type(ss))\n",
        "print(len(ss))\n",
        "print(dir(ss))"
      ],
      "execution_count": null,
      "outputs": []
    },
    {
      "cell_type": "markdown",
      "metadata": {
        "id": "b5S53-F7xxpz"
      },
      "source": [
        "### Step 12: 生成物件函數"
      ]
    },
    {
      "cell_type": "code",
      "metadata": {
        "id": "O0KeQcPrxzOz"
      },
      "source": [
        "a =  range(10)\n",
        "print(a)   #列印變數a的內容\n",
        "print(type(a))   #列印變數a的型別\n",
        "print(list(a))   #列印變數a的元素"
      ],
      "execution_count": null,
      "outputs": []
    },
    {
      "cell_type": "code",
      "metadata": {
        "id": "sx6v4JRaz2P8"
      },
      "source": [
        "b = zip([1, 3, 5], [\"cat\", \"dog\", \"elphant\"])\n",
        "print(b)   #列印變數a的內容\n",
        "print(type(b))   #列印變數a的型別\n",
        "print(dict(b))   #列印變數a的元素"
      ],
      "execution_count": null,
      "outputs": []
    },
    {
      "cell_type": "code",
      "metadata": {
        "id": "yJK6onrS0WDQ"
      },
      "source": [
        "c = enumerate([1, 3, 5])\n",
        "print(c)   #列印變數a的內容\n",
        "print(type(c))   #列印變數a的型別\n",
        "print(list(c))   #列印變數a的元素"
      ],
      "execution_count": null,
      "outputs": []
    },
    {
      "cell_type": "markdown",
      "metadata": {
        "id": "vpWw5ja8xzcB"
      },
      "source": [
        "### Step 13: 集合計算函數"
      ]
    },
    {
      "cell_type": "code",
      "metadata": {
        "id": "_dwEHthlx0gf"
      },
      "source": [
        "a=[1, 3, 5]\n",
        "print(max(a))\n",
        "print(min(a))"
      ],
      "execution_count": null,
      "outputs": []
    },
    {
      "cell_type": "code",
      "metadata": {
        "id": "u9ufF_ch1F0X"
      },
      "source": [
        "b = -1.375\n",
        "print(b)\n",
        "print(abs(b))\n",
        "print(round(b,2))"
      ],
      "execution_count": null,
      "outputs": []
    },
    {
      "cell_type": "markdown",
      "metadata": {
        "id": "38-W-w4kx0_N"
      },
      "source": [
        "### Step 14: 函數執行函數"
      ]
    },
    {
      "cell_type": "code",
      "metadata": {
        "id": "T8Vep_Elx2P-"
      },
      "source": [
        "a = \"cat dog elphant\"\n",
        "s = map(len, a.split())\n",
        "print(s)   #列印變數s的內容\n",
        "print(type(s))   #列印變數s的型別\n",
        "print(list(s))"
      ],
      "execution_count": null,
      "outputs": []
    },
    {
      "cell_type": "code",
      "metadata": {
        "id": "RY0ckDyU13MF"
      },
      "source": [
        "exec(\"print('Hello World')\")"
      ],
      "execution_count": null,
      "outputs": []
    },
    {
      "cell_type": "markdown",
      "metadata": {
        "id": "fm1ucSVejBUx"
      },
      "source": [
        "## Topic 4(主題4)-字串函數複習\n",
        "* string.find(substring, start, end)\n",
        "* string.index(substring, start, end)\n",
        "* string.count(substring, start, end)\n",
        "* string.replace(old, new, count)\n",
        "* string.split(separator, maxsplit)\n"
      ]
    },
    {
      "cell_type": "markdown",
      "metadata": {
        "id": "C-dR6avm2dvU"
      },
      "source": [
        "### Step 15: 找子字串"
      ]
    },
    {
      "cell_type": "code",
      "metadata": {
        "id": "JtSOoXTd2ia6"
      },
      "source": [
        "my_string = \"Where's Waldo?\"\n",
        "my_string.find(\"Waldo\")"
      ],
      "execution_count": null,
      "outputs": []
    },
    {
      "cell_type": "code",
      "metadata": {
        "id": "j6lw13Kf27LH"
      },
      "source": [
        "my_string = \"Where's Waldo?\"\n",
        "my_string.index(\"Waldo\")"
      ],
      "execution_count": null,
      "outputs": []
    },
    {
      "cell_type": "code",
      "metadata": {
        "id": "vu1fplVS3Kst"
      },
      "source": [
        "my_string = \"Where's Waldo?\"\n",
        "try:\n",
        "    my_string.index(\"Wenda\")\n",
        "except ValueError:\n",
        "      print(\"Not found\")"
      ],
      "execution_count": null,
      "outputs": []
    },
    {
      "cell_type": "markdown",
      "metadata": {
        "id": "K-rHIAn-2jOW"
      },
      "source": [
        "### Step 16: 算子字串次數"
      ]
    },
    {
      "cell_type": "code",
      "metadata": {
        "id": "hGDtZrX-3W8_"
      },
      "source": [
        "my_string = \"How many fruits do you have in your fruit basket?\"\n",
        "my_string.count(\"fruit\")"
      ],
      "execution_count": null,
      "outputs": []
    },
    {
      "cell_type": "markdown",
      "metadata": {
        "id": "D-vP34B83lzD"
      },
      "source": [
        "### Step 17: 取代子字串"
      ]
    },
    {
      "cell_type": "code",
      "metadata": {
        "id": "ndfdrQqP3vyP"
      },
      "source": [
        "my_string = \"The red house is between the blue house and the old house\"\n",
        "print(my_string.replace(\"house\", \"car\"))"
      ],
      "execution_count": null,
      "outputs": []
    },
    {
      "cell_type": "markdown",
      "metadata": {
        "id": "DtLOrPn5k8vl"
      },
      "source": [
        "## Topic 5(主題5)-Python standard library\n",
        "\"Batteries included\" is the design philosophy of Python. This concept can be confirmed by using its large-scale package to experience the complexity and powerful functions.\n",
        "\n",
        "https://docs.python.org/zh-tw/3/tutorial/stdlib.html\n",
        "* __os__: Operating system interface\n",
        "* __glob__: File Wildcards (File Wildcards)\n",
        "* __sys__: command line argument\n",
        "* __re__: String style comparison\n",
        "* __math__: floating-point arithmetic at the bottom of the C library\n",
        "* __random__: provides tools for random selection\n",
        "* __statistics__: Numerical data to calculate basic statistics (including average, median, variance, etc.) function\n",
        "* __urllib__: Access the network and handle network protocols\n",
        "* __smtplib__: used to send mail\n",
        "* __email__: Files used to manage MIME and other RFC 2822-related email messages.\n",
        "* __json__: Analysis of JSON data exchange format.\n",
        "* __csv__: The module provides direct reading and writing of CSV (file format with comma-separated values, usually supported by databases and spreadsheets)\n",
        "* __xml.*__: Support XML processing, including packages such as xml.etree.ElementTree, xml.dom and xml.sax.\n",
        "* __sqllite3__: The module is a package of SQLite database library\n",
        "* Support internationalized modules, including packages such as gettext, locale and codecs."
      ]
    },
    {
      "cell_type": "markdown",
      "metadata": {
        "id": "7M2q41BUSMaW"
      },
      "source": [
        "### Step 18: pattern find- re-regular expression"
      ]
    },
    {
      "cell_type": "code",
      "metadata": {
        "id": "rpBH9-k_bhlv"
      },
      "source": [
        "import re\n",
        "re.findall(r'\\bf[a-z]*', 'which foot or hand fell fastest')\n",
        "#['foot', 'fell', 'fastest']\n"
      ],
      "execution_count": null,
      "outputs": []
    },
    {
      "cell_type": "markdown",
      "metadata": {
        "id": "rm0slybLb7lA"
      },
      "source": [
        "### Step 19: pattern replacement- re-regular expression"
      ]
    },
    {
      "cell_type": "code",
      "metadata": {
        "id": "ZvOneobPb8Dn"
      },
      "source": [
        "import re\n",
        "re.sub(r'(\\b[a-z]+) \\1', r'\\1', 'cat in the the hat')\n",
        "#'cat in the hat'"
      ],
      "execution_count": null,
      "outputs": []
    },
    {
      "cell_type": "markdown",
      "metadata": {
        "id": "VLUxu-x-bA0T"
      },
      "source": [
        "### Step 20: Basic statistics (including average, median, variance)-statistics"
      ]
    },
    {
      "cell_type": "code",
      "metadata": {
        "id": "Fgn9hn5XbJKq"
      },
      "source": [
        "import statistics as stat\n",
        "data = [2.85, 1.75, 1.55, 0.25, 0.5, 1.35, 2.25, 3.5]\n",
        "avg=stat.mean(data)\n",
        "med=stat.median(data)\n",
        "var=stat.variance(data)\n",
        "print(f\"mean={avg:.2f}\")\n",
        "print(f\"median={med:.2f}\")\n",
        "print(f\"variance={var:.2f}\")"
      ],
      "execution_count": null,
      "outputs": []
    }
  ]
}