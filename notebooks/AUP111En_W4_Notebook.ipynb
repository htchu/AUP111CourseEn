{
  "cells": [
    {
      "cell_type": "markdown",
      "metadata": {
        "id": "EUjJ7ImLnPVr"
      },
      "source": [
        "![image](https://www.python.org/static/img/python-logo.png)\n",
        "# AUP111-Fundamentals of Programming\n",
        "[![Open In Colab](https://colab.research.google.com/assets/colab-badge.svg)](https://colab.research.google.com/github/googlecolab/colabtools/blob/master/notebooks/colab-github-demo.ipynb)\n",
        "\n"
      ]
    },
    {
      "cell_type": "markdown",
      "metadata": {
        "id": "oidBbF3itm_y"
      },
      "source": [
        "# Week4-Condition and Container\n",
        "\n",
        "![image](https://i.ibb.co/B43QZL0/ipo6.png)"
      ]
    },
    {
      "cell_type": "markdown",
      "metadata": {
        "id": "kLe1GoiTtrgI"
      },
      "source": [
        "## Topic 1-if condition statement\n",
        "<img src=\"https://i.ibb.co/sv727Wq/if-condition.png\" alt=\"alt text\" width=\"500\">"
      ]
    },
    {
      "cell_type": "markdown",
      "metadata": {
        "id": "4I9p3MazN9S2"
      },
      "source": [
        "Body mass index (BMI) is a person’s weight in kilograms divided by the square of height in meters. BMI is an inexpensive and easy screening method for weight category—underweight, healthy weight, overweight, and obesity.\n",
        "https://www.cdc.gov/healthyweight/assessing/bmi/adult_bmi/index.html"
      ]
    },
    {
      "cell_type": "markdown",
      "metadata": {
        "id": "cHiXWmApnZ_W"
      },
      "source": [
        "### Step 1: boolean\n",
        "True / False"
      ]
    },
    {
      "cell_type": "code",
      "execution_count": null,
      "metadata": {
        "id": "8JL0O3Dw0hVK",
        "vscode": {
          "languageId": "python"
        }
      },
      "outputs": [],
      "source": [
        "print(True) \n",
        "print(False) "
      ]
    },
    {
      "cell_type": "code",
      "execution_count": null,
      "metadata": {
        "colab": {
          "base_uri": "https://localhost:8080/"
        },
        "id": "apKn4EDZ_ODF",
        "outputId": "d5e122cb-9cf4-46d0-b65b-614ebb5cd77e",
        "vscode": {
          "languageId": "python"
        }
      },
      "outputs": [
        {
          "name": "stdout",
          "output_type": "stream",
          "text": [
            "True\n",
            "False\n"
          ]
        }
      ],
      "source": [
        "print(5>3) \n",
        "print(5<3) "
      ]
    },
    {
      "cell_type": "code",
      "execution_count": null,
      "metadata": {
        "colab": {
          "base_uri": "https://localhost:8080/"
        },
        "id": "wkacV86EAGxJ",
        "outputId": "ca2c3404-b0d6-4400-f0ad-f6d63b0ba17d",
        "vscode": {
          "languageId": "python"
        }
      },
      "outputs": [
        {
          "name": "stdout",
          "output_type": "stream",
          "text": [
            "False\n"
          ]
        }
      ],
      "source": [
        "bmi = 21.0\n",
        "print(bmi>24.0) #24.0 is Overweight"
      ]
    },
    {
      "cell_type": "code",
      "execution_count": null,
      "metadata": {
        "colab": {
          "base_uri": "https://localhost:8080/"
        },
        "id": "cuVMCuKCARYU",
        "outputId": "99a9d90f-0975-47f0-ae3f-5ce553c5cdd2",
        "vscode": {
          "languageId": "python"
        }
      },
      "outputs": [
        {
          "name": "stdout",
          "output_type": "stream",
          "text": [
            "True\n"
          ]
        }
      ],
      "source": [
        "bmi = 18.0\n",
        "print(bmi<18.5) #18.5 is too skinny"
      ]
    },
    {
      "cell_type": "code",
      "execution_count": null,
      "metadata": {
        "colab": {
          "base_uri": "https://localhost:8080/"
        },
        "id": "7honmgYyqx0w",
        "outputId": "3474b28b-0369-468c-d6f7-9fa029de10bb",
        "vscode": {
          "languageId": "python"
        }
      },
      "outputs": [
        {
          "name": "stdout",
          "output_type": "stream",
          "text": [
            "Input yout bmi22\n",
            "False\n"
          ]
        }
      ],
      "source": [
        "bmi = float(input(\"Input your bmi\"))\n",
        "print(bmi>24.0) "
      ]
    },
    {
      "cell_type": "markdown",
      "metadata": {
        "id": "DAMEz3DKBa0P"
      },
      "source": [
        "### Step 2: if-condition\n",
        "```\n",
        "if condition 1:\n",
        "     # Code to execute when it is evaluated as True\n",
        "elif condition 2:\n",
        "     # Code to execute when evaluated as True\n",
        "else:\n",
        "     # The code to execute when both condition 1 and condition 2 are evaluated as False\n",
        "```"
      ]
    },
    {
      "cell_type": "code",
      "execution_count": null,
      "metadata": {
        "colab": {
          "base_uri": "https://localhost:8080/"
        },
        "id": "eF-jycTxnY9-",
        "outputId": "5fa5b043-579c-4ce7-fa83-9982842fa630",
        "vscode": {
          "languageId": "python"
        }
      },
      "outputs": [
        {
          "name": "stdout",
          "output_type": "stream",
          "text": [
            "Input yout bmi31\n",
            "Obesity\n"
          ]
        }
      ],
      "source": [
        "bmi = float(input(\"Input your bmi\"))\n",
        "if bmi>30.0:\n",
        "  print(\"Obesity\")"
      ]
    },
    {
      "cell_type": "markdown",
      "metadata": {
        "id": "ElEZG60-GOHU"
      },
      "source": [
        "### Step 3: if-else-condition"
      ]
    },
    {
      "cell_type": "code",
      "execution_count": null,
      "metadata": {
        "id": "LPyqM8wQBORr",
        "vscode": {
          "languageId": "python"
        }
      },
      "outputs": [],
      "source": [
        "bmi = float(input(\"Input your bmi\"))\n",
        "if bmi>24.0:\n",
        "  print(\"Overweight\")\n",
        "else:\n",
        "  print(\"Healthy weight\")"
      ]
    },
    {
      "cell_type": "markdown",
      "metadata": {
        "id": "QRSb8fBbGXKc"
      },
      "source": [
        "### Step 4: if-elif-else-condition"
      ]
    },
    {
      "cell_type": "code",
      "execution_count": null,
      "metadata": {
        "id": "EbZnPm_GnzgW",
        "vscode": {
          "languageId": "python"
        }
      },
      "outputs": [],
      "source": [
        "bmi = float(input(\"Input your bmi\"))\n",
        "if bmi>24.0:\n",
        "  print(\"Overweight\")\n",
        "elif bmi<18.5:\n",
        "  print(\"Underweight\")\n",
        "else:\n",
        "  print(\"Healthy weight\")"
      ]
    },
    {
      "cell_type": "markdown",
      "metadata": {
        "id": "uFtavdB97bDV"
      },
      "source": [
        "## Topic 2-Operator\n"
      ]
    },
    {
      "cell_type": "markdown",
      "metadata": {
        "id": "OyBIVgWcCuwS"
      },
      "source": [
        "### Step 1: Comparison Operators: >, >=, < , <=, ==\n",
        "| Operators|      Running      | \n",
        "|----------|:-------------:|\n",
        "| > |  greater than |\n",
        "| < |    less than   |\n",
        "| >= | greater than or equal | \n",
        "| <= | less than or equal | \n",
        "| == | equal | \n",
        "| != | not equall | "
      ]
    },
    {
      "cell_type": "code",
      "execution_count": null,
      "metadata": {
        "colab": {
          "base_uri": "https://localhost:8080/"
        },
        "id": "yIkqDNWgHZvH",
        "outputId": "b9b6acf8-5692-4eeb-a4e8-3b554f5d4a97",
        "vscode": {
          "languageId": "python"
        }
      },
      "outputs": [
        {
          "name": "stdout",
          "output_type": "stream",
          "text": [
            "9 is odd\n",
            "8 is even\n"
          ]
        }
      ],
      "source": [
        "#判斷奇數偶數\n",
        "a = 9\n",
        "if a % 2 == 0:\n",
        "    print(\"{} is even\".format(a))\n",
        "else:\n",
        "    print(\"{} is odd\".format(a))\n",
        "b = 8\n",
        "if b % 2 == 0:\n",
        "    print(\"{} is even\".format(b))\n",
        "else:\n",
        "    print(\"{} is odd\".format(b))"
      ]
    },
    {
      "cell_type": "code",
      "execution_count": null,
      "metadata": {
        "colab": {
          "base_uri": "https://localhost:8080/"
        },
        "id": "sopZKSuGIUFb",
        "outputId": "a76ff551-f8f9-4494-c0af-012b0dc09fd6",
        "vscode": {
          "languageId": "python"
        }
      },
      "outputs": [
        {
          "name": "stdout",
          "output_type": "stream",
          "text": [
            "9 is odd\n",
            "8 is even\n"
          ]
        }
      ],
      "source": [
        "#判斷奇數偶數\n",
        "a = 9\n",
        "if a % 2 != 1:\n",
        "    print(\"{} is even\".format(a))\n",
        "else:\n",
        "    print(\"{} is odd\".format(a))\n",
        "b = 8\n",
        "if b % 2 < 1:\n",
        "    print(\"{} is even\".format(b))\n",
        "else:\n",
        "    print(\"{} is odd\".format(b))"
      ]
    },
    {
      "cell_type": "markdown",
      "metadata": {
        "id": "VnMo1y-kujl2"
      },
      "source": [
        "### Step 2: Boolean Operators: and, or, not"
      ]
    },
    {
      "cell_type": "code",
      "execution_count": null,
      "metadata": {
        "colab": {
          "base_uri": "https://localhost:8080/"
        },
        "id": "uJbEBoQR3QTM",
        "outputId": "b99a6679-e04d-409b-d9d8-2b449eaadb71",
        "vscode": {
          "languageId": "python"
        }
      },
      "outputs": [
        {
          "name": "stdout",
          "output_type": "stream",
          "text": [
            "Input your bmi20\n",
            "Healthy weight\n"
          ]
        }
      ],
      "source": [
        "bmi = float(input(\"Input your bmi\"))\n",
        "if 18.5<= bmi and bmi<24.0:\n",
        "  print(\"Healthy weight\")"
      ]
    },
    {
      "cell_type": "code",
      "execution_count": null,
      "metadata": {
        "colab": {
          "base_uri": "https://localhost:8080/"
        },
        "id": "anlPO3msOw-w",
        "outputId": "8dc66dfe-e45c-4f1d-a09c-677991363dad",
        "vscode": {
          "languageId": "python"
        }
      },
      "outputs": [
        {
          "name": "stdout",
          "output_type": "stream",
          "text": [
            "Input your bmi20\n",
            "Healthy weight\n"
          ]
        }
      ],
      "source": [
        "bmi = float(input(\"Input your bmi\"))\n",
        "if 18.5<= bmi <24.0:\n",
        "  print(\"Healthy weight\")"
      ]
    },
    {
      "cell_type": "code",
      "execution_count": null,
      "metadata": {
        "id": "hUIvrQfyNRZm",
        "vscode": {
          "languageId": "python"
        }
      },
      "outputs": [],
      "source": [
        "bmi = float(input(\"Input your bmi\"))\n",
        "if 18.5<= bmi and bmi<24.0:\n",
        "  print(\"Healthy weight\")\n",
        "else:\n",
        "  if bmi>24.0:\n",
        "    print(\"Overweight\")\n",
        "  else:\n",
        "    print(\"Underweight\")"
      ]
    },
    {
      "cell_type": "code",
      "execution_count": null,
      "metadata": {
        "id": "Wyj_ViyqJIgU",
        "vscode": {
          "languageId": "python"
        }
      },
      "outputs": [],
      "source": [
        "score1 = int(input(\"Input your score1\"))\n",
        "score2 = int(input(\"Input your score2\"))\n",
        "if score1 > 60 and score2 > 60:\n",
        "    print(\"All pass\")\n",
        "else:\n",
        "    print(\"Have failed grades\")"
      ]
    },
    {
      "cell_type": "code",
      "execution_count": null,
      "metadata": {
        "id": "v5lWpTU2KKVD",
        "vscode": {
          "languageId": "python"
        }
      },
      "outputs": [],
      "source": [
        "score1 = int(input(\"Input your score1\"))\n",
        "score2 = int(input(\"Input your score2\"))\n",
        "if score1 < 60 or score2 < 60:\n",
        "    print(\"Have failed grades\")\n",
        "else:\n",
        "    print(\"All pass\")"
      ]
    },
    {
      "cell_type": "code",
      "execution_count": null,
      "metadata": {
        "id": "B5pxMd--KX5J",
        "vscode": {
          "languageId": "python"
        }
      },
      "outputs": [],
      "source": [
        "score1 = int(input(\"Input your score1\"))\n",
        "score2 = int(input(\"Input your score2\"))\n",
        "if not(score1 < 60 or score2 < 60):\n",
        "    print(\"All pass\")\n",
        "else:\n",
        "    print(\"Have failed grades\")"
      ]
    },
    {
      "cell_type": "markdown",
      "metadata": {
        "id": "Qx7lFg0PK4HE"
      },
      "source": [
        "## Topic 3-for-loop-if-condition\n"
      ]
    },
    {
      "cell_type": "markdown",
      "metadata": {
        "id": "0cWcSGGsIPKJ"
      },
      "source": [
        "### Step 7:Find all factors of a number"
      ]
    },
    {
      "cell_type": "code",
      "execution_count": null,
      "metadata": {
        "colab": {
          "base_uri": "https://localhost:8080/"
        },
        "id": "CFvA4-aVIyO7",
        "outputId": "2b8d5734-c92a-4cab-b59a-6986cbb9d461",
        "vscode": {
          "languageId": "python"
        }
      },
      "outputs": [
        {
          "name": "stdout",
          "output_type": "stream",
          "text": [
            "1337\n",
            "1 7 191 1337 "
          ]
        }
      ],
      "source": [
        "num = int(input())\n",
        "for i in range(1,num+1):\n",
        "  if num % i ==0:\n",
        "    print(\"{} \".format(i), end=\"\")"
      ]
    },
    {
      "cell_type": "markdown",
      "metadata": {
        "id": "mIx72gLAJhYE"
      },
      "source": [
        "### Step 8:prime number"
      ]
    },
    {
      "cell_type": "code",
      "execution_count": null,
      "metadata": {
        "colab": {
          "base_uri": "https://localhost:8080/"
        },
        "id": "jRZ9QVrDJf1i",
        "outputId": "6178a357-ac00-484d-9006-8c19e209545c",
        "vscode": {
          "languageId": "python"
        }
      },
      "outputs": [
        {
          "name": "stdout",
          "output_type": "stream",
          "text": [
            "17537\n",
            "13 19 71 247 923 1349 \n",
            "17537 is not a prime number\n"
          ]
        }
      ],
      "source": [
        "num = int(input())\n",
        "count  = 0\n",
        "for i in range(2,num):\n",
        "  if num % i ==0:\n",
        "    count+=1\n",
        "    print(\"{} \".format(i), end=\"\")\n",
        "print()\n",
        "if count ==0:\n",
        "  print(\"{} is a prime number\".format(num))\n",
        "else:\n",
        "  print(\"{} is not a prime number\".format(num))"
      ]
    },
    {
      "cell_type": "markdown",
      "metadata": {
        "id": "ama-LSfDLT7k"
      },
      "source": [
        "### Step 9:break-for-loop"
      ]
    },
    {
      "cell_type": "code",
      "execution_count": null,
      "metadata": {
        "colab": {
          "base_uri": "https://localhost:8080/"
        },
        "id": "gkSECwcmLbHX",
        "outputId": "a4fc99b4-bb82-4c42-aa3b-ea2ebdb5018d",
        "vscode": {
          "languageId": "python"
        }
      },
      "outputs": [
        {
          "name": "stdout",
          "output_type": "stream",
          "text": [
            "17537\n",
            "17537 is not a prime number\n"
          ]
        }
      ],
      "source": [
        "num = int(input())\n",
        "count  = 0\n",
        "for i in range(2,num):\n",
        "  if num % i ==0:\n",
        "    count+=1\n",
        "    break\n",
        "if count ==0:\n",
        "  print(\"{} is a prime number\".format(num))\n",
        "else:\n",
        "  print(\"{} is not a prime number\".format(num))"
      ]
    },
    {
      "cell_type": "markdown",
      "metadata": {
        "id": "X2xhaz4gP09T"
      },
      "source": [
        "### Step 10:continue-for-loop"
      ]
    },
    {
      "cell_type": "code",
      "execution_count": null,
      "metadata": {
        "colab": {
          "base_uri": "https://localhost:8080/"
        },
        "id": "I-KxXcBLthjv",
        "outputId": "fa53f3eb-b173-475c-fd1f-85d91f1d63d1",
        "vscode": {
          "languageId": "python"
        }
      },
      "outputs": [
        {
          "name": "stdout",
          "output_type": "stream",
          "text": [
            "Current Letter : A\n",
            "Current Letter : s\n",
            "Current Letter : a\n",
            "Current Letter :  \n",
            "Current Letter : U\n",
            "Current Letter : n\n",
            "Current Letter : v\n",
            "Current Letter : e\n",
            "Current Letter : r\n",
            "Current Letter : s\n",
            "Current Letter : t\n",
            "Current Letter : y\n"
          ]
        }
      ],
      "source": [
        "for c in 'Asia University':     \n",
        " if c == 'i':\n",
        "   continue\n",
        " print ('Current Letter :', c)"
      ]
    },
    {
      "cell_type": "markdown",
      "metadata": {
        "id": "nQJ1uTEYvPwL"
      },
      "source": [
        "## Topic 4(主題4)-While Loop\n",
        "```\n",
        "while conditional judgment:\n",
        "     # Code\n",
        "```"
      ]
    },
    {
      "cell_type": "markdown",
      "metadata": {
        "id": "airkgYa7QGeF"
      },
      "source": [
        "### Step 1: Use a number to control the number of executions"
      ]
    },
    {
      "cell_type": "code",
      "execution_count": null,
      "metadata": {
        "colab": {
          "base_uri": "https://localhost:8080/"
        },
        "id": "6DZzMyq8QRm7",
        "outputId": "ff93e9d1-a55a-412b-ffde-0b90e7747c1a",
        "vscode": {
          "languageId": "python"
        }
      },
      "outputs": [
        {
          "name": "stdout",
          "output_type": "stream",
          "text": [
            "0 1 2 3 4 5 6 7 8 9 "
          ]
        }
      ],
      "source": [
        "for i in range(10):\n",
        "  print(i, end=\" \")"
      ]
    },
    {
      "cell_type": "code",
      "execution_count": null,
      "metadata": {
        "colab": {
          "base_uri": "https://localhost:8080/"
        },
        "id": "oXvvqxB7Qb8U",
        "outputId": "0198e3a7-b502-44fe-ac54-671957a1cfb0",
        "vscode": {
          "languageId": "python"
        }
      },
      "outputs": [
        {
          "name": "stdout",
          "output_type": "stream",
          "text": [
            "1 2 3 4 5 6 7 8 9 "
          ]
        }
      ],
      "source": [
        "i = 1\n",
        "while i < 10:\n",
        "  print(i, end=\" \")\n",
        "  i += 1"
      ]
    },
    {
      "cell_type": "code",
      "execution_count": null,
      "metadata": {
        "colab": {
          "base_uri": "https://localhost:8080/"
        },
        "id": "FlZxROlbRJ8H",
        "outputId": "2d88a7b6-d5f2-4c2d-b5cd-c8b201559614",
        "vscode": {
          "languageId": "python"
        }
      },
      "outputs": [
        {
          "name": "stdout",
          "output_type": "stream",
          "text": [
            "1 2 3 4 5 6 7 8 9 "
          ]
        }
      ],
      "source": [
        "i = 1\n",
        "while True:\n",
        "  print(i, end=\" \")\n",
        "  i += 1\n",
        "  if i >=10:\n",
        "    break"
      ]
    },
    {
      "cell_type": "markdown",
      "metadata": {
        "id": "uPq6uvfoQkbG"
      },
      "source": [
        "### Step 2: Use a loop to control whether the program ends"
      ]
    },
    {
      "cell_type": "code",
      "execution_count": null,
      "metadata": {
        "id": "Mfz8ksi3R3zz",
        "vscode": {
          "languageId": "python"
        }
      },
      "outputs": [],
      "source": [
        "i = 1\n",
        "while True:\n",
        "  if input(\"Q for quit?\").lower() == \"q\":\n",
        "    break\n",
        "  print(i, end=\" \")\n",
        "  i += 1\n"
      ]
    },
    {
      "cell_type": "markdown",
      "metadata": {
        "id": "ZagAuSY3SoGS"
      },
      "source": [
        "## Topic 5-Container\n",
        "\n",
        "There are three types of Python language brackets,\n",
        "The parentheses () represent the tuple data type, the square brackets [] represent the list data type, and the curly brackets {} represent the dictionary (dict) or set (set) data type. Sequences are indexed by numbers in a range, and dictionaries are indexed by keys. The keys can be of any immutable type; both strings and numbers can be used as key values.\n",
        "* Serially put a bunch of variables into [] to form a row of data\n",
        "* Tuple is composed of several values separated by commas\n",
        "* Set is a group of unordered and no repeated elements\n",
        "* Dictionary (Dictionary) puts a bunch of key and value correspondences into {} to form an indexable data collection\n",
        "\n"
      ]
    },
    {
      "cell_type": "markdown",
      "metadata": {
        "id": "3gHm3zl0UQTa"
      },
      "source": [
        "### Step 1: Initiation of data container variables"
      ]
    },
    {
      "cell_type": "code",
      "execution_count": null,
      "metadata": {
        "colab": {
          "base_uri": "https://localhost:8080/"
        },
        "id": "VkxESooRUcxd",
        "outputId": "6f3cc40c-9548-4906-8ecb-f64326597187",
        "vscode": {
          "languageId": "python"
        }
      },
      "outputs": [
        {
          "name": "stdout",
          "output_type": "stream",
          "text": [
            "<class 'list'>\n",
            "<class 'tuple'>\n",
            "<class 'tuple'>\n",
            "<class 'set'>\n",
            "<class 'dict'>\n",
            "<class 'dict'>\n"
          ]
        }
      ],
      "source": [
        "fruits = ['orange', 'apple', 'pear', 'banana', 'kiwi', 'apple', 'banana']\n",
        "steps = 1, 3, 5, 6, 9\n",
        "vectors = ((0,0,0), (3, 5, 7), (8, 8, 8))\n",
        "baskets = {'orange', 'apple', 'pear', 'banana', 'kiwi', 'apple', 'banana'}\n",
        "favors = {0:'orange', 7:'apple', 3:'pear', 2:'banana', 6:'kiwi', 4:'apple', 9:'banana'}\n",
        "tel = {'jack': 4098, 'sape': 4139}\n",
        "print(type(fruits))\n",
        "print(type(steps))\n",
        "print(type(vectors))\n",
        "print(type(baskets))\n",
        "print(type(favors))\n",
        "print(type(tel))"
      ]
    },
    {
      "cell_type": "markdown",
      "metadata": {
        "id": "M7S8MXPsWNUn"
      },
      "source": [
        "### Step 2: Indexing of the data container variable"
      ]
    },
    {
      "cell_type": "code",
      "execution_count": null,
      "metadata": {
        "colab": {
          "base_uri": "https://localhost:8080/"
        },
        "id": "uKN4meLHVbvt",
        "outputId": "d516af79-e506-4fa0-c525-f6928bd86574",
        "vscode": {
          "languageId": "python"
        }
      },
      "outputs": [
        {
          "name": "stdout",
          "output_type": "stream",
          "text": [
            "apple\n",
            "3\n",
            "(3, 5, 7)\n",
            "banana\n",
            "4139\n"
          ]
        }
      ],
      "source": [
        "print(fruits[1])\n",
        "print(steps[1])\n",
        "print(vectors[1])\n",
        "print(favors[2])\n",
        "print(tel['sape'])"
      ]
    },
    {
      "cell_type": "markdown",
      "metadata": {
        "id": "7TO4mb1VWoVN"
      },
      "source": [
        "### Step 3: Set comprehensions"
      ]
    },
    {
      "cell_type": "code",
      "execution_count": null,
      "metadata": {
        "colab": {
          "base_uri": "https://localhost:8080/"
        },
        "id": "nNmbaMGIXXlE",
        "outputId": "3446a244-6604-4c6b-9986-70acbc3339a9",
        "vscode": {
          "languageId": "python"
        }
      },
      "outputs": [
        {
          "name": "stdout",
          "output_type": "stream",
          "text": [
            "{'d', 'r'}\n"
          ]
        }
      ],
      "source": [
        "a = {x for x in 'abracadabra' if x not in 'abc'}\n",
        "print(a)"
      ]
    },
    {
      "cell_type": "markdown",
      "metadata": {
        "id": "DvmSJDmEXe2O"
      },
      "source": [
        "### Step 4: Dictionary comprehensions"
      ]
    },
    {
      "cell_type": "code",
      "execution_count": null,
      "metadata": {
        "colab": {
          "base_uri": "https://localhost:8080/"
        },
        "id": "uIubn3oaX366",
        "outputId": "b645083d-65a7-4f0d-e37f-5b2835536619",
        "vscode": {
          "languageId": "python"
        }
      },
      "outputs": [
        {
          "name": "stdout",
          "output_type": "stream",
          "text": [
            "{2: 4, 4: 16, 6: 36}\n"
          ]
        }
      ],
      "source": [
        "data={x: x**2 for x in (2, 4, 6)}\n",
        "print(data)"
      ]
    },
    {
      "cell_type": "code",
      "execution_count": null,
      "metadata": {
        "id": "RwTYn87yGMOu",
        "vscode": {
          "languageId": "python"
        }
      },
      "outputs": [],
      "source": [
        "dict_items([('c', 3), ('d', 4), ('a', 1), ('b', 2)])\n",
        "dict_variable = {key:value for (key,value) in dictonary.items()}"
      ]
    },
    {
      "cell_type": "code",
      "execution_count": null,
      "metadata": {
        "id": "FLaDCdhOGScR",
        "vscode": {
          "languageId": "python"
        }
      },
      "outputs": [],
      "source": [
        "dict1 = {'a': 1, 'b': 2, 'c': 3, 'd': 4, 'e': 5}\n",
        "# Double each value in the dictionary\n",
        "double_dict1 = {k:v*2 for (k,v) in dict1.items()}\n",
        "print(double_dict1)"
      ]
    },
    {
      "cell_type": "markdown",
      "metadata": {
        "id": "kU_-0QkUXwFT"
      },
      "source": [
        "## Topic 6:Use the loop of the container"
      ]
    },
    {
      "cell_type": "markdown",
      "metadata": {
        "id": "mpkr-kSbYDry"
      },
      "source": [
        "### Step 1: in a container variable"
      ]
    },
    {
      "cell_type": "code",
      "execution_count": null,
      "metadata": {
        "colab": {
          "base_uri": "https://localhost:8080/"
        },
        "id": "rWtTgwKqYU_5",
        "outputId": "95497ec5-3d5d-457a-d8c6-2ecb0a8d8276",
        "vscode": {
          "languageId": "python"
        }
      },
      "outputs": [
        {
          "name": "stdout",
          "output_type": "stream",
          "text": [
            "1 9 25 36 81 "
          ]
        }
      ],
      "source": [
        "steps = 1, 3, 5, 6, 9\n",
        "for x in steps:\n",
        "  print (x**2, end=\" \")"
      ]
    },
    {
      "cell_type": "code",
      "execution_count": null,
      "metadata": {
        "colab": {
          "base_uri": "https://localhost:8080/"
        },
        "id": "uzNKykBUYjYy",
        "outputId": "851dcb15-bc0d-4e68-f2b9-afd08563993e",
        "vscode": {
          "languageId": "python"
        }
      },
      "outputs": [
        {
          "name": "stdout",
          "output_type": "stream",
          "text": [
            "banana pear orange kiwi apple "
          ]
        }
      ],
      "source": [
        "baskets = {'orange', 'apple', 'pear', 'banana', 'kiwi', 'apple', 'banana'}\n",
        "for x in baskets:\n",
        "  print (x, end=\" \")"
      ]
    },
    {
      "cell_type": "markdown",
      "metadata": {
        "id": "vhsCjQI_Yy30"
      },
      "source": [
        "### Step 2: using items()\n"
      ]
    },
    {
      "cell_type": "code",
      "execution_count": null,
      "metadata": {
        "colab": {
          "base_uri": "https://localhost:8080/"
        },
        "id": "O8Yj6L7xYwaX",
        "outputId": "cfe4abfd-d535-45de-fd52-0be0d1b21216",
        "vscode": {
          "languageId": "python"
        }
      },
      "outputs": [
        {
          "name": "stdout",
          "output_type": "stream",
          "text": [
            "jack 4098\n",
            "sape 4139\n"
          ]
        }
      ],
      "source": [
        "tel = {'jack': 4098, 'sape': 4139}\n",
        "for k, v in tel.items():\n",
        " print(k, v)"
      ]
    },
    {
      "cell_type": "markdown",
      "metadata": {
        "id": "saCFuKwCZI8U"
      },
      "source": [
        "### Step 3: using enumerate()"
      ]
    },
    {
      "cell_type": "code",
      "execution_count": null,
      "metadata": {
        "colab": {
          "base_uri": "https://localhost:8080/"
        },
        "id": "nclgzBoLZRQx",
        "outputId": "7e3588b6-f1e4-4c9f-919b-1ed1329748e2",
        "vscode": {
          "languageId": "python"
        }
      },
      "outputs": [
        {
          "name": "stdout",
          "output_type": "stream",
          "text": [
            "0 orange\n",
            "1 apple\n",
            "2 pear\n",
            "3 banana\n",
            "4 kiwi\n",
            "5 apple\n",
            "6 banana\n"
          ]
        }
      ],
      "source": [
        "fruits = ['orange', 'apple', 'pear', 'banana', 'kiwi', 'apple', 'banana']\n",
        "for i, x in enumerate(fruits):\n",
        "  print (i, x)"
      ]
    },
    {
      "cell_type": "code",
      "execution_count": null,
      "metadata": {
        "colab": {
          "base_uri": "https://localhost:8080/"
        },
        "id": "oCqcBVNjZgoq",
        "outputId": "d1fe29d0-e304-4ac6-a950-e243f5be4180",
        "vscode": {
          "languageId": "python"
        }
      },
      "outputs": [
        {
          "name": "stdout",
          "output_type": "stream",
          "text": [
            "0 (0, 0, 0)\n",
            "1 (3, 5, 7)\n",
            "2 (8, 8, 8)\n"
          ]
        }
      ],
      "source": [
        "vectors = ((0,0,0), (3, 5, 7), (8, 8, 8))\n",
        "for i, x in enumerate(vectors):\n",
        "  print (i, x)"
      ]
    },
    {
      "cell_type": "code",
      "execution_count": null,
      "metadata": {
        "id": "UA8pU66XZlE0",
        "vscode": {
          "languageId": "python"
        }
      },
      "outputs": [],
      "source": [
        "baskets = {'orange', 'apple', 'pear', 'banana', 'kiwi', 'apple', 'banana'}\n",
        "for i, x in enumerate(baskets):\n",
        "  print (i, x)"
      ]
    },
    {
      "cell_type": "markdown",
      "metadata": {
        "id": "lS7KqMeaZtWx"
      },
      "source": [
        "### Step 4: using zip()"
      ]
    },
    {
      "cell_type": "code",
      "execution_count": null,
      "metadata": {
        "colab": {
          "base_uri": "https://localhost:8080/"
        },
        "id": "iT2fpXj4Zxwj",
        "outputId": "cac56fce-6f39-4609-c812-3321eeb642c3",
        "vscode": {
          "languageId": "python"
        }
      },
      "outputs": [
        {
          "name": "stdout",
          "output_type": "stream",
          "text": [
            "What is your name?  It is lancelot.\n",
            "What is your quest?  It is the holy grail.\n",
            "What is your favorite color?  It is blue.\n"
          ]
        }
      ],
      "source": [
        "questions = ['name', 'quest', 'favorite color']\n",
        "answers = ['lancelot', 'the holy grail', 'blue']\n",
        "for q, a in zip(questions, answers):\n",
        " print(f'What is your {q}?  It is {a}.')"
      ]
    },
    {
      "cell_type": "markdown",
      "metadata": {
        "id": "VpTgX7GtbW0A"
      },
      "source": [
        "## Topic 7:map()function\n",
        "\n",
        "map(function, iterable, ...)\n",
        "\n",
        "Returns an iterator that applies function to each item in iterable and outputs its result. If an additional iterable parameter is passed in, the function must accept the same number of actual parameters and be applied to the items obtained in parallel from all iterable objects. When there are multiple iterable objects, the shortest iterable object is exhausted and the entire iteration will end.\n"
      ]
    },
    {
      "cell_type": "markdown",
      "metadata": {
        "id": "KUW8uebNbcPJ"
      },
      "source": [
        "### Step 1: Calculate the variable length of the data container"
      ]
    },
    {
      "cell_type": "code",
      "execution_count": null,
      "metadata": {
        "colab": {
          "base_uri": "https://localhost:8080/"
        },
        "id": "T7goxoTHbbr5",
        "outputId": "a68e9c3a-6648-4168-82e2-f7a28c9403de",
        "vscode": {
          "languageId": "python"
        }
      },
      "outputs": [
        {
          "name": "stdout",
          "output_type": "stream",
          "text": [
            "5 6 6\n"
          ]
        }
      ],
      "source": [
        "a, b, c = map(len, ('apple', 'banana', 'cherry'))\n",
        "print(a, b, c)"
      ]
    },
    {
      "cell_type": "markdown",
      "metadata": {
        "id": "4LDzQpKOck9f"
      },
      "source": [
        "Step 2: Convert input string to integer"
      ]
    },
    {
      "cell_type": "code",
      "execution_count": null,
      "metadata": {
        "colab": {
          "base_uri": "https://localhost:8080/"
        },
        "id": "sjMuufgtctBP",
        "outputId": "17a496f4-c5e1-44ab-d5c3-0d533423789a",
        "vscode": {
          "languageId": "python"
        }
      },
      "outputs": [
        {
          "name": "stdout",
          "output_type": "stream",
          "text": [
            "3 5 6\n"
          ]
        }
      ],
      "source": [
        "a, b, c = map(int, ['3', '5', '6'])\n",
        "print(a, b, c)"
      ]
    }
  ],
  "metadata": {
    "colab": {
      "collapsed_sections": [
        "OyBIVgWcCuwS",
        "mIx72gLAJhYE",
        "ama-LSfDLT7k",
        "X2xhaz4gP09T",
        "airkgYa7QGeF",
        "uPq6uvfoQkbG",
        "M7S8MXPsWNUn",
        "7TO4mb1VWoVN",
        "DvmSJDmEXe2O",
        "saCFuKwCZI8U",
        "lS7KqMeaZtWx"
      ],
      "provenance": []
    },
    "kernelspec": {
      "display_name": "Python 3",
      "name": "python3"
    }
  },
  "nbformat": 4,
  "nbformat_minor": 0
}
