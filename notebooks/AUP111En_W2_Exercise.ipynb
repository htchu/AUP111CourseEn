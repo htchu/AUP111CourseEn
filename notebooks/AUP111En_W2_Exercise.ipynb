{
  "nbformat": 4,
  "nbformat_minor": 0,
  "metadata": {
    "colab": {
      "provenance": []
    },
    "kernelspec": {
      "display_name": "Python 3",
      "language": "python",
      "name": "python3"
    },
    "language_info": {
      "codemirror_mode": {
        "name": "ipython",
        "version": 3
      },
      "file_extension": ".py",
      "mimetype": "text/x-python",
      "name": "python",
      "nbconvert_exporter": "python",
      "pygments_lexer": "ipython3",
      "version": "3.7.6"
    }
  },
  "cells": [
    {
      "cell_type": "markdown",
      "metadata": {
        "id": "EUjJ7ImLnPVr"
      },
      "source": [
        "# AU Fundamentals of Python Programming\n",
        "\n"
      ]
    },
    {
      "cell_type": "markdown",
      "metadata": {
        "id": "kLe1GoiTtrgI"
      },
      "source": [
        "## Ex2-1:Convert Celsius to Fahrenheit\n",
        "$$FDegree = CDegree \\times \\frac{9}{5} + 32$$"
      ]
    },
    {
      "cell_type": "markdown",
      "metadata": {
        "id": "cHiXWmApnZ_W"
      },
      "source": [
        "### Step 1: Declare a variable in degrees Celsius"
      ]
    },
    {
      "cell_type": "code",
      "metadata": {
        "id": "8JL0O3Dw0hVK",
        "colab": {
          "base_uri": "https://localhost:8080/"
        },
        "outputId": "eda027b5-05c5-4533-866e-440de7822b64"
      },
      "source": [
        "CDegree = 0.0\n",
        "print(CDegree)"
      ],
      "execution_count": null,
      "outputs": [
        {
          "output_type": "stream",
          "name": "stdout",
          "text": [
            "0.0\n"
          ]
        }
      ]
    },
    {
      "cell_type": "markdown",
      "metadata": {
        "id": "XBxsl5E23SuC"
      },
      "source": [
        "### Step 2: Enter the value of Celsius"
      ]
    },
    {
      "cell_type": "code",
      "metadata": {
        "id": "PBlTlafx3Poe",
        "colab": {
          "base_uri": "https://localhost:8080/"
        },
        "outputId": "8699082c-b57d-412f-e1e4-ba585880c4e6"
      },
      "source": [
        "CDegree =   input()          #<-?\n",
        "CDegree = float(CDegree)"
      ],
      "execution_count": null,
      "outputs": [
        {
          "name": "stdout",
          "output_type": "stream",
          "text": [
            "38\n"
          ]
        }
      ]
    },
    {
      "cell_type": "markdown",
      "metadata": {
        "id": "qcqXjo083bW5"
      },
      "source": [
        "### Step 3: Calculate Fahrenheit temperature"
      ]
    },
    {
      "cell_type": "code",
      "metadata": {
        "id": "eF-jycTxnY9-",
        "colab": {
          "base_uri": "https://localhost:8080/"
        },
        "outputId": "b567d67b-c922-49e8-f0d1-389640bca550"
      },
      "source": [
        "FDegree =  CDegree * 9 /5 + 32           #<-?\n",
        "print(FDegree)"
      ],
      "execution_count": null,
      "outputs": [
        {
          "output_type": "stream",
          "name": "stdout",
          "text": [
            "100.4\n"
          ]
        }
      ]
    },
    {
      "cell_type": "code",
      "metadata": {
        "colab": {
          "base_uri": "https://localhost:8080/"
        },
        "id": "XRRyTe0sQGf7",
        "outputId": "b6692928-6d85-4d28-b747-0f28b600d478"
      },
      "source": [
        "CDegree =(FDegree - 32)*5/9\n",
        "print(CDegree)"
      ],
      "execution_count": null,
      "outputs": [
        {
          "output_type": "stream",
          "name": "stdout",
          "text": [
            "38.0\n"
          ]
        }
      ]
    },
    {
      "cell_type": "markdown",
      "metadata": {
        "id": "kclzQu9N31o5"
      },
      "source": [
        "## Ex2-2:Calculation of Body Mass Index\n",
        "$$BMI = \\frac{weight_{kg}}{height_{m}^2}$$\n",
        "\n",
        "https://en.wikipedia.org/wiki/Body_mass_index"
      ]
    },
    {
      "cell_type": "markdown",
      "metadata": {
        "id": "ZTf06rZe4sdl"
      },
      "source": [
        "### Step 4: Declare two variables: weight and height"
      ]
    },
    {
      "cell_type": "code",
      "metadata": {
        "id": "7AzrK1j_npYa",
        "colab": {
          "base_uri": "https://localhost:8080/"
        },
        "outputId": "977b5386-397f-421f-9165-6d12dba1e814"
      },
      "source": [
        "weight = 1.0\n",
        "height = 1.0\n",
        "print(\"Weight = \", weight, \" Height = \", height,)"
      ],
      "execution_count": null,
      "outputs": [
        {
          "output_type": "stream",
          "name": "stdout",
          "text": [
            "Weight =  1.0  Height =  1.0\n"
          ]
        }
      ]
    },
    {
      "cell_type": "markdown",
      "metadata": {
        "id": "bYlm5Mld5Pcu"
      },
      "source": [
        "Step 5: Input weight and height"
      ]
    },
    {
      "cell_type": "code",
      "metadata": {
        "id": "7w4uuKYj5T2C",
        "colab": {
          "base_uri": "https://localhost:8080/"
        },
        "outputId": "512ecf87-3fc2-4560-faa1-8d95ba291f37"
      },
      "source": [
        "weight = input()\n",
        "height = input()          #<-?\n",
        "weight = float(weight)\n",
        "height = float(height)          #<-?"
      ],
      "execution_count": null,
      "outputs": [
        {
          "name": "stdout",
          "output_type": "stream",
          "text": [
            "73.2\n",
            "1.73\n"
          ]
        }
      ]
    },
    {
      "cell_type": "markdown",
      "metadata": {
        "id": "Hl4NR03P5Xb6"
      },
      "source": [
        "### Step 6: Calculate BMI"
      ]
    },
    {
      "cell_type": "code",
      "metadata": {
        "id": "EbZnPm_GnzgW",
        "colab": {
          "base_uri": "https://localhost:8080/"
        },
        "outputId": "5f623483-f92e-43af-926c-75d69f9925b1"
      },
      "source": [
        "bmi = weight/ height**2          #<-?\n",
        "print(\"BMI=\", bmi);"
      ],
      "execution_count": null,
      "outputs": [
        {
          "output_type": "stream",
          "name": "stdout",
          "text": [
            "BMI= 24.45788365799058\n"
          ]
        }
      ]
    },
    {
      "cell_type": "code",
      "metadata": {
        "id": "H1OLx_ro4E37"
      },
      "source": [
        "\n"
      ],
      "execution_count": null,
      "outputs": []
    }
  ]
}