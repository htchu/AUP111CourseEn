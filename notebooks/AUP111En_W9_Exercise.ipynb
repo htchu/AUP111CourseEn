{
 "cells": [
  {
   "cell_type": "markdown",
   "metadata": {
    "id": "L_j9J2r5MfQd"
   },
   "source": [
    "#  Leetcode problem: Reverse Integer\n",
    "https://leetcode.com/problems/reverse-integer/\n",
    "\n",
    "Given a 32-bit signed integer, reverse digits of an integer."
   ]
  },
  {
   "cell_type": "markdown",
   "metadata": {
    "id": "zmJdHSVSqUh0"
   },
   "source": [
    "## Method-1\n",
    "使用字串 \n",
    "https://www.geeksforgeeks.org/string-slicing-in-python/"
   ]
  },
  {
   "cell_type": "code",
   "execution_count": 9,
   "metadata": {
    "executionInfo": {
     "elapsed": 545,
     "status": "ok",
     "timestamp": 1606244345526,
     "user": {
      "displayName": "Hsueh-Ting Chu",
      "photoUrl": "https://lh3.googleusercontent.com/a-/AOh14GhjZzSScd4C7GeSLbsZaxvk3HSuE8FYBfeM8i1FYg=s64",
      "userId": "03319341302301572023"
     },
     "user_tz": -480
    },
    "id": "1xGqC3DUMemY"
   },
   "outputs": [],
   "source": [
    "from typing import List\n",
    "def reverse(x: int) -> int:\n",
    "    #程式區間\n"
   ]
  },
  {
   "cell_type": "code",
   "execution_count": 10,
   "metadata": {
    "colab": {
     "base_uri": "https://localhost:8080/"
    },
    "executionInfo": {
     "elapsed": 918,
     "status": "ok",
     "timestamp": 1606244348577,
     "user": {
      "displayName": "Hsueh-Ting Chu",
      "photoUrl": "https://lh3.googleusercontent.com/a-/AOh14GhjZzSScd4C7GeSLbsZaxvk3HSuE8FYBfeM8i1FYg=s64",
      "userId": "03319341302301572023"
     },
     "user_tz": -480
    },
    "id": "9A_z54Haj-ay",
    "outputId": "28ae83d4-54be-4b5e-f95e-97592582e0f9"
   },
   "outputs": [
    {
     "name": "stdout",
     "output_type": "stream",
     "text": [
      "51\n",
      "-321\n",
      "0\n"
     ]
    }
   ],
   "source": [
    "result =reverse(150)  \n",
    "print(result) \n",
    "result =reverse(-123)  \n",
    "print(result) \n",
    "result =reverse(0)  \n",
    "print(result) "
   ]
  },
  {
   "cell_type": "markdown",
   "metadata": {
    "id": "A_nCjXP_nrNA"
   },
   "source": [
    "## Method-2\n",
    "\n",
    "使用序列List"
   ]
  },
  {
   "cell_type": "code",
   "execution_count": 31,
   "metadata": {
    "executionInfo": {
     "elapsed": 900,
     "status": "ok",
     "timestamp": 1606247285461,
     "user": {
      "displayName": "Hsueh-Ting Chu",
      "photoUrl": "https://lh3.googleusercontent.com/a-/AOh14GhjZzSScd4C7GeSLbsZaxvk3HSuE8FYBfeM8i1FYg=s64",
      "userId": "03319341302301572023"
     },
     "user_tz": -480
    },
    "id": "E1DUTv9hoYWE"
   },
   "outputs": [],
   "source": [
    "from typing import List\n",
    "def reverse(x: int) -> int:\n",
    "    #程式區間\n"
   ]
  },
  {
   "cell_type": "code",
   "execution_count": 32,
   "metadata": {
    "colab": {
     "base_uri": "https://localhost:8080/"
    },
    "executionInfo": {
     "elapsed": 889,
     "status": "ok",
     "timestamp": 1606247292142,
     "user": {
      "displayName": "Hsueh-Ting Chu",
      "photoUrl": "https://lh3.googleusercontent.com/a-/AOh14GhjZzSScd4C7GeSLbsZaxvk3HSuE8FYBfeM8i1FYg=s64",
      "userId": "03319341302301572023"
     },
     "user_tz": -480
    },
    "id": "ohlQALibpwn0",
    "outputId": "0ef979ba-0dcf-4323-990d-86ae0f7cb271"
   },
   "outputs": [
    {
     "name": "stdout",
     "output_type": "stream",
     "text": [
      "51\n",
      "-321\n",
      "0\n"
     ]
    }
   ],
   "source": [
    "result =reverse(150)  \n",
    "print(result) \n",
    "result =reverse(-123)  \n",
    "print(result) \n",
    "result =reverse(0)  \n",
    "print(result) "
   ]
  },
  {
   "cell_type": "code",
   "execution_count": 15,
   "metadata": {
    "colab": {
     "base_uri": "https://localhost:8080/"
    },
    "executionInfo": {
     "elapsed": 1037,
     "status": "ok",
     "timestamp": 1606246099143,
     "user": {
      "displayName": "Hsueh-Ting Chu",
      "photoUrl": "https://lh3.googleusercontent.com/a-/AOh14GhjZzSScd4C7GeSLbsZaxvk3HSuE8FYBfeM8i1FYg=s64",
      "userId": "03319341302301572023"
     },
     "user_tz": -480
    },
    "id": "rtgqz6z6ucL1",
    "outputId": "0b622bbe-c4ed-4fa2-af60-5f555fc3e3f8"
   },
   "outputs": [
    {
     "name": "stdout",
     "output_type": "stream",
     "text": [
      "range(4, 0, -1)\n"
     ]
    }
   ],
   "source": [
    "print(range(4,0,-1))"
   ]
  }
 ],
 "metadata": {
  "colab": {
   "authorship_tag": "ABX9TyO7xpP5dJ/GzEq0C3oGrClI",
   "collapsed_sections": [],
   "name": "AUPython-Ex10-Begin.ipynb",
   "provenance": [
    {
     "file_id": "1v59NI_Qy6eyY57JI8gSb5ZuoBJSP6RPZ",
     "timestamp": 1606242538835
    },
    {
     "file_id": "1QNsyPc4c3iazMzSviyx1svpQkO0kMunj",
     "timestamp": 1605638946991
    }
   ]
  },
  "kernelspec": {
   "display_name": "Python 3",
   "language": "python",
   "name": "python3"
  },
  "language_info": {
   "codemirror_mode": {
    "name": "ipython",
    "version": 3
   },
   "file_extension": ".py",
   "mimetype": "text/x-python",
   "name": "python",
   "nbconvert_exporter": "python",
   "pygments_lexer": "ipython3",
   "version": "3.7.6"
  }
 },
 "nbformat": 4,
 "nbformat_minor": 4
}
