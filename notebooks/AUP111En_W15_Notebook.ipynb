{
  "nbformat": 4,
  "nbformat_minor": 0,
  "metadata": {
    "colab": {
      "provenance": [],
      "toc_visible": true
    },
    "kernelspec": {
      "name": "python3",
      "display_name": "Python 3"
    }
  },
  "cells": [
    {
      "cell_type": "markdown",
      "metadata": {
        "id": "b4-1tJhnmy6C"
      },
      "source": [
        "![image](https://www.python.org/static/img/python-logo.png)\n",
        "# AUP110-Fundamentals of Programming\n",
        "![Open In Colab](https://colab.research.google.com/assets/colab-badge.svg)\n"
      ]
    },
    {
      "cell_type": "markdown",
      "metadata": {
        "id": "EUjJ7ImLnPVr"
      },
      "source": [
        "# Week15-Class\n",
        "\n",
        "https://docs.python.org/3/tutorial/classes.html\n",
        "\n",
        "Class provides a means of combining data and functions. Creating a class will add an object type (type) and allow the creation of a new instance of that type. Each class instance can have some attributes that maintain the state of the instance. A Class instance can also have some methods (defined by its class) to modify the state of the instance.\n",
        "\n",
        "Compared with other programming languages, Python's class mechanism adds the least new syntax and semantics to class. He mixed the class mechanism of C++ and Modula-3. Python's class provides all the standard features of Object Oriented Programming: the class inheritance mechanism allows multiple base classes (base classes), and a derived class (derived class) can override any of its base class method, and a method can call the method of its base class with the same name. Objects can contain any amount and any kind of data. Like modules, classes also have the dynamic characteristics of Python: they are created during runtime and can be modified after creation.\n",
        "\n",
        "Object-oriented programming requires some basic understanding of classes and objects, including:\n",
        "Class, Object, Attribute, Constructor, Method"
      ]
    },
    {
      "cell_type": "markdown",
      "metadata": {
        "id": "kLe1GoiTtrgI"
      },
      "source": [
        "## Topic 1-Class definition"
      ]
    },
    {
      "cell_type": "markdown",
      "metadata": {
        "id": "mFxKQK_Bmm0p"
      },
      "source": [
        "### Step 1: Other definition (property)\n",
        "By convention, use UpperCamelCase for naming classes (camel case)"
      ]
    },
    {
      "cell_type": "code",
      "metadata": {
        "id": "MR8X8qbtmmFC",
        "colab": {
          "base_uri": "https://localhost:8080/"
        },
        "outputId": "0366a58e-fbba-4e40-83e7-90834f9b2dfc"
      },
      "source": [
        "class MyClass:\n",
        "    x = 5\n",
        "    y =11\n",
        "\n",
        "p1 = MyClass() #建立 MyClass 的一個新實例，並將此物件指派給區域變數 p1。\n",
        "print(p1.x, p1.y)"
      ],
      "execution_count": null,
      "outputs": [
        {
          "output_type": "stream",
          "name": "stdout",
          "text": [
            "5 11\n"
          ]
        }
      ]
    },
    {
      "cell_type": "code",
      "metadata": {
        "id": "pBmxqjbpACZf"
      },
      "source": [
        "del p1"
      ],
      "execution_count": null,
      "outputs": []
    },
    {
      "cell_type": "markdown",
      "metadata": {
        "id": "6xCiGEcV8Swb"
      },
      "source": [
        "### Step 2: Initial value of class-$__init__()$\n",
        "\n",
        "The instantiation operation (\"calling\" a class object) creates an empty object. Many classes have customized initial state of specific instances when creating objects. Therefore, a class can define a special method named $__init__()$."
      ]
    },
    {
      "cell_type": "code",
      "metadata": {
        "id": "Td8bXH0j8YF5",
        "colab": {
          "base_uri": "https://localhost:8080/"
        },
        "outputId": "fc4f0f9c-6779-4b16-9f77-cc2c4128362f"
      },
      "source": [
        "class Person:\n",
        "  def __init__(self, name, age):#Constructor\n",
        "    self.name = name\n",
        "    self.age = age\n",
        "\n",
        "p2 = Person(\"Hwang\", 52) \n",
        "print(p2.name, p2.age)"
      ],
      "execution_count": null,
      "outputs": [
        {
          "output_type": "stream",
          "name": "stdout",
          "text": [
            "Hwang 52\n"
          ]
        }
      ]
    },
    {
      "cell_type": "markdown",
      "metadata": {
        "id": "0wWlPvfc9Wz1"
      },
      "source": [
        "### Step 3: Class member function definition"
      ]
    },
    {
      "cell_type": "code",
      "metadata": {
        "id": "o4-HDxIb9da_",
        "colab": {
          "base_uri": "https://localhost:8080/"
        },
        "outputId": "9c5a6138-1d62-4159-81ca-7ba6bb2287fb"
      },
      "source": [
        "class Person:\n",
        "  def __init__(self, name, age):\n",
        "    self.name = name\n",
        "    self.age = age\n",
        "\n",
        "  def foo(self):\n",
        "    print(\"Hello my name is \" + self.name)\n",
        "\n",
        "p2 = Person(\"Hwang\", 52)\n",
        "p2.foo()"
      ],
      "execution_count": null,
      "outputs": [
        {
          "output_type": "stream",
          "name": "stdout",
          "text": [
            "Hello my name is Hwang\n"
          ]
        }
      ]
    },
    {
      "cell_type": "markdown",
      "metadata": {
        "id": "DxQX0Ee19-tp"
      },
      "source": [
        "### Step 4: Scope and Namespace"
      ]
    },
    {
      "cell_type": "code",
      "metadata": {
        "id": "NUHTNYRN9_FL"
      },
      "source": [
        "def scope_test():\n",
        "    def do_local():\n",
        "        spam = \"local spam\"\n",
        "\n",
        "    def do_nonlocal():\n",
        "        nonlocal spam\n",
        "        spam = \"nonlocal spam\"\n",
        "\n",
        "    def do_global():\n",
        "        global spam\n",
        "        spam = \"global spam\"\n",
        "\n",
        "    spam = \"test spam\"\n",
        "    do_local()\n",
        "    print(\"After local assignment:\", spam)\n",
        "    do_nonlocal()\n",
        "    print(\"After nonlocal assignment:\", spam)\n",
        "    do_global()\n",
        "    print(\"After global assignment:\", spam)\n",
        "\n",
        "scope_test()\n",
        "print(\"In global scope:\", spam)"
      ],
      "execution_count": null,
      "outputs": []
    },
    {
      "cell_type": "markdown",
      "metadata": {
        "id": "Jdl7Wbuq-KbV"
      },
      "source": [
        "## Topic 2(主題2)-Class Inheritance \n",
        "\n",
        "derived class inherits base class"
      ]
    },
    {
      "cell_type": "markdown",
      "metadata": {
        "id": "DXj0A0mq-vou"
      },
      "source": [
        "### Step 5: derived class"
      ]
    },
    {
      "cell_type": "code",
      "metadata": {
        "id": "L5DsgdQzB65n"
      },
      "source": [
        "class Person:\n",
        "    name = \"AAA\"\n",
        "    age = 20\n",
        "\n",
        "class Police(Person):\n",
        "    rank = \"Sergeant\"\n",
        "\n",
        "p3 = Police()\n",
        "print(p3.name, p3.age, p3.rank)"
      ],
      "execution_count": null,
      "outputs": []
    },
    {
      "cell_type": "code",
      "metadata": {
        "id": "D9GFO4-a_j7K",
        "colab": {
          "base_uri": "https://localhost:8080/"
        },
        "outputId": "12368fad-4224-41b2-8a8e-328d9e8465d8"
      },
      "source": [
        "class Person:\n",
        "  def __init__(self, name, age):\n",
        "    self.name = name\n",
        "    self.age = age\n",
        "\n",
        "class Police(Person):\n",
        "  def __init__(self, name, age, rank):\n",
        "    Person.__init__(self, name, age)\n",
        "    self.rank = rank\n",
        "\n",
        "p3 = Police(\"Skyman\", 51, \"lieutenant\")\n",
        "print(p3.name, p3.age, p3.rank)"
      ],
      "execution_count": null,
      "outputs": [
        {
          "output_type": "stream",
          "name": "stdout",
          "text": [
            "Skyman 51 lieutenant\n"
          ]
        }
      ]
    },
    {
      "cell_type": "markdown",
      "metadata": {
        "id": "GClLyEOqBf0t"
      },
      "source": [
        "### Step 6: super()"
      ]
    },
    {
      "cell_type": "code",
      "metadata": {
        "id": "VeavRKkH-58F"
      },
      "source": [
        "class Person:\n",
        "    name = \"AAA\"\n",
        "    salary = 2000\n",
        "    def print_salary(self):\n",
        "         return(salary)\n",
        "\n",
        "class Police(Person):\n",
        "    rank = \"Sergeant\"\n",
        "    salary = 3000\n",
        "    def print_annual_salary_a(self):\n",
        "         print(self.salary*12)    \n",
        "    def print_annual_salary_b(self):\n",
        "         print(super().salary*12)  \n",
        "\n",
        "p5 = Police()\n",
        "p5.print_annual_salary_a()\n",
        "p5.print_annual_salary_b()"
      ],
      "execution_count": null,
      "outputs": []
    },
    {
      "cell_type": "markdown",
      "metadata": {
        "id": "en4j0utIMe7s"
      },
      "source": [
        "## Topic 3-decorator\n",
        "\n",
        "Because the basic grammar of Python is simple and easy to use and concise, the grammar of Python becomes more and more complicated.\n",
        "Decorator is a function, it will return another function, usually it will use @wrapper syntax, is applied as a function transformation (function transformation). Common examples of decorators are classmethod() and staticmethod().\n",
        "\n",
        "The decorator syntax is just syntactic sugar. The following two function definitions are semantically equivalent:\n",
        "```\n",
        "def f(...):\n",
        "    ...\n",
        "f = staticmethod(f)\n",
        "\n",
        "@staticmethod\n",
        "def f(...):\n",
        "    ...\n",
        "```\n",
        "\n",
        "The Python Decorator mechanism is to allow you to modify and redefine functions and methods in a simple way\n",
        "What is \"decorated\":\n",
        "* Using Decorator can easily extend the originally completed function\n",
        "* Make the code concise when extending"
      ]
    },
    {
      "cell_type": "markdown",
      "metadata": {
        "id": "0sbTSFyuMjun"
      },
      "source": [
        "### Step 7:Decorator extends the originally completed function"
      ]
    },
    {
      "cell_type": "code",
      "metadata": {
        "id": "ge2_C2c_MkIi",
        "colab": {
          "base_uri": "https://localhost:8080/"
        },
        "outputId": "1ad44600-5def-44c2-8c08-9750d91c345c"
      },
      "source": [
        "def my_decorator(func):\n",
        "    print('In A')\n",
        "    return func\n",
        "\n",
        "@my_decorator\n",
        "def my_func():\n",
        "    print('In B')\n",
        "\n",
        "my_func()"
      ],
      "execution_count": null,
      "outputs": [
        {
          "output_type": "stream",
          "name": "stdout",
          "text": [
            "In A\n",
            "In B\n"
          ]
        }
      ]
    },
    {
      "cell_type": "markdown",
      "metadata": {
        "id": "237vhLUBZNYT"
      },
      "source": [
        "### Step 8:The decorator is extended to make the code concise\n",
        "\n",
        "```\n",
        "def requires_admin(fn):\n",
        "    def ret_fn(*args,**kwargs):\n",
        "        lPermissions = get_permissions(current_user_id())\n",
        "        if 'administrator' in lPermissions:\n",
        "            return fn(*args,**kwargs)\n",
        "        else:\n",
        "            raise Exception(\"Not allowed\")\n",
        "    return ret_fn\n",
        "\n",
        "def requires_logged_in(fn):\n",
        "    def ret_fn(*args,**kwargs):\n",
        "        lPermissions = get_permissions(current_user_id())\n",
        "        if 'logged_in' in lPermissions:\n",
        "            return fn(*args,**kwargs)\n",
        "        else:\n",
        "            raise Exception(\"Not allowed\")\n",
        "    return ret_fn\n",
        "    \n",
        "def requires_premium_member(fn):\n",
        "    def ret_fn(*args,**kwargs):\n",
        "        lPermissions = get_permissions(current_user_id())\n",
        "        if 'premium_member' in lPermissions:\n",
        "            return fn(*args,**kwargs)\n",
        "        else:\n",
        "            raise Exception(\"Not allowed\")\n",
        "    return ret_fn\n",
        "    \n",
        "@requires_admin\n",
        "def delete_user(iUserId):\n",
        "   \"\"\"\n",
        "   delete the user with the given Id. This function is only accessable to users with administrator permissions\n",
        "   \"\"\"\n",
        "\n",
        "@requires_logged_in \n",
        "def new_game():\n",
        "    \"\"\"\n",
        "    any logged in user can start a new game\n",
        "    \"\"\"\n",
        "    \n",
        "@requires_premium_member\n",
        "def premium_checkpoint():\n",
        "   \"\"\"\n",
        "   save the game progress, only accessable to premium members\n",
        "   \"\"\"\n",
        "```"
      ]
    },
    {
      "cell_type": "markdown",
      "metadata": {
        "id": "LGN5SpYKFgNB"
      },
      "source": [
        "## Topic 4-logging-Python Standard Library\n",
        "\n",
        "Python logging can output the log to the console and output to the log file. Python logging has five levels of log level, which are DEBUG, INFO, WARNING, ERROR, and CRITICAL. The default log level is WARNING. The log level level and the corresponding api are as follows:\n",
        "\n",
        "* DEBUG：logging.debug()\n",
        "* INFO：logging.info()\n",
        "* WARNING：logging.warning()\n",
        "* ERROR：logging.error()\n",
        "* CRITICAL：logging.critical()\n",
        "\n"
      ]
    },
    {
      "cell_type": "markdown",
      "metadata": {
        "id": "IWIPuvHHEPeg"
      },
      "source": [
        "### Step 9: 基本 logging(預設 log level 等級是 WARNING)"
      ]
    },
    {
      "cell_type": "code",
      "metadata": {
        "id": "7GaMCYMm-XaV"
      },
      "source": [
        "import logging\n",
        "\n",
        "logging.debug('debug')\n",
        "logging.info('info')\n",
        "logging.warning('warning')\n",
        "logging.error('error')\n",
        "logging.critical('critical')\n"
      ],
      "execution_count": null,
      "outputs": []
    },
    {
      "cell_type": "markdown",
      "metadata": {
        "id": "HKFTWzIOGM7r"
      },
      "source": [
        "### Step 10: 基本 logging(將 log level 修改成 DEBUG)"
      ]
    },
    {
      "cell_type": "code",
      "metadata": {
        "id": "Nn_i4VtqGk_G"
      },
      "source": [
        "import logging\n",
        "\n",
        "logging.basicConfig(level=logging.DEBUG)\n",
        "logging.debug('debug')\n",
        "logging.info('info')\n",
        "logging.warning('warning')\n",
        "logging.error('error')\n",
        "logging.critical('critical')"
      ],
      "execution_count": null,
      "outputs": []
    },
    {
      "cell_type": "markdown",
      "metadata": {
        "id": "uvtD6k4SGp4i"
      },
      "source": [
        "### Step 11: 進階 logging(設定 log 的 filename )"
      ]
    },
    {
      "cell_type": "code",
      "metadata": {
        "id": "KHm5fP44GqG1"
      },
      "source": [
        "import logging\n",
        "\n",
        "log_filename = datetime.datetime.now().strftime(\"%Y-%m-%d_%H_%M_%S.log\")\n",
        "logging.basicConfig(level=logging.INFO, filename=log_filename, filemode='w',\n",
        "\t#format='[%(levelname).1s %(asctime)s] %(message)s',\n",
        "\tformat='[%(levelname)1.1s %(asctime)s %(module)s:%(lineno)d] %(message)s',\n",
        "\tdatefmt='%Y%m%d %H:%M:%S',\n",
        "\t)\n",
        "\n",
        "if __name__ == \"__main__\":\n",
        "\tlogging.debug('debug')\n",
        "\tlogging.info('info')\n",
        "\tlogging.warning('warning')\n",
        "\tlogging.error('error')\n",
        "\tlogging.critical('critical')"
      ],
      "execution_count": null,
      "outputs": []
    },
    {
      "cell_type": "markdown",
      "metadata": {
        "id": "8I8ZYAU7HOLX"
      },
      "source": [
        "### Step 12: 進階 logging(同時輸出到 console 與日誌檔 )"
      ]
    },
    {
      "cell_type": "code",
      "metadata": {
        "id": "t3aj2-68HSC5"
      },
      "source": [
        "import logging\n",
        "import datetime\n",
        "\n",
        "logger = logging.getLogger()\n",
        "logger.setLevel(logging.DEBUG)\n",
        "formatter = logging.Formatter(\n",
        "\t'[%(levelname)1.1s %(asctime)s %(module)s:%(lineno)d] %(message)s',\n",
        "\tdatefmt='%Y%m%d %H:%M:%S')\n",
        "\n",
        "ch = logging.StreamHandler()\n",
        "ch.setLevel(logging.DEBUG)\n",
        "ch.setFormatter(formatter)\n",
        "\n",
        "log_filename = datetime.datetime.now().strftime(\"%Y-%m-%d_%H_%M_%S.log\")\n",
        "fh = logging.FileHandler(log_filename)\n",
        "fh.setLevel(logging.DEBUG)\n",
        "fh.setFormatter(formatter)\n",
        "\n",
        "logger.addHandler(ch)\n",
        "logger.addHandler(fh)\n",
        "\n",
        "if __name__ == \"__main__\":\n",
        "\tlogging.debug('debug')\n",
        "\tlogging.info('info')\n",
        "\tlogging.warning('warning')\n",
        "\tlogging.error('error')\n",
        "\tlogging.critical('critical')"
      ],
      "execution_count": null,
      "outputs": []
    },
    {
      "cell_type": "markdown",
      "metadata": {
        "id": "H0EL7MU-HgRO"
      },
      "source": [
        "## Topic 5(主題5)-作業系統(os)-Python Standard Library\n",
        "\n",
        "https://docs.python.org/3/library/os.html\n",
        "\n",
        "提供了一種使用與操作系統相關的功能的便捷式途徑。\n",
        "\n",
        "* os.system()    #括號中加入CMD指令，即可用Python執行(例如:os.system(ls))\n",
        "* os.walk()      #遍歷資料夾或路徑\n",
        "* os.path()      #主要用於獲取資料夾or檔案屬性或資訊\n",
        "* os.environ.get('PATH')    #取得環境變數內容\n",
        "* os.rename(原檔名,新檔名)  #更改文件檔名\n",
        "* os.remove(檔名)          #刪除檔案\n",
        "* os.getcwd()              #獲取當前目錄\n",
        "* os.mkdir(“資料夾名稱”)   #建立資料夾\n",
        "* os.path.isdir(檔名)     #檢查是不是目錄\n",
        "* os.path.expanduser('~')   #取得家目錄路徑\n"
      ]
    },
    {
      "cell_type": "markdown",
      "metadata": {
        "id": "gpvNge0nJgi8"
      },
      "source": [
        "### Step 13: 判斷目錄是否存在，如果不存在就建立新目錄"
      ]
    },
    {
      "cell_type": "code",
      "metadata": {
        "id": "emsNyKiCJnVo"
      },
      "source": [
        "import os\n",
        "import os.path\n",
        "\n",
        "if not os.path.isdir(\"demo\"):\n",
        "    os.mkdir(\"demo\")"
      ],
      "execution_count": null,
      "outputs": []
    },
    {
      "cell_type": "markdown",
      "metadata": {
        "id": "R949eMffJgp-"
      },
      "source": [
        "### Step 14: 目前工作的目錄"
      ]
    },
    {
      "cell_type": "code",
      "metadata": {
        "id": "O1UARk6DKW0x"
      },
      "source": [
        "import os\n",
        "     \n",
        "# Get the current working directory (CWD)\n",
        "cwd = os.getcwd()\n",
        "     \n",
        "# Print the current working directory (CWD)\n",
        "print(\"Current working directory:\", cwd)"
      ],
      "execution_count": null,
      "outputs": []
    },
    {
      "cell_type": "markdown",
      "metadata": {
        "id": "71GjZ8OdOSQ4"
      },
      "source": [
        "### Step 15: 檢查目錄內的檔案是不是一個檔案，或檔案夾(子目錄)"
      ]
    },
    {
      "cell_type": "code",
      "metadata": {
        "id": "NqYZf0k4OSrp"
      },
      "source": [
        "import os\n",
        "\n",
        "path = 'sample_data'\n",
        "print('Is \"{}\" a dictionary?'.format(path), os.path.isdir(path))\n",
        "\n",
        "for fileName in os.listdir(path):\n",
        "    print('Is \"{}\" a dictionary?'.format(fileName), os.path.isdir(path+'/'+fileName))"
      ],
      "execution_count": null,
      "outputs": []
    },
    {
      "cell_type": "markdown",
      "metadata": {
        "id": "xJODvxn7KtkK"
      },
      "source": [
        "## Topic 6(主題6)-檔名匹配(glob)-Python Standard Library\n",
        "\n",
        "glob使用UNIX shell規則查找與一個模式匹配的文件名。只要程序需要查找文件系統中名字與某個模式匹配的一組文件，就可以使用這個模塊。"
      ]
    },
    {
      "cell_type": "markdown",
      "metadata": {
        "id": "uXn60Gi8JmFM"
      },
      "source": [
        "### Step 16: 星號匹配"
      ]
    },
    {
      "cell_type": "code",
      "metadata": {
        "id": "66jS38OYJg5r"
      },
      "source": [
        "import glob\n",
        "for name in glob.glob('sample_data/*'):\n",
        "  print(name)"
      ],
      "execution_count": null,
      "outputs": []
    },
    {
      "cell_type": "markdown",
      "metadata": {
        "id": "j8McTJs4Hos1"
      },
      "source": [
        "### Step 17: 字元區間匹配"
      ]
    },
    {
      "cell_type": "code",
      "metadata": {
        "id": "HCoN3ioBLhLC"
      },
      "source": [
        "import glob\n",
        "for name in glob.glob('sample_data/[a-c]*'):\n",
        "  print(name)"
      ],
      "execution_count": null,
      "outputs": []
    },
    {
      "cell_type": "markdown",
      "metadata": {
        "id": "3IhlWtzaFyxi"
      },
      "source": [
        "## Topic 7(主題7)-sys — 系統相關的參數以及函式"
      ]
    },
    {
      "cell_type": "markdown",
      "metadata": {
        "id": "YwPNvI0fjKzL"
      },
      "source": [
        "### Step 18: sys.argv – command arguments"
      ]
    },
    {
      "cell_type": "code",
      "metadata": {
        "id": "ZZUQ05DvjXzR"
      },
      "source": [
        "import sys\n",
        "if __name__ == '__main__':\n",
        "    if len(sys.argv) < 2:\n",
        "        print('no argument')\n",
        "        sys.exit()\n",
        "    print(len(sys.argv))\n",
        "    for arg in sys.argv:\n",
        "      print(arg)"
      ],
      "execution_count": null,
      "outputs": []
    },
    {
      "cell_type": "markdown",
      "metadata": {
        "id": "EMN9pNjxj6Kh"
      },
      "source": [
        "### Step 19: sys info functions\n",
        "* sys.platform 執行的平台\n",
        "* sys.version_info 當前 Python 的版本\n",
        "* sys.path Python 的執行路徑\n",
        "\n"
      ]
    },
    {
      "cell_type": "code",
      "metadata": {
        "id": "T_e0ERv9kiVF"
      },
      "source": [
        "print(sys.platform)"
      ],
      "execution_count": null,
      "outputs": []
    },
    {
      "cell_type": "code",
      "metadata": {
        "id": "GVao280skrUN"
      },
      "source": [
        "print(sys.version_info)"
      ],
      "execution_count": null,
      "outputs": []
    },
    {
      "cell_type": "code",
      "metadata": {
        "id": "1NLKNdGkktd1"
      },
      "source": [
        "print(sys.path)"
      ],
      "execution_count": null,
      "outputs": []
    }
  ]
}