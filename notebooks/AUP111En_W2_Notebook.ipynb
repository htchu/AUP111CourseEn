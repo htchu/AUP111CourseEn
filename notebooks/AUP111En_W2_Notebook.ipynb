{
  "nbformat": 4,
  "nbformat_minor": 0,
  "metadata": {
    "colab": {
      "provenance": [],
      "collapsed_sections": [
        "2zYw7pu4xWDs",
        "b_OsCdmjz7_e",
        "d3ZoFghS1Eir",
        "PPziADEY1uLb",
        "EVyrr8pc1ZcY"
      ]
    },
    "kernelspec": {
      "display_name": "Python 3",
      "language": "python",
      "name": "python3"
    },
    "language_info": {
      "codemirror_mode": {
        "name": "ipython",
        "version": 3
      },
      "file_extension": ".py",
      "mimetype": "text/x-python",
      "name": "python",
      "nbconvert_exporter": "python",
      "pygments_lexer": "ipython3",
      "version": "3.7.6"
    }
  },
  "cells": [
    {
      "cell_type": "markdown",
      "metadata": {
        "id": "EUjJ7ImLnPVr"
      },
      "source": [
        "![image](https://www.python.org/static/img/python-logo.png)\n",
        "# AUP111-Fundamentals of Programming\n",
        "[![Open In Colab](https://colab.research.google.com/assets/colab-badge.svg)](https://colab.research.google.com/github/googlecolab/colabtools/blob/master/notebooks/colab-github-demo.ipynb)\n"
      ]
    },
    {
      "cell_type": "markdown",
      "metadata": {
        "id": "Zk0MAMNlo_gx"
      },
      "source": [
        "#Week2: Variables and expressions in Python\n",
        "\n",
        "![image](https://i.ibb.co/vQ5ngXy/IPO-1.png)\n",
        "\n"
      ]
    },
    {
      "cell_type": "markdown",
      "metadata": {
        "id": "wKji2crve0Sp"
      },
      "source": [
        "## Topic 1-Enter an integer or floating point number\n",
        "\n",
        "Python uses the input() function to read the input data.\n",
        "\n",
        "A single call to the input() function will input a string.\n",
        " \n",
        "If we want to enter an integer or floating point number. You can use int() or float() functions"
      ]
    },
    {
      "cell_type": "markdown",
      "metadata": {
        "id": "_daTGvP1goPw"
      },
      "source": [
        "### Step 1: Enter an integer"
      ]
    },
    {
      "cell_type": "code",
      "metadata": {
        "colab": {
          "base_uri": "https://localhost:8080/"
        },
        "id": "eshmwXGmByFU",
        "outputId": "6a792122-d134-4a67-992a-d2a40906f3e6"
      },
      "source": [
        "#input \n",
        "instr = input()"
      ],
      "execution_count": null,
      "outputs": [
        {
          "name": "stdout",
          "output_type": "stream",
          "text": [
            "iiihgjhgjfhgsjdgasjdgfa\n"
          ]
        }
      ]
    },
    {
      "cell_type": "code",
      "metadata": {
        "colab": {
          "base_uri": "https://localhost:8080/"
        },
        "id": "Ky8DpH-HCWiO",
        "outputId": "611d9507-9f03-4708-93db-508a2b4e8a18"
      },
      "source": [
        "#output\n",
        "print(instr)"
      ],
      "execution_count": null,
      "outputs": [
        {
          "output_type": "stream",
          "name": "stdout",
          "text": [
            "iiihgjhgjfhgsjdgasjdgfa\n"
          ]
        }
      ]
    },
    {
      "cell_type": "code",
      "metadata": {
        "id": "X-HFB-nRrGDe",
        "colab": {
          "base_uri": "https://localhost:8080/"
        },
        "outputId": "7ff3b704-8cdb-4a87-c75c-0dfc2074174e"
      },
      "source": [
        "instr = input('Please input your score:')\n",
        "score = int(instr) #variable integer\n",
        "print(score) #Print the value of the variable\n",
        "print(type(score)) #print variable type"
      ],
      "execution_count": null,
      "outputs": [
        {
          "output_type": "stream",
          "name": "stdout",
          "text": [
            "Please input your score:88\n",
            "88\n",
            "<class 'int'>\n"
          ]
        }
      ]
    },
    {
      "cell_type": "markdown",
      "metadata": {
        "id": "aujPAVDGguns"
      },
      "source": [
        "### Step 2: Enter a floating point number"
      ]
    },
    {
      "cell_type": "code",
      "metadata": {
        "id": "AsKKoIvhgbEi",
        "colab": {
          "base_uri": "https://localhost:8080/"
        },
        "outputId": "fed13af1-7fe8-439d-8525-3a10137c22db"
      },
      "source": [
        "instr = input('Please input your score:')\n",
        "score = float(instr) #variable floating point number\n",
        "print(score) #Print the value of the variable\n",
        "print(type(score)) #print variable type"
      ],
      "execution_count": null,
      "outputs": [
        {
          "output_type": "stream",
          "name": "stdout",
          "text": [
            "Please input your score:88\n",
            "88.0\n",
            "<class 'float'>\n"
          ]
        }
      ]
    },
    {
      "cell_type": "markdown",
      "metadata": {
        "id": "g-ZT0jKHrSts"
      },
      "source": [
        "* Python type conversion function\n",
        "  -int() #variable integer\n",
        "  -float() #variable floating point number\n",
        "  -str() #variable string\n",
        "  -Variable name=int (string variable)\n",
        "  -Variable name = str (numeric variable)"
      ]
    },
    {
      "cell_type": "markdown",
      "metadata": {
        "id": "nQJ1uTEYvPwL"
      },
      "source": [
        "## Topic 2-Arithmetic operators and expressions\n",
        "Arithmetic Operators\n",
        "```\n",
        "+-* / #Addition, subtraction, multiplication and division\n",
        "** #次方\n",
        "// #quotient\n",
        "%  #remainder\n",
        "```"
      ]
    },
    {
      "cell_type": "markdown",
      "metadata": {
        "id": "2INtSe_Gv-wl"
      },
      "source": [
        "### Step 1: Add, subtract, multiply and divide"
      ]
    },
    {
      "cell_type": "code",
      "metadata": {
        "id": "4z4GBkIpwjKW",
        "colab": {
          "base_uri": "https://localhost:8080/"
        },
        "outputId": "a332e10b-39ad-4a32-a8b1-8e61db3770a0"
      },
      "source": [
        "print(1 + 2)\n",
        "print(3 - 4)\n",
        "print(5 * 6)\n",
        "print(12 / 5)"
      ],
      "execution_count": null,
      "outputs": [
        {
          "output_type": "stream",
          "name": "stdout",
          "text": [
            "3\n",
            "-1\n",
            "30\n",
            "2.4\n"
          ]
        }
      ]
    },
    {
      "cell_type": "code",
      "metadata": {
        "id": "u2ty_vzewBvL",
        "colab": {
          "base_uri": "https://localhost:8080/"
        },
        "outputId": "f9842bdf-850c-43dc-8693-c082b05a729a"
      },
      "source": [
        "print(1.3 + 2)\n",
        "print(3 - 4.2)\n",
        "print(5 * 6.5)\n",
        "print(10.0 / 5)"
      ],
      "execution_count": null,
      "outputs": [
        {
          "output_type": "stream",
          "name": "stdout",
          "text": [
            "3.3\n",
            "-1.2000000000000002\n",
            "32.5\n",
            "2.0\n"
          ]
        }
      ]
    },
    {
      "cell_type": "markdown",
      "metadata": {
        "id": "nBU6Jd88wve6"
      },
      "source": [
        "### Step 2: Quotient and remainder"
      ]
    },
    {
      "cell_type": "code",
      "metadata": {
        "id": "EyiI9xOBw1g_",
        "colab": {
          "base_uri": "https://localhost:8080/"
        },
        "outputId": "f98af9b7-2175-44b2-9f6c-c533bab9735f"
      },
      "source": [
        "print(23 / 5)\n",
        "print(23 // 5)\n",
        "print(23 % 5)"
      ],
      "execution_count": null,
      "outputs": [
        {
          "output_type": "stream",
          "name": "stdout",
          "text": [
            "4.6\n",
            "4\n",
            "3\n"
          ]
        }
      ]
    },
    {
      "cell_type": "markdown",
      "metadata": {
        "id": "L0nDEDvaxEhq"
      },
      "source": [
        "### Step 3: Power"
      ]
    },
    {
      "cell_type": "code",
      "metadata": {
        "id": "UC7H_GzqxKs-",
        "colab": {
          "base_uri": "https://localhost:8080/"
        },
        "outputId": "4787645b-5264-4768-9353-9b18a7a6c19f"
      },
      "source": [
        "print(23 * 2)\n",
        "print(23 ** 2)"
      ],
      "execution_count": null,
      "outputs": [
        {
          "output_type": "stream",
          "name": "stdout",
          "text": [
            "46\n",
            "529\n"
          ]
        }
      ]
    },
    {
      "cell_type": "markdown",
      "metadata": {
        "id": "2zYw7pu4xWDs"
      },
      "source": [
        "##Topic 3: Operator precedence\n"
      ]
    },
    {
      "cell_type": "markdown",
      "metadata": {
        "id": "XbZwuO4ehshr"
      },
      "source": [
        "### Step 1: Multiply and divide first and then add and subtract, parentheses take precedence"
      ]
    },
    {
      "cell_type": "code",
      "metadata": {
        "id": "Jlu-46AjyszT"
      },
      "source": [
        "print(3 * 4 + 5)  #Multiply and divide first and then add and subtract\n",
        "print(3 * (4 + 5)) #Parentheses ()have priority"
      ],
      "execution_count": null,
      "outputs": []
    },
    {
      "cell_type": "markdown",
      "metadata": {
        "id": "lxdB70vqh1P6"
      },
      "source": [
        "### Step 2: 次方比加減乘除優先"
      ]
    },
    {
      "cell_type": "code",
      "metadata": {
        "id": "jngCziaKzFke"
      },
      "source": [
        "print(1 * 2 ** 3)  #Power has priority over multiplication and division\n",
        "print(1 **2 + 3)   #Power has priority over addition and subtraction "
      ],
      "execution_count": null,
      "outputs": []
    },
    {
      "cell_type": "markdown",
      "metadata": {
        "id": "dRdtCudyzjfI"
      },
      "source": [
        "## Topic 4-Application of math library "
      ]
    },
    {
      "cell_type": "markdown",
      "metadata": {
        "id": "b_OsCdmjz7_e"
      },
      "source": [
        "### Step 1: Calculate pi and sin($\\pi/3$) function"
      ]
    },
    {
      "cell_type": "code",
      "metadata": {
        "id": "b1tRdaFu3jX0"
      },
      "source": [
        "pi = 3.14159\n",
        "sin(pi/3)"
      ],
      "execution_count": null,
      "outputs": []
    },
    {
      "cell_type": "markdown",
      "metadata": {
        "id": "d3ZoFghS1Eir"
      },
      "source": [
        "### Step 2: Use the pi and sin functions of the math standard library"
      ]
    },
    {
      "cell_type": "code",
      "metadata": {
        "id": "Y0ZTqGnr1BTo",
        "colab": {
          "base_uri": "https://localhost:8080/"
        },
        "outputId": "fd26fd5f-962c-42bd-8dfc-c9bffea0e937"
      },
      "source": [
        "import math\n",
        "print(math.pi)\n",
        "print(math.sin(math.pi/3))"
      ],
      "execution_count": null,
      "outputs": [
        {
          "output_type": "stream",
          "name": "stdout",
          "text": [
            "3.141592653589793\n",
            "0.8660254037844386\n"
          ]
        }
      ]
    },
    {
      "cell_type": "markdown",
      "metadata": {
        "id": "PPziADEY1uLb"
      },
      "source": [
        "### Step 3: 使用as"
      ]
    },
    {
      "cell_type": "code",
      "metadata": {
        "id": "h_Th9s8812ke",
        "colab": {
          "base_uri": "https://localhost:8080/"
        },
        "outputId": "5f811861-49f9-44c7-b4e3-e4d7c6090c89"
      },
      "source": [
        "import math as m\n",
        "print(m.pi)\n",
        "print(m.sin(m.pi/3))"
      ],
      "execution_count": null,
      "outputs": [
        {
          "output_type": "stream",
          "name": "stdout",
          "text": [
            "3.141592653589793\n",
            "0.8660254037844386\n"
          ]
        }
      ]
    },
    {
      "cell_type": "markdown",
      "metadata": {
        "id": "EVyrr8pc1ZcY"
      },
      "source": [
        "### Step 4: Use standard library math angle  and radian  conversion"
      ]
    },
    {
      "cell_type": "code",
      "metadata": {
        "id": "y4m_JV3U1kLf",
        "colab": {
          "base_uri": "https://localhost:8080/"
        },
        "outputId": "aa357ea2-eeca-4fb3-8b6c-40f3aeb29be6"
      },
      "source": [
        "import math as m\n",
        "print(m.degrees((math.pi/3)))\n",
        "print(m.radians(60))"
      ],
      "execution_count": null,
      "outputs": [
        {
          "output_type": "stream",
          "name": "stdout",
          "text": [
            "59.99999999999999\n",
            "1.0471975511965976\n"
          ]
        }
      ]
    },
    {
      "cell_type": "markdown",
      "metadata": {
        "id": "DRvOkISriEma"
      },
      "source": [
        "## Topic 5: Arguments of the print() function"
      ]
    },
    {
      "cell_type": "markdown",
      "metadata": {
        "id": "6Xwc2kHIiR6T"
      },
      "source": [
        "### Step 1: Hello World with arguments\n",
        "* sep = \"...\" 列印分隔 end=\"\" 列印結尾\n",
        " - sep:   string inserted between values, default a space.\n",
        " - end:   string appended after the last value, default a newline."
      ]
    },
    {
      "cell_type": "code",
      "metadata": {
        "id": "H1OLx_ro4E37",
        "colab": {
          "base_uri": "https://localhost:8080/"
        },
        "outputId": "d8267ef9-28fb-46c4-cf17-e772c3f0534b"
      },
      "source": [
        "print('Hello World!') #'Hello World!' is the same as \"Hello World!\"\n",
        "print('Hello World!') #'Hello World!' is the same as \"Hello World!\""
      ],
      "execution_count": null,
      "outputs": [
        {
          "output_type": "stream",
          "name": "stdout",
          "text": [
            "Hello World!\n",
            "Hello World!\n"
          ]
        }
      ]
    },
    {
      "cell_type": "code",
      "metadata": {
        "id": "EarRSzq4iprp",
        "colab": {
          "base_uri": "https://localhost:8080/"
        },
        "outputId": "7b7f93a6-35db-4ebf-f14f-cb45c93e6248"
      },
      "source": [
        "help(print) #Comments will not be executed"
      ],
      "execution_count": null,
      "outputs": [
        {
          "output_type": "stream",
          "name": "stdout",
          "text": [
            "Help on built-in function print in module builtins:\n",
            "\n",
            "print(...)\n",
            "    print(value, ..., sep=' ', end='\\n', file=sys.stdout, flush=False)\n",
            "    \n",
            "    Prints the values to a stream, or to sys.stdout by default.\n",
            "    Optional keyword arguments:\n",
            "    file:  a file-like object (stream); defaults to the current sys.stdout.\n",
            "    sep:   string inserted between values, default a space.\n",
            "    end:   string appended after the last value, default a newline.\n",
            "    flush: whether to forcibly flush the stream.\n",
            "\n"
          ]
        }
      ]
    },
    {
      "cell_type": "code",
      "metadata": {
        "id": "R4KAvFpyiqz8",
        "colab": {
          "base_uri": "https://localhost:8080/"
        },
        "outputId": "c17f116f-8c60-4fc1-b5b9-cf4010e4b1f9"
      },
      "source": [
        "print('Hello '+'World!')\n",
        "print(\"Hello\",\"World\", sep=\"+\")"
      ],
      "execution_count": null,
      "outputs": [
        {
          "output_type": "stream",
          "name": "stdout",
          "text": [
            "Hello World!\n",
            "Hello+World\n"
          ]
        }
      ]
    },
    {
      "cell_type": "code",
      "metadata": {
        "id": "ga3Zasj1iuTj",
        "colab": {
          "base_uri": "https://localhost:8080/"
        },
        "outputId": "3405b213-286e-499d-c2df-e063e55c79e9"
      },
      "source": [
        "print(\"Hello\");  print(\"World!\")\n",
        "print(\"Hello\", end=' ');print(\"World\")\n"
      ],
      "execution_count": null,
      "outputs": [
        {
          "output_type": "stream",
          "name": "stdout",
          "text": [
            "Hello\n",
            "World!\n",
            "Hello World\n"
          ]
        }
      ]
    },
    {
      "cell_type": "code",
      "metadata": {
        "id": "_-HUgFTSiyvm",
        "colab": {
          "base_uri": "https://localhost:8080/"
        },
        "outputId": "2e136b6f-4ef6-42f4-eb57-fcd284ad10cb"
      },
      "source": [
        "print(\"Hello\\nWorld!\")\n",
        "print(\"Hello\",\"World!\", sep=\"\\n\")"
      ],
      "execution_count": null,
      "outputs": [
        {
          "output_type": "stream",
          "name": "stdout",
          "text": [
            "Hello\n",
            "World!\n",
            "Hello\n",
            "World!\n"
          ]
        }
      ]
    },
    {
      "cell_type": "markdown",
      "metadata": {
        "id": "w5QUnW1VizbU"
      },
      "source": [
        "### Step 2:Escape Sequence \n",
        " - \\newline\tIgnored\n",
        " - \\\\\tBackslash (\\)\n",
        " - \\'\tSingle quote (')\n",
        " - \\\"\tDouble quote (\")\n",
        " - \\a\tASCII Bell (BEL)\n",
        " - \\b\tASCII Backspace (BS)\n",
        " - \\n\tASCII Linefeed (LF)\n",
        " - \\r\tASCII Carriage Return (CR)\n",
        " - \\t\tASCII Horizontal Tab (TAB)\n",
        " - \\ooo\tASCII character with octal value ooo\n",
        " - \\xhh...\tASCII character with hex value hh..."
      ]
    },
    {
      "cell_type": "code",
      "metadata": {
        "id": "WcWZLtzkxPCT"
      },
      "source": [],
      "execution_count": null,
      "outputs": []
    },
    {
      "cell_type": "code",
      "metadata": {
        "id": "tclbfd_ljRcm"
      },
      "source": [
        "txt = \"We are the so-called \\\"Vikings\\\" from the north.\"\n",
        "print(txt)"
      ],
      "execution_count": null,
      "outputs": []
    },
    {
      "cell_type": "markdown",
      "metadata": {
        "id": "W9a-4RYPjEKb"
      },
      "source": [
        "## Topic 6: Multi-line string"
      ]
    },
    {
      "cell_type": "markdown",
      "metadata": {
        "id": "bUaSLb9ojLn8"
      },
      "source": [
        "### Step 1: Use the \\ at the end of the string to create a long string"
      ]
    },
    {
      "cell_type": "code",
      "metadata": {
        "id": "LJDTzwhCjpDV"
      },
      "source": [
        "iPhone11='iPhone 11是由蘋果公司設計和銷售的智能手機，為第13代iPhone系列智能手機之一，亦是iPhone XR的後繼機種。\\\n",
        "其在2019年9月10日於蘋果園區史蒂夫·喬布斯劇院由CEO蒂姆·庫克隨iPhone 11 Pro及iPhone 11 Pro Max一起發佈，\\\n",
        "並於2019年9月20日在世界大部分地區正式發售。其採用類似iPhone XR的玻璃配鋁金屬設計；\\\n",
        "具有6.1英吋Liquid Retina HD顯示器，配有Face ID；並採用由蘋果自家設計的A13仿生晶片，\\\n",
        "帶有第三代神經網絡引擎。機器能夠防濺、耐水及防塵，在最深2米的水下停留時間最長可達30分鐘。'\n",
        "print(iPhone11)"
      ],
      "execution_count": null,
      "outputs": []
    },
    {
      "cell_type": "markdown",
      "metadata": {
        "id": "kCQ9st4_jraY"
      },
      "source": [
        "### Step 2: Use six double quotes to create a long string''' ...''' or \"\"\" ... \"\"\""
      ]
    },
    {
      "cell_type": "code",
      "metadata": {
        "id": "NnQgDGqjjv1G"
      },
      "source": [
        "iPhone11='''\n",
        "iPhone 11是由蘋果公司設計和銷售的智能手機，為第13代iPhone系列智能手機之一，亦是iPhone XR的後繼機種。\n",
        "其在2019年9月10日於蘋果園區史蒂夫·喬布斯劇院由CEO蒂姆·庫克隨iPhone 11 Pro及iPhone 11 Pro Max一起發佈，\n",
        "並於2019年9月20日在世界大部分地區正式發售。其採用類似iPhone XR的玻璃配鋁金屬設計；\n",
        "具有6.1英吋Liquid Retina HD顯示器，配有Face ID；並採用由蘋果自家設計的A13仿生晶片，\n",
        "帶有第三代神經網絡引擎。機器能夠防濺、耐水及防塵，在最深2米的水下停留時間最長可達30分鐘。'''\n",
        "print(iPhone11)"
      ],
      "execution_count": null,
      "outputs": []
    },
    {
      "cell_type": "code",
      "metadata": {
        "id": "d9tRjLt6jy8O"
      },
      "source": [
        "iPhone11=\"\"\"\n",
        "iPhone 11是由蘋果公司設計和銷售的智能手機，為第13代iPhone系列智能手機之一，亦是iPhone XR的後繼機種。\n",
        "其在2019年9月10日於蘋果園區史蒂夫·喬布斯劇院由CEO蒂姆·庫克隨iPhone 11 Pro及iPhone 11 Pro Max一起發佈，\n",
        "並於2019年9月20日在世界大部分地區正式發售。其採用類似iPhone XR的玻璃配鋁金屬設計；\n",
        "具有6.1英吋Liquid Retina HD顯示器，配有Face ID；並採用由蘋果自家設計的A13仿生晶片，\n",
        "帶有第三代神經網絡引擎。機器能夠防濺、耐水及防塵，在最深2米的水下停留時間最長可達30分鐘。\"\"\"\n",
        "print(iPhone11)"
      ],
      "execution_count": null,
      "outputs": []
    },
    {
      "cell_type": "markdown",
      "metadata": {
        "id": "SfEskWPFQFdk"
      },
      "source": [
        "## Toic 7: source code  encoding\n",
        "The default character encoding of Python source code files uses UTF-8. In this encoding, the text of most languages in the world can be used in string content, identifier and comments at the same time --- although only ASCII characters are used as the identifier in the standard library, this is also a Conventions that any portable code must follow. If you want to display all characters correctly, your editor needs to be able to recognize the file as UTF-8, and it needs to be able to display the fonts of all characters in the file.\n",
        "\n",
        "If the default encoding is not used, the encoding of the file must be declared, and the first line of the file must be written as a special comment. The syntax is as follows:\n",
        "```\n",
        "# -*- coding: encoding -*-\n",
        "```\n",
        "其中， encoding 可以是 Python 支援的任意一種 codecs。\n",
        "\n",
        "比如，聲明使用 Windows-1252 編碼，源碼檔案要寫成：\n",
        "```\n",
        "# -*- coding: cp1252 -*-\n",
        "```\n",
        "第一行的規則也有一種例外情況，在源碼以 UNIX \"shebang\" line 行開頭時。此時，編碼聲明要寫在檔案的第二行。例如：\n",
        "```\n",
        "#!/usr/bin/env python3\n",
        "# -*- coding: cp1252 -*-\n",
        "```"
      ]
    },
    {
      "cell_type": "markdown",
      "metadata": {
        "id": "W5xQE1BOj4Up"
      },
      "source": [
        "## Topic 8: MarkDown\n",
        "\n",
        "https://colab.research.google.com/notebooks/markdown_guide.ipynb"
      ]
    }
  ]
}