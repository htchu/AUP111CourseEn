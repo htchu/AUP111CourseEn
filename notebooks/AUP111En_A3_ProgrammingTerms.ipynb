{
  "cells": [
    {
      "cell_type": "markdown",
      "metadata": {
        "id": "WGFpo20FmB1I"
      },
      "source": [
        "# Programming with Python (PwP) terms\n",
        "\n"
      ]
    },
    {
      "cell_type": "markdown",
      "metadata": {
        "id": "7xfXvn3Cp9Gy"
      },
      "source": [
        "### Python keywords\n",
        "\n",
        "https://docs.python.org/zh-tw/3/library/constants.html\n",
        "\n",
        "Python has a set of keywords that are reserved words that cannot be used as variable/function names。\n",
        "\n",
        "| Keyword:   |      Description      | \n",
        "|:----------------|:------------|\n",
        "|and|A logical operator |\n",
        "|as|To create an alias |\n",
        "|assert|For debugging|\n",
        "|break|To break out of a loop|\n",
        "|class|To define a class|\n",
        "|continue|To continue to the next iteration of a loop|\n",
        "|def|To define a function|\n",
        "|del|To delete an object|\n",
        "|elif|Used in conditional statements, same as else if|\n",
        "|else|Used in conditional statements|\n",
        "|except|Used with exceptions, what to do when an exception occurs|\n",
        "|False|Boolean value, result of comparison operations|\n",
        "|finally|Used with exceptions, a block of code that will be executed finnaly|\n",
        "|for|To create a for loop|\t\n",
        "|from|To import specific parts of a module|\n",
        "|global|To declare a global variable|\n",
        "|if|To make a conditional statement|\t\n",
        "|import|To import a module|\n",
        "|in|To check if a value is present in a list, tuple, etc.|\n",
        "|is|To test if two variables are equal|\t\n",
        "|lambda|To create an anonymous function|\n",
        "|None|Represents a null value|\n",
        "|nonlocal|To declare a non-local variable|\t\n",
        "|not|A logical operator|\n",
        "|or|A logical operator|\n",
        "|pass|A null statement, a statement that will do nothing|\n",
        "|raise|To raise an exception|\n",
        "|return|To exit a function and return a value|\n",
        "|True|Boolean value, result of comparison operations|\n",
        "|try|To make a try...except statement|\n",
        "|while|To create a while loop|\n",
        "|with|Used to simplify exception handling|\n",
        "|yield\t|To end a function, returns a generator|"
      ]
    },
    {
      "cell_type": "markdown",
      "metadata": {
        "id": "bWGQgFj-zhaZ"
      },
      "source": [
        "### Python functions\n",
        "https://docs.python.org/zh-tw/3/library/functions.html\n",
        "\n",
        "|  |       | ||      | \n",
        "|:----------------|:------------|:------------|:------------|:------------|\n",
        "|abs()|delattr()|hash()|memoryview()|set()|\n",
        "|all()|dict()|help()|min()|setattr()|\n",
        "|any()|dir()hex()|next()|slice()|\n",
        "|ascii()|divmod()|id()|object()|sorted()|\n",
        "|bin()|enumerate()|input()|oct()|staticmethod()|\n",
        "|bool()|eval()|int()|open()|str()|\n",
        "|breakpoint()|exec()|isinstance()|ord()|sum()|\n",
        "|bytearray()|filter()|issubclass()|pow()|super()|\n",
        "|bytes()|float()|iter()|print()|tuple()|\n",
        "|callable()|format()|len()|property()|type()|\n",
        "|chr()|frozenset()|list()|range()|vars()|\n",
        "|classmethod()|getattr()|locals()|repr()|zip()|\n",
        "|compile()|globals()|map()|reversed()|__import__()|\n",
        "|complex()|hasattr()|max()|round()||\n"
      ]
    },
    {
      "cell_type": "code",
      "execution_count": null,
      "metadata": {
        "colab": {
          "base_uri": "https://localhost:8080/"
        },
        "id": "PW5zpGjW2ceU",
        "outputId": "0cf22a77-9983-466b-d2be-97b4af2ade75"
      },
      "outputs": [
        {
          "name": "stdout",
          "output_type": "stream",
          "text": [
            "Help on method raw_input in module ipykernel.kernelbase:\n",
            "\n",
            "raw_input(prompt='') method of google.colab._kernel.Kernel instance\n",
            "    Forward raw_input to frontends\n",
            "    \n",
            "    Raises\n",
            "    ------\n",
            "    StdinNotImplentedError if active frontend doesn't support stdin.\n",
            "\n"
          ]
        }
      ],
      "source": [
        "help(input)"
      ]
    },
    {
      "cell_type": "code",
      "execution_count": null,
      "metadata": {
        "colab": {
          "base_uri": "https://localhost:8080/"
        },
        "id": "bBd5MREl2heB",
        "outputId": "cb43d5b3-ef06-417f-f288-359952672535"
      },
      "outputs": [
        {
          "name": "stdout",
          "output_type": "stream",
          "text": [
            "Help on built-in function print in module builtins:\n",
            "\n",
            "print(...)\n",
            "    print(value, ..., sep=' ', end='\\n', file=sys.stdout, flush=False)\n",
            "    \n",
            "    Prints the values to a stream, or to sys.stdout by default.\n",
            "    Optional keyword arguments:\n",
            "    file:  a file-like object (stream); defaults to the current sys.stdout.\n",
            "    sep:   string inserted between values, default a space.\n",
            "    end:   string appended after the last value, default a newline.\n",
            "    flush: whether to forcibly flush the stream.\n",
            "\n"
          ]
        }
      ],
      "source": [
        "help(print)"
      ]
    },
    {
      "cell_type": "code",
      "execution_count": null,
      "metadata": {
        "id": "_bctExZF2izz"
      },
      "outputs": [],
      "source": [
        "help(int)"
      ]
    },
    {
      "cell_type": "code",
      "execution_count": null,
      "metadata": {
        "id": "Aoy9szRI2lMk"
      },
      "outputs": [],
      "source": [
        "help(str)"
      ]
    },
    {
      "cell_type": "code",
      "execution_count": null,
      "metadata": {
        "id": "wHLxlPWb2zUa"
      },
      "outputs": [],
      "source": [
        "help(list)"
      ]
    },
    {
      "cell_type": "code",
      "execution_count": null,
      "metadata": {
        "id": "gelajjRh20ta"
      },
      "outputs": [],
      "source": [
        "help(dict)"
      ]
    },
    {
      "cell_type": "code",
      "execution_count": null,
      "metadata": {
        "id": "U5gVg8D12wwN"
      },
      "outputs": [],
      "source": [
        "help(max)"
      ]
    },
    {
      "cell_type": "code",
      "execution_count": null,
      "metadata": {
        "id": "75idxOF224Tn"
      },
      "outputs": [],
      "source": [
        "help(sorted)"
      ]
    }
  ],
  "metadata": {
    "colab": {
      "collapsed_sections": [],
      "name": "AUP110_A3_ProgrammingTerms.ipynb",
      "provenance": []
    },
    "kernelspec": {
      "display_name": "Python 3",
      "name": "python3"
    },
    "language_info": {
      "name": "python"
    }
  },
  "nbformat": 4,
  "nbformat_minor": 0
}
