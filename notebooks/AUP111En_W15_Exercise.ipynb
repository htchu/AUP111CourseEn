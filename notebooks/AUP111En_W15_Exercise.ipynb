{
  "cells": [
    {
      "cell_type": "markdown",
      "metadata": {
        "id": "NmNGnQFiHXY5"
      },
      "source": [
        "# AU Fundamentals of Python Programming-111-Exercise Week 15"
      ]
    },
    {
      "cell_type": "markdown",
      "metadata": {
        "id": "xWNhaLC_cbSr"
      },
      "source": [
        "### M3Q17 Recursive program practice\n",
        "\n",
        "Problem Description:\n",
        "Given the following recursive function:\n",
        "\\begin{cases}\n",
        "f(n)=n+1 \\:when\\: n=1\\\\\n",
        "f(n)=f(n-1) + f(\\lfloor n/2\\rfloor) \\:when\\: n>1\n",
        "\\end{cases}\n",
        "\n",
        "\n",
        "Please calculate $𝑓(n)$.\n",
        "\n",
        "Input description:\n",
        "The input value is an integer greater than 1 𝑛.\n",
        "\n",
        "Output description:\n",
        "Output the calculation result of $𝑓(n)$, and there must be a newline character at the end.\n",
        "\n",
        "example:\n",
        "\n",
        "| Sample Input:   |      Sample Output:      |\n",
        "|:----------------|:-------------------------|\n",
        "|10 |60⏎|\n",
        "|12 |94⏎|"
      ]
    },
    {
      "cell_type": "markdown",
      "metadata": {
        "id": "75TGR3wZEI0C"
      },
      "source": [
        "<font size=\"10\">&#x0210B;</font>int:\n",
        "\n",
        "__Input:__ The input is an integer\n",
        "\n",
        "__Process:__ The recursive function is that the function itself is called in the definition of the function\n",
        "\n",
        "__Output:__"
      ]
    },
    {
      "cell_type": "code",
      "execution_count": null,
      "metadata": {
        "id": "zLc1u1zsJGWl"
      },
      "outputs": [],
      "source": [
        "#from here\n"
      ]
    },
    {
      "cell_type": "markdown",
      "metadata": {
        "id": "PNofXDG_ccLZ"
      },
      "source": [
        "### M3Q18 Playing card size\n",
        "\n",
        "Problem Description:\n",
        "There are many kinds of poker games, such as big dick, red dot picking and so on. However, now what you want to participate in is more than big and small\n",
        "In the game, each card has its own suit and number, and the size comparison is mainly based on suits, spades> hearts> diamonds> plums\n",
        "Flowers; if the colors are the same, compare the numbers.\n",
        "\n",
        "Input description:\n",
        "The integer in the first column represents the number of stacks of playing cards, followed by several columns, each column is the content of a stack of cards, each card\n",
        "They are expressed in English and numbers respectively, where S stands for spades, H stands for hearts, D stands for squares, and C stands for\n",
        "plum Bossom. Each piece of data is separated by a blank.\n",
        "\n",
        "Output description:\n",
        "Print out the arranged playing cards. A row is a stack of cards, each card is separated by a blank, and there must be a line feed character at the end.\n",
        "\n",
        "example:\n",
        "\n",
        "| Sample Input:   |      Sample Output:      |\n",
        "|:----------------|:-------------------------|\n",
        "|4|S2 H5 D4 C13|\n",
        "|H5 D4 S2 C13|S3 H7 D10 D8 C12|\n",
        "|D8 S3 D10 C12 H7 |S3 H6|\n",
        "|H6 S3 |S1 D11 C5|\n",
        "|C5 D11 S1 |⏎ |"
      ]
    },
    {
      "cell_type": "markdown",
      "metadata": {
        "id": "0yUVbrKJEJ3g"
      },
      "source": [
        "<font size=\"10\">&#x0210B;</font>int:\n",
        "\n",
        "__Input:__ The input is a combination of rows of text and numbers\n",
        "\n",
        "__Process:__ The \"H\", \"D\", \"S\", and \"C\" must be disassembled during calculation and converted into numbers\n",
        "\n",
        "__Output:__"
      ]
    },
    {
      "cell_type": "code",
      "execution_count": null,
      "metadata": {
        "id": "IDxxixHnKR7o"
      },
      "outputs": [],
      "source": [
        "#from here\n",
        " "
      ]
    },
    {
      "cell_type": "markdown",
      "metadata": {
        "id": "2rECmT30cdJB"
      },
      "source": [
        "### M3Q19 Determine whether it is a palindrome\n",
        "Problem Description:\n",
        "\n",
        "A palindrome refers to a number or a paragraph of text that is the same as read from the front and from the back. For example, the following inputs are all palindrome:\n",
        "\n",
        "123321, qwerewq, 123ewqqwe321. Please write a program to determine whether it is a palindrome.\n",
        "\n",
        "Input description:\n",
        "\n",
        "Enter a string.\n",
        "\n",
        "Output description:\n",
        "\n",
        "The palindrome prints YES, and the non-palindrome prints NO, and there must be a newline character at the end.\n",
        "\n",
        "\n",
        "example:：\n",
        "\n",
        "| Sample Input:   |      Sample Output:      |\n",
        "|:----------------|:-------------------------|\n",
        "|123321|YES⏎|\n",
        "|1556551|YES⏎|\n",
        "|1244221|NO⏎|"
      ]
    },
    {
      "cell_type": "markdown",
      "metadata": {
        "id": "5b-qRu1jEMBg"
      },
      "source": [
        "<font size=\"10\">&#x0210B;</font>int(祕技):\n",
        "\n",
        "__Input:__ Input is a string\n",
        "\n",
        "__Process:__\n",
        "\n",
        "__Output:__"
      ]
    },
    {
      "cell_type": "code",
      "execution_count": null,
      "metadata": {
        "id": "ZP2s1q3qPMkI"
      },
      "outputs": [],
      "source": [
        "#from here\n"
      ]
    },
    {
      "cell_type": "markdown",
      "metadata": {
        "id": "A2HltRxXceML"
      },
      "source": [
        "### M3Q20 Number of occurrences of words and letters\n",
        "Problem Description:\n",
        "In computer science, calculating the frequency of each letter in a string of text is a commonly used technique.\n",
        "Speaking is very important information, and counting words can also help people make corrections. A line of text is blank or ambiguous\n",
        "There are many words separated by dots or periods, such as \"I have a pencil.\" This line of words has I, have, a, pencil\n",
        "These four characters, that is, the number of characters in this line is 4. So now I want to ask you to help design a program to calculate the words of a line of text\n",
        "Count and the number of times each letter appears.\n",
        "\n",
        "Input description:\n",
        "Enter a line of normal English text, that is, do not have a blank at the beginning or two consecutive blanks.\n",
        "And the content can only contain English letters, blanks, commas, and periods. Note: The length of the input string is at most 100.\n",
        "\n",
        "Output description:\n",
        "The first line outputs a positive integer n, which represents the number of words in this line of text. The second line starts to output the text in this line in order\n",
        "There are the letters and the number of occurrences, and there must be a newline character at the end.\n",
        "Note: Case should be calculated separately.\n",
        "\n",
        "\n",
        "example:\n",
        "\n",
        "| Sample Input:   |      Sample Output:      |\n",
        "|:----------------|:-------------------------|\n",
        "|I had a dog |4|\n",
        "||I=1|\n",
        "||a=2|\n",
        "||d=2|\n",
        "||g=1|\n",
        "||h=1|\n",
        "||o=1⏎|"
      ]
    },
    {
      "cell_type": "markdown",
      "metadata": {
        "id": "3aUNOGvLENjt"
      },
      "source": [
        "<font size=\"10\">&#x0210B;</font>int(祕技):\n",
        "\n",
        "__Input:__ 輸入是1個字串，切成幾個字\n",
        "\n",
        "__Process:__\n",
        "\n",
        "__Output:__"
      ]
    },
    {
      "cell_type": "code",
      "execution_count": null,
      "metadata": {
        "id": "G6uCyfLbQJgs"
      },
      "outputs": [],
      "source": [
        "#from here\n"
      ]
    },
    {
      "cell_type": "markdown",
      "metadata": {
        "id": "nNDrDtUMMUEB"
      },
      "source": [
        "### M3Q21. Tic-Tac-Toe\n",
        "\n",
        "Problem Description:\n",
        "Tic-Tac-Toe games are childhood memories of everyone when they were young. Even when they grow up, they will still play when they are bored! But when you\n",
        "Can you let the computer play with you when you are alone?\n",
        "\n",
        "Input description:\n",
        "Enter a 3*3 2-dimensional matrix, the content of the matrix, 0 stands for O and 1 stands for X. Note: the number in each column\n",
        "They are separated by spaces.\n",
        "\n",
        "Output description:\n",
        "Output whether this OX game is a winner or not, there must be a newline character at the end.\n",
        "\n",
        "| Sample Input:   |      Sample Output:      |\n",
        "|:----------------|:-------------------------|\n",
        "|1 0 1 | True⏎   |\n",
        "|0 0 1||\n",
        "|1 0 0||\n",
        "|1 0 0|False⏎ |\n",
        "|0 1 1||\n",
        "|0 1 0||"
      ]
    },
    {
      "cell_type": "markdown",
      "metadata": {
        "id": "Qy8oFF4GEO2u"
      },
      "source": [
        "<font size=\"10\">&#x0210B;</font>int(祕技):\n",
        "\n",
        "__Input:__ The input is 3 numbers in three lines,\n",
        "\n",
        "__Process:__\n",
        "\n",
        "__Output:__"
      ]
    },
    {
      "cell_type": "code",
      "execution_count": null,
      "metadata": {
        "id": "iEYC2sk_MU4O"
      },
      "outputs": [],
      "source": [
        "#from here\n"
      ]
    },
    {
      "cell_type": "markdown",
      "metadata": {
        "id": "orTAgycrMVCo"
      },
      "source": [
        "### M3Q22. Digits and sorting\n",
        "\n",
        "Problem Description:\n",
        "Input an integer N and N integers, please output in descending order of the digits in the decimal place. If everybody\n",
        "If the numbers are equal to each other, the comparison values are arranged in descending order. For example: The sum of the digits of 9122 is 9+1+2+2=14, 3128\n",
        "The sum of the digits of 5112 is 3+1+2+8=14 and the sum of the digits of 5112 is 5+1+1+2=9. So enter 9122\n",
        "3128 5112 needs to output 5112 3128 9122, this is because 5112(9) <3128(14) <9122(14), where\n",
        "Because the sum of the digits of both 3128 and 9122 is 14, put 3128 with the smaller value in front.\n",
        "\n",
        "Input description:\n",
        "Enter N in the first line and N integers in the second line, separated by blanks, N<10.\n",
        "\n",
        "Output description:\n",
        "The output sort results are separated by tab spaces, and there must be a newline character at the end.\n",
        "\n",
        "| Sample Input:   |      Sample Output:      |\n",
        "|:----------------|:-------------------------|\n",
        "|9122 3128 5112|5112 3128 9122⏎|\n",
        "|1725 3821 2011 1428|2011 3821 1428 1725⏎ |"
      ]
    },
    {
      "cell_type": "markdown",
      "metadata": {
        "id": "-Z-P5jhIEQE9"
      },
      "source": [
        "<font size=\"10\">&#x0210B;</font>int(祕技):\n",
        "\n",
        "__Input:__ The input is a number of integers\n",
        "\n",
        "__Process:__ Use dictionary record\n",
        "\n",
        "__Output:__"
      ]
    },
    {
      "cell_type": "code",
      "execution_count": null,
      "metadata": {
        "id": "opXowzy_MYFD"
      },
      "outputs": [],
      "source": [
        "#from here\n"
      ]
    }
  ],
  "metadata": {
    "colab": {
      "provenance": [],
      "toc_visible": true
    },
    "kernelspec": {
      "display_name": "Python 3 (ipykernel)",
      "language": "python",
      "name": "python3"
    },
    "language_info": {
      "codemirror_mode": {
        "name": "ipython",
        "version": 3
      },
      "file_extension": ".py",
      "mimetype": "text/x-python",
      "name": "python",
      "nbconvert_exporter": "python",
      "pygments_lexer": "ipython3",
      "version": "3.9.7"
    }
  },
  "nbformat": 4,
  "nbformat_minor": 0
}