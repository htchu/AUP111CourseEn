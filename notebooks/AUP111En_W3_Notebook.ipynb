{
 "cells": [
  {
   "cell_type": "markdown",
   "metadata": {
    "id": "EUjJ7ImLnPVr"
   },
   "source": [
    "![image](https://www.python.org/static/img/python-logo.png)\n",
    "# AUP111-Fundamentals of Programming\n",
    "[![Open In Colab](https://colab.research.google.com/assets/colab-badge.svg)](https://colab.research.google.com/github/googlecolab/colabtools/blob/master/notebooks/colab-github-demo.ipynb)\n"
   ]
  },
  {
   "cell_type": "markdown",
   "metadata": {
    "id": "Zk0MAMNlo_gx"
   },
   "source": [
    "# Week3 Python basic data structure and simple process control\n",
    "\n",
    "![image](https://i.ibb.co/M1XgBz2/IPO-2.png)\n"
   ]
  },
  {
   "cell_type": "markdown",
   "metadata": {
    "id": "wKji2crve0Sp"
   },
   "source": [
    "## Topic 1-list\n",
    "https://docs.python.org/3/tutorial/datastructures.html\n",
    "\n",
    "<img src=\"https://i1.faceprep.in/Companies-1/lists-in-python.png\" alt=\"img\" border=\"0\" width=\"500\">\n"
   ]
  },
  {
   "cell_type": "markdown",
   "metadata": {
    "id": "_daTGvP1goPw"
   },
   "source": [
    "### Step 1: multiple \"Hello world\"."
   ]
  },
  {
   "cell_type": "code",
   "execution_count": null,
   "metadata": {
    "id": "X-HFB-nRrGDe"
   },
   "outputs": [],
   "source": [
    "student0 = 'John'; student1 = 'Mary'; student2 = 'Ken'\n",
    "print('Hello', student0)\n",
    "print('Hello', student1)\n",
    "print('Hello', student2)"
   ]
  },
  {
   "cell_type": "markdown",
   "metadata": {
    "id": "aujPAVDGguns"
   },
   "source": [
    "### Step 2:indexing of list elements"
   ]
  },
  {
   "cell_type": "code",
   "execution_count": null,
   "metadata": {
    "id": "AsKKoIvhgbEi"
   },
   "outputs": [],
   "source": [
    "          #   0      1       2\n",
    "students = ['John', 'Mary', 'Ken']\n",
    "print('Hello', students[0])\n",
    "print('Hello', students[1])\n",
    "print('Hello', students[2])"
   ]
  },
  {
   "cell_type": "markdown",
   "metadata": {
    "id": "yiQg3EtRpNBA"
   },
   "source": [
    "Step 3: negative indexing of list elements"
   ]
  },
  {
   "cell_type": "code",
   "execution_count": null,
   "metadata": {
    "id": "9IYr7dv7pUXP"
   },
   "outputs": [],
   "source": [
    "#             -3      -2      -1\n",
    "students = ['John', 'Mary', 'Ken']\n",
    "print('Hello', students[-3])\n",
    "print('Hello', students[-2])\n",
    "print('Hello', students[-1])"
   ]
  },
  {
   "cell_type": "markdown",
   "metadata": {
    "id": "mnxswVVUpcej"
   },
   "source": [
    "### Step 4: Length of a list"
   ]
  },
  {
   "cell_type": "code",
   "execution_count": null,
   "metadata": {
    "id": "uSvy9MKppgYZ"
   },
   "outputs": [],
   "source": [
    "students = ['John', 'Mary', 'Ken']\n",
    "print(students)\n",
    "print(len(students))"
   ]
  },
  {
   "cell_type": "markdown",
   "metadata": {
    "id": "vebCjgi-pszE"
   },
   "source": [
    "### Step 5: add an element"
   ]
  },
  {
   "cell_type": "code",
   "execution_count": null,
   "metadata": {
    "id": "JVlYW1xqp5oM"
   },
   "outputs": [],
   "source": [
    "students.append('Lily')\n",
    "print(students)\n",
    "print(len(students))"
   ]
  },
  {
   "cell_type": "markdown",
   "metadata": {
    "id": "nQJ1uTEYvPwL"
   },
   "source": [
    "## Topic 2-str.split()\n"
   ]
  },
  {
   "cell_type": "markdown",
   "metadata": {
    "id": "2INtSe_Gv-wl"
   },
   "source": [
    "### Step 1:"
   ]
  },
  {
   "cell_type": "code",
   "execution_count": null,
   "metadata": {
    "id": "4z4GBkIpwjKW"
   },
   "outputs": [],
   "source": [
    "students = 'John Mary Ken'\n",
    "print(students)\n",
    "print(len(students))"
   ]
  },
  {
   "cell_type": "markdown",
   "metadata": {
    "id": "mAPYnqlNqmpD"
   },
   "source": [
    "### Step 2: split()"
   ]
  },
  {
   "cell_type": "code",
   "execution_count": null,
   "metadata": {
    "id": "u2ty_vzewBvL"
   },
   "outputs": [],
   "source": [
    "students = 'John Mary Ken'.split()\n",
    "print(students)\n",
    "print(len(students))\n",
    "print(type(students))"
   ]
  },
  {
   "cell_type": "markdown",
   "metadata": {
    "id": "Qa7Btbu71c7L"
   },
   "source": [
    "### Step 3: input() with split()"
   ]
  },
  {
   "cell_type": "code",
   "execution_count": null,
   "metadata": {
    "colab": {
     "base_uri": "https://localhost:8080/"
    },
    "id": "qp1pj05V1joS",
    "outputId": "c8a57613-5dcf-4097-d396-05636057de62"
   },
   "outputs": [],
   "source": [
    "# input 3 5 \n",
    "paras = input().split()\n",
    "print(paras[0])\n",
    "print(paras[1])"
   ]
  },
  {
   "cell_type": "markdown",
   "metadata": {
    "id": "9U3gc33E2GmL"
   },
   "source": [
    "### Step 4: input() with split()，then cast it to integer\n"
   ]
  },
  {
   "cell_type": "code",
   "execution_count": null,
   "metadata": {
    "colab": {
     "base_uri": "https://localhost:8080/"
    },
    "id": "3O7lzJI62McA",
    "outputId": "def51044-bac1-4932-b597-5e4b64023608"
   },
   "outputs": [],
   "source": [
    "# input 3 5 \n",
    "paras = input().split()\n",
    "a = int(paras[0])\n",
    "b = int(paras[1])\n",
    "print(a + b)"
   ]
  },
  {
   "cell_type": "code",
   "execution_count": null,
   "metadata": {
    "colab": {
     "base_uri": "https://localhost:8080/"
    },
    "id": "303ec1TrbTpw",
    "outputId": "42ad5186-9326-4b5d-fdb7-eba4c582f256"
   },
   "outputs": [],
   "source": [
    "paras = input().split()\n",
    "a, b = map(int, paras)\n",
    "print(a + b)"
   ]
  },
  {
   "cell_type": "code",
   "execution_count": null,
   "metadata": {
    "colab": {
     "base_uri": "https://localhost:8080/"
    },
    "id": "wl0M17AZbnj_",
    "outputId": "cee1d713-2736-4983-a855-d11cf1a746d7"
   },
   "outputs": [],
   "source": [
    "a, b = map(int, input().split())\n",
    "print(a + b)"
   ]
  },
  {
   "cell_type": "code",
   "execution_count": null,
   "metadata": {
    "id": "qq4Q04B8IsEl"
   },
   "outputs": [],
   "source": [
    "# input a number 3 with a string A \n",
    "paras = input().split()\n",
    "a = int(paras[0])\n",
    "b = paras[1]\n",
    "print(a , b)"
   ]
  },
  {
   "cell_type": "code",
   "execution_count": null,
   "metadata": {
    "id": "zEAQLmpzI9Ud"
   },
   "outputs": [],
   "source": [
    "for i in range(a):\n",
    "  print(b)"
   ]
  },
  {
   "cell_type": "markdown",
   "metadata": {
    "id": "jZ9bQuuEuODK"
   },
   "source": [
    "## Topic 3-for-loop"
   ]
  },
  {
   "cell_type": "markdown",
   "metadata": {
    "id": "a2QiuVQouUjq"
   },
   "source": [
    "### Step 1: using list"
   ]
  },
  {
   "cell_type": "code",
   "execution_count": null,
   "metadata": {
    "id": "DIHbZz3JLArw"
   },
   "outputs": [],
   "source": [
    "students = ['John', 'Mary', 'Ken']\n",
    "print('Hello', students[0])\n",
    "print('Hello', students[1])\n",
    "print('Hello', students[2])"
   ]
  },
  {
   "cell_type": "code",
   "execution_count": null,
   "metadata": {
    "colab": {
     "base_uri": "https://localhost:8080/"
    },
    "id": "ZGZ_8oDouYUN",
    "outputId": "51ecc48e-bbef-44b2-e755-efc2edb9dc45"
   },
   "outputs": [],
   "source": [
    "students = ['John', 'Mary', 'Ken']\n",
    "for student in students:\n",
    "  print('Hello ', student)"
   ]
  },
  {
   "cell_type": "markdown",
   "metadata": {
    "id": "nBU6Jd88wve6"
   },
   "source": [
    "### Step 2: print out the numbers 1-9"
   ]
  },
  {
   "cell_type": "code",
   "execution_count": null,
   "metadata": {
    "id": "EyiI9xOBw1g_"
   },
   "outputs": [],
   "source": [
    "numbers = [1, 2, 3, 4, 5, 6, 7, 8, 9]\n",
    "for number in numbers:\n",
    "  print(number, end=' ')"
   ]
  },
  {
   "cell_type": "markdown",
   "metadata": {
    "id": "2zYw7pu4xWDs"
   },
   "source": [
    "##Topic 4:multiple assignment\n"
   ]
  },
  {
   "cell_type": "markdown",
   "metadata": {
    "id": "XbZwuO4ehshr"
   },
   "source": [
    "### Step 1: assignment"
   ]
  },
  {
   "cell_type": "code",
   "execution_count": null,
   "metadata": {
    "id": "Jlu-46AjyszT"
   },
   "outputs": [],
   "source": [
    "students = ['John', 'Mary', 'Ken']\n",
    "a = students[0]\n",
    "b = students[1]\n",
    "c = students[2]\n",
    "print(a, b, c)"
   ]
  },
  {
   "cell_type": "markdown",
   "metadata": {
    "id": "_oGXMpUZvPZV"
   },
   "source": [
    "### Step 2: multiple assignment/ unpacking"
   ]
  },
  {
   "cell_type": "code",
   "execution_count": null,
   "metadata": {
    "id": "dsU3gHR4vSAI"
   },
   "outputs": [],
   "source": [
    "students = ['John', 'Mary', 'Ken']\n",
    "a, b, c = students\n",
    "print(a, b, c)"
   ]
  },
  {
   "cell_type": "markdown",
   "metadata": {
    "id": "m4TqY6q5wS52"
   },
   "source": [
    "### Step 3: partial unpacking"
   ]
  },
  {
   "cell_type": "code",
   "execution_count": null,
   "metadata": {
    "id": "SWQ2o4MvwaE4"
   },
   "outputs": [],
   "source": [
    "students = ['John', 'Mary', 'Ken']\n",
    "a, *other = students\n",
    "print(other)"
   ]
  },
  {
   "cell_type": "markdown",
   "metadata": {
    "id": "dRdtCudyzjfI"
   },
   "source": [
    "##Topic 5:  f-string\n",
    "\n",
    "https://docs.python.org/3/tutorial/inputoutput.html"
   ]
  },
  {
   "cell_type": "markdown",
   "metadata": {
    "id": "b_OsCdmjz7_e"
   },
   "source": [
    "### Step 1: f-string"
   ]
  },
  {
   "cell_type": "code",
   "execution_count": null,
   "metadata": {
    "id": "b1tRdaFu3jX0"
   },
   "outputs": [],
   "source": [
    "a = 'John'\n",
    "str2 = f'Hi, {a}'\n",
    "print(str2)"
   ]
  },
  {
   "cell_type": "markdown",
   "metadata": {
    "id": "d3ZoFghS1Eir"
   },
   "source": [
    "### Step 2: f-string output"
   ]
  },
  {
   "cell_type": "code",
   "execution_count": null,
   "metadata": {
    "id": "Y0ZTqGnr1BTo"
   },
   "outputs": [],
   "source": [
    "a = 'John'\n",
    "print(f'Hi, {a}')"
   ]
  },
  {
   "cell_type": "markdown",
   "metadata": {
    "id": "PPziADEY1uLb"
   },
   "source": [
    "### Step 3: formatted string\n"
   ]
  },
  {
   "cell_type": "code",
   "execution_count": null,
   "metadata": {
    "id": "HI_-GqDYzEXc"
   },
   "outputs": [],
   "source": [
    "yes_votes = 42_572_654\n",
    "no_votes = 43_132_495\n",
    "percentage = yes_votes / (yes_votes + no_votes)\n",
    "print(f'{yes_votes:9} YES votes {percentage:2.2%}')"
   ]
  },
  {
   "cell_type": "markdown",
   "metadata": {
    "id": "DRvOkISriEma"
   },
   "source": [
    "## Topic 6: 印出99乘法表/print out the multiplication table\n",
    "<img src=\"https://previews.123rf.com/images/in8finity/in8finity1408/in8finity140800033/30726191-multiplication-table-on-white-background.jpg\" alt=\"img\" border=\"0\" width=\"500\">\n"
   ]
  },
  {
   "cell_type": "markdown",
   "metadata": {
    "id": "6Xwc2kHIiR6T"
   },
   "source": [
    "### Step 1: print out the numbers 1-9"
   ]
  },
  {
   "cell_type": "code",
   "execution_count": null,
   "metadata": {
    "id": "H1OLx_ro4E37"
   },
   "outputs": [],
   "source": [
    "numbers = [1, 2, 3, 4, 5, 6, 7, 8, 9]\n",
    "for n in numbers:\n",
    "  print(f'{n:1}*1 ={n*1:2}', end=' ')\n",
    "  print(f'{n:1}*2 ={n*2:2}', end=' ')\n",
    "  print(f'{n:1}*3 ={n*3:2}', end=' ')\n",
    "  print(f'{n:1}*4 ={n*4:2}', end=' ')\n",
    "  print(f'{n:1}*5 ={n*5:2}', end=' ')\n",
    "  print(f'{n:1}*6 ={n*6:2}', end=' ')\n",
    "  print(f'{n:1}*7 ={n*7:2}', end=' ')\n",
    "  print(f'{n:1}*8 ={n*8:2}', end=' ')\n",
    "  print(f'{n:1}*9 ={n*9:2}', end=' ')\n",
    "  print()\n"
   ]
  },
  {
   "cell_type": "markdown",
   "metadata": {
    "id": "ITiys8w41AeF"
   },
   "source": [
    "### Step 2: print out the multiplication table"
   ]
  },
  {
   "cell_type": "code",
   "execution_count": null,
   "metadata": {
    "id": "EarRSzq4iprp"
   },
   "outputs": [],
   "source": [
    "numbers = [1, 2, 3, 4, 5, 6, 7, 8, 9]\n",
    "for a in numbers:\n",
    "  for b in numbers:\n",
    "    print(f'{a:1}*{b:1} ={a*b:2}', end=' ')\n",
    "  print()"
   ]
  },
  {
   "cell_type": "markdown",
   "metadata": {
    "id": "Ka6Jhrvd2e1o"
   },
   "source": [
    "## Topic 7-range()\n",
    "range(start, stop, step)"
   ]
  },
  {
   "cell_type": "code",
   "execution_count": null,
   "metadata": {
    "id": "fMZ0sI8YRrcC"
   },
   "outputs": [],
   "source": [
    "help(range)"
   ]
  },
  {
   "cell_type": "markdown",
   "metadata": {
    "id": "SEaBUrwB3FQs"
   },
   "source": [
    "### Step 1: parameters of range(): begin/end"
   ]
  },
  {
   "cell_type": "code",
   "execution_count": null,
   "metadata": {
    "colab": {
     "base_uri": "https://localhost:8080/"
    },
    "id": "R4KAvFpyiqz8",
    "outputId": "cef2b445-d9c6-4704-df87-d8fad263be1b"
   },
   "outputs": [],
   "source": [
    "a = [1, 2, 3, 4, 5, 6, 7, 8, 9]\n",
    "for n in a:\n",
    "  print(f'{n}', end=' ')\n",
    "print()\n"
   ]
  },
  {
   "cell_type": "code",
   "execution_count": null,
   "metadata": {
    "id": "Gm-onKPB2pSO"
   },
   "outputs": [],
   "source": [
    "b = range(1, 10)\n",
    "for n in b:\n",
    "  print(f'{n}', end=' ')\n",
    "print()"
   ]
  },
  {
   "cell_type": "code",
   "execution_count": null,
   "metadata": {
    "colab": {
     "base_uri": "https://localhost:8080/"
    },
    "id": "vTM3GWV_S49l",
    "outputId": "3a18263d-051e-4727-b634-6739521b581a"
   },
   "outputs": [],
   "source": [
    "b = range(10)\n",
    "for n in b:\n",
    "  print(f'{n}', end=' ')\n",
    "print()"
   ]
  },
  {
   "cell_type": "code",
   "execution_count": null,
   "metadata": {
    "id": "0GaT6CUK2xYC"
   },
   "outputs": [],
   "source": [
    "for n in range(1, 10):\n",
    "  print(f'{n}', end=' ')\n",
    "print()"
   ]
  },
  {
   "cell_type": "markdown",
   "metadata": {
    "id": "mr_25e3G3KQT"
   },
   "source": [
    "### Step 2: parameters of range(): step"
   ]
  },
  {
   "cell_type": "code",
   "execution_count": null,
   "metadata": {
    "id": "RfZP3NmC24Lo"
   },
   "outputs": [],
   "source": [
    "for n in range(1, 10, 1):\n",
    "  print(f'{n}', end=' ')\n",
    "print()"
   ]
  },
  {
   "cell_type": "code",
   "execution_count": null,
   "metadata": {
    "id": "ga3Zasj1iuTj"
   },
   "outputs": [],
   "source": [
    "for n in range(1, 18, 2):\n",
    "  print(f'{n}', end=' ')\n",
    "print()\n"
   ]
  },
  {
   "cell_type": "markdown",
   "metadata": {
    "id": "dNKvjw_K3N3m"
   },
   "source": [
    "### Step 3: print out the multiplication table with range()"
   ]
  },
  {
   "cell_type": "code",
   "execution_count": null,
   "metadata": {
    "id": "_-HUgFTSiyvm"
   },
   "outputs": [],
   "source": [
    "for n in range(1,10):\n",
    "  print(f'{n:1}*1 ={n*1:2}', end=' ')\n",
    "  print(f'{n:1}*2 ={n*2:2}', end=' ')\n",
    "  print(f'{n:1}*3 ={n*3:2}', end=' ')\n",
    "  print(f'{n:1}*4 ={n*4:2}', end=' ')\n",
    "  print(f'{n:1}*5 ={n*5:2}', end=' ')\n",
    "  print(f'{n:1}*6 ={n*6:2}', end=' ')\n",
    "  print(f'{n:1}*7 ={n*7:2}', end=' ')\n",
    "  print(f'{n:1}*8 ={n*8:2}', end=' ')\n",
    "  print(f'{n:1}*9 ={n*9:2}', end=' ')\n",
    "  print()"
   ]
  },
  {
   "cell_type": "code",
   "execution_count": null,
   "metadata": {
    "id": "yuAo6_tE3aWo"
   },
   "outputs": [],
   "source": [
    "for a in range(1,10):\n",
    "  for b in range(1,10):\n",
    "    print(f'{a:1}*{b:1} ={a*b:2}', end=' ')\n",
    "  print()"
   ]
  },
  {
   "cell_type": "markdown",
   "metadata": {
    "id": "w5QUnW1VizbU"
   },
   "source": [
    "## Topic 8-old string formatting\n",
    "\n",
    "```\n",
    "A = 435; B = 59.058\n",
    "print('Art: %5d, Price per Unit: %8.2f' % (A, B))          #%-formatting 格式化列印\n",
    "print(\"Art: {0:5d}, Price per Unit: {1:8.2f}\".format(A,B)) #str-format（Python 2.6+）\n",
    "print(f\"Art:{A:5d}, Price per Unit: {B:8.2f}\")             #f-string （Python 3.6+）\n",
    "```"
   ]
  },
  {
   "cell_type": "markdown",
   "metadata": {
    "id": "u_8IX05f3vvK"
   },
   "source": [
    "### Step 1: %-formatting "
   ]
  },
  {
   "cell_type": "code",
   "execution_count": null,
   "metadata": {
    "colab": {
     "base_uri": "https://localhost:8080/"
    },
    "id": "tclbfd_ljRcm",
    "outputId": "1d5bdfab-c3a4-4e7b-94e8-f1a801777708"
   },
   "outputs": [],
   "source": [
    "for a in range(1,10):\n",
    "  for b in range(1,10):\n",
    "    print('%d*%d =%2d'%(a, b, a*b), end=' ')\n",
    "  print()"
   ]
  },
  {
   "cell_type": "markdown",
   "metadata": {
    "id": "6phzLd_k31Oe"
   },
   "source": [
    "### Step 2: str-format（Python 2.6+）"
   ]
  },
  {
   "cell_type": "code",
   "execution_count": null,
   "metadata": {
    "colab": {
     "base_uri": "https://localhost:8080/"
    },
    "id": "RwmoHjpL34zX",
    "outputId": "22ebd126-a633-4f68-b806-ebcd1169eaad"
   },
   "outputs": [],
   "source": [
    "for a in range(1,10):\n",
    "  for b in range(1,10):\n",
    "    print('{0:1d}*{1:1d} ={2:2d}'.format(a, b, a*b), end=' ')\n",
    "  print()"
   ]
  },
  {
   "cell_type": "markdown",
   "metadata": {
    "id": "c_9ZWTvb39AN"
   },
   "source": [
    "### Step 3: f-string （Python 3.6+）"
   ]
  },
  {
   "cell_type": "code",
   "execution_count": null,
   "metadata": {
    "colab": {
     "base_uri": "https://localhost:8080/"
    },
    "id": "XLTQo3YR3_av",
    "outputId": "df69b081-2bc8-4dcd-862d-d50a74ecdc4f"
   },
   "outputs": [],
   "source": [
    "for a in range(1,10):\n",
    "  for b in range(1,10):\n",
    "    c= a*b\n",
    "    print(f'{a}*{b} ={c:2d}', end=' ')\n",
    "  print()"
   ]
  },
  {
   "cell_type": "markdown",
   "metadata": {
    "id": "b1tg6-jqXhMT"
   },
   "source": [
    "## Topic 9-Initialization and comprehension of list"
   ]
  },
  {
   "cell_type": "markdown",
   "metadata": {
    "id": "01fn9Rq6Fwa0"
   },
   "source": [
    "### Step 1: Initialization"
   ]
  },
  {
   "cell_type": "code",
   "execution_count": null,
   "metadata": {
    "id": "C0HiXrgqF0fg"
   },
   "outputs": [],
   "source": [
    "numbers = [2, 4, 6, 8, 10]\n",
    "for n in numbers:\n",
    "  print(f'{n}', end=' ')"
   ]
  },
  {
   "cell_type": "markdown",
   "metadata": {
    "id": "HYk_laH7GE8C"
   },
   "source": [
    "### Step 2: Initialization a lis with List Comprehension\n",
    "\n"
   ]
  },
  {
   "cell_type": "code",
   "execution_count": null,
   "metadata": {
    "id": "0DX2hBY6GU2L"
   },
   "outputs": [],
   "source": [
    "numbers = [x for x in range(2,11,2)]\n",
    "for n in numbers:\n",
    "  print(f'{n}', end=' ')"
   ]
  },
  {
   "cell_type": "code",
   "execution_count": null,
   "metadata": {
    "id": "iPeVrJL1WTSV"
   },
   "outputs": [],
   "source": [
    "numbers = [2*x for x in range(1,6,1)]\n",
    "for n in numbers:\n",
    "  print(f'{n}', end=' ')"
   ]
  },
  {
   "cell_type": "markdown",
   "metadata": {
    "id": "L5Z7wEH8GULs"
   },
   "source": [
    "# Topic -10\n",
    "Exercise \n",
    "https://docs.python.org/3/tutorial/controlflow.html"
   ]
  }
 ],
 "metadata": {
  "colab": {
   "collapsed_sections": [],
   "provenance": []
  },
  "kernelspec": {
   "display_name": "Python 3 (ipykernel)",
   "language": "python",
   "name": "python3"
  },
  "language_info": {
   "codemirror_mode": {
    "name": "ipython",
    "version": 3
   },
   "file_extension": ".py",
   "mimetype": "text/x-python",
   "name": "python",
   "nbconvert_exporter": "python",
   "pygments_lexer": "ipython3",
   "version": "3.9.7"
  }
 },
 "nbformat": 4,
 "nbformat_minor": 1
}
