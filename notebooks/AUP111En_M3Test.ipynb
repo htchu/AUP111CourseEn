{
  "cells": [
    {
      "cell_type": "markdown",
      "metadata": {
        "id": "NmNGnQFiHXY5"
      },
      "source": [
        "# # AU Fundamentals of Python Programming-111-M3 Test"
      ]
    },
    {
      "cell_type": "markdown",
      "metadata": {
        "id": "l3-JGMv4L-jg"
      },
      "source": [
        "### Q1. Lottery random numbers \n",
        "\n",
        "Problem Description:\n",
        "Please design a lottery random number selection program, select 8 non-repeating number combinations from 1 to 54 and output them.\n",
        "Please use the following method:\n",
        "```\n",
        "import random\n",
        "random.seed(10) #seed() is to set the random number seed, so that the random number sequence will be the same every time.\n",
        "print(random.randint(0, 54)) #randint(begin, end) Randomly select a number\n",
        "```\n",
        "Input description: Input seed.\n",
        "Output description: Select 8 non-repeating number combinations from 1 to 54 and output them. Please use tab as the space between the numbers, and there must be at the end Newline characters.\n",
        "\n",
        "| Sample Input:   |      Sample Output:      |\n",
        "|:----------------|:-------------------------|\n",
        "|2023 | 25 46 30 26 21 44 41 23 ⏎ |"
      ]
    },
    {
      "cell_type": "code",
      "execution_count": null,
      "metadata": {
        "id": "G7MAu2tlImM_",
        "vscode": {
          "languageId": "python"
        }
      },
      "outputs": [],
      "source": [
        "#code from here\n"
      ]
    },
    {
      "cell_type": "markdown",
      "metadata": {
        "id": "qIultu8BMAus"
      },
      "source": [
        "### Q2. Array transpose\n",
        "\n",
        "Problem description: Declare a 4*7 two-dimensional integer array, the user enters the array element (0~100), and the rows and columns are interchanged and output.\n",
        "\n",
        "Input description: Input array element (0~100).\n",
        "\n",
        "Output description: The rows and columns are interchanged and output, and the numbers are divided into tabs, and there must be a newline character at the end.\n",
        "\n",
        "| Sample Input:   |      Sample Output:      |\n",
        "|:----------------|:-------------------------|\n",
        "|81 7 7 10 97 0 97 |81 90 9 28|\n",
        "|90 67 8 25 1 39 34|7 67 54 8 |\n",
        "|9 54 63 53 53 55 77|7 8 63 17|\n",
        "|28 8 17 50 41 99 89|10 25 53 50 |\n",
        "| |97 1 53 41 |\n",
        "|  | 0 39 55 99   |\n",
        "|  |97 34 77 89 ⏎ |"
      ]
    },
    {
      "cell_type": "code",
      "execution_count": null,
      "metadata": {
        "id": "Or-nYqhUInLu",
        "vscode": {
          "languageId": "python"
        }
      },
      "outputs": [],
      "source": [
        "#code from here\n"
      ]
    },
    {
      "cell_type": "markdown",
      "metadata": {
        "id": "MN2nDavOcWpY"
      },
      "source": [
        "### Q3. Maximum value of continuous element multiplication\n",
        "\n",
        "Problem Description:\n",
        "There are positive, negative, and 0 in an integer array. Please write a program to find the maximum value of the multiplication of consecutive elements in this array.\n",
        "\n",
        "Input description:\n",
        "Enter a sequence of N elements. .\n",
        "\n",
        "Output description:\n",
        "The maximum value of the multiplication of consecutive elements in the output array, and there must be a newline character at the end.\n",
        "\n",
        "example:\n",
        "\n",
        "| Sample Input:   |      Sample Output:      |\n",
        "|:----------------|:-------------------------|\n",
        "|1 2 4 -4 9 7 |63⏎|"
      ]
    },
    {
      "cell_type": "code",
      "execution_count": null,
      "metadata": {
        "id": "gTjzpgkegJkz",
        "vscode": {
          "languageId": "python"
        }
      },
      "outputs": [],
      "source": [
        "#code from here\n"
      ]
    },
    {
      "cell_type": "markdown",
      "metadata": {
        "id": "21njLIiCIE37"
      },
      "source": [
        "### Q4. Sum of continuous elements as 0\n",
        "Problem Description:\n",
        "There are positive numbers, negative numbers, and 0s in an integer array, and the elements are not repeated. Please write a program to find out in this array\n",
        "For several consecutive elements, the sum is zero. For example: in 1, 2, 3, -5, 4, the sum of 2, 3, -5 is 0.\n",
        "\n",
        "Input description:\n",
        "Enter the array size N and the number sequence with N elements respectively.\n",
        "\n",
        "Output description:\n",
        "Please find out the number of consecutive elements in the array whose sum is 0, and output the result.\n",
        "Line characters.\n",
        "\n",
        "| Sample Input:   |      Sample Output:      |\n",
        "|:----------------|:-------------------------|\n",
        "| 1 2 3 -5 4  | 2 3 -5 ⏎|"
      ]
    },
    {
      "cell_type": "code",
      "execution_count": null,
      "metadata": {
        "id": "0ohsTBWrIHP1",
        "vscode": {
          "languageId": "python"
        }
      },
      "outputs": [],
      "source": [
        "#code from here\n"
      ]
    },
    {
      "cell_type": "markdown",
      "metadata": {
        "id": "u1uXXKNJIMEs"
      },
      "source": [
        "### Q5. Monthly Calendar\n",
        "\n",
        "Problem Description:\n",
        "Please design a perpetual calendar, you can enter any year (year) and month (month), and print out the monthly calendar for that month.\n",
        "Take March 2001 as an example, the format is as follows:\n",
        "\n",
        "| SU MO TU WE TH FR SA |\n",
        "|:-------------------------|\n",
        "|&nbsp;&nbsp;&nbsp;&nbsp;&nbsp;&nbsp;&nbsp;&nbsp;&nbsp;&nbsp;&nbsp;&nbsp;&nbsp;&nbsp;&nbsp;&nbsp;&nbsp;&nbsp;&nbsp;&nbsp;&nbsp;&nbsp;&nbsp;&nbsp;&nbsp;&nbsp;&nbsp;&nbsp;1&nbsp;&nbsp;&nbsp; 2&nbsp;&nbsp;&nbsp; 3|\n",
        "|&nbsp;&nbsp;4 &nbsp;&nbsp;&nbsp;5 &nbsp;&nbsp;&nbsp;6 &nbsp;&nbsp;&nbsp;7 &nbsp;&nbsp;&nbsp;8 &nbsp;&nbsp;&nbsp;9&nbsp;&nbsp; 10|\n",
        "|11&nbsp; 12 &nbsp;13 &nbsp;14&nbsp; 15 &nbsp;16&nbsp; 17|\n",
        "|18&nbsp; 19 &nbsp;20 &nbsp;21 &nbsp;22 &nbsp;23 &nbsp;24|\n",
        "|25&nbsp; 26&nbsp; 27&nbsp; 28&nbsp; 29&nbsp; 30&nbsp; 31|\n",
        "\n",
        "1. The number of days per month in a year is as follows: February 29th in a lunar year and 28th in a normal year\n",
        "\n",
        "| Month | 1 | 2 | 3 | 4 | 5 | 6 | 7 | 8 | 9 | 10 | 11 | 12 |\n",
        "|---|---|---|---|---|---|---|---|---|---|---|---|- --|\n",
        "| Days |31| 28| 31| 30| 31| 30| 31| 31| 30| 31| 30| 31 |\n",
        "\n",
        "2. Runnian is judged to be one run for 4 years, no run for 100 years, and run again for 400 years.\n",
        "3. Therefore, January 1 of AD 1 is a Monday, and there are 52 weeks and 1 day in a year, so 2 AD 1\n",
        "1st is Tuesday, and so on)\n",
        "\n",
        "Input description:\n",
        "Enter the year (year) and month (month).\n",
        "\n",
        "Output description:\n",
        "To output the monthly calendar of the month, please use a tab space between each number, and there must be a newline character at the end.\n",
        "\n",
        "| Sample Input:   |      Sample Output:      |\n",
        "|:----------------|:-------------------------|\n",
        "| 2023 1 | SU MO TU WE TH FR SA |\n",
        "||&nbsp;&nbsp;1 &nbsp;&nbsp; 2 &nbsp;&nbsp; 3 &nbsp;&nbsp; 4 &nbsp;&nbsp;5&nbsp;&nbsp; 6&nbsp;&nbsp; 7|\n",
        "||&nbsp;&nbsp;8 &nbsp;&nbsp;9 &nbsp;&nbsp;10 &nbsp;&nbsp;11 &nbsp;&nbsp;12 &nbsp;&nbsp;13&nbsp;&nbsp; 14|\n",
        "||15&nbsp;&nbsp; 16 &nbsp;&nbsp;17 &nbsp;&nbsp;18&nbsp; &nbsp;19 &nbsp;&nbsp;20&nbsp;&nbsp; 21|\n",
        "||22&nbsp;&nbsp; 23 &nbsp;&nbsp;24 &nbsp;&nbsp;25 &nbsp;&nbsp;26 &nbsp;&nbsp;27 &nbsp;&nbsp;28|\n",
        "||29&nbsp;&nbsp; 30&nbsp;&nbsp; 31&nbsp;  ⏎|"
      ]
    },
    {
      "cell_type": "code",
      "execution_count": null,
      "metadata": {
        "id": "wqiJsX8CGbZD",
        "vscode": {
          "languageId": "python"
        }
      },
      "outputs": [],
      "source": [
        "#code from here\n"
      ]
    },
    {
      "cell_type": "markdown",
      "metadata": {
        "id": "xWNhaLC_cbSr"
      },
      "source": [
        "### Q6. Recursive program practice\n",
        "\n",
        "Problem Description:\n",
        "Given the following recursive function:\n",
        "\\begin{cases}\n",
        "f(n)=n+1 \\:when\\: n=1\\\\\n",
        "f(n)=f(n-1) + f(\\lfloor n/2\\rfloor) \\:when\\: n>1\n",
        "\\end{cases}\n",
        "\n",
        "\n",
        "Please calculate $𝑓(n)$.\n",
        "\n",
        "Input description:\n",
        "The input value is an integer greater than 1 𝑛.\n",
        "\n",
        "Output description:\n",
        "Output the calculation result of $𝑓(n)$, and there must be a newline character at the end.\n",
        "\n",
        "example:\n",
        "\n",
        "| Sample Input:   |      Sample Output:      |\n",
        "|:----------------|:-------------------------|\n",
        "|10 |60⏎|\n",
        "|12 |94⏎|"
      ]
    },
    {
      "cell_type": "code",
      "execution_count": null,
      "metadata": {
        "id": "zLc1u1zsJGWl",
        "vscode": {
          "languageId": "python"
        }
      },
      "outputs": [],
      "source": [
        "#code from here\n"
      ]
    },
    {
      "cell_type": "markdown",
      "metadata": {
        "id": "PNofXDG_ccLZ"
      },
      "source": [
        "### Q7. Sorting cards \n",
        "\n",
        "Problem Description:\n",
        "There are many kinds of poker games, such as big dick, red dot picking and so on. However, now what you want to participate in is more than big and small\n",
        "In the game, each card has its own suit and number, and the size comparison is mainly based on suits, spades> hearts> diamonds> plums\n",
        "Flowers; if the colors are the same, compare the numbers.\n",
        "\n",
        "Input description:\n",
        "The integer in the first column represents the number of stacks of playing cards, followed by several columns, each column is the content of a stack of cards, each card\n",
        "They are expressed in English and numbers respectively, where S stands for spades, H stands for hearts, D stands for squares, and C stands for\n",
        "plum Bossom. Each piece of data is separated by a blank.\n",
        "\n",
        "Output description:\n",
        "Print out the arranged playing cards. A row is a stack of cards, each card is separated by a blank, and there must be a line feed character at the end.\n",
        "\n",
        "example:\n",
        "\n",
        "| Sample Input:   |      Sample Output:      |\n",
        "|:----------------|:-------------------------|\n",
        "|4|S2 H5 D4 C13|\n",
        "|H5 D4 S2 C13|S3 H7 D10 D8 C12|\n",
        "|D8 S3 D10 C12 H7 |S3 H6|\n",
        "|H6 S3 |S1 D11 C5|\n",
        "|C5 D11 S1 |⏎ |"
      ]
    },
    {
      "cell_type": "code",
      "execution_count": null,
      "metadata": {
        "id": "IDxxixHnKR7o",
        "vscode": {
          "languageId": "python"
        }
      },
      "outputs": [],
      "source": [
        "#code from here"
      ]
    },
    {
      "cell_type": "markdown",
      "metadata": {
        "id": "nNDrDtUMMUEB"
      },
      "source": [
        "### Q8. Tic-Tac-Toe\n",
        "\n",
        "Problem Description:\n",
        "Tic-Tac-Toe games are childhood memories of everyone when they were young. Even when they grow up, they will still play when they are bored! But when you\n",
        "Can you let the computer play with you when you are alone?\n",
        "\n",
        "Input description:\n",
        "Enter a 3*3 2-dimensional matrix, the content of the matrix, 0 stands for O and 1 stands for X. Note: the number in each column\n",
        "They are separated by spaces.\n",
        "\n",
        "Output description:\n",
        "Output whether this OX game is a winner or not, there must be a newline character at the end.\n",
        "\n",
        "| Sample Input:   |      Sample Output:      |\n",
        "|:----------------|:-------------------------|\n",
        "|1 0 1 | True⏎   |\n",
        "|0 0 1||\n",
        "|1 0 0||\n",
        "|1 0 0|False⏎ |\n",
        "|0 1 1||\n",
        "|0 1 0||"
      ]
    },
    {
      "cell_type": "code",
      "execution_count": null,
      "metadata": {
        "id": "iEYC2sk_MU4O",
        "vscode": {
          "languageId": "python"
        }
      },
      "outputs": [],
      "source": [
        "#code from here\n"
      ]
    }
  ],
  "metadata": {
    "colab": {
      "provenance": [],
      "toc_visible": true
    },
    "kernelspec": {
      "display_name": "Python 3",
      "name": "python3"
    }
  },
  "nbformat": 4,
  "nbformat_minor": 0
}