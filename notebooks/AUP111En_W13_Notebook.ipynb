{
  "nbformat": 4,
  "nbformat_minor": 0,
  "metadata": {
    "colab": {
      "provenance": [],
      "collapsed_sections": [
        "FwMwRKE_oLO2",
        "d0h69EN8oru4",
        "SucrJjeDproO",
        "1486txeopv_A",
        "yVXlF-BYpxdw",
        "QeFH5bOhpzvA",
        "M1sdfSWlp1Rg",
        "J7BK3uM5yhET",
        "M5yo8avqxSFh",
        "qMNa0rB7y-LV",
        "Lw7YCA0mz4Re",
        "IWAEKbt4s877",
        "o2_KpLd2s_7h",
        "fKUwi4-z01ym",
        "WHBF5G8F1ImP",
        "s0VZZsL7YFEJ",
        "XHYvRnrVYOcv"
      ]
    },
    "kernelspec": {
      "display_name": "Python 3",
      "language": "python",
      "name": "python3"
    },
    "language_info": {
      "codemirror_mode": {
        "name": "ipython",
        "version": 3
      },
      "file_extension": ".py",
      "mimetype": "text/x-python",
      "name": "python",
      "nbconvert_exporter": "python",
      "pygments_lexer": "ipython3",
      "version": "3.7.6"
    }
  },
  "cells": [
    {
      "cell_type": "markdown",
      "metadata": {
        "id": "cKjpKBnTVt6h"
      },
      "source": [
        "![image](https://www.python.org/static/img/python-logo.png)\n",
        "# AUP111-Fundamentals of Programming\n",
        "\n",
        "__Week 13: Advanced functions__\n",
        "\n",
        "[![Open In Colab](https://colab.research.google.com/assets/colab-badge.svg)](https://colab.research.google.com/github/googlecolab/colabtools/blob/master/notebooks/colab-github-demo.ipynb)"
      ]
    },
    {
      "cell_type": "code",
      "source": [],
      "metadata": {
        "id": "wU4WZW47a8-9"
      },
      "execution_count": null,
      "outputs": []
    },
    {
      "cell_type": "markdown",
      "metadata": {
        "id": "kLe1GoiTtrgI"
      },
      "source": [
        "## Topic 1-Review of function definitions and calls"
      ]
    },
    {
      "cell_type": "markdown",
      "metadata": {
        "id": "lF7HFFTIcbbu"
      },
      "source": [
        "### Step 1: Function definition"
      ]
    },
    {
      "cell_type": "code",
      "source": [
        "import math\n",
        "def circle_area(radius):\n",
        "  area = math.pi * radius**2\n",
        "  return area"
      ],
      "metadata": {
        "id": "3MTFd2KYfk4h"
      },
      "execution_count": null,
      "outputs": []
    },
    {
      "cell_type": "code",
      "metadata": {
        "id": "TqyrD4BLcfqr"
      },
      "source": [
        "import math\n",
        "def circle_area(radius:float)->float:\n",
        "  area = math.pi * radius**2\n",
        "  return area"
      ],
      "execution_count": null,
      "outputs": []
    },
    {
      "cell_type": "markdown",
      "metadata": {
        "id": "uy7Co3kbcf0L"
      },
      "source": [
        "### Step 2: Function call"
      ]
    },
    {
      "cell_type": "code",
      "metadata": {
        "id": "wQd0gguHf9TX",
        "colab": {
          "base_uri": "https://localhost:8080/"
        },
        "outputId": "ee7880b2-a065-4cca-dad2-63da395a780d"
      },
      "source": [
        "r = 3.77\n",
        "a = circle_area(3.77)\n",
        "print(f\"The area of a circle with radius {r} is {a:.2f}\")"
      ],
      "execution_count": null,
      "outputs": [
        {
          "output_type": "stream",
          "name": "stdout",
          "text": [
            "The area of a circle with radius 3.77 is 44.65\n"
          ]
        }
      ]
    },
    {
      "cell_type": "markdown",
      "metadata": {
        "id": "Z0jbsSt0hDAL"
      },
      "source": [
        "### Step 3: Variable number of parameters: *parameter\n",
        "\n",
        "When the parameter is preceded by a *, it means that a tuple/list parameter is accepted, which is a method of using an indefinite number of parameters."
      ]
    },
    {
      "cell_type": "code",
      "metadata": {
        "id": "KP8OydBfiRj5",
        "colab": {
          "base_uri": "https://localhost:8080/"
        },
        "outputId": "cc99a8e4-66a9-463e-de9a-31ac2b7478c3"
      },
      "source": [
        "def test1(a, *args):\n",
        "    for i, m in enumerate(args):\n",
        "        print(f'args {i}-> {m}')\n",
        "\n",
        "aa = [\"Dog\", \"Cat\", \"Bull\"]\n",
        "test1(*aa)"
      ],
      "execution_count": null,
      "outputs": [
        {
          "output_type": "stream",
          "name": "stdout",
          "text": [
            "args 0-> Cat\n",
            "args 1-> Bull\n"
          ]
        }
      ]
    },
    {
      "cell_type": "markdown",
      "metadata": {
        "id": "xpoPDRbkiSE4"
      },
      "source": [
        "### Step 4: Variable number of parameters: **parameter\n",
        "When ** is added in front of the parameter, this parameter can be regarded as a non-fixed number of Dictionary, and the key of the dictionary must be a string."
      ]
    },
    {
      "cell_type": "code",
      "metadata": {
        "id": "rI2-uzqeiV6Q",
        "colab": {
          "base_uri": "https://localhost:8080/"
        },
        "outputId": "99e30898-eb99-4677-a8ac-0caa3e7d9008"
      },
      "source": [
        "def test2(**kargs):\n",
        "    for k in kargs:\n",
        "        print(f'args {k}-> {kargs[k]}')\n",
        "\n",
        "bb = {\"Dog\":1, \"Cat\":2, \"Bull\":3}\n",
        "test2(**bb)"
      ],
      "execution_count": null,
      "outputs": [
        {
          "output_type": "stream",
          "name": "stdout",
          "text": [
            "args Dog-> 1\n",
            "args Cat-> 2\n",
            "args Bull-> 3\n"
          ]
        }
      ]
    },
    {
      "cell_type": "markdown",
      "metadata": {
        "id": "F5H7qopOatdy"
      },
      "source": [
        "## Topic 2-Data types of parameters and return values"
      ]
    },
    {
      "cell_type": "markdown",
      "metadata": {
        "id": "1WtU30yLiWDe"
      },
      "source": [
        "### Step 5: Data type of function parameters and return values\n",
        "\n",
        "Since Version 3.5 \n",
        "https://docs.python.org/3/library/typing.html\n"
      ]
    },
    {
      "cell_type": "code",
      "metadata": {
        "id": "0MekDJt-oJ_Y",
        "colab": {
          "base_uri": "https://localhost:8080/"
        },
        "outputId": "4094918e-789a-49cf-b882-8cb2f2b129af"
      },
      "source": [
        "def greeting(name):\n",
        "    return 'Hello ' + name\n",
        "\n",
        "print(greeting(\"John\"))"
      ],
      "execution_count": null,
      "outputs": [
        {
          "output_type": "stream",
          "name": "stdout",
          "text": [
            "Hello John\n"
          ]
        }
      ]
    },
    {
      "cell_type": "code",
      "metadata": {
        "id": "dS_Wegs9m1gO",
        "colab": {
          "base_uri": "https://localhost:8080/"
        },
        "outputId": "6fdd4572-540d-4f89-81cb-841d772d855c"
      },
      "source": [
        "def greeting(name: str) -> str:\n",
        "    return 'Hello ' + name\n",
        "\n",
        "print(greeting(\"Mary\"))"
      ],
      "execution_count": null,
      "outputs": [
        {
          "output_type": "stream",
          "name": "stdout",
          "text": [
            "Hello Mary\n"
          ]
        }
      ]
    },
    {
      "cell_type": "markdown",
      "metadata": {
        "id": "FwMwRKE_oLO2"
      },
      "source": [
        "### Step 6: gcd() function definition without parameter type"
      ]
    },
    {
      "cell_type": "code",
      "metadata": {
        "id": "hvkRhr_CoOrN",
        "colab": {
          "base_uri": "https://localhost:8080/"
        },
        "outputId": "ffcbc59b-73a3-4efe-a827-87cb6e6409e8"
      },
      "source": [
        "def gcd1(x, y):\n",
        "  r=x%y\n",
        "  while r!=0:\n",
        "    x=y;y=r\n",
        "    r=x%y\n",
        "  return y\n",
        "\n",
        "a=240; b=96\n",
        "print(f\"{a}, {b}, {gcd1(a,b)}\")"
      ],
      "execution_count": null,
      "outputs": [
        {
          "output_type": "stream",
          "name": "stdout",
          "text": [
            "240, 96, 48\n"
          ]
        }
      ]
    },
    {
      "cell_type": "markdown",
      "metadata": {
        "id": "d0h69EN8oru4"
      },
      "source": [
        "### Step 7: gcd() function definition with parameter type"
      ]
    },
    {
      "cell_type": "code",
      "metadata": {
        "id": "tML83N5zor7r",
        "colab": {
          "base_uri": "https://localhost:8080/"
        },
        "outputId": "2d891981-a157-4913-a41a-5e4a5f8e7ecb"
      },
      "source": [
        "def gcd2(x:int, y:int)->int:\n",
        "  r=x%y\n",
        "  while r!=0:\n",
        "    x=y;y=r\n",
        "    r=x%y\n",
        "  return y\n",
        "  \n",
        "a=240; b=96\n",
        "print(f\"{a}, {b}, {gcd2(a,b)}\")"
      ],
      "execution_count": null,
      "outputs": [
        {
          "output_type": "stream",
          "name": "stdout",
          "text": [
            "240, 96, 48\n"
          ]
        }
      ]
    },
    {
      "cell_type": "markdown",
      "metadata": {
        "id": "N7aDM2g1pYb2"
      },
      "source": [
        "## Topic 3-Recursion\n",
        "\n",
        "Recursion is to call the function itself in the function definition"
      ]
    },
    {
      "cell_type": "markdown",
      "metadata": {
        "id": "SucrJjeDproO"
      },
      "source": [
        "### Step 8: Factorial calculation using loops\n",
        "\n",
        "$n! = 1 * 2 * ... * n$"
      ]
    },
    {
      "cell_type": "code",
      "metadata": {
        "id": "HmE9lL8TpsdI",
        "colab": {
          "base_uri": "https://localhost:8080/"
        },
        "outputId": "f9489a69-6330-4bd4-9244-4a70af59e151"
      },
      "source": [
        "def factorial_loop (n):\n",
        "    factor = 1\n",
        "    for i in range(1,n+1):\n",
        "        factor *= i\n",
        "    return factor\n",
        "print(factorial_loop(10))"
      ],
      "execution_count": null,
      "outputs": [
        {
          "output_type": "stream",
          "name": "stdout",
          "text": [
            "3628800\n"
          ]
        }
      ]
    },
    {
      "cell_type": "markdown",
      "metadata": {
        "id": "1486txeopv_A"
      },
      "source": [
        "### Step 9: Factorial calculation using recursion"
      ]
    },
    {
      "cell_type": "code",
      "metadata": {
        "id": "KqFLgnChpxST",
        "colab": {
          "base_uri": "https://localhost:8080/"
        },
        "outputId": "f324aee2-0e9f-4a4d-fdc3-f431341bb843"
      },
      "source": [
        "def factorial(n):\n",
        "    if n == 0 or n == 1:\n",
        "        return 1\n",
        "    else:\n",
        "        return n * factorial(n - 1)\n",
        "\n",
        "print(factorial(10))"
      ],
      "execution_count": null,
      "outputs": [
        {
          "output_type": "stream",
          "name": "stdout",
          "text": [
            "3628800\n"
          ]
        }
      ]
    },
    {
      "cell_type": "markdown",
      "metadata": {
        "id": "yVXlF-BYpxdw"
      },
      "source": [
        "### Step 10: Fibonacci sequence  using loops\n",
        "$f(0)=0, f(1)=1$\n",
        "\n",
        "$f(n)=f(n-1)+f(n-2)$"
      ]
    },
    {
      "cell_type": "code",
      "metadata": {
        "id": "wr21sg6apzli",
        "colab": {
          "base_uri": "https://localhost:8080/"
        },
        "outputId": "015b6145-f436-403c-fe0a-3c89f9b0d053"
      },
      "source": [
        "def fibonacci_loop(n):\n",
        "    if n == 1 or n == 2:\n",
        "        return 1\n",
        "    else:\n",
        "        fib1 = 1\n",
        "        fib2 = 1\n",
        "        fib3 = 0\n",
        "        for i in range(2, n):\n",
        "            fib3 = fib1 + fib2\n",
        "            fib1 = fib2\n",
        "            fib2 = fib3\n",
        "        return fib3\n",
        "print(fibonacci_loop(10))"
      ],
      "execution_count": null,
      "outputs": [
        {
          "output_type": "stream",
          "name": "stdout",
          "text": [
            "55\n"
          ]
        }
      ]
    },
    {
      "cell_type": "markdown",
      "metadata": {
        "id": "QeFH5bOhpzvA"
      },
      "source": [
        "### Step 11: Fibonacci sequence using recursion"
      ]
    },
    {
      "cell_type": "code",
      "metadata": {
        "id": "uSiFOM-ip1CJ",
        "colab": {
          "base_uri": "https://localhost:8080/"
        },
        "outputId": "a65c1c12-4eeb-46a3-fdf0-4678eea66901"
      },
      "source": [
        "def fibonacci(n):\n",
        "    if n == 0:\n",
        "        return 0\n",
        "    elif n == 1:\n",
        "        return 1\n",
        "    else:\n",
        "        return fibonacci(n-1) + fibonacci(n-2)\n",
        "\n",
        "print(fibonacci(10))"
      ],
      "execution_count": null,
      "outputs": [
        {
          "output_type": "stream",
          "name": "stdout",
          "text": [
            "55\n"
          ]
        }
      ]
    },
    {
      "cell_type": "markdown",
      "metadata": {
        "id": "M1sdfSWlp1Rg"
      },
      "source": [
        "### Step 12: Fibonacci sequence using recursion(2)"
      ]
    },
    {
      "cell_type": "code",
      "metadata": {
        "id": "O36P4eQ6p2l4"
      },
      "source": [
        "def recur_fibo(n):\n",
        "   if n <= 1:\n",
        "       return n\n",
        "   else:\n",
        "       return(recur_fibo(n-1) + recur_fibo(n-2))\n",
        "\n",
        "print(recur_fibo(10))"
      ],
      "execution_count": null,
      "outputs": []
    },
    {
      "cell_type": "markdown",
      "metadata": {
        "id": "aof6VxNfxJKY"
      },
      "source": [
        "## Topic 4-Lambda function\n",
        "Lambda：arg1,arg2...：expression\n",
        "※The magic expression of recursive call can be used in the expression※"
      ]
    },
    {
      "cell_type": "markdown",
      "metadata": {
        "id": "J7BK3uM5yhET"
      },
      "source": [
        "### Step 13: Fibonacci sequence using  Lambda function"
      ]
    },
    {
      "cell_type": "code",
      "source": [
        "def fibonacci(n):\n",
        "fib = lambda n: x:(fib(x-1)+fib(x-2)) if x>2 else 1\n",
        "\n"
      ],
      "metadata": {
        "id": "LMk5_KeRlk9M"
      },
      "execution_count": null,
      "outputs": []
    },
    {
      "cell_type": "code",
      "metadata": {
        "id": "K4dn33dRys-s"
      },
      "source": [
        "fib = lambda x:(fib(x-1)+fib(x-2)) if x>2 else 1\n",
        "\n",
        "print(fib(10))"
      ],
      "execution_count": null,
      "outputs": []
    },
    {
      "cell_type": "markdown",
      "metadata": {
        "id": "M5yo8avqxSFh"
      },
      "source": [
        "### Step 14: gcd calculation using  Lambda function"
      ]
    },
    {
      "cell_type": "code",
      "metadata": {
        "id": "F-3QJXgFxYEH"
      },
      "source": [
        "gcd = lambda x,y : (gcd(y,x%y)) if x%y else y\n",
        "\n",
        "a=240; b=96\n",
        "print(f\"{a}, {b}, {gcd(a,b)}\")"
      ],
      "execution_count": null,
      "outputs": []
    },
    {
      "cell_type": "markdown",
      "metadata": {
        "id": "qMNa0rB7y-LV"
      },
      "source": [
        "### Step 15: Use Lambda function in filter()"
      ]
    },
    {
      "cell_type": "code",
      "source": [
        "help(filter)"
      ],
      "metadata": {
        "id": "lYW4sBvEmMYM"
      },
      "execution_count": null,
      "outputs": []
    },
    {
      "cell_type": "code",
      "metadata": {
        "id": "7gxAY3IEzWaI",
        "colab": {
          "base_uri": "https://localhost:8080/"
        },
        "outputId": "71f692ea-6ce1-4613-9397-2d6db9474925"
      },
      "source": [
        "data=[0,1,2,3,4,7,8,14,19,31,34]\n",
        "\n",
        "odds =list(filter(lambda x: x%2 == 1, data))\n",
        "print(odds)\n",
        "evens=list(filter(lambda x: x%2 ==0, data))\n",
        "print(evens)"
      ],
      "execution_count": null,
      "outputs": [
        {
          "output_type": "stream",
          "name": "stdout",
          "text": [
            "[1, 3, 7, 19, 31]\n",
            "[0, 2, 4, 8, 14, 34]\n"
          ]
        }
      ]
    },
    {
      "cell_type": "markdown",
      "metadata": {
        "id": "Lw7YCA0mz4Re"
      },
      "source": [
        "### Step 16: Use Lambda function in map()"
      ]
    },
    {
      "cell_type": "code",
      "metadata": {
        "id": "V0Qcq7uiz6aJ"
      },
      "source": [
        "base=[1, 2, 3, 4]\n",
        "\n",
        "square=list(map(lambda x: x**2, base))\n",
        "print(square) "
      ],
      "execution_count": null,
      "outputs": []
    },
    {
      "cell_type": "markdown",
      "metadata": {
        "id": "GTcY-DSip2ui"
      },
      "source": [
        "## Topic 5(主題5)-JSON-Python Standard Library\n",
        "\n",
        "JSON (JavaScript Object Notation) is a lightweight data exchange format that is easy for people to read and write.\n",
        "https://en.wikipedia.org/wiki/JSON\n"
      ]
    },
    {
      "cell_type": "markdown",
      "metadata": {
        "id": "IWAEKbt4s877"
      },
      "source": [
        "### Step 17: Write data to a json file"
      ]
    },
    {
      "cell_type": "code",
      "metadata": {
        "id": "MPq0F5OSs_wg"
      },
      "source": [
        "import json\n",
        "\n",
        "data = [ { 'a' : 1, 'b' : 2, 'c' : 3, 'd' : 4, 'e' : 5 } ]\n",
        "\n",
        "file = open(\"test.json\", \"w\")\n",
        "json.dump(data, file)\n",
        "file.close()"
      ],
      "execution_count": null,
      "outputs": []
    },
    {
      "cell_type": "code",
      "metadata": {
        "id": "vOWME1Twtv-k",
        "colab": {
          "base_uri": "https://localhost:8080/"
        },
        "outputId": "7fcf6d27-63c6-4de1-adb0-52c8659e852d"
      },
      "source": [
        "!ls "
      ],
      "execution_count": null,
      "outputs": [
        {
          "output_type": "stream",
          "name": "stdout",
          "text": [
            "sample_data  test.json\n"
          ]
        }
      ]
    },
    {
      "cell_type": "code",
      "metadata": {
        "id": "S2aaKp83t0O2",
        "colab": {
          "base_uri": "https://localhost:8080/"
        },
        "outputId": "2a76de5c-e9ec-41ca-de88-b894d17c72da"
      },
      "source": [
        "!more test.json"
      ],
      "execution_count": null,
      "outputs": [
        {
          "output_type": "stream",
          "name": "stdout",
          "text": [
            "[{\"a\": 1, \"b\": 2, \"c\": 3, \"d\": 4, \"e\": 5}]\n"
          ]
        }
      ]
    },
    {
      "cell_type": "markdown",
      "metadata": {
        "id": "o2_KpLd2s_7h"
      },
      "source": [
        "### Step 18: Read a json file into the program"
      ]
    },
    {
      "cell_type": "code",
      "metadata": {
        "id": "ncg3O2sztBER",
        "colab": {
          "base_uri": "https://localhost:8080/"
        },
        "outputId": "c5f9d2eb-0913-4d88-bbb5-b4151966538b"
      },
      "source": [
        "import json\n",
        "file = open ('test.json')\n",
        "json_data = json.load(file)\n",
        "file.close()\n",
        "\n",
        "print(json_data)"
      ],
      "execution_count": null,
      "outputs": [
        {
          "output_type": "stream",
          "name": "stdout",
          "text": [
            "[{'a': 1, 'b': 2, 'c': 3, 'd': 4, 'e': 5}]\n"
          ]
        }
      ]
    },
    {
      "cell_type": "code",
      "metadata": {
        "id": "Z9r1DWrpu9bs",
        "colab": {
          "base_uri": "https://localhost:8080/"
        },
        "outputId": "8c37e24c-c5b6-4324-ba62-0c4d43e26dc9"
      },
      "source": [
        "type(json_data)"
      ],
      "execution_count": null,
      "outputs": [
        {
          "output_type": "execute_result",
          "data": {
            "text/plain": [
              "list"
            ]
          },
          "metadata": {},
          "execution_count": 21
        }
      ]
    },
    {
      "cell_type": "markdown",
      "metadata": {
        "id": "HzNeieIemSLB"
      },
      "source": [
        "## Topic 6-random-Python Standard Library\n",
        "https://docs.python.org/3/library/random.html\n"
      ]
    },
    {
      "cell_type": "markdown",
      "metadata": {
        "id": "fKUwi4-z01ym"
      },
      "source": [
        "### Step 19: Random number generation without specified seed"
      ]
    },
    {
      "cell_type": "code",
      "metadata": {
        "id": "P6do2ifA02LF",
        "colab": {
          "base_uri": "https://localhost:8080/"
        },
        "outputId": "7381f9cf-3ba6-45b2-af33-73d7ab79bc3a"
      },
      "source": [
        "#random --- 生成亂數\n",
        "import random as rd \n",
        "a=rd.random()                             # Random float:  0.0 <= x < 1.0\n",
        "b=rd.uniform(2.5, 10.0)                   # Random float:  2.5 <= x < 10.0\n",
        "c=rd.randrange(10)                        # Integer from 0 to 9 inclusive\n",
        "d=rd.choice(['win', 'lose', 'draw'])      # Single random element from a sequence\n",
        "print(a,b,c,d)"
      ],
      "execution_count": null,
      "outputs": [
        {
          "output_type": "stream",
          "name": "stdout",
          "text": [
            "0.47335688797946873 6.599587497846488 4 lose\n"
          ]
        }
      ]
    },
    {
      "cell_type": "markdown",
      "metadata": {
        "id": "WHBF5G8F1ImP"
      },
      "source": [
        "### Step 20: Random number generation of specified seed"
      ]
    },
    {
      "cell_type": "code",
      "metadata": {
        "id": "NzVp2CGP1TV6",
        "colab": {
          "base_uri": "https://localhost:8080/"
        },
        "outputId": "a71d5215-de2a-432c-9b3b-050af24db977"
      },
      "source": [
        "rd.seed(12345) \n",
        "a=rd.random()                             # Random float:  0.0 <= x < 1.0\n",
        "b=rd.uniform(2.5, 10.0)                   # Random float:  2.5 <= x < 10.0\n",
        "c=rd.randrange(10)                        # Integer from 0 to 9 inclusive\n",
        "d=rd.choice(['win', 'lose', 'draw'])      # Single random element from a sequence\n",
        "print(a,b,c,d)"
      ],
      "execution_count": null,
      "outputs": [
        {
          "output_type": "stream",
          "name": "stdout",
          "text": [
            "0.41661987254534116 2.5762687709280128 4 lose\n"
          ]
        }
      ]
    },
    {
      "cell_type": "code",
      "metadata": {
        "id": "12iyt7EQ1eUb",
        "colab": {
          "base_uri": "https://localhost:8080/"
        },
        "outputId": "409ff3a3-eebe-4a8f-cae3-88446ae06e2c"
      },
      "source": [
        "rd.seed(12347) \n",
        "a=rd.random()                             # Random float:  0.0 <= x < 1.0\n",
        "b=rd.uniform(2.5, 10.0)                   # Random float:  2.5 <= x < 10.0\n",
        "c=rd.randrange(10)                        # Integer from 0 to 9 inclusive\n",
        "d=rd.choice(['win', 'lose', 'draw'])      # Single random element from a sequence\n",
        "print(a,b,c,d)"
      ],
      "execution_count": null,
      "outputs": [
        {
          "output_type": "stream",
          "name": "stdout",
          "text": [
            "0.35375718772394105 8.708762847692968 7 lose\n"
          ]
        }
      ]
    },
    {
      "cell_type": "markdown",
      "metadata": {
        "id": "To_eTof9Xpc5"
      },
      "source": [
        "## Topic 7(主題7)-Present data with graphs\n",
        "https://matplotlib.org/"
      ]
    },
    {
      "cell_type": "markdown",
      "metadata": {
        "id": "s0VZZsL7YFEJ"
      },
      "source": [
        "### Step 21: Establish grade data and calculate the distribution of grades(0-40, 41-59, 60-80, 80-100)"
      ]
    },
    {
      "cell_type": "code",
      "metadata": {
        "id": "G_6wtISZYSSy"
      },
      "source": [
        "scores = [85, 15, 80, 80, 77, 76, 47, 48, 50, 50, \n",
        "          88, 90, 75, 67, 79, 76, 92, 90, 90, 48, \n",
        "          15, 95, 95, 85, 90, 88, 86, 87, 91, 82, \n",
        "          82, 86, 89, 88, 77, 69, 83, 85, 82, 81, \n",
        "          94, 72, 83, 75, 87, 79, 85, 84, 82, 87, \n",
        "          86, 86, 88, 83, 85, 87, 84, 87, 37, 90, \n",
        "          80, 82, 83, 87, 80, 68, 81, 91, 84, 15]"
      ],
      "execution_count": null,
      "outputs": []
    },
    {
      "cell_type": "code",
      "metadata": {
        "id": "pHoskCvDYclj",
        "colab": {
          "base_uri": "https://localhost:8080/"
        },
        "outputId": "f342903b-339e-4828-b771-8c78428188cf"
      },
      "source": [
        "stats = [0, 0 ,0 , 0]\n",
        "for score in scores:\n",
        "    if(score >= 0 and score <= 40):\n",
        "      stats[0]+=1\n",
        "    elif(score>=41 and score<=59):\n",
        "      stats[1]+=1\n",
        "    elif(score>=60 and score<=80):\n",
        "      stats[2]+=1\n",
        "    elif(score>=80 and score<=100):\n",
        "      stats[3]+=1\n",
        "print(f\"0-40={stats[0]}, 41-59={stats[1]}, 60-80={stats[2]}, 80-100={stats[3]}\")        "
      ],
      "execution_count": null,
      "outputs": [
        {
          "output_type": "stream",
          "name": "stdout",
          "text": [
            "0-40=4, 41-59=5, 60-80=16, 80-100=45\n"
          ]
        }
      ]
    },
    {
      "cell_type": "markdown",
      "metadata": {
        "id": "XHYvRnrVYOcv"
      },
      "source": [
        "###Step 22:Draw a graph of the distribution of people (bar graph, pie graph)"
      ]
    },
    {
      "cell_type": "code",
      "metadata": {
        "id": "PU8oi2EGY72B",
        "colab": {
          "base_uri": "https://localhost:8080/",
          "height": 281
        },
        "outputId": "41a27df1-0812-44f9-fee4-c75624ca6c9e"
      },
      "source": [
        "#畫出人數分佈的長條圖\n",
        "import matplotlib.pyplot as plt\n",
        "import numpy as np\n",
        "stats = [4, 5 ,16 , 47]\n",
        "labels = ('0-40', '41-59', '60-80', '80-100')\n",
        "y_pos = np.arange(len(stats))\n",
        "plt.bar(y_pos, stats, align='center', alpha=0.5)\n",
        "plt.xticks(y_pos, labels)\n",
        "plt.ylabel('Count')\n",
        "plt.title('Result of Quiz ')\n",
        "plt.show()"
      ],
      "execution_count": null,
      "outputs": [
        {
          "output_type": "display_data",
          "data": {
            "image/png": "[encoded data removed]",
            "text/plain": [
              "<Figure size 432x288 with 1 Axes>"
            ]
          },
          "metadata": {
            "needs_background": "light"
          }
        }
      ]
    },
    {
      "cell_type": "markdown",
      "metadata": {
        "id": "sio1U9IrZcs9"
      },
      "source": []
    },
    {
      "cell_type": "code",
      "metadata": {
        "id": "Jj27r7pGZdHT",
        "colab": {
          "base_uri": "https://localhost:8080/",
          "height": 248
        },
        "outputId": "f987caff-5802-4554-d832-792b0b9b66c6"
      },
      "source": [
        "import matplotlib.pyplot as plt\n",
        "\n",
        "# Pie chart, where the slices will be ordered and plotted counter-clockwise:\n",
        "\n",
        "stats = [4, 5 ,16 , 47]\n",
        "labels = ('0-40', '41-59', '60-80', '80-100')\n",
        "explode = (0, 0, 0,  0.1)  # 切開'80-100'的人數\n",
        "fig1, ax1 = plt.subplots()\n",
        "ax1.pie(stats, labels=labels, explode=explode, autopct='%.1f%%')\n",
        "plt.show()"
      ],
      "execution_count": null,
      "outputs": [
        {
          "output_type": "display_data",
          "data": {
            "image/png": "[encoded data removed]",
            "text/plain": [
              "<Figure size 432x288 with 1 Axes>"
            ]
          },
          "metadata": {}
        }
      ]
    },
    {
      "cell_type": "code",
      "metadata": {
        "id": "PaGENA_XbzRx"
      },
      "source": [
        "def make_autopct(values):\n",
        "    def my_autopct(pct):\n",
        "        total = sum(values)\n",
        "        val = int(round(pct*total/100.0))\n",
        "        return '{p:.1f}%  ({v:d})'.format(p=pct,v=val)\n",
        "    return my_autopct"
      ],
      "execution_count": null,
      "outputs": []
    },
    {
      "cell_type": "code",
      "metadata": {
        "id": "zkBCGLsxb2t4"
      },
      "source": [
        "fig1, ax1 = plt.subplots()\n",
        "ax1.pie(stats, labels=labels, autopct=make_autopct(stats))\n",
        "plt.show()"
      ],
      "execution_count": null,
      "outputs": []
    }
  ]
}