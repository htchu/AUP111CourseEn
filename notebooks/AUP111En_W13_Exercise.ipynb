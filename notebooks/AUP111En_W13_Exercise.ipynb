{
 "cells": [
  {
   "cell_type": "markdown",
   "metadata": {
    "id": "NmNGnQFiHXY5"
   },
   "source": [
    "# AU Fundamentals of Python Programming-111-Exercise 13"
   ]
  },
  {
   "cell_type": "markdown",
   "metadata": {
    "id": "NXJ42JfCHnuy"
   },
   "source": [
    "## M3 Problems:Q01-Q05"
   ]
  },
  {
   "cell_type": "markdown",
   "metadata": {
    "id": "psWIOLCgL81f"
   },
   "source": [
    "### M3Q1. Reverse string\n",
    "\n",
    "Problem Description:\n",
    "Enter a string and output it in reverse.\n",
    "\n",
    "Input description:\n",
    "Enter a string.\n",
    "\n",
    "Output description:\n",
    "Reverse the output of the input string, and there must be a newline character at the end.\n",
    "\n",
    "| Sample Input:   |      Sample Output:      |\n",
    "|:----------------|:-------------------------|\n",
    "|AsIACSIE | EISCAIsA  ⏎|"
   ]
  },
  {
   "cell_type": "markdown",
   "metadata": {
    "id": "ZLmJcNjzCVTa"
   },
   "source": [
    "<font size=\"10\">&#x0210B;</font>int(祕技):\n",
    "\n",
    "__Input:__ Input is a string\n",
    "\n",
    "__Process:__ As long as one for-loop\n",
    "\n",
    "__Output:__ output will use end=\"\""
   ]
  },
  {
   "cell_type": "code",
   "execution_count": null,
   "metadata": {
    "id": "7MVZnOHVIkxk"
   },
   "outputs": [],
   "source": [
    "#from here\n"
   ]
  },
  {
   "cell_type": "markdown",
   "metadata": {
    "id": "l3-JGMv4L-jg"
   },
   "source": [
    "### M3Q2. Random number selection program\n",
    "\n",
    "Problem Description:\n",
    "Please design a lottery random number selection program, select 6 non-repeating number combinations from 1 to 42 and output them.\n",
    "Please use the following method:\n",
    "```\n",
    "import random\n",
    "random.seed(10) #seed() is to set the random number seed, so that the random number sequence will be the same every time.\n",
    "print(random.randint(0, 42)) #randint(begin, end) Randomly select a number\n",
    "```\n",
    "Input description: Input seed.\n",
    "Output description: Select 6 non-repeating number combinations from 1 to 42 and output them. Please use tab as the space between the numbers, and there must be at the end Newline characters.\n",
    "\n",
    "| Sample Input:   |      Sample Output:      |\n",
    "|:----------------|:-------------------------|\n",
    "|23323456 | 30\t29\t18\t4\t2\t37⏎ |"
   ]
  },
  {
   "cell_type": "markdown",
   "metadata": {
    "id": "4Fb27RRYChLm"
   },
   "source": [
    "<font size=\"10\">&#x0210B;</font>int(祕技):\n",
    "\n",
    "___Input:__ Input is an integer\n",
    "\n",
    "__Process:__ Use list structure and 1 for-loop\n",
    "\n",
    "__Output:__ end=\"\\t\""
   ]
  },
  {
   "cell_type": "code",
   "execution_count": null,
   "metadata": {
    "id": "G7MAu2tlImM_"
   },
   "outputs": [],
   "source": [
    "#from here\n"
   ]
  },
  {
   "cell_type": "markdown",
   "metadata": {
    "id": "qIultu8BMAus"
   },
   "source": [
    "### M3Q3. Array exchange\n",
    "\n",
    "Problem description: Declare a 5*7 two-dimensional integer array, the user enters the array element (0~100), and the rows and columns are interchanged and output.\n",
    "\n",
    "Input description: Input array element (0~100).\n",
    "\n",
    "Output description: The rows and columns are interchanged and output, and the numbers are divided into tabs, and there must be a newline character at the end.\n",
    "\n",
    "\n",
    "| Sample Input:   |      Sample Output:      |\n",
    "|:----------------|:-------------------------|\n",
    "|81 7 7 10 97 0 97 |81 90 9 28 5|\n",
    "|90 67 8 25 1 39 34|7 67 54 8 1 |\n",
    "|9 54 63 53 53 55 77|7 8 63 17 95|\n",
    "|28 8 17 50 41 99 89|10 25 53 50 99 |\n",
    "| 5 1 95 99 76 92 60|97 1 53 41 76⏎|\n",
    "|  | 0 39 55 99 92   |\n",
    "|  |97 34 77 89 60  |"
   ]
  },
  {
   "cell_type": "markdown",
   "metadata": {
    "id": "iFWBNnkqC07o"
   },
   "source": [
    "<font size=\"10\">&#x0210B;</font>int:\n",
    "\n",
    "__Input:__ needs to input() 5 times, and each time it turns into a list. Combine 5 lists into one list\n",
    "\n",
    "__Process:__2-layer for-loop\n",
    "\n",
    "__Output:__ end=\"\\t\""
   ]
  },
  {
   "cell_type": "code",
   "execution_count": null,
   "metadata": {
    "id": "Or-nYqhUInLu"
   },
   "outputs": [],
   "source": [
    "#from here\n"
   ]
  },
  {
   "cell_type": "markdown",
   "metadata": {
    "id": "LbKj29d4MCta"
   },
   "source": [
    "### M3Q4. Digital matrix\n",
    "\n",
    "Problem description: Design a method $𝐹(ℎ,w)$ to print out the following digital matrix of width 𝑤 and height ℎ. (Take 𝑤 = 5, ℎ = 3 as an example)\n",
    "```\n",
    "1 2 3 4 5\n",
    "2 4 6 8 10\n",
    "3 6 9 12 15\n",
    "```\n",
    "The second row is twice the first row, the third row is three times the first row, and so on.\n",
    "\n",
    "Input description:\n",
    "Input integer width 𝑤 and height ℎ respectively.\n",
    "\n",
    "Output description:\n",
    "Output a number matrix with width 𝑤 and height ℎ as follows. Please use tab spaces between the numbers, and there must be a newline character at the end.\n",
    "\n",
    "\n",
    "| Sample Input:   |      Sample Output:      |\n",
    "|:----------------|:-------------------------|\n",
    "|5 3 |1 2 3 4 5|\n",
    "|  | 2 4 6 8 10   |\n",
    "|  |3 6 9 12 15 ⏎ |"
   ]
  },
  {
   "cell_type": "markdown",
   "metadata": {
    "id": "IaZotFQLDFUj"
   },
   "source": [
    "<font size=\"10\">&#x0210B;</font>int:\n",
    "\n",
    "__Input:__ The input is 2 integers\n",
    "\n",
    "__Process:__ Define def F(h,w) and call F(h,w), 2-layer for-loop\n",
    "\n",
    "__Output:__ end=\"\\t\""
   ]
  },
  {
   "cell_type": "code",
   "execution_count": null,
   "metadata": {
    "id": "tXoKbrerIoh0"
   },
   "outputs": [],
   "source": [
    "#from here\n"
   ]
  },
  {
   "cell_type": "markdown",
   "metadata": {
    "id": "YdYKzP2RME-H"
   },
   "source": [
    "### M3Q5. $𝑪(m,n)$\n",
    "\n",
    "Problem Description:\n",
    "Enter two integers and output $𝑪(m,n)$.\n",
    "$𝑪(m,n)=m!/n!(m-n)!$\n",
    "\n",
    "Input description:\n",
    "Enter the integers m and n respectively.\n",
    "\n",
    "Output description:\n",
    "The output $𝑪(m,n)$ must have a newline character at the end.\n",
    "\n",
    "example:\n",
    "\n",
    "| Sample Input:   |      Sample Output:      |\n",
    "|:----------------|:-------------------------|\n",
    "|8 6 |28⏎|"
   ]
  },
  {
   "cell_type": "markdown",
   "metadata": {
    "id": "-4paBmiVDjgR"
   },
   "source": [
    "<font size=\"10\">&#x0210B;</font>int:\n",
    "\n",
    "__Input:__ Input is 2 integers\n",
    "\n",
    "__Process:__\n",
    "\n",
    "__Output:__"
   ]
  },
  {
   "cell_type": "code",
   "execution_count": null,
   "metadata": {
    "id": "Lb4r9rSrIqKj"
   },
   "outputs": [],
   "source": [
    "#from here\n"
   ]
  },
  {
   "cell_type": "markdown",
   "metadata": {
    "id": "2HsWJv9LHqsL"
   },
   "source": [
    "### M3Q26 Recursive method power(a,n)\n",
    "Problem Description:\n",
    "Try two methods to calculate recursively $power(a,n)=a^n$\n",
    "\n",
    "method one:\n",
    "\n",
    "$power(a, n) = a * power(a, n-1)$\n",
    "\n",
    "Method Two:\n",
    "\n",
    "$power(a, n) = power(a, n/2)*power(a, n/2) $ when n is even\n",
    "\n",
    "$power(a, n) = a * power(a, n-1)$ when n is odd\n",
    "\n",
    "Input description:\n",
    "Input two positive integers a, n\n",
    "\n",
    "Output description:\n",
    "Output the result of power(a, n), and there must be a newline character at the end.\n",
    "\n",
    "example:\n",
    "\n",
    "| Sample Input:   |      Sample Output:      |\n",
    "|:----------------|:-------------------------|\n",
    "|2 3 |8|\n",
    "|  |8⏎|"
   ]
  },
  {
   "cell_type": "markdown",
   "metadata": {
    "id": "RBbgUegfEVdi"
   },
   "source": [
    "<font size=\"10\">&#x0210B;</font>int(祕技):\n",
    "\n",
    "__Input:__ Input is 2 positive integers\n",
    "\n",
    "__Process:__\n",
    "\n",
    "__Output:__"
   ]
  },
  {
   "cell_type": "code",
   "execution_count": null,
   "metadata": {
    "id": "hvuw4NuIqB6Y"
   },
   "outputs": [],
   "source": [
    "#from here\n"
   ]
  },
  {
   "cell_type": "markdown",
   "metadata": {
    "id": "7UcB2gfcciuY"
   },
   "source": [
    "### M3Q27 Recursion method: number of digits\n",
    "Problem Description:\n",
    "Design a recursive method, enter a positive integer value (excluding 0), and return the number of digits.\n",
    "\n",
    "Input description:\n",
    "Enter a positive integer value (excluding 0).\n",
    "\n",
    "Output description:\n",
    "The output value is a few digits, and there must be a newline character at the end.\n",
    "\n",
    "\n",
    "example:\n",
    "\n",
    "| Sample Input:   |      Sample Output:      |\n",
    "|:----------------|:-------------------------|\n",
    "|4395 |4⏎|"
   ]
  },
  {
   "cell_type": "markdown",
   "metadata": {
    "id": "sHoDqDO2EWtg"
   },
   "source": [
    "<font size=\"10\">&#x0210B;</font>int(祕技):\n",
    "\n",
    "__Input:__ Input is a positive integer\n",
    "\n",
    "__Process:__ The recursive function is that the function itself is called in the definition of the function\n",
    "\n",
    "__Output:__"
   ]
  },
  {
   "cell_type": "code",
   "execution_count": null,
   "metadata": {
    "id": "F49YCf6DqA6J"
   },
   "outputs": [],
   "source": [
    "\n"
   ]
  },
  {
   "cell_type": "markdown",
   "metadata": {
    "id": "bkOnfFN9cjiJ"
   },
   "source": [
    "### M3Q28 Recursion method: the greatest common factor of two numbers\n",
    "Problem Description:\n",
    "Write a recursive method to find the greatest common factor gcd(m, n) of the two numbers m and n.\n",
    "\n",
    "Input description:\n",
    "Enter the two numbers m and n.\n",
    "\n",
    "Output description:\n",
    "Output the greatest common factor of the two numbers m and n, and there must be a newline character at the end.\n",
    "\n",
    "\n",
    "example:\n",
    "\n",
    "| Sample Input:   |      Sample Output:      |\n",
    "|:----------------|:-------------------------|\n",
    "|72 99 |9⏎ |"
   ]
  },
  {
   "cell_type": "markdown",
   "metadata": {
    "id": "7aIlMcjBEXlz"
   },
   "source": [
    "<font size=\"10\">&#x0210B;</font>int(祕技):\n",
    "\n",
    "__Input:__ The input is 2 integers\n",
    "\n",
    "__Process:__ The recursive function is that the function itself is called in the definition of the function\n",
    "\n",
    "__Output:__"
   ]
  },
  {
   "cell_type": "code",
   "execution_count": null,
   "metadata": {
    "id": "j1K6fJw8p_tb"
   },
   "outputs": [],
   "source": [
    "#from here\n"
   ]
  },
  {
   "cell_type": "markdown",
   "metadata": {
    "id": "hOEbQ3DGckd3"
   },
   "source": [
    "### M3Q29 Recursion method: fee series\n",
    "Problem Description:\n",
    "Enter a positive integer n to recursively find the Fibonacii coefficient value $𝐹_n$\n",
    "\n",
    "The formula is:\n",
    "\n",
    "$𝐹_0=0$\n",
    "\n",
    "$𝐹_1=1$\n",
    "\n",
    "$𝐹_n=𝐹_\\text{n-1}+𝐹_\\text{n-2}$\n",
    "\n",
    "Input description:\n",
    "Enter a positive integer n.\n",
    "\n",
    "Output description:\n",
    "Output the value of $𝐹_n$, and there must be a newline character at the end.\n",
    "\n",
    "example:\n",
    "\n",
    "| Sample Input:   |      Sample Output:      |\n",
    "|:----------------|:-------------------------|\n",
    "|15 |610⏎|"
   ]
  },
  {
   "cell_type": "markdown",
   "metadata": {
    "id": "K-7L2kRuEZMW"
   },
   "source": [
    "<font size=\"10\">&#x0210B;</font>int:\n",
    "\n",
    "__Input:__ Input is an integer\n",
    "\n",
    "__Process:__ The recursive function is that the function itself is called in the definition of the function\n",
    "\n",
    "__Output:__"
   ]
  },
  {
   "cell_type": "code",
   "execution_count": null,
   "metadata": {
    "id": "ma2UplsDqAP5"
   },
   "outputs": [],
   "source": [
    "#from here\n"
   ]
  }
 ],
 "metadata": {
  "colab": {
   "collapsed_sections": [],
   "provenance": []
  },
  "kernelspec": {
   "display_name": "Python 3 (ipykernel)",
   "language": "python",
   "name": "python3"
  },
  "language_info": {
   "codemirror_mode": {
    "name": "ipython",
    "version": 3
   },
   "file_extension": ".py",
   "mimetype": "text/x-python",
   "name": "python",
   "nbconvert_exporter": "python",
   "pygments_lexer": "ipython3",
   "version": "3.9.7"
  }
 },
 "nbformat": 4,
 "nbformat_minor": 1
}
