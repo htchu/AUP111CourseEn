{
  "cells": [
    {
      "cell_type": "markdown",
      "metadata": {
        "id": "UWGQ8T66muP5"
      },
      "source": [
        "# About_Python\n",
        "![image](https://www.python.org/static/img/python-logo.png)\n"
      ]
    },
    {
      "cell_type": "markdown",
      "metadata": {
        "id": "rS0QDiYamues"
      },
      "source": [
        "## Python official documents\n",
        "https://docs.python.org/3/\n"
      ]
    },
    {
      "cell_type": "markdown",
      "metadata": {
        "id": "WsGRhyDjW-Jn"
      },
      "source": [
        "## Python Tutorials\n",
        "\n",
        "https://docs.python.org/3/tutorial/index.html\n"
      ]
    },
    {
      "cell_type": "markdown",
      "metadata": {
        "id": "GayA6aSxmulE"
      },
      "source": [
        "## PEP-Python Enhancement Proposals\n",
        "https://www.python.org/dev/peps/\n",
        "\n",
        "* PEP 389 – argparse https://peps.python.org/pep-0389/\n",
        "* PEP 405: vev https://www.python.org/dev/peps/pep-0405/\n",
        "* PEP 498: Formatted string literals https://www.python.org/dev/peps/pep-0498/\n",
        "* PEP 526: Syntax for variable annotations https://www.python.org/dev/peps/pep-0526/"
      ]
    },
    {
      "cell_type": "code",
      "execution_count": null,
      "metadata": {
        "id": "7FGAQDMdP7pX"
      },
      "outputs": [],
      "source": [
        "# PEP 526: Syntax for variable annotations\n",
        "primes: List[int] = []\n",
        "captain: str  # Note: no initial value!\n",
        "class Starship:\n",
        "    stats: Dict[str, int] = {}"
      ]
    },
    {
      "cell_type": "markdown",
      "metadata": {
        "id": "H3aKjEDsmunf"
      },
      "source": [
        "##PIP\n",
        "pip is a software package management system written in the Python computer programming language. It can install and manage software packages. Many other software packages can also be found in the \"Python Package Index\" (English: Python Package Index, PyPI). Many Python distributions come with pip pre-installed"
      ]
    },
    {
      "cell_type": "code",
      "execution_count": null,
      "metadata": {
        "id": "qQaeRDnBSlnJ"
      },
      "outputs": [],
      "source": [
        "!pip install --upgrade pip\n",
        "!pip install tf_slim\n",
        "!pip install lvis\n",
        "!pip install tensorflow-addons"
      ]
    },
    {
      "cell_type": "code",
      "execution_count": null,
      "metadata": {
        "id": "-jAm_QvhTG4-"
      },
      "outputs": [],
      "source": [
        "%%bash\n",
        "pip install --upgrade pip\n",
        "pip install tf_slim\n",
        "pip install lvis\n",
        "pip install tensorflow-addons"
      ]
    },
    {
      "cell_type": "markdown",
      "metadata": {
        "id": "E2hnMIHKmuqO"
      },
      "source": [
        "## Anaconda\n",
        "naconda is a free and open source Python and R language distribution for computing science, Anaconda is dedicated to simplifying software suite management systems and deployment. Anaconda packages are managed using the software package management system Conda.\n",
        "https://www.anaconda.com/\n",
        "\n",
        "![image](https://www.anaconda.com/imager/assetsdo/Products/8031/open-source-logos2x_680db6b6f11f9cc710dd7defae241cd3.png)\n"
      ]
    },
    {
      "cell_type": "markdown",
      "metadata": {
        "id": "iL7f-Ugsmus4"
      },
      "source": [
        "## Jupyter notebook\n",
        "![image](https://jupyter.org/assets/main-logo.svg)\n",
        "\n",
        "Jupyter是一個非營利組織，旨在「為數十種程式語言的互動式計算開發開源軟體，開放標準和服務」。Jupyter支援幾十種語言的執行環境。\n",
        "\n",
        "Jupyter Project的名稱是對Jupyter支援的三種核心程式語言的引用，這三種語言是Julia、Python和R，也是對伽利略記錄發現木星的衛星的筆記本的致敬。Jupyter專案開發並支援互動式計算產品Jupyter Notebook、JupyterHub和JupyterLab，這是Jupyter Notebook的下一代版本。"
      ]
    },
    {
      "cell_type": "markdown",
      "metadata": {
        "id": "PuAIgdRXmuv4"
      },
      "source": [
        "## Colab\n",
        "\n",
        "\n",
        "https://colab.research.google.com/"
      ]
    },
    {
      "cell_type": "markdown",
      "metadata": {
        "id": "WEJMC6iaOs5J"
      },
      "source": [
        "## Python IDLE — (Integrated Development and Learning Environment)\n",
        "IDLE is an integrated development environment for Python that comes bundled with the default implementation of the language. It is packaged with many Linux distributions as an optional part of Python packaging. It is written entirely in Python and the Tkinter GUI toolkit. IDLE aims to be a simple IDE suitable for beginners, especially in an educational environment. To this end, it is cross-platform and avoids functional clutter.\n",
        "\n",
        "![image](https://i1.wp.com/www.bhutanpythoncoders.com/wp-content/uploads/2020/08/interactive-shell.jpg?resize=443%2C431&ssl=1)"
      ]
    },
    {
      "cell_type": "markdown",
      "metadata": {
        "id": "sZdZ205qV1DH"
      },
      "source": [
        "## Spyder IDE\n",
        " Spyder is an open-source cross-platform scientific computing integrated development environment using the Python language. Spyder integrates NumPy, SciPy, Matplotlib and IPython, and other open source software.\n",
        "![image](\n",
        "https://encrypted-tbn0.gstatic.com/images?q=tbn:ANd9GcTTbO8HsMM0lfDM89pul-mq1y7XxjIUfJsEX06k8Zuc96cipRHs4-_u7bIGpIk3DHgCB_k&usqp=CAU)"
      ]
    },
    {
      "cell_type": "markdown",
      "metadata": {
        "id": "947cLzgcWZr4"
      },
      "source": [
        "## PyCharm-The Python IDE for Professional Developers\n",
        "PyCharm is an integrated development environment for computer programming, mainly used for Python language development, developed by Czech company JetBrains, providing code analysis, graphical debugger, integrated tester, integrated version control system, and supports the use of Django web development. PyCharm is a cross-platform development environment with versions for Microsoft Windows, macOS and Linux.\n",
        "\n",
        "https://www.jetbrains.com/pycharm/"
      ]
    }
  ],
  "metadata": {
    "colab": {
      "name": "AUP110_W0About_Python.ipynb",
      "provenance": []
    },
    "kernelspec": {
      "display_name": "Python 3",
      "name": "python3"
    },
    "language_info": {
      "name": "python"
    }
  },
  "nbformat": 4,
  "nbformat_minor": 0
}
