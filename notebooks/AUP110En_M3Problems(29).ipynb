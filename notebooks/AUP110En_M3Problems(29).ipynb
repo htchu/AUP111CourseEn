{
 "cells": [
  {
   "cell_type": "markdown",
   "metadata": {
    "id": "NmNGnQFiHXY5"
   },
   "source": [
    "# AU Fundamentals of Python Programming-111-M3 Questions(29)"
   ]
  },
  {
   "cell_type": "markdown",
   "metadata": {
    "id": "NXJ42JfCHnuy"
   },
   "source": [
    "## M3 Problems:Q01-Q05"
   ]
  },
  {
   "cell_type": "markdown",
   "metadata": {
    "id": "psWIOLCgL81f"
   },
   "source": [
    "### M3Q1. Reverse string\n",
    "\n",
    "Problem Description:\n",
    "Enter a string and output it in reverse.\n",
    "\n",
    "Input description:\n",
    "Enter a string.\n",
    "\n",
    "Output description:\n",
    "Reverse the output of the input string, and there must be a newline character at the end.\n",
    "\n",
    "| Sample Input:   |      Sample Output:      |\n",
    "|:----------------|:-------------------------|\n",
    "|AsIACSIE | EISCAIsA  ⏎|"
   ]
  },
  {
   "cell_type": "markdown",
   "metadata": {
    "id": "ZLmJcNjzCVTa"
   },
   "source": [
    "<font size=\"10\">&#x0210B;</font>int(祕技):\n",
    "\n",
    "__Input:__ Input is a string\n",
    "\n",
    "__Process:__ As long as one for-loop\n",
    "\n",
    "__Output:__ output will use end=\"\""
   ]
  },
  {
   "cell_type": "code",
   "execution_count": null,
   "metadata": {
    "id": "7MVZnOHVIkxk"
   },
   "outputs": [],
   "source": [
    "#from here\n"
   ]
  },
  {
   "cell_type": "markdown",
   "metadata": {
    "id": "l3-JGMv4L-jg"
   },
   "source": [
    "### M3Q2. Random number selection program\n",
    "\n",
    "Problem Description:\n",
    "Please design a lottery random number selection program, select 6 non-repeating number combinations from 1 to 42 and output them.\n",
    "Please use the following method:\n",
    "```\n",
    "import random\n",
    "random.seed(10) #seed() is to set the random number seed, so that the random number sequence will be the same every time.\n",
    "print(random.randint(0, 42)) #randint(begin, end) Randomly select a number\n",
    "```\n",
    "Input description: Input seed.\n",
    "Output description: Select 6 non-repeating number combinations from 1 to 42 and output them. Please use tab as the space between the numbers, and there must be at the end Newline characters.\n",
    "\n",
    "| Sample Input:   |      Sample Output:      |\n",
    "|:----------------|:-------------------------|\n",
    "|23323456 | 30\t29\t18\t4\t2\t37⏎ |"
   ]
  },
  {
   "cell_type": "markdown",
   "metadata": {
    "id": "4Fb27RRYChLm"
   },
   "source": [
    "<font size=\"10\">&#x0210B;</font>int(祕技):\n",
    "\n",
    "___Input:__ Input is an integer\n",
    "\n",
    "__Process:__ Use list structure and 1 for-loop\n",
    "\n",
    "__Output:__ end=\"\\t\""
   ]
  },
  {
   "cell_type": "code",
   "execution_count": null,
   "metadata": {
    "id": "G7MAu2tlImM_"
   },
   "outputs": [],
   "source": [
    "#from here\n"
   ]
  },
  {
   "cell_type": "markdown",
   "metadata": {
    "id": "qIultu8BMAus"
   },
   "source": [
    "### M3Q3. Array exchange\n",
    "\n",
    "Problem description: Declare a 5*7 two-dimensional integer array, the user enters the array element (0~100), and the rows and columns are interchanged and output.\n",
    "\n",
    "Input description: Input array element (0~100).\n",
    "\n",
    "Output description: The rows and columns are interchanged and output, and the numbers are divided into tabs, and there must be a newline character at the end.\n",
    "\n",
    "\n",
    "| Sample Input:   |      Sample Output:      |\n",
    "|:----------------|:-------------------------|\n",
    "|81 7 7 10 97 0 97 |81 90 9 28 5|\n",
    "|90 67 8 25 1 39 34|7 67 54 8 1 |\n",
    "|9 54 63 53 53 55 77|7 8 63 17 95|\n",
    "|28 8 17 50 41 99 89|10 25 53 50 99 |\n",
    "| 5 1 95 99 76 92 60|97 1 53 41 76⏎|\n",
    "|  | 0 39 55 99 92   |\n",
    "|  |97 34 77 89 60  |"
   ]
  },
  {
   "cell_type": "markdown",
   "metadata": {
    "id": "iFWBNnkqC07o"
   },
   "source": [
    "<font size=\"10\">&#x0210B;</font>int:\n",
    "\n",
    "__Input:__ needs to input() 5 times, and each time it turns into a list. Combine 5 lists into one list\n",
    "\n",
    "__Process:__2-layer for-loop\n",
    "\n",
    "__Output:__ end=\"\\t\""
   ]
  },
  {
   "cell_type": "code",
   "execution_count": null,
   "metadata": {
    "id": "Or-nYqhUInLu"
   },
   "outputs": [],
   "source": [
    "#from here\n"
   ]
  },
  {
   "cell_type": "markdown",
   "metadata": {
    "id": "LbKj29d4MCta"
   },
   "source": [
    "### M3Q4. Digital matrix\n",
    "\n",
    "Problem description: Design a method $𝐹(ℎ,w)$ to print out the following digital matrix of width 𝑤 and height ℎ. (Take 𝑤 = 5, ℎ = 3 as an example)\n",
    "```\n",
    "1 2 3 4 5\n",
    "2 4 6 8 10\n",
    "3 6 9 12 15\n",
    "```\n",
    "The second row is twice the first row, the third row is three times the first row, and so on.\n",
    "\n",
    "Input description:\n",
    "Input integer width 𝑤 and height ℎ respectively.\n",
    "\n",
    "Output description:\n",
    "Output a number matrix with width 𝑤 and height ℎ as follows. Please use tab spaces between the numbers, and there must be a newline character at the end.\n",
    "\n",
    "\n",
    "| Sample Input:   |      Sample Output:      |\n",
    "|:----------------|:-------------------------|\n",
    "|5 3 |1 2 3 4 5|\n",
    "|  | 2 4 6 8 10   |\n",
    "|  |3 6 9 12 15 ⏎ |"
   ]
  },
  {
   "cell_type": "markdown",
   "metadata": {
    "id": "IaZotFQLDFUj"
   },
   "source": [
    "<font size=\"10\">&#x0210B;</font>int:\n",
    "\n",
    "__Input:__ The input is 2 integers\n",
    "\n",
    "__Process:__ Define def F(h,w) and call F(h,w), 2-layer for-loop\n",
    "\n",
    "__Output:__ end=\"\\t\""
   ]
  },
  {
   "cell_type": "code",
   "execution_count": null,
   "metadata": {
    "id": "tXoKbrerIoh0"
   },
   "outputs": [],
   "source": [
    "#from here\n"
   ]
  },
  {
   "cell_type": "markdown",
   "metadata": {
    "id": "YdYKzP2RME-H"
   },
   "source": [
    "### M3Q5. $𝑪(m,n)$\n",
    "\n",
    "Problem Description:\n",
    "Enter two integers and output $𝑪(m,n)$.\n",
    "$𝑪(m,n)=m!/n!(m-n)!$\n",
    "\n",
    "Input description:\n",
    "Enter the integers m and n respectively.\n",
    "\n",
    "Output description:\n",
    "The output $𝑪(m,n)$ must have a newline character at the end.\n",
    "\n",
    "example:\n",
    "\n",
    "| Sample Input:   |      Sample Output:      |\n",
    "|:----------------|:-------------------------|\n",
    "|8 6 |28⏎|"
   ]
  },
  {
   "cell_type": "markdown",
   "metadata": {
    "id": "-4paBmiVDjgR"
   },
   "source": [
    "<font size=\"10\">&#x0210B;</font>int:\n",
    "\n",
    "__Input:__ Input is 2 integers\n",
    "\n",
    "__Process:__\n",
    "\n",
    "__Output:__"
   ]
  },
  {
   "cell_type": "code",
   "execution_count": null,
   "metadata": {
    "id": "Lb4r9rSrIqKj"
   },
   "outputs": [],
   "source": [
    "#from here\n"
   ]
  },
  {
   "cell_type": "markdown",
   "metadata": {
    "id": "evBNVv9vHqNz"
   },
   "source": [
    "## M3 Problems:Q06-Q10"
   ]
  },
  {
   "cell_type": "markdown",
   "metadata": {
    "id": "gF5Z6EUtcOfT"
   },
   "source": [
    "### M3Q06 Digital dismantling method\n",
    "Problem Description:\n",
    "Enter a string of numbers, write a number disassembly method, and separate individual numbers with blanks.\n",
    "\n",
    "Input description:\n",
    "Enter a string of numbers n.\n",
    "\n",
    "Output description:\n",
    "Through the disassembly method, separate individual numbers with blanks, and there must be linefeed characters at the end.\n",
    "\n",
    "example:\n",
    "\n",
    "| Sample Input:   |      Sample Output:      |\n",
    "|:----------------|:-------------------------|\n",
    "|4562 |4 5 6 2⏎|\n",
    "|128917178 |1 2 8 9 1 7 1 7 8⏎|\n",
    "|8279 |8 2 7 9⏎|"
   ]
  },
  {
   "cell_type": "markdown",
   "metadata": {
    "id": "vlkHBXlxDpYC"
   },
   "source": [
    "<font size=\"10\">&#x0210B;</font>int:\n",
    "\n",
    "__Input:__ The input is an integer\n",
    "\n",
    "__Process:__ Define a get_digits(n) function\n",
    "\n",
    "__Output:__"
   ]
  },
  {
   "cell_type": "code",
   "execution_count": null,
   "metadata": {
    "id": "vuMR1YxNIrkD"
   },
   "outputs": [],
   "source": [
    "#from here\n"
   ]
  },
  {
   "cell_type": "markdown",
   "metadata": {
    "id": "Wk7LjJ8DcToE"
   },
   "source": [
    "### M3Q07 Sort by student number\n",
    "Problem Description:\n",
    "A file contains the student numbers of all students, but they are not arranged in order of size. Please write a program to sort by the size of the student number and output the result.\n",
    "\n",
    "Input description:\n",
    "Input n groups of student ID, and input n groups of student ID (data type: long).\n",
    "\n",
    "Output description:\n",
    "Arrange according to the size of the student number (from small to large) and output the result, and there must be a newline character at the end.\n",
    "\n",
    "example:\n",
    "\n",
    "| Sample Input:   |      Sample Output:      |\n",
    "|:----------------|:-------------------------|\n",
    "|3 |102033058|\n",
    "|103021020 |103021020|\n",
    "|105074011 |105074011⏎|\n",
    "|102033058 | |"
   ]
  },
  {
   "cell_type": "markdown",
   "metadata": {
    "id": "OhGR6_86Dqc1"
   },
   "source": [
    "<font size=\"10\">&#x0210B;</font>int:\n",
    "\n",
    "__Input:__ The input is 4 lines, using the string of List school number\n",
    "\n",
    "__Process:__ Use sorted() function\n",
    "\n",
    "__Output:__"
   ]
  },
  {
   "cell_type": "code",
   "execution_count": null,
   "metadata": {
    "id": "YlJ67Nq-Isym"
   },
   "outputs": [],
   "source": [
    "#from here\n"
   ]
  },
  {
   "cell_type": "markdown",
   "metadata": {
    "id": "lqefXJ5lcUi3"
   },
   "source": [
    "### M3Q08 Array square\n",
    "\n",
    "Problem Description:\n",
    "Write a method square(arr), after calling the square(arr) method, every element in the one-dimensional array arr will be\n",
    "Be squared.\n",
    "\n",
    "Input description:\n",
    "Enter multiple positive integers consecutively and store them in the array arr.\n",
    "\n",
    "Output description:\n",
    "After calling the square(arr) function, each element in the one-dimensional array arr will be squared, and the result will be output.\n",
    "The characters are divided into tabs, and there must be a newline character at the end.\n",
    "\n",
    "example:\n",
    "\n",
    "| Sample Input:   |      Sample Output:      |\n",
    "|:----------------|:-------------------------|\n",
    "|1 3 5 7 |1 9 25 49⏎|"
   ]
  },
  {
   "cell_type": "markdown",
   "metadata": {
    "id": "jWBfXjrzDt7Q"
   },
   "source": [
    "<font size=\"10\">&#x0210B;</font>int:\n",
    "\n",
    "__Input:__ Input a line directly into a list\n",
    "\n",
    "__Process:__ Define a square(arr) and call square()\n",
    "\n",
    "__Output:__"
   ]
  },
  {
   "cell_type": "code",
   "execution_count": null,
   "metadata": {
    "id": "nBE3DA7tIuYz"
   },
   "outputs": [],
   "source": [
    "#from here\n"
   ]
  },
  {
   "cell_type": "markdown",
   "metadata": {
    "id": "3DUbAeWrcVe_"
   },
   "source": [
    "### M3Q09 Bubble sorting\n",
    "Problem Description:\n",
    "Write a bubble sorting program to sort the entered numbers.\n",
    "\n",
    "Input description:\n",
    "Enter several numbers.\n",
    "\n",
    "Output description:\n",
    "The result is output after sorting by bubble sorting, the numbers are divided into blank spaces, and there must be a newline character at the end.\n",
    "\n",
    "\n",
    "example:\n",
    "\n",
    "| Sample Input:   |      Sample Output:      |\n",
    "|:----------------|:-------------------------|\n",
    "|3 9 4 2 5 |2 3 4 5 9⏎|"
   ]
  },
  {
   "cell_type": "markdown",
   "metadata": {
    "id": "3KRqCT4xDv_2"
   },
   "source": [
    "<font size=\"10\">&#x0210B;</font>int:\n",
    "\n",
    "__Refer：__  https://en.wikipedia.org/wiki/Bubble_sort\n",
    "\n",
    "__Input:__ Input a line directly into a list\n",
    "\n",
    "__Process:__ Define a bubbleSort() function and call\n",
    "\n",
    "__Output:__"
   ]
  },
  {
   "cell_type": "code",
   "execution_count": null,
   "metadata": {
    "id": "fTsPjymwIvzU"
   },
   "outputs": [],
   "source": [
    "#from here\n"
   ]
  },
  {
   "cell_type": "markdown",
   "metadata": {
    "id": "MN2nDavOcWpY"
   },
   "source": [
    "### M3Q10 Maximum value of continuous element multiplication\n",
    "\n",
    "Problem Description:\n",
    "There are positive, negative, and 0 in an integer array. Please write a program to find the maximum value of the multiplication of consecutive elements in this array.\n",
    "\n",
    "Input description:\n",
    "Enter a sequence of N elements. .\n",
    "\n",
    "Output description:\n",
    "The maximum value of the multiplication of consecutive elements in the output array, and there must be a newline character at the end.\n",
    "\n",
    "example:\n",
    "\n",
    "| Sample Input:   |      Sample Output:      |\n",
    "|:----------------|:-------------------------|\n",
    "|1 2 4 -4 9 7 |63⏎|"
   ]
  },
  {
   "cell_type": "markdown",
   "metadata": {
    "id": "ZkuPDgjcDx2U"
   },
   "source": [
    "<font size=\"10\">&#x0210B;</font>int:\n",
    "\n",
    "__Reference:__ https://leetcode-cn.com/problems/maximum-product-subarray/solution/\n",
    "\n",
    "__Input:__ Input a line directly into a list\n",
    "\n",
    "__Process:__ Because the number may be negative, it may be negative to positive\n",
    "\n",
    "__Output:__"
   ]
  },
  {
   "cell_type": "code",
   "execution_count": null,
   "metadata": {
    "id": "gTjzpgkegJkz"
   },
   "outputs": [],
   "source": [
    "#from here\n"
   ]
  },
  {
   "cell_type": "markdown",
   "metadata": {
    "id": "7wlkzLnAHqgd"
   },
   "source": [
    "## M3 Problems:Q11-Q15"
   ]
  },
  {
   "cell_type": "markdown",
   "metadata": {
    "id": "21njLIiCIE37"
   },
   "source": [
    "### M3Q11. Sum of continuous elements as 0\n",
    "Problem Description:\n",
    "There are positive numbers, negative numbers, and 0s in an integer array, and the elements are not repeated. Please write a program to find out in this array\n",
    "For several consecutive elements, the sum is zero. For example: in 1, 2, 3, -5, 4, the sum of 2, 3, -5 is 0.\n",
    "\n",
    "Input description:\n",
    "Enter the array size N and the number sequence with N elements respectively.\n",
    "\n",
    "Output description:\n",
    "Please find out the number of consecutive elements in the array whose sum is 0, and output the result.\n",
    "Line characters.\n",
    "\n",
    "| Sample Input:   |      Sample Output:      |\n",
    "|:----------------|:-------------------------|\n",
    "| 1 2 3 -5 4  | 2 3 -5 ⏎|"
   ]
  },
  {
   "cell_type": "markdown",
   "metadata": {
    "id": "rCfPBrLvD2Hz"
   },
   "source": [
    "<font size=\"10\">&#x0210B;</font>int:\n",
    "\n",
    "__Input:__ Input a line directly into a list\n",
    "\n",
    "__Process:__ Use the dictionary to record the accumulated value\n",
    "\n",
    "__Output:__"
   ]
  },
  {
   "cell_type": "code",
   "execution_count": null,
   "metadata": {
    "colab": {
     "base_uri": "https://localhost:8080/"
    },
    "id": "0ohsTBWrIHP1",
    "outputId": "342b99e7-2762-4e1e-90bf-ea2f5f6c83a4"
   },
   "outputs": [
    {
     "name": "stdout",
     "output_type": "stream",
     "text": [
      "1 2 3 -5 4\n",
      "2 3 -5 \n"
     ]
    }
   ],
   "source": [
    "#from here\n",
    "nums =  list(map(int, input().split()))\n",
    "n = len(nums)\n",
    "for start in range(n):\n",
    "  sum = 0\n",
    "  for x in range(start, n):\n",
    "    sum +=nums[x]\n",
    "    if sum == 0:\n",
    "      for y in range(start, x+1):\n",
    "        print(nums[y], end=\" \")\n",
    "      print()"
   ]
  },
  {
   "cell_type": "markdown",
   "metadata": {
    "id": "j5b08Gk7IHln"
   },
   "source": [
    "### M3Q12. Find the same element\n",
    "\n",
    "Problem Description:\n",
    "Given that two integer arrays f and g, their elements have been arranged from small to large, and the elements of the two arrays are all different\n",
    "Self-different. For example, f has 1, 3, 4, 7, 9, and g has 3, 5, 7, 8, 10. Please write a program to calculate these two matrices\n",
    "List how many sets of the same data are between each other. In the above example, f[2] and g[1] are both 3, which is the first group. f[4] and\n",
    "g[3] are all 7, which is the second group.\n",
    "\n",
    "Input description:\n",
    "Enter two numbers with N1 elements and N2 elements.\n",
    "\n",
    "Output description:\n",
    "How many groups of elements appear in each of the two arrays.\n",
    "\n",
    "| Sample Input:   |      Sample Output:      |\n",
    "|:----------------|:-------------------------|\n",
    "| 2 3 3 2 3 4 5 6 | 2⏎|\n",
    "|3 3 1 -1 4 7||"
   ]
  },
  {
   "cell_type": "markdown",
   "metadata": {
    "id": "pi4-gmTFEBK4"
   },
   "source": [
    "<font size=\"10\">&#x0210B;</font>int:\n",
    "\n",
    "__Input:__ Input 2 lines directly into 2 lists\n",
    "\n",
    "__Process:__ Use collection {}\n",
    "\n",
    "__Output:__"
   ]
  },
  {
   "cell_type": "code",
   "execution_count": null,
   "metadata": {
    "colab": {
     "base_uri": "https://localhost:8080/"
    },
    "id": "esutHg5DIL8j",
    "outputId": "06553e65-ba08-43b1-e152-95d6fa93102f"
   },
   "outputs": [
    {
     "name": "stdout",
     "output_type": "stream",
     "text": [
      "2 3 3 2 3 4 5 6\n",
      "3 3 1 -1 4 7\n",
      "2\n"
     ]
    }
   ],
   "source": [
    "#from here\n",
    "nums1 = list(map(int, input().split()))\n",
    "nums2 = list(map(int, input().split()))\n",
    "set1 = set()\n",
    "set2 = set()\n",
    "\n",
    "for x in nums1:\n",
    "  if x not in set1:\n",
    "    set1.add(x)\n",
    "\n",
    "for x in nums2:\n",
    "  if x not in set2:\n",
    "    set2.add(x)\n",
    "count = 0\n",
    "for x in set1:\n",
    "  if x in set2:\n",
    "    count +=1\n",
    "\n",
    "print(count)"
   ]
  },
  {
   "cell_type": "markdown",
   "metadata": {
    "id": "u1uXXKNJIMEs"
   },
   "source": [
    "### M3Q13. Calendar\n",
    "\n",
    "Problem Description:\n",
    "Please design a perpetual calendar, you can enter any year (year) and month (month), and print out the monthly calendar for that month.\n",
    "Take March 2001 as an example, the format is as follows:\n",
    "\n",
    "| SU MO TU WE TH FR SA |\n",
    "|:-------------------------|\n",
    "|&nbsp;&nbsp;&nbsp;&nbsp;&nbsp;&nbsp;&nbsp;&nbsp;&nbsp;&nbsp;&nbsp;&nbsp;&nbsp;&nbsp;&nbsp;&nbsp;&nbsp;&nbsp;&nbsp;&nbsp;&nbsp;&nbsp;&nbsp;&nbsp;&nbsp;&nbsp;&nbsp;&nbsp;1&nbsp;&nbsp;&nbsp; 2&nbsp;&nbsp;&nbsp; 3|\n",
    "|&nbsp;&nbsp;4 &nbsp;&nbsp;&nbsp;5 &nbsp;&nbsp;&nbsp;6 &nbsp;&nbsp;&nbsp;7 &nbsp;&nbsp;&nbsp;8 &nbsp;&nbsp;&nbsp;9&nbsp;&nbsp; 10|\n",
    "|11&nbsp; 12 &nbsp;13 &nbsp;14&nbsp; 15 &nbsp;16&nbsp; 17|\n",
    "|18&nbsp; 19 &nbsp;20 &nbsp;21 &nbsp;22 &nbsp;23 &nbsp;24|\n",
    "|25&nbsp; 26&nbsp; 27&nbsp; 28&nbsp; 29&nbsp; 30&nbsp; 31|\n",
    "\n",
    "1. The number of days per month in a year is as follows: February 29th in a lunar year and 28th in a normal year\n",
    "\n",
    "| Month | 1 | 2 | 3 | 4 | 5 | 6 | 7 | 8 | 9 | 10 | 11 | 12 |\n",
    "|---|---|---|---|---|---|---|---|---|---|---|---|- --|\n",
    "| Days |31| 28| 31| 30| 31| 30| 31| 31| 30| 31| 30| 31 |\n",
    "\n",
    "2. Runnian is judged to be one run for 4 years, no run for 100 years, and run again for 400 years.\n",
    "3. Therefore, January 1 of AD 1 is a Monday, and there are 52 weeks and 1 day in a year, so 2 AD 1\n",
    "1st is Tuesday, and so on)\n",
    "\n",
    "Input description:\n",
    "Enter the year (year) and month (month).\n",
    "\n",
    "Output description:\n",
    "To output the monthly calendar of the month, please use a tab space between each number, and there must be a newline character at the end.\n",
    "\n",
    "\n",
    "| Sample Input:   |      Sample Output:      |\n",
    "|:----------------|:-------------------------|\n",
    "| 2001 3 | SU MO TU WE TH FR SA |\n",
    "||&nbsp;&nbsp;&nbsp;&nbsp;&nbsp;&nbsp;&nbsp;&nbsp;&nbsp;&nbsp;&nbsp;&nbsp;&nbsp;&nbsp;&nbsp;&nbsp;&nbsp;&nbsp;&nbsp;&nbsp;&nbsp;&nbsp;&nbsp;&nbsp;&nbsp;&nbsp;&nbsp;&nbsp;1&nbsp;&nbsp;&nbsp; 2&nbsp;&nbsp;&nbsp; 3|\n",
    "||&nbsp;&nbsp;4 &nbsp;&nbsp;&nbsp;5 &nbsp;&nbsp;&nbsp;6 &nbsp;&nbsp;&nbsp;7 &nbsp;&nbsp;&nbsp;8 &nbsp;&nbsp;&nbsp;9&nbsp;&nbsp; 10|\n",
    "||11&nbsp; 12 &nbsp;13 &nbsp;14&nbsp; 15 &nbsp;16&nbsp; 17|\n",
    "||18&nbsp; 19 &nbsp;20 &nbsp;21 &nbsp;22 &nbsp;23 &nbsp;24|\n",
    "||25&nbsp; 26&nbsp; 27&nbsp; 28&nbsp; 29&nbsp; 30&nbsp; 31⏎|"
   ]
  },
  {
   "cell_type": "markdown",
   "metadata": {
    "id": "qNRpDVi5ECjr"
   },
   "source": [
    "<font size=\"10\">&#x0210B;</font>int:\n",
    "\n",
    "__Input:__ The input is 2 integers\n",
    "\n",
    "__Process:__ calendar.monthrange() function can know the first day of each month and the days of the week\n",
    "\n",
    "__Output:__"
   ]
  },
  {
   "cell_type": "code",
   "execution_count": null,
   "metadata": {
    "colab": {
     "base_uri": "https://localhost:8080/"
    },
    "id": "wqiJsX8CGbZD",
    "outputId": "b7541e5c-1a58-4965-81af-5a3e042fad45"
   },
   "outputs": [
    {
     "name": "stdout",
     "output_type": "stream",
     "text": [
      "Help on function monthrange in module calendar:\n",
      "\n",
      "monthrange(year, month)\n",
      "    Return weekday (0-6 ~ Mon-Sun) and number of days (28-31) for\n",
      "    year, month.\n",
      "\n",
      "2001 3\n",
      "2001 3\n",
      "3 31\n"
     ]
    }
   ],
   "source": [
    "#from here\n",
    "import calendar\n",
    "help(calendar.monthrange)\n",
    "year, month = map(int, input().split())\n",
    "print(year, month)\n",
    "wday, ndays= calendar.monthrange(year, month)\n",
    "print(wday, ndays)"
   ]
  },
  {
   "cell_type": "code",
   "execution_count": null,
   "metadata": {
    "colab": {
     "base_uri": "https://localhost:8080/"
    },
    "id": "M_qYgMu2IQ9p",
    "outputId": "7eebfecd-4b86-4c31-c41c-2fbc31adcf33"
   },
   "outputs": [
    {
     "name": "stdout",
     "output_type": "stream",
     "text": [
      "SU\tMO\tTU\tWE\tTH\tFR\tSA\n",
      "\t\t\t\t1\t2\t3\t\n",
      "4\t5\t6\t7\t8\t9\t10\t\n",
      "11\t12\t13\t14\t15\t16\t17\t\n",
      "18\t19\t20\t21\t22\t23\t24\t\n",
      "25\t26\t27\t28\t29\t30\t31\t\n"
     ]
    }
   ],
   "source": [
    "print(\"SU\\tMO\\tTU\\tWE\\tTH\\tFR\\tSA\")\n",
    "for i in range(wday+1):\n",
    "  print(\"\", end=\"\\t\")\n",
    "theday = 1\n",
    "for i in range(wday, 6):\n",
    "  print(theday, end=\"\\t\")\n",
    "  theday += 1\n",
    "print()\n",
    "\n",
    "while theday <= ndays:\n",
    "  for i in range(7):\n",
    "    print(theday, end=\"\\t\")\n",
    "    theday += 1\n",
    "    if theday > ndays:\n",
    "      break\n",
    "  print()"
   ]
  },
  {
   "cell_type": "markdown",
   "metadata": {
    "id": "WRSmnbRXLeSH"
   },
   "source": [
    "### M3Q14. Array A[n][n], B[n][n]\n",
    "\n",
    "Problem Description:\n",
    "Let the user input a positive integer n, and output two two-dimensional arrays A[n][n], B[n][n] as follows: (Don’t just use\n",
    "printf, try using loops or other methods)\n",
    "\n",
    "Input description:\n",
    "Enter a positive integer n\n",
    "\n",
    "Output description:\n",
    "Output two two-dimensional arrays A[n][n] and B[n][n]. Please use tabs between each number, and there must be a newline character at the end.\n",
    "\n",
    "\n",
    "| Sample Input:   |      Sample Output:      |\n",
    "|:----------------|:-------------------------|\n",
    "| 5| 1 2 3 4 5|\n",
    "||10 9 8 7 6|\n",
    "||11 12 13 14 15|\n",
    "||20 19 18 17 16|\n",
    "||21 22 23 24 25|\n",
    "||1 10 11 20 21|\n",
    "||2 9 12 19 22|\n",
    "||3 8 13 18 23|\n",
    "||4 7 14 17 24|\n",
    "||5 6 15 16 25|\n",
    "|  | ⏎|"
   ]
  },
  {
   "cell_type": "markdown",
   "metadata": {
    "id": "rNKvNJ_ZED9q"
   },
   "source": [
    "<font size=\"10\">&#x0210B;</font>int:\n",
    "\n",
    "__Input:__ The input is an integer\n",
    "\n",
    "__Process:__ For-loop of the second layer\n",
    "\n",
    "__Output:__"
   ]
  },
  {
   "cell_type": "code",
   "execution_count": null,
   "metadata": {
    "colab": {
     "base_uri": "https://localhost:8080/"
    },
    "id": "DHgR2CUyLh5l",
    "outputId": "1b0a8496-3925-4b08-96b1-b921295c0aa5"
   },
   "outputs": [
    {
     "name": "stdout",
     "output_type": "stream",
     "text": [
      "5\n",
      "[[1, 2, 3, 4, 5], [10, 9, 8, 7, 6], [11, 12, 13, 14, 15], [20, 19, 18, 17, 16], [21, 22, 23, 24, 25]]\n",
      "1\t2\t3\t4\t5\t\n",
      "10\t9\t8\t7\t6\t\n",
      "11\t12\t13\t14\t15\t\n",
      "20\t19\t18\t17\t16\t\n",
      "21\t22\t23\t24\t25\t\n",
      "1\t10\t11\t20\t21\t\n",
      "2\t9\t12\t19\t22\t\n",
      "3\t8\t13\t18\t23\t\n",
      "4\t7\t14\t17\t24\t\n",
      "5\t6\t15\t16\t25\t\n"
     ]
    }
   ],
   "source": [
    "#from here\n",
    "n = int(input())\n",
    "mat = list()\n",
    "for i in range(n):\n",
    "  if i %2 == 0:\n",
    "    row =[x for x in range(i*n+1, (i+1)*n+1)]\n",
    "  else:\n",
    "    row =[x for x in range((i+1)*n, i*n, -1)]\n",
    "  mat.append(row)\n",
    "print(mat)\n",
    "\n",
    "for x in range(n):\n",
    "  for y in range(n):\n",
    "    print(mat[x][y], end=\"\\t\")\n",
    "  print()\n",
    "\n",
    "for x in range(n):\n",
    "  for y in range(n):\n",
    "    print(mat[y][x], end=\"\\t\")\n",
    "  print()"
   ]
  },
  {
   "cell_type": "markdown",
   "metadata": {
    "id": "HNuH-p6aLgxa"
   },
   "source": [
    "### M3Q15. Matrix multiplication\n",
    "Problem Description:\n",
    "Write a program to calculate the multiplication of two matrices, for example, A is a n1 x m1 matrix, B is a n2 x m2 matrix,\n",
    "C=AB is the n1 x m2 matrix.\n",
    "\n",
    "Input description:\n",
    "Enter 4 integers such as n1, m1, n2 and m2 in the first column, n1 and m1 are the row and column of the first array,\n",
    "And n2 and m2 are the rows and columns of the second array, where m2 = n2. Then enter two arrays\n",
    "Content.\n",
    "\n",
    "Output description:\n",
    "The result of multiplying the output matrix must have a newline character at the end.\n",
    "\n",
    "| Sample Input:   |      Sample Output:      |\n",
    "|:----------------|:-------------------------|\n",
    "| 3 2 2 3    | 9 2 -1 |\n",
    "| 1 4    | 8 4 3   |\n",
    "| 2 3  | 7 6 7  ⏎|\n",
    "| 3 2  | |\n",
    "|1 2 3||\n",
    "|2 0 -1||"
   ]
  },
  {
   "cell_type": "markdown",
   "metadata": {
    "id": "pLf8dSiXEFlB"
   },
   "source": [
    "<font size=\"10\">&#x0210B;</font>int:\n",
    "\n",
    "__Input:__ The input is m1+m2+1 line\n",
    "\n",
    "__Process:__ Use 3-layer for-loop to calculate i-row*j-column\n",
    "\n",
    "__Output:__"
   ]
  },
  {
   "cell_type": "code",
   "execution_count": null,
   "metadata": {
    "id": "4wqw1uVw7Nyy"
   },
   "outputs": [],
   "source": [
    "#from here\n"
   ]
  },
  {
   "cell_type": "markdown",
   "metadata": {
    "id": "oHoxFXm8Hqjl"
   },
   "source": [
    "## M3 Problems:Q16-Q20"
   ]
  },
  {
   "cell_type": "markdown",
   "metadata": {
    "id": "-IZaqtIYcZYL"
   },
   "source": [
    "### M3Q16 Matrix digital display\n",
    "Problem Description:\n",
    "There is a set of LED lights that can display four digits, which can display numbers according to the input four digits. For example,\n",
    "Enter 1234 from the keyboard and it can be displayed on the screen\n",
    "\n",
    "\n",
    "Input description:\n",
    "The input format is four integers.\n",
    "\n",
    "Output description:\n",
    "The output value is the matrix number of the input value, and there must be a newline character at the end."
   ]
  },
  {
   "cell_type": "markdown",
   "metadata": {
    "id": "fJB359-QEHEb"
   },
   "source": [
    "<font size=\"10\">&#x0210B;</font>int(祕技):\n",
    "\n",
    "__Input:__ The input is a list of 1 character string converted into 4 numbers\n",
    "\n",
    "__Process:__ Scan each column to see which number the pixel belongs to\n",
    "\n",
    "__Output:__"
   ]
  },
  {
   "cell_type": "code",
   "execution_count": null,
   "metadata": {
    "id": "bTgZz8EiC8WT"
   },
   "outputs": [],
   "source": [
    "#from here\n"
   ]
  },
  {
   "cell_type": "markdown",
   "metadata": {
    "id": "xWNhaLC_cbSr"
   },
   "source": [
    "### M3Q17 Recursive program practice\n",
    "\n",
    "Problem Description:\n",
    "Given the following recursive function:\n",
    "\\begin{cases}\n",
    "f(n)=n+1 \\:when\\: n=1\\\\\n",
    "f(n)=f(n-1) + f(\\lfloor n/2\\rfloor) \\:when\\: n>1\n",
    "\\end{cases}\n",
    "\n",
    "\n",
    "Please calculate $𝑓(n)$.\n",
    "\n",
    "Input description:\n",
    "The input value is an integer greater than 1 𝑛.\n",
    "\n",
    "Output description:\n",
    "Output the calculation result of $𝑓(n)$, and there must be a newline character at the end.\n",
    "\n",
    "example:\n",
    "\n",
    "| Sample Input:   |      Sample Output:      |\n",
    "|:----------------|:-------------------------|\n",
    "|10 |60⏎|\n",
    "|12 |94⏎|"
   ]
  },
  {
   "cell_type": "markdown",
   "metadata": {
    "id": "75TGR3wZEI0C"
   },
   "source": [
    "<font size=\"10\">&#x0210B;</font>int:\n",
    "\n",
    "__Input:__ The input is an integer\n",
    "\n",
    "__Process:__ The recursive function is that the function itself is called in the definition of the function\n",
    "\n",
    "__Output:__"
   ]
  },
  {
   "cell_type": "code",
   "execution_count": null,
   "metadata": {
    "id": "zLc1u1zsJGWl"
   },
   "outputs": [],
   "source": [
    "#from here\n"
   ]
  },
  {
   "cell_type": "markdown",
   "metadata": {
    "id": "PNofXDG_ccLZ"
   },
   "source": [
    "### M3Q18 Playing card size\n",
    "\n",
    "Problem Description:\n",
    "There are many kinds of poker games, such as big dick, red dot picking and so on. However, now what you want to participate in is more than big and small\n",
    "In the game, each card has its own suit and number, and the size comparison is mainly based on suits, spades> hearts> diamonds> plums\n",
    "Flowers; if the colors are the same, compare the numbers.\n",
    "\n",
    "Input description:\n",
    "The integer in the first column represents the number of stacks of playing cards, followed by several columns, each column is the content of a stack of cards, each card\n",
    "They are expressed in English and numbers respectively, where S stands for spades, H stands for hearts, D stands for squares, and C stands for\n",
    "plum Bossom. Each piece of data is separated by a blank.\n",
    "\n",
    "Output description:\n",
    "Print out the arranged playing cards. A row is a stack of cards, each card is separated by a blank, and there must be a line feed character at the end.\n",
    "\n",
    "example:\n",
    "\n",
    "| Sample Input:   |      Sample Output:      |\n",
    "|:----------------|:-------------------------|\n",
    "|4|S2 H5 D4 C13|\n",
    "|H5 D4 S2 C13|S3 H7 D10 D8 C12|\n",
    "|D8 S3 D10 C12 H7 |S3 H6|\n",
    "|H6 S3 |S1 D11 C5|\n",
    "|C5 D11 S1 |⏎ |"
   ]
  },
  {
   "cell_type": "markdown",
   "metadata": {
    "id": "0yUVbrKJEJ3g"
   },
   "source": [
    "<font size=\"10\">&#x0210B;</font>int:\n",
    "\n",
    "__Input:__ The input is a combination of rows of text and numbers\n",
    "\n",
    "__Process:__ The \"H\", \"D\", \"S\", and \"C\" must be disassembled during calculation and converted into numbers\n",
    "\n",
    "__Output:__"
   ]
  },
  {
   "cell_type": "code",
   "execution_count": null,
   "metadata": {
    "id": "IDxxixHnKR7o"
   },
   "outputs": [],
   "source": [
    "#from here\n",
    " "
   ]
  },
  {
   "cell_type": "markdown",
   "metadata": {
    "id": "2rECmT30cdJB"
   },
   "source": [
    "### M3Q19 Determine whether it is a palindrome\n",
    "Problem Description:\n",
    "\n",
    "A palindrome refers to a number or a paragraph of text that is the same as read from the front and from the back. For example, the following inputs are all palindrome:\n",
    "\n",
    "123321, qwerewq, 123ewqqwe321. Please write a program to determine whether it is a palindrome.\n",
    "\n",
    "Input description:\n",
    "\n",
    "Enter a string.\n",
    "\n",
    "Output description:\n",
    "\n",
    "The palindrome prints YES, and the non-palindrome prints NO, and there must be a newline character at the end.\n",
    "\n",
    "\n",
    "example:：\n",
    "\n",
    "| Sample Input:   |      Sample Output:      |\n",
    "|:----------------|:-------------------------|\n",
    "|123321|YES⏎|\n",
    "|1556551|YES⏎|\n",
    "|1244221|NO⏎|"
   ]
  },
  {
   "cell_type": "markdown",
   "metadata": {
    "id": "5b-qRu1jEMBg"
   },
   "source": [
    "<font size=\"10\">&#x0210B;</font>int(祕技):\n",
    "\n",
    "__Input:__ Input is a string\n",
    "\n",
    "__Process:__\n",
    "\n",
    "__Output:__"
   ]
  },
  {
   "cell_type": "code",
   "execution_count": null,
   "metadata": {
    "id": "ZP2s1q3qPMkI"
   },
   "outputs": [],
   "source": [
    "#from here\n"
   ]
  },
  {
   "cell_type": "markdown",
   "metadata": {
    "id": "A2HltRxXceML"
   },
   "source": [
    "### M3Q20 Number of occurrences of words and letters\n",
    "Problem Description:\n",
    "In computer science, calculating the frequency of each letter in a string of text is a commonly used technique.\n",
    "Speaking is very important information, and counting words can also help people make corrections. A line of text is blank or ambiguous\n",
    "There are many words separated by dots or periods, such as \"I have a pencil.\" This line of words has I, have, a, pencil\n",
    "These four characters, that is, the number of characters in this line is 4. So now I want to ask you to help design a program to calculate the words of a line of text\n",
    "Count and the number of times each letter appears.\n",
    "\n",
    "Input description:\n",
    "Enter a line of normal English text, that is, do not have a blank at the beginning or two consecutive blanks.\n",
    "And the content can only contain English letters, blanks, commas, and periods. Note: The length of the input string is at most 100.\n",
    "\n",
    "Output description:\n",
    "The first line outputs a positive integer n, which represents the number of words in this line of text. The second line starts to output the text in this line in order\n",
    "There are the letters and the number of occurrences, and there must be a newline character at the end.\n",
    "Note: Case should be calculated separately.\n",
    "\n",
    "\n",
    "example:\n",
    "\n",
    "| Sample Input:   |      Sample Output:      |\n",
    "|:----------------|:-------------------------|\n",
    "|I had a dog |4|\n",
    "||I=1|\n",
    "||a=2|\n",
    "||d=2|\n",
    "||g=1|\n",
    "||h=1|\n",
    "||o=1⏎|"
   ]
  },
  {
   "cell_type": "markdown",
   "metadata": {
    "id": "3aUNOGvLENjt"
   },
   "source": [
    "<font size=\"10\">&#x0210B;</font>int(祕技):\n",
    "\n",
    "__Input:__ 輸入是1個字串，切成幾個字\n",
    "\n",
    "__Process:__\n",
    "\n",
    "__Output:__"
   ]
  },
  {
   "cell_type": "code",
   "execution_count": null,
   "metadata": {
    "id": "G6uCyfLbQJgs"
   },
   "outputs": [],
   "source": [
    "#from here\n"
   ]
  },
  {
   "cell_type": "markdown",
   "metadata": {
    "id": "wlQRTvvDHqmt"
   },
   "source": [
    "## M3 Problems:Q21-Q25"
   ]
  },
  {
   "cell_type": "markdown",
   "metadata": {
    "id": "nNDrDtUMMUEB"
   },
   "source": [
    "### M3Q21. Tic-Tac-Toe\n",
    "\n",
    "Problem Description:\n",
    "Tic-Tac-Toe games are childhood memories of everyone when they were young. Even when they grow up, they will still play when they are bored! But when you\n",
    "Can you let the computer play with you when you are alone?\n",
    "\n",
    "Input description:\n",
    "Enter a 3*3 2-dimensional matrix, the content of the matrix, 0 stands for O and 1 stands for X. Note: the number in each column\n",
    "They are separated by spaces.\n",
    "\n",
    "Output description:\n",
    "Output whether this OX game is a winner or not, there must be a newline character at the end.\n",
    "\n",
    "| Sample Input:   |      Sample Output:      |\n",
    "|:----------------|:-------------------------|\n",
    "|1 0 1 | True⏎   |\n",
    "|0 0 1||\n",
    "|1 0 0||\n",
    "|1 0 0|False⏎ |\n",
    "|0 1 1||\n",
    "|0 1 0||"
   ]
  },
  {
   "cell_type": "markdown",
   "metadata": {
    "id": "Qy8oFF4GEO2u"
   },
   "source": [
    "<font size=\"10\">&#x0210B;</font>int(祕技):\n",
    "\n",
    "__Input:__ The input is 3 numbers in three lines,\n",
    "\n",
    "__Process:__\n",
    "\n",
    "__Output:__"
   ]
  },
  {
   "cell_type": "code",
   "execution_count": null,
   "metadata": {
    "id": "iEYC2sk_MU4O"
   },
   "outputs": [],
   "source": [
    "#from here\n"
   ]
  },
  {
   "cell_type": "markdown",
   "metadata": {
    "id": "orTAgycrMVCo"
   },
   "source": [
    "### M3Q22. Digits and sorting\n",
    "\n",
    "Problem Description:\n",
    "Input an integer N and N integers, please output in descending order of the digits in the decimal place. If everybody\n",
    "If the numbers are equal to each other, the comparison values are arranged in descending order. For example: The sum of the digits of 9122 is 9+1+2+2=14, 3128\n",
    "The sum of the digits of 5112 is 3+1+2+8=14 and the sum of the digits of 5112 is 5+1+1+2=9. So enter 9122\n",
    "3128 5112 needs to output 5112 3128 9122, this is because 5112(9) <3128(14) <9122(14), where\n",
    "Because the sum of the digits of both 3128 and 9122 is 14, put 3128 with the smaller value in front.\n",
    "\n",
    "Input description:\n",
    "Enter N in the first line and N integers in the second line, separated by blanks, N<10.\n",
    "\n",
    "Output description:\n",
    "The output sort results are separated by tab spaces, and there must be a newline character at the end.\n",
    "\n",
    "| Sample Input:   |      Sample Output:      |\n",
    "|:----------------|:-------------------------|\n",
    "|9122 3128 5112|5112 3128 9122⏎|\n",
    "|1725 3821 2011 1428|2011 3821 1428 1725⏎ |"
   ]
  },
  {
   "cell_type": "markdown",
   "metadata": {
    "id": "-Z-P5jhIEQE9"
   },
   "source": [
    "<font size=\"10\">&#x0210B;</font>int(祕技):\n",
    "\n",
    "__Input:__ The input is a number of integers\n",
    "\n",
    "__Process:__ Use dictionary record\n",
    "\n",
    "__Output:__"
   ]
  },
  {
   "cell_type": "code",
   "execution_count": null,
   "metadata": {
    "id": "opXowzy_MYFD"
   },
   "outputs": [],
   "source": [
    "#from here\n"
   ]
  },
  {
   "cell_type": "markdown",
   "metadata": {
    "id": "g3urLfQLMYZe"
   },
   "source": [
    "### M3Q23. Goldbach Conjecture\n",
    "Problem Description:\n",
    "In 1742, Christian Goldbach, a German amateur mathematician, made the following guess: any one is better than 4\n",
    "Large even numbers must be able to find 2 prime numbers to make their sum equal.\n",
    "* 8=3+5 (3 and 5 are both prime numbers)\n",
    "* 20=3+17=7+13\n",
    "* 42=5+37=11+31=13+29=19+23\n",
    "\n",
    "Input description:\n",
    "Enter an even number.\n",
    "\n",
    "Output description:\n",
    "Output all possible results, and there must be a newline character at the end.\n",
    "\n",
    "\n",
    "| Sample Input:   |      Sample Output:      |\n",
    "|:----------------|:-------------------------|\n",
    "|8 | 3+5 ⏎  |\n",
    "|42|5+37|\n",
    "||11+31|\n",
    "||13+29|\n",
    "||19+23⏎|"
   ]
  },
  {
   "cell_type": "markdown",
   "metadata": {
    "id": "eJSDg-HcEROw"
   },
   "source": [
    "<font size=\"10\">&#x0210B;</font>int:\n",
    "\n",
    "__Input:__ The input is an even number\n",
    "\n",
    "__Process:__ Two-level for-loop, exhaustively add up all two numbers, whether they are all prime numbers\n",
    "\n",
    "__Output:__"
   ]
  },
  {
   "cell_type": "code",
   "execution_count": null,
   "metadata": {
    "id": "KXbcKpRVMbZS"
   },
   "outputs": [],
   "source": [
    "#from here\n"
   ]
  },
  {
   "cell_type": "markdown",
   "metadata": {
    "id": "VxP8E06EMbh2"
   },
   "source": [
    "### M3Q24. ID card validator\n",
    "\n",
    "Problem Description:\n",
    "Design a program to check the correctness of the ID number (the gender column and check code should be checked).\n",
    "There are ten codes for the ID number, and there are certain coding rules. The rules for checking the coding are as follows:\n",
    "\n",
    "\n",
    "|A1 | N1 |N2 |N3 |N4 |N5 |N6 |N7 |N8 |N9 |\n",
    "|:---|:---|:---|:---|:---|:---|:---|:---|:---|:--- |\n",
    "|English | 1: on behalf of boys 2: on behalf of girls |||||||check code|\n",
    "\n",
    "The calculation method of the check code is as follows:\n",
    "\n",
    "http://www2.lssh.tp.edu.tw/~hlf/class-1/lang-c/id/index.htm\n",
    "\n",
    "Input description:\n",
    "Enter the ID number, the first code is in English capital.\n",
    "\n",
    "Output description:\n",
    "If the ID number is correct, print \"CORRECT!!!\"; if it is incorrect, print \"WRONG!!!\", and it must have\n",
    "Newline characters.\n",
    "\n",
    "| Sample Input:   |      Sample Output:      |\n",
    "|:----------------|:-------------------------|\n",
    "|A123456789 | CORRECT!!!  |\n",
    "||⏎|\n",
    "|L163690274|WRONG!!!|\n",
    "||⏎ |"
   ]
  },
  {
   "cell_type": "markdown",
   "metadata": {
    "id": "wKviUcXdESeD"
   },
   "source": [
    "<font size=\"10\">&#x0210B;</font>int:\n",
    "\n",
    "__Refer:__ http://mrcjtech.blogspot.com/2017/09/python.html\n",
    "\n",
    "__Input:__ The input is a string of ID cards, the first word is an English letter\n",
    "\n",
    "__Process:__ Check whether the last number is CheckSum\n",
    "\n",
    "__Output:__"
   ]
  },
  {
   "cell_type": "code",
   "execution_count": null,
   "metadata": {
    "colab": {
     "base_uri": "https://localhost:8080/"
    },
    "id": "f7o1VkVuMeBn",
    "outputId": "d44b0484-a035-4575-91a0-ddd563a01a67"
   },
   "outputs": [
    {
     "name": "stdout",
     "output_type": "stream",
     "text": [
      "A123456789\n",
      "CORRECT!!!\n"
     ]
    }
   ],
   "source": [
    "#from here\n",
    "alphaTable = {'A': 1, 'B': 10, 'C': 19, 'D': 28, 'E': 37, 'F': 46,\n",
    "        'G': 55, 'H': 64, 'I': 39, 'J': 73, 'K': 82, 'L': 2, 'M': 11,\n",
    "        'N': 20, 'O': 48, 'P': 29, 'Q': 38, 'R': 47, 'S': 56, 'T': 65,\n",
    "        'U': 74, 'V': 83, 'W': 21, 'X': 3, 'Y': 12, 'Z': 30}\n",
    "  "
   ]
  },
  {
   "cell_type": "markdown",
   "metadata": {
    "id": "fdDjAcssMeK4"
   },
   "source": [
    "### M3Q25. ISBN verification\n",
    "\n",
    "Problem Description:\n",
    "\n",
    "ISBN (International Standard Book Number) is a universal book coding method.\n",
    "Every book is published with a unique set of ISBN codes. This code consists of ten digits, each of which can be\n",
    "Think of any number from 0 to 9, or X, which means that this digit is 10. The judgment method is as follows. First of all,\n",
    "Separate the ten digits of this ISBN code, from left to right the first digit, the second digit to the tenth digit, and then\n",
    "Perform the first accumulation so that the second digit becomes the sum of the first digit to the second digit, and the third digit is the first\n",
    "The cumulative sum of the digit to the third digit, the tenth digit is the cumulative sum of the first digit to the tenth digit; the first time is completed\n",
    "After the cumulative sum of, then follow the same method for the second cumulative action, we call the last obtained at this time\n",
    "The cumulative sum is the identification code of this ISBN code. If the identification code is a multiple of 11, the ISBN code is legal\n",
    "of. For example, if the input ISBN code is 0 1 3 1 6 2 9 5 9 X, the result of the calculation is shown in the following table:\n",
    "\n",
    "|ISBN code | 0| 1 | 3 | 1 | 6 | 2 | 9 | 5 | 9 | X|\n",
    "|:---|:---|:---|:---|:---|:---|:---|:---|:---|:--- |:---|\n",
    "|First cumulative sum | 0|1|4|5|11|13|22|27|36|46|\n",
    "|The second cumulative sum | 0|1|5|10|21|34|56|83|119|165|\n",
    "Through calculation, the identification code is 165, which is a multiple of 11, so it is a legal ISBN code.\n",
    "\n",
    "Input description:\n",
    "Enter a string of ISBN codes, separated by spaces.\n",
    "\n",
    "Output description:\n",
    "Legal ISBN code, print YES, illegal ISBN code, print NO, there must be a newline character at the end.\n",
    "\n",
    "example:\n",
    "\n",
    "| Sample Input:   |      Sample Output:      |\n",
    "|:----------------|:-------------------------|\n",
    "|013162959X | YES  |\n",
    "||⏎|"
   ]
  },
  {
   "cell_type": "markdown",
   "metadata": {
    "id": "6LDJq0dhEUBZ"
   },
   "source": [
    "<font size=\"10\">&#x0210B;</font>int(祕技):\n",
    "\n",
    "http://hk.uwenku.com/question/p-mtxvroux-bgh.html\n",
    "\n",
    "__Input:__ The input is a string of length 10\n",
    "\n",
    "__Process:__ Check whether the tenth code is the same as CheckSum\n",
    "\n",
    "__Output:__"
   ]
  },
  {
   "cell_type": "code",
   "execution_count": null,
   "metadata": {
    "id": "RVLgqDoZMgNY"
   },
   "outputs": [],
   "source": [
    "#from here\n"
   ]
  },
  {
   "cell_type": "markdown",
   "metadata": {
    "id": "17fFhLmQHqpG"
   },
   "source": [
    "## M3 Problems:Q26-Q29"
   ]
  },
  {
   "cell_type": "markdown",
   "metadata": {
    "id": "2HsWJv9LHqsL"
   },
   "source": [
    "### M3Q26 Recursive method power(a,n)\n",
    "Problem Description:\n",
    "Try two methods to calculate recursively $power(a,n)=a^n$\n",
    "\n",
    "method one:\n",
    "\n",
    "$power(a, n) = a * power(a, n-1)$\n",
    "\n",
    "Method Two:\n",
    "\n",
    "$power(a, n) = power(a, n/2)*power(a, n/2) $ when n is even\n",
    "\n",
    "$power(a, n) = a * power(a, n-1)$ when n is odd\n",
    "\n",
    "Input description:\n",
    "Input two positive integers a, n\n",
    "\n",
    "Output description:\n",
    "Output the result of power(a, n), and there must be a newline character at the end.\n",
    "\n",
    "example:\n",
    "\n",
    "| Sample Input:   |      Sample Output:      |\n",
    "|:----------------|:-------------------------|\n",
    "|2 3 |8|\n",
    "|  |8⏎|"
   ]
  },
  {
   "cell_type": "markdown",
   "metadata": {
    "id": "RBbgUegfEVdi"
   },
   "source": [
    "<font size=\"10\">&#x0210B;</font>int(祕技):\n",
    "\n",
    "__Input:__ Input is 2 positive integers\n",
    "\n",
    "__Process:__\n",
    "\n",
    "__Output:__"
   ]
  },
  {
   "cell_type": "code",
   "execution_count": null,
   "metadata": {
    "id": "hvuw4NuIqB6Y"
   },
   "outputs": [],
   "source": [
    "#from here\n"
   ]
  },
  {
   "cell_type": "markdown",
   "metadata": {
    "id": "7UcB2gfcciuY"
   },
   "source": [
    "### M3Q27 Recursion method: number of digits\n",
    "Problem Description:\n",
    "Design a recursive method, enter a positive integer value (excluding 0), and return the number of digits.\n",
    "\n",
    "Input description:\n",
    "Enter a positive integer value (excluding 0).\n",
    "\n",
    "Output description:\n",
    "The output value is a few digits, and there must be a newline character at the end.\n",
    "\n",
    "\n",
    "example:\n",
    "\n",
    "| Sample Input:   |      Sample Output:      |\n",
    "|:----------------|:-------------------------|\n",
    "|4395 |4⏎|"
   ]
  },
  {
   "cell_type": "markdown",
   "metadata": {
    "id": "sHoDqDO2EWtg"
   },
   "source": [
    "<font size=\"10\">&#x0210B;</font>int(祕技):\n",
    "\n",
    "__Input:__ Input is a positive integer\n",
    "\n",
    "__Process:__ The recursive function is that the function itself is called in the definition of the function\n",
    "\n",
    "__Output:__"
   ]
  },
  {
   "cell_type": "code",
   "execution_count": null,
   "metadata": {
    "id": "F49YCf6DqA6J"
   },
   "outputs": [],
   "source": [
    "\n"
   ]
  },
  {
   "cell_type": "markdown",
   "metadata": {
    "id": "bkOnfFN9cjiJ"
   },
   "source": [
    "### M3Q28 Recursion method: the greatest common factor of two numbers\n",
    "Problem Description:\n",
    "Write a recursive method to find the greatest common factor gcd(m, n) of the two numbers m and n.\n",
    "\n",
    "Input description:\n",
    "Enter the two numbers m and n.\n",
    "\n",
    "Output description:\n",
    "Output the greatest common factor of the two numbers m and n, and there must be a newline character at the end.\n",
    "\n",
    "\n",
    "example:\n",
    "\n",
    "| Sample Input:   |      Sample Output:      |\n",
    "|:----------------|:-------------------------|\n",
    "|72 99 |9⏎ |"
   ]
  },
  {
   "cell_type": "markdown",
   "metadata": {
    "id": "7aIlMcjBEXlz"
   },
   "source": [
    "<font size=\"10\">&#x0210B;</font>int(祕技):\n",
    "\n",
    "__Input:__ The input is 2 integers\n",
    "\n",
    "__Process:__ The recursive function is that the function itself is called in the definition of the function\n",
    "\n",
    "__Output:__"
   ]
  },
  {
   "cell_type": "code",
   "execution_count": null,
   "metadata": {
    "id": "j1K6fJw8p_tb"
   },
   "outputs": [],
   "source": [
    "#from here\n"
   ]
  },
  {
   "cell_type": "markdown",
   "metadata": {
    "id": "hOEbQ3DGckd3"
   },
   "source": [
    "### M3Q29 Recursion method: fee series\n",
    "Problem Description:\n",
    "Enter a positive integer n to recursively find the Fibonacii coefficient value $𝐹_n$\n",
    "\n",
    "The formula is:\n",
    "\n",
    "$𝐹_0=0$\n",
    "\n",
    "$𝐹_1=1$\n",
    "\n",
    "$𝐹_n=𝐹_\\text{n-1}+𝐹_\\text{n-2}$\n",
    "\n",
    "Input description:\n",
    "Enter a positive integer n.\n",
    "\n",
    "Output description:\n",
    "Output the value of $𝐹_n$, and there must be a newline character at the end.\n",
    "\n",
    "example:\n",
    "\n",
    "| Sample Input:   |      Sample Output:      |\n",
    "|:----------------|:-------------------------|\n",
    "|15 |610⏎|"
   ]
  },
  {
   "cell_type": "markdown",
   "metadata": {
    "id": "K-7L2kRuEZMW"
   },
   "source": [
    "<font size=\"10\">&#x0210B;</font>int:\n",
    "\n",
    "__Input:__ Input is an integer\n",
    "\n",
    "__Process:__ The recursive function is that the function itself is called in the definition of the function\n",
    "\n",
    "__Output:__"
   ]
  },
  {
   "cell_type": "code",
   "execution_count": null,
   "metadata": {
    "id": "ma2UplsDqAP5"
   },
   "outputs": [],
   "source": [
    "#from here\n"
   ]
  }
 ],
 "metadata": {
  "colab": {
   "collapsed_sections": [],
   "provenance": []
  },
  "kernelspec": {
   "display_name": "Python 3 (ipykernel)",
   "language": "python",
   "name": "python3"
  },
  "language_info": {
   "codemirror_mode": {
    "name": "ipython",
    "version": 3
   },
   "file_extension": ".py",
   "mimetype": "text/x-python",
   "name": "python",
   "nbconvert_exporter": "python",
   "pygments_lexer": "ipython3",
   "version": "3.9.7"
  }
 },
 "nbformat": 4,
 "nbformat_minor": 1
}
