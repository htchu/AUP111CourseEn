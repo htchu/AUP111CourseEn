{
  "cells": [
    {
      "cell_type": "markdown",
      "metadata": {
        "id": "pF1B0PJK8Ud0"
      },
      "source": [
        "# AU Fundamentals of Python Programming-111-Tips for test\n"
      ]
    },
    {
      "cell_type": "markdown",
      "metadata": {
        "id": "m85-lyw28jLm"
      },
      "source": [
        "## IPO-I Input parameters\n",
        "\n",
        "```\n",
        "input()\n",
        "```"
      ]
    },
    {
      "cell_type": "markdown",
      "metadata": {
        "id": "11VawLxR8u0S"
      },
      "source": [
        "### Enter a string variable"
      ]
    },
    {
      "cell_type": "code",
      "execution_count": null,
      "metadata": {
        "id": "Gb0d56a58NBr"
      },
      "outputs": [],
      "source": [
        "instr = input()\n",
        "print(instr)"
      ]
    },
    {
      "cell_type": "markdown",
      "metadata": {
        "id": "9kBkMbXp9JRn"
      },
      "source": [
        "### Enter an integer variable"
      ]
    },
    {
      "cell_type": "code",
      "execution_count": null,
      "metadata": {
        "id": "EAClEftU9Mmx"
      },
      "outputs": [],
      "source": [
        "instr = input()\n",
        "val = int(instr)\n",
        "print(val)"
      ]
    },
    {
      "cell_type": "code",
      "execution_count": null,
      "metadata": {
        "id": "RThJUH4A9hq3"
      },
      "outputs": [],
      "source": [
        "#Combining input and conversion of integers\n",
        "val = int(input())\n",
        "print(val)"
      ]
    },
    {
      "cell_type": "markdown",
      "metadata": {
        "id": "9EwwMy6f9YEn"
      },
      "source": [
        "### Enter a float variable"
      ]
    },
    {
      "cell_type": "code",
      "execution_count": null,
      "metadata": {
        "id": "D3o17R2a9XTw"
      },
      "outputs": [],
      "source": [
        "instr = input()\n",
        "val = float(instr)\n",
        "print(val)"
      ]
    },
    {
      "cell_type": "code",
      "execution_count": null,
      "metadata": {
        "id": "KkwkpqdD9sXh"
      },
      "outputs": [],
      "source": [
        "#Combine input and float conversion\n",
        "val = float(input())\n",
        "print(val)"
      ]
    },
    {
      "cell_type": "markdown",
      "metadata": {
        "id": "yXhHvgQ191qU"
      },
      "source": [
        "### Enter two string variables"
      ]
    },
    {
      "cell_type": "code",
      "execution_count": null,
      "metadata": {
        "id": "8UCZf8ML-KCS"
      },
      "outputs": [],
      "source": [
        "instr = input()\n",
        "paras = instr.split()\n",
        "a = paras[0]\n",
        "b = paras[1]\n",
        "print(f\"{a} {b}\")"
      ]
    },
    {
      "cell_type": "code",
      "execution_count": null,
      "metadata": {
        "id": "0zkI8r1c-UUd"
      },
      "outputs": [],
      "source": [
        "#Combining input and string splitting\n",
        "a, b = input().split()\n",
        "print(f\"{a} {b}\")"
      ]
    },
    {
      "cell_type": "markdown",
      "metadata": {
        "id": "0w7mZutn-qpV"
      },
      "source": [
        "### Enter three integer variables"
      ]
    },
    {
      "cell_type": "code",
      "execution_count": null,
      "metadata": {
        "id": "QNaqC5jt-pNP"
      },
      "outputs": [],
      "source": [
        "instr = input()\n",
        "paras = instr.split()\n",
        "a = int(paras[0])\n",
        "b = int(paras[1])\n",
        "c = int(paras[2])\n",
        "print(f\"a={a} b={b} c={c}\")"
      ]
    },
    {
      "cell_type": "code",
      "execution_count": null,
      "metadata": {
        "id": "MgV5BELX_EsP"
      },
      "outputs": [],
      "source": [
        "#合併輸入和數字轉換\n",
        "a, b, c = map(int, input().split())\n",
        "print(f\"a={a} b={b} c={c}\")"
      ]
    },
    {
      "cell_type": "code",
      "execution_count": null,
      "metadata": {
        "id": "1eEtB7njBCn-"
      },
      "outputs": [],
      "source": []
    },
    {
      "cell_type": "markdown",
      "metadata": {
        "id": "GcF_Bu6382iT"
      },
      "source": [
        "## IPO-O formatted output\n",
        "https://docs.python.org/3/tutorial/inputoutput.html"
      ]
    },
    {
      "cell_type": "markdown",
      "metadata": {
        "id": "J0MThB1j_SDz"
      },
      "source": [
        "### formatted output with multiple variables"
      ]
    },
    {
      "cell_type": "code",
      "execution_count": null,
      "metadata": {
        "id": "gxzdv9Y4Bm6b"
      },
      "outputs": [],
      "source": [
        "year = 2016\n",
        "event = 'Referendum'\n",
        "print(f'Results of the {year} {event}') "
      ]
    },
    {
      "cell_type": "markdown",
      "metadata": {
        "id": "T9OUOOQgCC7V"
      },
      "source": [
        "### Controls the width and arrangement of formatted output\n",
        "\n",
        "* 9: Width 9\n",
        "* 2.2: integer digits 2, decimal digits 2,"
      ]
    },
    {
      "cell_type": "code",
      "execution_count": null,
      "metadata": {
        "id": "TQcYricwCDiy"
      },
      "outputs": [],
      "source": [
        "yes_votes = 42_572_654\n",
        "no_votes = 43_132_495\n",
        "percentage = yes_votes / (yes_votes + no_votes)\n",
        "print(f'{yes_votes:9} YES votes {percentage:2.2%}')"
      ]
    },
    {
      "cell_type": "markdown",
      "metadata": {
        "id": "9OSt3THaAbpK"
      },
      "source": [
        "### legacy formatted output\n",
        "\n",
        "Python has 3 ways to format string output: f-string, str.format, %-formatting. The first f-string is the mainstream way. Sections 2-3 are called the old-school \"Old-School\" string formatting method. Students who read old books or older website content often see these two ways. You can watch, but students are not encouraged to write programs in the old way.\n",
        "\n",
        "https://realpython.com/lessons/old-school-string-formatting-python/\n",
        "\n",
        "https://www.python.org/dev/peps/pep-0498/\n",
        "\n",
        "https://realpython.com/python-formatted-output/"
      ]
    },
    {
      "cell_type": "markdown",
      "metadata": {
        "id": "LK_l4hqQF_n_"
      },
      "source": [
        "### f-string格式化輸出\n",
        "\n",
        "<img src=\"https://files.realpython.com/media/t.53be85450e90.png\" alt=\"drawing\" width=\"600\"/>\n",
        "\n"
      ]
    },
    {
      "cell_type": "code",
      "execution_count": null,
      "metadata": {
        "id": "sjrgrahNGSm1"
      },
      "outputs": [],
      "source": [
        "quantity=6; item='bananas'; price=1.74\n",
        "print(f'{quantity} {item} cost ${price}')"
      ]
    },
    {
      "cell_type": "markdown",
      "metadata": {
        "id": "MYkSZTIbFf-H"
      },
      "source": [
        "### str.format\n",
        "\n",
        "\n",
        "<img src=\"https://files.realpython.com/media/t.e6b8525755da.png\" alt=\"drawing\" width=\"600\"/>\n",
        "\n"
      ]
    },
    {
      "cell_type": "code",
      "execution_count": null,
      "metadata": {
        "id": "I3sd7T-BFj_1"
      },
      "outputs": [],
      "source": [
        "quantity=6; item='bananas'; price=1.74\n",
        "print('{0} {1} cost ${2}'.format(quantity,item,price ))"
      ]
    },
    {
      "cell_type": "markdown",
      "metadata": {
        "id": "8oEoE63hFYXG"
      },
      "source": [
        "### %-formatting"
      ]
    },
    {
      "cell_type": "markdown",
      "metadata": {
        "id": "lL9o5QgpE2fp"
      },
      "source": [
        "\n",
        "<img src=\"https://files.realpython.com/media/t.176c482e3252.png\" alt=\"drawing\" width=\"600\"/>"
      ]
    },
    {
      "cell_type": "code",
      "execution_count": null,
      "metadata": {
        "id": "IaLiC9iwEz7p"
      },
      "outputs": [],
      "source": [
        "quantity=6; item='bananas'; price=1.74\n",
        "print('%d %s cost $%.2f' % (quantity,item,price ))"
      ]
    },
    {
      "cell_type": "markdown",
      "metadata": {
        "id": "Mz6nKx1RLtC4"
      },
      "source": [
        "## IPO-P IF-condition\n",
        "\n",
        "<img src=\"https://i0.wp.com/www.alphacodingskills.com/python/img/python-if-elif-else.png\" alt=\"drawing\" width=\"600\"/>\n",
        "\n",
        "https://docs.python.org/3/tutorial/inputoutput.html"
      ]
    },
    {
      "cell_type": "markdown",
      "metadata": {
        "id": "lRehbnZDMJB6"
      },
      "source": [
        "### single-judgment if conditional"
      ]
    },
    {
      "cell_type": "code",
      "execution_count": null,
      "metadata": {
        "id": "8d-gmDgZMb2B"
      },
      "outputs": [],
      "source": [
        "val = 3\n",
        "if val % 2 == 0:\n",
        " print(\"Even\")\n",
        "else:\n",
        " print(\"Odd\")"
      ]
    },
    {
      "cell_type": "markdown",
      "metadata": {
        "id": "GyCjlFnEMJ1v"
      },
      "source": [
        "### multiple-judgment if conditional"
      ]
    },
    {
      "cell_type": "code",
      "execution_count": null,
      "metadata": {
        "id": "kVBxcOigMkIp"
      },
      "outputs": [],
      "source": [
        "month = 6\n",
        "if 3<= month and month <= 5:\n",
        "  print (\"Spring\")\n",
        "elif 6<= month and month <= 8:\n",
        "  print (\"Summer\")\n",
        "elif 9<= month and month <= 11:\n",
        "  print (\"Autumn\")  \n",
        "else:\n",
        "  print (\"Winter\")"
      ]
    },
    {
      "cell_type": "code",
      "execution_count": null,
      "metadata": {
        "id": "ifV7HCrAMMJy"
      },
      "outputs": [],
      "source": [
        "month = 6\n",
        "if 3<= month <= 5:\n",
        "  print (\"Spring\")\n",
        "elif 6<= month <= 8:\n",
        "  print (\"Summer\")\n",
        "elif 9<= month <= 11:\n",
        "  print (\"Autumn\")  \n",
        "else:\n",
        "  print (\"Winter\")"
      ]
    },
    {
      "cell_type": "markdown",
      "metadata": {
        "id": "5bkLR_dhNyIl"
      },
      "source": [
        "## IPO-P For loop\n",
        "\n",
        "<img src=\"https://pynative.com/wp-content/uploads/2021/06/python-nested-for-loop.png\" alt=\"drawing\" width=\"600\"/>\n",
        "\n"
      ]
    },
    {
      "cell_type": "markdown",
      "metadata": {
        "id": "QQNsOBZFOIpE"
      },
      "source": [
        "### for loop with a list"
      ]
    },
    {
      "cell_type": "code",
      "execution_count": null,
      "metadata": {
        "id": "zSg8kOGGOP1z"
      },
      "outputs": [],
      "source": [
        "mylist = ['dog', 'cat', 'cow']\n",
        "for x in mylist:\n",
        "  print(x)"
      ]
    },
    {
      "cell_type": "markdown",
      "metadata": {
        "id": "0yKCUhBROdg8"
      },
      "source": [
        "### for loop with range()"
      ]
    },
    {
      "cell_type": "code",
      "execution_count": null,
      "metadata": {
        "id": "S5gb91oYOjtV"
      },
      "outputs": [],
      "source": [
        "numbers = range(1,10)\n",
        "for a in numbers:\n",
        "  for b in numbers:\n",
        "    print(f'{a:1d}*{b:1d} ={a*b:2d}', end=' ')\n",
        "  print()"
      ]
    },
    {
      "cell_type": "markdown",
      "metadata": {
        "id": "Uo9RecJQHqMe"
      },
      "source": [
        "## IPO-P String functions and sorting\n",
        "\n",
        "https://docs.python.org/zh-tw/3/library/stdtypes.html#text-sequence-type-str\n",
        "* str.format(*args, **kwargs)\n",
        "* str.split(sep=None, maxsplit=-1)\n",
        "* str.strip([chars])\n",
        "* str.upper()\n",
        "* str.lower()\n",
        "* str.replace(old, new[, count])"
      ]
    },
    {
      "cell_type": "markdown",
      "metadata": {
        "id": "xw9wy1nkIORj"
      },
      "source": [
        "### string substitution\n",
        "\n",
        "str.replace(old, new[, count])"
      ]
    },
    {
      "cell_type": "code",
      "execution_count": null,
      "metadata": {
        "id": "d2sucIpjEz4S"
      },
      "outputs": [],
      "source": [
        "txt = \"I like bananas\"\n",
        "x = txt.replace(\"bananas\", \"apples\")\n",
        "print(x)"
      ]
    },
    {
      "cell_type": "markdown",
      "metadata": {
        "id": "BbjNUJzgIZXF"
      },
      "source": [
        "str.replace(old, new[, count])\n",
        "返回字串的副本，其中出現的所有子字串 old 都將被替換為 new。如果給出了可選參數 count，則只替換前 count 次出現。"
      ]
    },
    {
      "cell_type": "markdown",
      "metadata": {
        "id": "_JMpGBpcIfTS"
      },
      "source": [
        "### sorting of strings\n",
        "sorted()"
      ]
    },
    {
      "cell_type": "code",
      "execution_count": null,
      "metadata": {
        "id": "XC_a713GILsq"
      },
      "outputs": [],
      "source": [
        "a = [\"1234\", \"5678\", \"3333\", \"7777\", \"9999\"]\n",
        "x = sorted(a)\n",
        "print(x)"
      ]
    },
    {
      "cell_type": "code",
      "execution_count": null,
      "metadata": {
        "id": "MTSAwfTkIiBb"
      },
      "outputs": [],
      "source": [
        "a = [\"1234\", \"5678\", \"3333\", \"7777\", \"9999\"]\n",
        "x = sorted(a, reverse=True)\n",
        "print(x)"
      ]
    },
    {
      "cell_type": "markdown",
      "metadata": {
        "id": "bE8C6CpGJEm4"
      },
      "source": [
        "## IPO-P use of random numbers\n",
        "https://docs.python.org/3/library/random.html"
      ]
    },
    {
      "cell_type": "markdown",
      "metadata": {
        "id": "XrErvUyNJ0ov"
      },
      "source": [
        "### seeding a randowm number\n",
        "random.seed(a=None)"
      ]
    },
    {
      "cell_type": "markdown",
      "metadata": {
        "id": "Ru0-6DT-JMYz"
      },
      "source": [
        "### randrange()\n",
        "random.randrange(stop)\n",
        "\n",
        "random.randrange(start, stop[, step])"
      ]
    },
    {
      "cell_type": "code",
      "execution_count": null,
      "metadata": {
        "id": "KQLz7WZlJSrM"
      },
      "outputs": [],
      "source": [
        "from random import randrange\n",
        "print(randrange(10))"
      ]
    },
    {
      "cell_type": "markdown",
      "metadata": {
        "id": "kPHSupxpKLfc"
      },
      "source": [
        "### randrange()\n",
        "* random.random()\n",
        "Return the next random floating point number in the range [0.0, 1.0).\n",
        "\n",
        "* random.uniform(a, b)\n",
        "Return a random floating point number N such that a <= N <= b for a <= b and b <= N <= a for b < a."
      ]
    },
    {
      "cell_type": "code",
      "execution_count": null,
      "metadata": {
        "id": "MO6-dBKeJtVK"
      },
      "outputs": [],
      "source": [
        "import random\n",
        "print(random.random())\n",
        "print(random.uniform(1.5, 1.9))"
      ]
    },
    {
      "cell_type": "markdown",
      "metadata": {
        "id": "zzLrvjOsLDAO"
      },
      "source": [
        "## IPO-P calendar\n",
        "\n",
        "https://docs.python.org/3/library/calendar.html"
      ]
    },
    {
      "cell_type": "markdown",
      "metadata": {
        "id": "i_eEE01JLMW4"
      },
      "source": [
        "### calendar.monthrange() How many days are there in each month, the first day is the day of the week\n"
      ]
    },
    {
      "cell_type": "code",
      "execution_count": null,
      "metadata": {
        "id": "9yWIIYQjLNIE"
      },
      "outputs": [],
      "source": [
        "import calendar\n",
        "first_day, number_of_days = calendar.monthrange(2021, 9)\n",
        "print(first_day, number_of_days)"
      ]
    }
  ],
  "metadata": {
    "colab": {
      "name": "AUP100_M0Hintsipynb",
      "provenance": [],
      "toc_visible": true
    },
    "kernelspec": {
      "display_name": "Python 3",
      "name": "python3"
    },
    "language_info": {
      "name": "python"
    }
  },
  "nbformat": 4,
  "nbformat_minor": 0
}
