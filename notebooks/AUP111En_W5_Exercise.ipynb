{
  "nbformat": 4,
  "nbformat_minor": 0,
  "metadata": {
    "colab": {
      "provenance": [],
      "collapsed_sections": []
    },
    "kernelspec": {
      "name": "python3",
      "display_name": "Python 3"
    },
    "language_info": {
      "name": "python"
    }
  },
  "cells": [
    {
      "cell_type": "markdown",
      "metadata": {
        "id": "LSPxJEGx7gCB"
      },
      "source": [
        "# Python Programming-Exercise"
      ]
    },
    {
      "cell_type": "markdown",
      "metadata": {
        "id": "2CZwc43_60Ug"
      },
      "source": [
        "### 0 Unit conversion: height and weight \n",
        "\n",
        "Problem Description:\n",
        "\n",
        "The user inputs height (cm) and weight (kg), converts the output height (inch) and weight (lb) into units. (1 lb=0.454 kg, 1 inch=2.54 cm)\n",
        "\n",
        "Input Description: \n",
        "\n",
        "Input height (cm)(int) and weight (kg)(int). \n",
        "\n",
        "Output Description:\n",
        "\n",
        "The unit conversion outputs height (inch) (float to the first decimal place) and weight (pound) (float to the first decimal place), and a newline character is required at the end.\n",
        "\n",
        "Example: \n",
        "\n",
        "| Sample Input:   |      Sample Output:      |\n",
        "|:----------------|:-------------------------|\n",
        "|180 85|70.9 <br>187.2⏎ |\n",
        "|170 60|66.9 <br>132.2⏎ |\n"
      ]
    },
    {
      "cell_type": "code",
      "metadata": {
        "id": "AA73JFPM7cxG",
        "colab": {
          "base_uri": "https://localhost:8080/"
        },
        "outputId": "3a26671b-0a74-4f4b-ef25-e0f1caa57ef9"
      },
      "source": [
        "#input 1\n",
        "h, w = map(int, input().split()) \n",
        "H=h/2.54 \n",
        "W=w/0.454 \n",
        "print(f\"{H:.1f}\") \n",
        "print(f\"{W:.1f}\")"
      ],
      "execution_count": null,
      "outputs": [
        {
          "output_type": "stream",
          "name": "stdout",
          "text": [
            "180 85\n",
            "70.9\n",
            "187.2\n"
          ]
        }
      ]
    },
    {
      "cell_type": "code",
      "metadata": {
        "id": "mExG5odM7egh",
        "colab": {
          "base_uri": "https://localhost:8080/"
        },
        "outputId": "2789dc25-7afd-4e30-d47a-02039acf50b4"
      },
      "source": [
        "\n",
        "#input 2\n",
        "h, w = map(int, input().split()) \n",
        "H=h/2.54\n",
        "W=w/0.454\n",
        "print(f\"{H:.1f}\") \n",
        "print(f\"{W:.1f}\")"
      ],
      "execution_count": null,
      "outputs": [
        {
          "output_type": "stream",
          "name": "stdout",
          "text": [
            "170 60\n",
            "66.9\n",
            "132.2\n"
          ]
        }
      ]
    },
    {
      "cell_type": "markdown",
      "metadata": {
        "id": "cRDecSL7ak6P"
      },
      "source": [
        "### A: Unit conversion: kilometres to miles\n",
        "\n",
        "Problem Description:\n",
        "Try to write a program, you can enter kilometres (float) by keyboard, the output of the program is miles (float), the conversion formula is as follows: 1 kilometre= 0.62137 miles\n",
        "\n",
        "Input Description: \n",
        "Enter the number of kilometres you want to convert (float). \n",
        "\n",
        "Output Description:\n",
        "Output miles (float), take to the first decimal place, there must be a newline character at the end.\n",
        "\n",
        "Example: \n",
        "\n",
        "\n",
        "| Sample Input:   |      Sample Output:      |\n",
        "|:----------------|:-------------------------|\n",
        "|100|62.1⏎ |\n",
        "|500|310.7⏎ |"
      ]
    },
    {
      "cell_type": "code",
      "metadata": {
        "id": "MLP5Kdr8myXC",
        "colab": {
          "base_uri": "https://localhost:8080/"
        },
        "outputId": "39216c4a-23b5-438b-d9ea-46753db89c71"
      },
      "source": [
        "#input 1\n",
        "l=float(input())\n",
        "L=l*0.62137\n",
        "print(f\"{L:.1f}\")"
      ],
      "execution_count": null,
      "outputs": [
        {
          "output_type": "stream",
          "name": "stdout",
          "text": [
            "100\n",
            "62.1\n"
          ]
        }
      ]
    },
    {
      "cell_type": "code",
      "metadata": {
        "id": "O34ePn9sqNQ_",
        "colab": {
          "base_uri": "https://localhost:8080/"
        },
        "outputId": "4ec61b68-918b-4934-caab-684ea7193361"
      },
      "source": [
        "#input 2\n",
        "l=float(input())\n",
        "L=l*0.62137\n",
        "print(f\"{L:.1f}\")"
      ],
      "execution_count": null,
      "outputs": [
        {
          "output_type": "stream",
          "name": "stdout",
          "text": [
            "500\n",
            "310.7\n"
          ]
        }
      ]
    },
    {
      "cell_type": "markdown",
      "metadata": {
        "id": "bKL700P0ZboQ"
      },
      "source": [
        "### B:String cutting \n",
        "\n",
        "Problem Description:\n",
        "\n",
        "The user enters a paragraph of text and a symbol for cutting, and the program will cut into number substrings according to the specified symbol.\n",
        "\n",
        "Input Description:\n",
        "\n",
        "Enter the text string (String) and the cutting symbol (string) respectively.\n",
        "\n",
        "Output Description:\n",
        "\n",
        "After cutting through the cutting symbol, each string is displayed in one column, and there must be a newline character at the end.\n",
        "\n",
        "Example:\n",
        "\n",
        "\n",
        "| Sample Input:   |      Sample Output:      |\n",
        "|:----------------|:-------------------------|\n",
        "|asia@#@japan@#@taiwan@#@taipei @#@|asia |\n",
        "|   |japan|\n",
        "|   |taiwan|\n",
        "||taipei⏎ |"
      ]
    },
    {
      "cell_type": "code",
      "metadata": {
        "id": "h-cOLrtUrrPe",
        "colab": {
          "base_uri": "https://localhost:8080/"
        },
        "outputId": "eaff30e3-d7cb-44e7-d8fd-20e16033ea1e"
      },
      "source": [
        "#input 1\n",
        "ss, sy = input().split() \n",
        "slist = ss.split(sy) \n",
        "for W in slist: \n",
        " print(W)"
      ],
      "execution_count": null,
      "outputs": [
        {
          "output_type": "stream",
          "name": "stdout",
          "text": [
            "asia@#@japan@#@taiwan@#@taipei @#@\n",
            "asia\n",
            "japan\n",
            "taiwan\n",
            "taipei\n"
          ]
        }
      ]
    },
    {
      "cell_type": "markdown",
      "metadata": {
        "id": "-rXNZTf3ZTtW"
      },
      "source": [
        "###C: Total score and average \n",
        "\n",
        "\n",
        "Problem Description: \n",
        "\n",
        "Enter the scores of Chinese, English, and mathematics, and calculate the total score and average score.\n",
        "\n",
        "Input Description:\n",
        "\n",
        "Enter the scores in Chinese (int), English (int) and mathematics (int).\n",
        "\n",
        "Output Description:\n",
        "\n",
        "Output the total score and the rounded average to the first decimal place, with a newline character at the end.\n",
        "\n",
        "Example:\n",
        "\n",
        "\n",
        "| Sample Input:   |      Sample Output:      |\n",
        "|:----------------|:-------------------------|\n",
        "|82 77 68| 227|\n",
        "||75.7⏎ |"
      ]
    },
    {
      "cell_type": "code",
      "metadata": {
        "id": "MxgfDdx5szGh",
        "colab": {
          "base_uri": "https://localhost:8080/"
        },
        "outputId": "18442505-61d1-497a-dcaa-6309fc98c573"
      },
      "source": [
        "#input 1\n",
        "#C=float(input())\n",
        "#E=float(input())\n",
        "#M=float(input())\n",
        "C, E, M = map(int, input().split())\n",
        "print( C + E + M )\n",
        "print(f\"{( C + E + M ) / 3 :.1f}\")"
      ],
      "execution_count": null,
      "outputs": [
        {
          "output_type": "stream",
          "name": "stdout",
          "text": [
            "82 77 68\n",
            "227\n",
            "75.7\n"
          ]
        }
      ]
    },
    {
      "cell_type": "code",
      "metadata": {
        "colab": {
          "base_uri": "https://localhost:8080/"
        },
        "id": "8H1qF1D-Jjw9",
        "outputId": "1678a710-845f-4654-879b-eee81e17499d"
      },
      "source": [
        "scores = input().split()\n",
        "C=int(scores[0])\n",
        "E=int(scores[1])\n",
        "M=int(scores[2])\n",
        "\n",
        "print( C + E + M )\n",
        "print(f\"{( C + E + M ) / 3 :.1f}\")"
      ],
      "execution_count": null,
      "outputs": [
        {
          "output_type": "stream",
          "name": "stdout",
          "text": [
            "82 77 68\n",
            "227\n",
            "75.7\n"
          ]
        }
      ]
    },
    {
      "cell_type": "markdown",
      "metadata": {
        "id": "Z6QOpRxhbsNl"
      },
      "source": [
        "### D: Digital encryption\n",
        "\n",
        "Problem Description: \n",
        "\n",
        "Enter a three-digit number and encrypt it in the following way\n",
        "1.\tFor each digit, to add 6 and divide by 10 to get the remainder to replace the corresponding original digit.\n",
        "2.\tSwap the number of the first digit with the number of the third digit\n",
        "\n",
        "Input Description:\n",
        "\n",
        "Enter a three-digit string (String).\n",
        "\n",
        "Output Description:\n",
        "\n",
        "Output the encrypted number string (String), there must be a newline character at the end.\n",
        "\n",
        "Example: \n",
        "\n",
        "| Sample Input:   |      Sample Output:      |\n",
        "|:----------------|:-------------------------|\n",
        "|123|987⏎ |\n",
        "|456|210⏎ |"
      ]
    },
    {
      "cell_type": "code",
      "metadata": {
        "id": "LkJ0uffFt6qJ",
        "colab": {
          "base_uri": "https://localhost:8080/"
        },
        "outputId": "b2cdb635-5593-4414-e20c-0009b8a55889"
      },
      "source": [
        "\n",
        "#input 1\n",
        "nnn = int(input()) \n",
        "d3 = nnn //100 \n",
        "d2 = (nnn - d3*100)//10 \n",
        "d1 = nnn % 10 \n",
        "#print(f\"digit 3=(d3)\") \n",
        "#print(f\"digit 2=(d2)\") \n",
        "#print(f\"digit 1=(d1)\") \n",
        "d3 = (d3 + 6)%10 \n",
        "d2 = (d2 + 6)%10 \n",
        "d1 = (d1 + 6)%10 \n",
        "d1, d3 = d3, d1 \n",
        "print(f\"{d3}{d2}{d1}\")"
      ],
      "execution_count": null,
      "outputs": [
        {
          "output_type": "stream",
          "name": "stdout",
          "text": [
            "123\n",
            "987\n"
          ]
        }
      ]
    },
    {
      "cell_type": "code",
      "metadata": {
        "id": "2SZFBtDWu7yM",
        "colab": {
          "base_uri": "https://localhost:8080/"
        },
        "outputId": "6e18e2b6-7175-4879-99ff-b819ae3a12ef"
      },
      "source": [
        "#input 2\n",
        "nnn = int(input()) \n",
        "d3 = nnn //100 \n",
        "d2 = (nnn - d3*100)//10 \n",
        "d1 = nnn % 10 \n",
        "#print(f\"digit 3=(d3)\") \n",
        "#print(f\"digit 2=(d2)\") \n",
        "#print(f\"digit 1=(d1)\") \n",
        "d3 = (d3 + 6)%10 \n",
        "d2 = (d2 + 6)%10 \n",
        "d1 = (d1 + 6)%10 \n",
        "d1, d3 = d3, d1 \n",
        "print(f\"{d3}{d2}{d1}\")"
      ],
      "execution_count": null,
      "outputs": [
        {
          "output_type": "stream",
          "name": "stdout",
          "text": [
            "456\n",
            "210\n"
          ]
        }
      ]
    },
    {
      "cell_type": "markdown",
      "metadata": {
        "id": "8hDpWYkOZuoW"
      },
      "source": [
        "### E: Cylinder volume calculation \n",
        "\n",
        "Problem Description: \n",
        "\n",
        "Please write a program for the user to input the radius (float) and height (float) of the circle, and the program outputs the volume (float) of the circle.  π×r2×h\n",
        "\n",
        "Input Description:\n",
        "\n",
        "Enter the radius (float) and height (float).\n",
        "\n",
        "Output Description:\n",
        "Output the rounded volume to the first decimal place, and there must be a newline character at the end.\n",
        "\n",
        "Example:\n",
        "\n",
        "\t\n",
        "| Sample Input:   |      Sample Output:      |\n",
        "|:----------------|:-------------------------|\n",
        "|18.9  12|13466.5⏎ |\n",
        "|3.2 12|386.0⏎ |"
      ]
    },
    {
      "cell_type": "code",
      "metadata": {
        "id": "qLytoHGdwLJr",
        "colab": {
          "base_uri": "https://localhost:8080/"
        },
        "outputId": "3067d59e-6081-4c4a-b3bd-39b0045f5c7c"
      },
      "source": [
        "#input 1\n",
        "import math\n",
        "r, h = map(float, input().split()) \n",
        "#r=float(input())\n",
        "#h=float(input())\n",
        "pi=3.14159\n",
        "v=(  pi * r ** 2 * h )\n",
        "print(f\"{v:.1f}\")"
      ],
      "execution_count": null,
      "outputs": [
        {
          "output_type": "stream",
          "name": "stdout",
          "text": [
            "3.2 12\n",
            "386.0\n"
          ]
        }
      ]
    },
    {
      "cell_type": "code",
      "metadata": {
        "id": "Z77hYtfnwgid",
        "colab": {
          "base_uri": "https://localhost:8080/"
        },
        "outputId": "9d1f28e3-cb9c-4d64-9205-5c0a2e356a66"
      },
      "source": [
        "r, h = map(float, input().split()) \n",
        "pi=3.14159\n",
        "v=(  pi * r ** 2 * h )\n",
        "print(f\"{v:.1f}\")"
      ],
      "execution_count": null,
      "outputs": [
        {
          "output_type": "stream",
          "name": "stdout",
          "text": [
            "3.2\n",
            "12\n",
            "241.15200000000004\n"
          ]
        }
      ]
    },
    {
      "cell_type": "markdown",
      "metadata": {
        "id": "1rdvCnAYbVLx"
      },
      "source": [
        "### F: Standard weight calculation\n",
        "\n",
        "Problem Description: \n",
        "\n",
        "It is known that the standard weight of boys=(height-80)×0.7; the standard weight of girls=(height-70)×0.6; try to write a program to calculate the standard weight of boys and girls\n",
        "\n",
        "Input Description:\n",
        "\n",
        "Enter two values, which are represented by height (int) and gender (int) in order (1 for male; 2 for female).\n",
        "\n",
        "Output Description:\n",
        "\n",
        "Output the standard weight, the floating point number (float) is taken to the first place, and there must be a newline character at the end.\n",
        "\n",
        "Example:\n",
        "\n",
        "\n",
        "| Sample Input:   |      Sample Output:      |\n",
        "|:----------------|:-------------------------|\n",
        "|172  1|64.4⏎|\n",
        "|165  2|57.0⏎|"
      ]
    },
    {
      "cell_type": "code",
      "metadata": {
        "id": "UwO6J-S8x5I9",
        "colab": {
          "base_uri": "https://localhost:8080/"
        },
        "outputId": "1909cbae-d3a0-47b4-c80c-f9650ae15475"
      },
      "source": [
        "#input 1\n",
        "height, gender = map(int, input().split()) \n",
        "if gender == 1: #male\n",
        "  w= (height - 80) * 0.7\n",
        "else:\n",
        "  w= (height - 70) * 0.6\n",
        "print(f\"{w:.1f}\")"
      ],
      "execution_count": null,
      "outputs": [
        {
          "output_type": "stream",
          "name": "stdout",
          "text": [
            "165 2\n",
            "57.0\n"
          ]
        }
      ]
    },
    {
      "cell_type": "code",
      "metadata": {
        "id": "CUwpWjQbyWGK",
        "colab": {
          "base_uri": "https://localhost:8080/"
        },
        "outputId": "c1a2cd34-0bbf-4a65-cae0-43e2ac022031"
      },
      "source": [
        "#input 2\n",
        "h=float(input())\n",
        "w= (h - 70) * 0.6\n",
        "print(f\"{w:1f}\")"
      ],
      "execution_count": null,
      "outputs": [
        {
          "output_type": "stream",
          "name": "stdout",
          "text": [
            "165\n",
            "57.000000\n"
          ]
        }
      ]
    },
    {
      "cell_type": "markdown",
      "metadata": {
        "id": "7um54VyQZx8k"
      },
      "source": [
        "### G: Change problem\n",
        "\n",
        "\n",
        "Problem Description:\n",
        "\n",
        "Suppose there are three types of coins: 1-dollar, 5-dollar, and 50-dollar. Ken's mother asked Ken to buy fruit at the marketplace, and gave Ken n dollars to buy fruits. An apple is 15 dollars, an orange is 20 dollars, and a peach is 30 dollars. How many coins does Ken get after buying the fruits?  The number of coins is the least.\n",
        "\n",
        "Input Description: \n",
        "\n",
        "The degree of power used (int).\n",
        "\n",
        "Output Description:\n",
        "\n",
        "List the total number of 1-dollar, 5-dollar and 50-dollar. If the money you bring is not enough to buy fruits, it will display \"0\", and there must be a newline character at the end.\n",
        "\n",
        "Example:\n",
        "\n",
        "| Sample Input:   |      Sample Output:      |\n",
        "|:----------------|:-------------------------|\n",
        "|600  1  2  3|0|\n",
        "||1|\n",
        "||9⏎|"
      ]
    },
    {
      "cell_type": "code",
      "metadata": {
        "id": "KJ6ZLpKAzen5",
        "colab": {
          "base_uri": "https://localhost:8080/"
        },
        "outputId": "c8b56490-623b-42fa-9184-e003859ba5c2"
      },
      "source": [
        "#input 1\n",
        "money, apple, orange, peach  = map(int, input().split()) \n",
        "cost = apple * 15 + orange * 20 + peach * 30\n",
        "remainder = money - cost"
      ],
      "execution_count": null,
      "outputs": [
        {
          "name": "stdout",
          "output_type": "stream",
          "text": [
            "600 1 2 3 \n"
          ]
        }
      ]
    },
    {
      "cell_type": "code",
      "metadata": {
        "colab": {
          "base_uri": "https://localhost:8080/"
        },
        "id": "PxVtPP0lOpCo",
        "outputId": "5152fbe6-6da5-45ab-8126-3762c9ac524d"
      },
      "source": [
        "remainder"
      ],
      "execution_count": null,
      "outputs": [
        {
          "output_type": "execute_result",
          "data": {
            "text/plain": [
              "455"
            ]
          },
          "metadata": {},
          "execution_count": 14
        }
      ]
    },
    {
      "cell_type": "code",
      "metadata": {
        "colab": {
          "base_uri": "https://localhost:8080/"
        },
        "id": "VhJJKlP2OpKw",
        "outputId": "62367bd3-cde3-44b0-8612-635bbef202b6"
      },
      "source": [
        "coin_50 = remainder // 50\n",
        "coin_5  = (remainder - coin_50 *50) // 5\n",
        "coin_1  =  remainder - coin_50 *50 - coin_5 * 5\n",
        "print(coin_1)\n",
        "print(coin_5)\n",
        "print(coin_50)"
      ],
      "execution_count": null,
      "outputs": [
        {
          "output_type": "stream",
          "name": "stdout",
          "text": [
            "0\n",
            "1\n",
            "9\n"
          ]
        }
      ]
    },
    {
      "cell_type": "markdown",
      "metadata": {
        "id": "PiEB2e3XZ2vI"
      },
      "source": [
        "### H: Triangle classification\n",
        "\n",
        "Problem Description:\n",
        "\n",
        "The user enters the three side lengths a, b, c (and a≤b≤c) of a legal triangle, determines and outputs the triangle as \"Right triangle\", \"Obtuse triangle\", or \"Acute triangle\".\n",
        "\n",
        "Judgment method:\n",
        "\n",
        "Assuming that the three sides of a triangle are a, b, c, where c is the longest side length, calculate \n",
        "\n",
        "if $a^2+b^2<c^2$ (the square of a plus the square of b is less than the square of c), then the obtuse triangle is the angle corresponding to c.\n",
        "\n",
        "If $a^2+b^2=c^2$ (the square of a plus the square of b is equal to the square of c), then the right angle of a right triangle is at the angle corresponding to c.\n",
        "\n",
        "If $a^2+b^2>c^2$ (the square of a plus the square of b is greater than the square of c), it is an acute triangle. The angles corresponding to the three sides of a, b, and c are all acute.\n",
        "\n",
        "Input Description:\n",
        "\n",
        "Enter the length of the three sides of a legal triangle a (int), b (int), c(int) (and $a≤ b≤ c$ ).\n",
        "\n",
        "Output Description:\n",
        "\n",
        "Determine and output that the triangle is \"right triangle\", \"obtuse triangle\", or \"acute triangle\", and there must be linefeed characters at the end.\n",
        "\n",
        "Example: \n",
        "\n",
        "\n",
        "| Sample Input:   |      Sample Output:      |\n",
        "|:----------------|:-------------------------|\n",
        "|3 4 5\t|Right triangle⏎ |\n",
        "|2 3 4\t|Obtuse triangle⏎ |\n",
        "|4 5 6  |Acute triangle⏎ |"
      ]
    },
    {
      "cell_type": "code",
      "metadata": {
        "id": "EXNfqz0X04pZ",
        "colab": {
          "base_uri": "https://localhost:8080/"
        },
        "outputId": "c3b5c951-caa0-42ec-abf7-515fb458386c"
      },
      "source": [
        "#input 1\n",
        "a, b, c =map(int, input().split()) \n",
        "\n",
        "A= a**2\n",
        "B= b**2\n",
        "C= c**2\n",
        "if 'A + B = C':\n",
        " print(\"Right triangle\")\n",
        "elif A + B < C:\n",
        " print(\"Obtuse triangle\")\n",
        "elif A + B > C:\n",
        " print(\"Acute triangle\")"
      ],
      "execution_count": null,
      "outputs": [
        {
          "output_type": "stream",
          "name": "stdout",
          "text": [
            "3\n",
            "4\n",
            "5\n",
            "Right triangle\n"
          ]
        }
      ]
    },
    {
      "cell_type": "code",
      "metadata": {
        "id": "wOwCTRbo02o8",
        "colab": {
          "base_uri": "https://localhost:8080/"
        },
        "outputId": "0b55bf6d-3be8-4de1-e8e6-37795eb247e8"
      },
      "source": [
        "#input 2\n",
        "a=float(input())\n",
        "b=float(input())\n",
        "c=float(input())\n",
        "A= a**2\n",
        "B= b**2\n",
        "C= c**2\n",
        "if 'A + B = C':\n",
        " print(\"Right triangle\")\n",
        "elif 'A + B < C':\n",
        " print(\"Obtuse triangle\")\n",
        "else:\n",
        " print(\"Acute triangle\")"
      ],
      "execution_count": null,
      "outputs": [
        {
          "output_type": "stream",
          "name": "stdout",
          "text": [
            "2\n",
            "3\n",
            "4\n",
            "Right triangle\n"
          ]
        }
      ]
    },
    {
      "cell_type": "code",
      "metadata": {
        "id": "eAX8zxrE_PGs",
        "colab": {
          "base_uri": "https://localhost:8080/"
        },
        "outputId": "a4e654cb-47c2-4fe4-f4de-bdf94e1b57c7"
      },
      "source": [
        "#input 3\n",
        "a=float(input())\n",
        "b=float(input())\n",
        "c=float(input())\n",
        "A= a**2\n",
        "B= b**2\n",
        "C= c**2\n",
        "if 'A + B = C':\n",
        " print(\"Right triangle\")\n",
        "elif A + B < C:\n",
        " print(\"Obtuse triangle\")\n",
        "else:\n",
        " print(\"Acute triangle\")"
      ],
      "execution_count": null,
      "outputs": [
        {
          "output_type": "stream",
          "name": "stdout",
          "text": [
            "4\n",
            "5\n",
            "6\n",
            "Right triangle\n"
          ]
        }
      ]
    }
  ]
}