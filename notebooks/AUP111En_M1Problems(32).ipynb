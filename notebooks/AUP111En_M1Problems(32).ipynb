{
 "cells": [
  {
   "cell_type": "markdown",
   "metadata": {
    "id": "9BqahVUKa41l"
   },
   "source": [
    "# AU Fundamentals of Python Programming-111-M1Problems(32)"
   ]
  },
  {
   "cell_type": "markdown",
   "metadata": {
    "id": "sHz28TyhbKFD"
   },
   "source": [
    "## M1 Problems:Q01-Q05"
   ]
  },
  {
   "cell_type": "markdown",
   "metadata": {
    "id": "-fcHJRbWmL5B"
   },
   "source": [
    "### M1-Q01 Unit conversion: Miles to kilometers\n",
    "(Time limit: 2 seconds)\n",
    "\n",
    "Problem Description:\n",
    "Try to write a program, you can enter miles (float) by keyboard, the output of the program is kilometers (float), the conversion formula is as follows: 1 mile = 1.6 kilometers\n",
    "\n",
    "Input description:\n",
    "Enter the number of miles you want to convert (float).\n",
    "\n",
    "Output description:\n",
    "Output kilometer (float), take to the second decimal place, there must be a newline character at the end.\n",
    "\n",
    "example:\n",
    "\n",
    "| Sample Input:   |      Sample Output:      |\n",
    "|:----------------|:-------------------------|\n",
    "|90.8|145.28⏎ |\n",
    "|95.4|152.64⏎ |\n"
   ]
  },
  {
   "cell_type": "markdown",
   "metadata": {
    "id": "9lu6JEEUGV9D"
   },
   "source": [
    "<font size=\"10\">&#x0210B;</font>int:\n",
    "\n",
    "__Input:__ Use the float() function to convert the input string into a float variable\n",
    "\n",
    "__Process:__ Simple multiplication calculation\n",
    "\n",
    "__Output:__ The format of the second digit below the decimal point is .2f"
   ]
  },
  {
   "cell_type": "code",
   "execution_count": null,
   "metadata": {
    "colab": {
     "base_uri": "https://localhost:8080/"
    },
    "id": "JsU6ABHQmuEx",
    "outputId": "712a9dfa-9c4c-4001-dde5-f29cae3e509c"
   },
   "outputs": [],
   "source": [
    "#Program starts here\n"
   ]
  },
  {
   "cell_type": "markdown",
   "metadata": {
    "id": "-rwzf76umuvd"
   },
   "source": [
    "### M1-Q02 Celsius to Fahrenheit\n",
    "(Time limit: 2 seconds)\n",
    "Problem Description:\n",
    "Let the user input a temperature in Celsius and output the corresponding temperature in Fahrenheit.\n",
    "F=C×9/5+32\n",
    "\n",
    "Input description:\n",
    "Enter a temperature in Celsius (float).\n",
    "\n",
    "Output description:\n",
    "Output the corresponding Fahrenheit temperature (float), and round to the second decimal place, and there must be a newline character at the end.\n",
    "\n",
    "example:\n",
    "\n",
    "| Sample Input:   |      Sample Output:      |\n",
    "|:----------------|:-------------------------|\n",
    "|30.8|87.44⏎ |\n",
    "|16.9|62.42⏎ |\n"
   ]
  },
  {
   "cell_type": "markdown",
   "metadata": {
    "id": "Z4fFz58YGcSt"
   },
   "source": [
    "<font size=\"10\">&#x0210B;</font>int:\n",
    "\n",
    "__Input:__ Use the float() function to convert the input string into a float variable\n",
    "\n",
    "__Process:__ Simple calculation of addition, subtraction, multiplication and division\n",
    "\n",
    "__Output:__ The format of the second digit below the decimal point is .2f"
   ]
  },
  {
   "cell_type": "code",
   "execution_count": null,
   "metadata": {
    "colab": {
     "base_uri": "https://localhost:8080/"
    },
    "id": "TZkvGGb1p9pp",
    "outputId": "db889144-0569-4962-ab36-ae77ed255f42"
   },
   "outputs": [],
   "source": [
    "#Program starts here\n",
    "\n"
   ]
  },
  {
   "cell_type": "markdown",
   "metadata": {
    "id": "3S8g4eTxm03K"
   },
   "source": [
    "### M1-Q03 Sum, difference and product\n",
    "(Time limit: 2 seconds)\n",
    "Problem Description:\n",
    "Enter two integers and calculate their sum, difference, and product.\n",
    "\n",
    "Input description:\n",
    "Enter two integers (int).\n",
    "\n",
    "Output description:\n",
    "Output the sum (int), difference (int) and product (int) of two integers, and there must be a newline character at the end.\n",
    "\n",
    "example:\n",
    "\n",
    "| Sample Input:   |      Sample Output:      |\n",
    "|:----------------|:-------------------------|\n",
    "|8   |17 |\n",
    "|9   |-1 |\n",
    "||72⏎ |\n",
    "\n",
    "\n",
    "\n"
   ]
  },
  {
   "cell_type": "markdown",
   "metadata": {
    "id": "YKUwVSMqGd5H"
   },
   "source": [
    "<font size=\"10\">&#x0210B;</font>int:\n",
    "\n",
    "__Input:__ Use the int() function to convert the input string into an integer variable\n",
    "\n",
    "__Process:__ Simple calculation of addition, subtraction, multiplication and division\n",
    "\n",
    "__Output:__ Apply f-string"
   ]
  },
  {
   "cell_type": "code",
   "execution_count": null,
   "metadata": {
    "colab": {
     "base_uri": "https://localhost:8080/"
    },
    "id": "nL-FXDYHGez6",
    "outputId": "04558656-1ea2-4eb2-8ee1-6a1411ce316b"
   },
   "outputs": [],
   "source": [
    "#Program starts here\n",
    " "
   ]
  },
  {
   "cell_type": "markdown",
   "metadata": {
    "id": "yuSDO36gMzdf"
   },
   "source": [
    "| Sample Input:   |      Sample Output:      |\n",
    "|:----------------|:-------------------------|\n",
    "|8 9   |17 |\n",
    "|   |-1 |\n",
    "||72⏎ |"
   ]
  },
  {
   "cell_type": "code",
   "execution_count": null,
   "metadata": {
    "colab": {
     "base_uri": "https://localhost:8080/"
    },
    "id": "SA-A4ylSMvil",
    "outputId": "b94fdc9a-1e0a-435b-dce1-5a0abcc6fc1a"
   },
   "outputs": [],
   "source": [
    "\n"
   ]
  },
  {
   "cell_type": "markdown",
   "metadata": {
    "id": "igQw_i65m48N"
   },
   "source": [
    "### M1-Q04 Total score and average\n",
    "(Time limit: 2 seconds)\n",
    "Problem Description: \n",
    "Enter the scores of Chinese, English, and mathematics, and calculate the total score and average score.\n",
    "\n",
    "Input description:\n",
    "Enter the scores in Chinese (int), English (int) and mathematics (int).\n",
    "\n",
    "Output description:\n",
    "Output the total score and the rounded average (int), with a newline character at the end.\n",
    "\n",
    "example:\n",
    "\n",
    "| Sample Input:   |      Sample Output:      |\n",
    "|:----------------|:-------------------------|\n",
    "|80| 210|\n",
    "|70|70⏎ |\n",
    "|60||"
   ]
  },
  {
   "cell_type": "markdown",
   "metadata": {
    "id": "GO6r2MpmGiFd"
   },
   "source": [
    "<font size=\"10\">&#x0210B;</font>int:\n",
    "\n",
    "__Input:__ Use the int() function to convert the input string into an integer variable\n",
    "\n",
    "__Process:__ Simple addition and integer division calculation\n",
    "\n",
    "__Output:__ Apply f-string"
   ]
  },
  {
   "cell_type": "code",
   "execution_count": null,
   "metadata": {
    "id": "zOSd84VIm8wr"
   },
   "outputs": [],
   "source": [
    "#Program starts here\n"
   ]
  },
  {
   "cell_type": "markdown",
   "metadata": {
    "id": "F5VMDhGWm9JJ"
   },
   "source": [
    "### M1-Q05 Unit conversion: height and weight\n",
    "(Time limit: 2 seconds)\n",
    "\n",
    "Problem Description: \n",
    "Write a program that allows the user to input height (cm) and weight (kg), convert the output height (inches) and weight (lbs) into units. (1 lb=0.454 kg, 1 inch=2.54 cm)\n",
    "\n",
    "Input description:\n",
    "Enter height (cm) (int) and weight (kg) (int) respectively.\n",
    "\n",
    "Output description:\n",
    "For unit conversion, output height (inch) (float) and weight (pound) (float), and there must be a newline character at the end.\n",
    "\n",
    "example:\n",
    "\n",
    "| Sample Input:   |      Sample Output:      |\n",
    "|:----------------|:-------------------------|\n",
    "|180   85| 70.86614173228347|\n",
    "||187.22466960352423⏎ |"
   ]
  },
  {
   "cell_type": "markdown",
   "metadata": {
    "id": "A5Mb9IpJGjUB"
   },
   "source": [
    "<font size=\"10\">&#x0210B;</font>int:\n",
    "\n",
    "__Input:__ Use split() function to cut the input string into two variables paras[0], paras[1]\n",
    "\n",
    "__Process:__ Simple division calculation\n",
    "\n",
    "__Output:__ Apply f-string"
   ]
  },
  {
   "cell_type": "code",
   "execution_count": null,
   "metadata": {
    "colab": {
     "base_uri": "https://localhost:8080/"
    },
    "id": "O0qPFGRbnG3v",
    "outputId": "0d5aec80-cf05-4a61-b9c4-98faadc01f7e"
   },
   "outputs": [],
   "source": [
    "#Program starts here\n",
    "\n"
   ]
  },
  {
   "cell_type": "markdown",
   "metadata": {
    "id": "GgaP4OVtbQ0p"
   },
   "source": [
    "## M1 Problems:Q06-Q10"
   ]
  },
  {
   "cell_type": "markdown",
   "metadata": {
    "id": "OyUBbNbAnLeX"
   },
   "source": [
    "### M1-Q06 String cutting\n",
    "(Time limit: 2 seconds)\n",
    "Problem Description: \n",
    "Write a program for the user to input a paragraph of text and a symbol for cutting, and the program will cut into number sub-strings according to the specified symbol.\n",
    "\n",
    "Input description:\n",
    "Enter the text string (String) and the cutting symbol (char) respectively.\n",
    "\n",
    "Output description:\n",
    "After cutting through the cutting symbol, each string is displayed in one column, and there must be a newline character at the end.\n",
    "\n",
    "example:\n",
    "\n",
    "| Sample Input:   |      Sample Output:      |\n",
    "|:----------------|:-------------------------|\n",
    "|asia,japan,taiwan,taipei   ,|asia |\n",
    "|   |japan|\n",
    "|   |taiwan|\n",
    "||taipei⏎ |\n",
    "|Jack#David#John#Kevin   #|Jack |\n",
    "|   |David|\n",
    "|   |John |\n",
    "||Kevin⏎ |"
   ]
  },
  {
   "cell_type": "markdown",
   "metadata": {
    "id": "OP16clX8Gkm8"
   },
   "source": [
    "<font size=\"10\">&#x0210B;</font>int:\n",
    "\n",
    "__Input:__ Use the split() function to cut the input string into two variables ss, sy, and then use the split() function to cut the ss string into a list\n",
    "\n",
    "__Process:__ Perform a simple for loop on the elements of the list\n",
    "\n",
    "__Output:__ Apply f-string"
   ]
  },
  {
   "cell_type": "code",
   "execution_count": null,
   "metadata": {
    "colab": {
     "base_uri": "https://localhost:8080/"
    },
    "id": "brtV0oetnOjr",
    "outputId": "5aef73db-52d6-47d2-8085-4c898a63a6ec"
   },
   "outputs": [],
   "source": [
    "#Program starts here\n",
    "\n"
   ]
  },
  {
   "cell_type": "markdown",
   "metadata": {
    "id": "h8dHouRunOrv"
   },
   "source": [
    "### M1-Q07 All lowercase\n",
    "\n",
    "Problem Description:\n",
    "Write a program for the user to input a paragraph of text (String), and the program will display all letters in the text string into lowercase letters regardless of case (String).\n",
    "\n",
    "Input description:\n",
    "Enter the text string (String) respectively.\n",
    "\n",
    "Output description:\n",
    "Each letter in the string becomes lowercase and displayed (String), and there must be a newline character at the end.\n",
    "\n",
    "Example:\n",
    "Sample Input:\tSample Output:\n",
    "Taiwan and U.S.A.\ttaiwan and u.s.a.⏎\n",
    "Python is a good Programming Language.\tpython is a good programming language.\n",
    "\n",
    "| Sample Input:   |      Sample Output:      |\n",
    "|:----------------|:-------------------------|\n",
    "|Taiwan and U.S.A.| taiwan and u.s.a.⏎|\n",
    "|Python is a good Programming Language.|python is a good programming language.⏎ |\n"
   ]
  },
  {
   "cell_type": "markdown",
   "metadata": {
    "id": "qPMQmArLGlrD"
   },
   "source": [
    "<font size=\"10\">&#x0210B;</font>int:\n",
    "\n",
    "__Input:__ Input a string\n",
    "\n",
    "__Process:__ Use lower() function\n",
    "\n",
    "__Output:__ Output a string"
   ]
  },
  {
   "cell_type": "code",
   "execution_count": null,
   "metadata": {
    "id": "G7FqVDUbndfh"
   },
   "outputs": [],
   "source": [
    "#Program starts here\n"
   ]
  },
  {
   "cell_type": "markdown",
   "metadata": {
    "id": "Y5VVACaMndpY"
   },
   "source": [
    "### M1-Q08 Unit conversion: liters to gallons\n",
    "(Time limit: 2 seconds)\n",
    "\n",
    "Problem Description:\n",
    "Daming helped his mother go to the paint shop to buy paint, but the clerk asked him how many \"US gallons\" he wanted. Daming didn't know how to answer, thinking that his mother only said about 2 liters of paint. Please write a program to convert liters into US gallons. According to the measurement standard 1 liter = 0.26418 US gallons\n",
    "\n",
    "Input description:\n",
    "Enter the number of liters (float) to be converted.\n",
    "\n",
    "Output description:\n",
    "Output gallons (float), rounded to the first decimal place, and must have a newline character at the end.\n",
    "\n",
    "example:\n",
    "\n",
    "| Sample Input:   |      Sample Output:      |\n",
    "|:----------------|:-------------------------|\n",
    "|10|2.6⏎ |\n",
    "|18|4.7⏎ |"
   ]
  },
  {
   "cell_type": "markdown",
   "metadata": {
    "id": "bw0Vu7j9GnK8"
   },
   "source": [
    "<font size=\"10\">&#x0210B;</font>int:\n",
    "\n",
    "__Input:__ Use the float() function to convert the input string into a float variable\n",
    "\n",
    "__Process:__ Simple calculation of addition, subtraction, multiplication and division\n",
    "\n",
    "__Output:__ The format of the first digit below the decimal point is .1f"
   ]
  },
  {
   "cell_type": "code",
   "execution_count": null,
   "metadata": {
    "id": "9JseLfBVnhha"
   },
   "outputs": [],
   "source": [
    "#Program starts here\n"
   ]
  },
  {
   "cell_type": "markdown",
   "metadata": {
    "id": "S84rDWiHnhpl"
   },
   "source": [
    "### M1-Q09 Unit conversion: weighing the catties\n",
    "(Time limit: 2 seconds)\n",
    "Problem Description:\n",
    "Ami returned to her grandmother's house in the countryside. Grandma was very happy to prepare the ingredients for her granddaughter. However, there was no food at home. Grandma asked Ami to go to the \"Perfect Fresh Supermarket\" at the entrance of the alley to buy 1 catty and a half of minced pork. When Amei went to the fresh food supermarket, she was dumbfounded. They were all marking a few grams. No one was writing catties. Please write a program to calculate the conversion of grams to kilograms. According to the standard of measurement, 600 grams = 1 catty\n",
    "\n",
    "Input description:\n",
    "Enter the number of grams (float) you want to convert.\n",
    "\n",
    "Output description:\n",
    "Output float, take the first place below the decimal point, and there must be a newline character at the end.\n",
    "\n",
    "example:\n",
    "\n",
    "| Sample Input:   |      Sample Output:      |\n",
    "|:----------------|:-------------------------|\n",
    "|300|0.5⏎ |\n",
    "|650|1.1⏎ |"
   ]
  },
  {
   "cell_type": "markdown",
   "metadata": {
    "id": "UzY15_dDGoom"
   },
   "source": [
    "<font size=\"10\">&#x0210B;</font>int:\n",
    "\n",
    "__Input:__ Use the float() function to convert the input string into a float variable\n",
    "\n",
    "__Process:__ Simple calculation of addition, subtraction, multiplication and division\n",
    "\n",
    "__Output:__ The format of the first digit below the decimal point is .1f"
   ]
  },
  {
   "cell_type": "code",
   "execution_count": null,
   "metadata": {
    "id": "hmazb_-yGpGX"
   },
   "outputs": [],
   "source": [
    "#Program starts here\n"
   ]
  },
  {
   "cell_type": "markdown",
   "metadata": {
    "id": "knpzI69InlFN"
   },
   "source": [
    "### M1-Q10 String character replacement\n",
    "(Time limit: 2 seconds)\n",
    "Problem Description:\n",
    "The most talked about A Kun is that the chief always asks him to change the file, because the chief of A Kun is not very good at typing, and often phonetic not to choose words, so there are a lot of typos. Please write a program to help A Kun replace the same word with another word in the string.\n",
    "\n",
    "__Input description:__\n",
    "\n",
    "Enter a string (String) and 2 characters (char).\n",
    "\n",
    "__Output description:__\n",
    "\n",
    "Output the replaced string (String), there must be a newline character at the end.\n",
    "\n",
    "__Example:__\n",
    "\t\n",
    "| Sample Input:   |      Sample Output:      |\n",
    "|:----------------|:-------------------------|\n",
    "|asia csie taiwan| as1a cs1e ta1wan⏎|\n",
    "|i   | |\n",
    "|1||"
   ]
  },
  {
   "cell_type": "markdown",
   "metadata": {
    "id": "7R3PbVrdGqpM"
   },
   "source": [
    "<font size=\"10\">&#x0210B;</font>int:\n",
    "\n",
    "__Input:__ Input three string variables\n",
    "\n",
    "__Process:__ replace() function\n",
    "\n",
    "__Output:__ Apply f-string"
   ]
  },
  {
   "cell_type": "code",
   "execution_count": null,
   "metadata": {
    "id": "LiOIyxronlQS"
   },
   "outputs": [],
   "source": [
    "#Program starts here\n"
   ]
  },
  {
   "cell_type": "markdown",
   "metadata": {
    "id": "MHrSNayObMZg"
   },
   "source": [
    "## M1 Problems:Q11-Q15"
   ]
  },
  {
   "cell_type": "markdown",
   "metadata": {
    "id": "0OTdgcvPnpS_"
   },
   "source": [
    "### M1-Q11 Digital encryption\n",
    "(Time limit: 2 seconds)\n",
    "\n",
    "Problem Description:\n",
    "  Read a four-digit number and encrypt it in the following way\n",
    "1. After adding 7 to the digit, divide by 10 and replace the digit with the remainder\n",
    "2. Swap the number of the first digit with the number of the third digit\n",
    "3. Swap the second digit number with the fourth digit number\n",
    "\n",
    "Input description:\n",
    "Enter a four-digit string (String).\n",
    "\n",
    "Output description:\n",
    "Output the encrypted number string (String), there must be a newline character at the end.\n",
    "\n",
    "example:\n",
    "\n",
    "| Sample Input:   |      Sample Output:      |\n",
    "|:----------------|:-------------------------|\n",
    "|1234|0189⏎ |\n",
    "|4567|3412⏎ |\n",
    "|7891|6845⏎ |"
   ]
  },
  {
   "cell_type": "markdown",
   "metadata": {
    "id": "-10Y0khn5beN"
   },
   "source": [
    "<font size=\"10\">&#x0210B;</font>int:\n",
    "\n",
    "__Input:__ Use the int() function to convert the input string into an integer variable\n",
    "\n",
    "__Process:__ Calculate the number of each digit, and then recompose it into four digits\n",
    "\n",
    "__Output:__ Apply f-string"
   ]
  },
  {
   "cell_type": "code",
   "execution_count": null,
   "metadata": {
    "colab": {
     "base_uri": "https://localhost:8080/"
    },
    "id": "gqNm5MpQnz5a",
    "outputId": "c4e83e42-2a62-4f0b-93cc-5f9346f75fcb"
   },
   "outputs": [],
   "source": [
    "#Program starts here\n",
    "\n"
   ]
  },
  {
   "cell_type": "markdown",
   "metadata": {
    "id": "5DaiZx_On0Dn"
   },
   "source": [
    "### M1-Q12 Calculate the sum, product, difference, quotient and remainder\n",
    "(Time limit: 2 seconds)\n",
    "\n",
    "Problem Description: \n",
    "Write a program that requires the user to enter two numbers, then get the two numbers from the user, and then print the sum, product, difference, quotient, and remainder of the two numbers.\n",
    "\n",
    "Input description:\n",
    "Enter two integers (int) in sequence, and the range of integers does not exceed 1000.\n",
    "\n",
    "Output description:\n",
    "Output the sum (int), product (int), difference (int), quotient (int) and remainder (int) (note the format), and there must be a newline character at the end.\n",
    "\n",
    "example:\n",
    "\n",
    "| Sample Input:   |      Sample Output:      |\n",
    "|:----------------|:-------------------------|\n",
    "|7  |7+3=10 |\n",
    "|3 |7*3=21  |\n",
    "| |7-3=4  |\n",
    "| |7/3=2…1⏎  |"
   ]
  },
  {
   "cell_type": "markdown",
   "metadata": {
    "id": "wFPOypRF5cdJ"
   },
   "source": [
    "<font size=\"10\">&#x0210B;</font>int:\n",
    "\n",
    "__Input:__ Use the int() function to convert the input string into an integer variable\n",
    "\n",
    "__Process:__ Simple calculation of addition, subtraction, multiplication and division\n",
    "\n",
    "__Output:__ Apply f-string"
   ]
  },
  {
   "cell_type": "code",
   "execution_count": null,
   "metadata": {
    "id": "b1fqjkjLn4xy"
   },
   "outputs": [],
   "source": [
    "#Program starts here\n"
   ]
  },
  {
   "cell_type": "markdown",
   "metadata": {
    "id": "pDqDBFKun46_"
   },
   "source": [
    "### M1-Q13 Get character ASCII code\n",
    "(Time limit: 2 seconds)\n",
    "\n",
    "Problem Description:\n",
    "Please write a program for the user to enter an English letter, punctuation mark or numeric character, and the program returns the ASII value of the character.\n",
    "\n",
    "Input description:\n",
    "Enter a character ch (char).\n",
    "\n",
    "Output description:\n",
    "Output the ASCII value (int) corresponding to the character, and there must be a newline character at the end.\n",
    "\n",
    "example:\n",
    "\n",
    "| Sample Input:   |      Sample Output:      |\n",
    "|:----------------|:-------------------------|\n",
    "|a|97⏎|\n",
    "|X|88⏎|"
   ]
  },
  {
   "cell_type": "markdown",
   "metadata": {
    "id": "WurSn6dATh1K"
   },
   "source": [
    "<font size=\"10\">&#x0210B;</font>int:\n",
    "\n",
    "__Input:__ Input a string variable\n",
    "\n",
    "__Process:__ ord() function\n",
    "\n",
    "__Output:__ Apply f-string"
   ]
  },
  {
   "cell_type": "code",
   "execution_count": null,
   "metadata": {
    "id": "68SEQE1Wn8RN"
   },
   "outputs": [],
   "source": [
    "#Program starts here\n"
   ]
  },
  {
   "cell_type": "markdown",
   "metadata": {
    "id": "yWgtOkCin8Yi"
   },
   "source": [
    "### M1-Q14 Obtain the Chinese character universal code (Unicode)\n",
    "(Time limit: 2 seconds)\n",
    "\n",
    "Problem Description:\n",
    "Please write a program for the user to enter a Chinese character, and the program will return the universal code of the character.\n",
    "\n",
    "Input description:\n",
    "Enter a Chinese character ch (char).\n",
    "\n",
    "Output description:\n",
    "Output the \"Unicode\" value (int) corresponding to the character, and there must be a newline character at the end.\n",
    "\n",
    "example:\n",
    "\n",
    "| Sample Input:   |      Sample Output:      |\n",
    "|:----------------|:-------------------------|\n",
    "|亞|4e9e⏎|\n",
    "|資|8cc7⏎|"
   ]
  },
  {
   "cell_type": "markdown",
   "metadata": {
    "id": "79OGpXHW5d8y"
   },
   "source": [
    "<font size=\"10\">&#x0210B;</font>int:\n",
    "\n",
    "__Input:__ Input a string variable\n",
    "\n",
    "__Process:__ ord() function\n",
    "\n",
    "__Output:__ Apply f-string, output hexadecimal digits"
   ]
  },
  {
   "cell_type": "code",
   "execution_count": null,
   "metadata": {
    "id": "hHnozhaZPv4C"
   },
   "outputs": [],
   "source": [
    "#Program starts here\n"
   ]
  },
  {
   "cell_type": "markdown",
   "metadata": {
    "id": "HeSP2TkFoBON"
   },
   "source": [
    "### M1-Q15 Obtain hexadecimal universal code (Unicode) corresponding to Chinese characters\n",
    "(Time limit: 2 seconds)\n",
    "\n",
    "Problem Description:\n",
    "Please write a program for the user to enter the hexadecimal universal code, and the program will return the Chinese characters of the universal code.\n",
    "\n",
    "Input description:\n",
    "Enter a hexadecimal integer (int).\n",
    "\n",
    "Output description:\n",
    "Output the character (char) of the corresponding \"Unicode\" value, and there must be a newline character at the end.\n",
    "\n",
    "example:\n",
    "\t\n",
    "| Sample Input:   |      Sample Output:      |\n",
    "|:----------------|:-------------------------|\n",
    "|8cc7|資⏎ |\n",
    "|48e9|䣩⏎ |"
   ]
  },
  {
   "cell_type": "markdown",
   "metadata": {
    "id": "NlQ3JfgFVImX"
   },
   "source": [
    "<font size=\"10\">&#x0210B;</font>int:\n",
    "\n",
    "__Input:__ Input a string variable\n",
    "\n",
    "__Process:__ chr() function, hexadecimal parameter\n",
    "\n",
    "__Output:__ math.pi"
   ]
  },
  {
   "cell_type": "code",
   "execution_count": null,
   "metadata": {
    "id": "LVeKG0XWVI76"
   },
   "outputs": [],
   "source": [
    "#Program starts here\n"
   ]
  },
  {
   "cell_type": "markdown",
   "metadata": {
    "id": "x9tjU8G5bTQq"
   },
   "source": [
    "## M1 Problems:Q16-Q20"
   ]
  },
  {
   "cell_type": "markdown",
   "metadata": {
    "id": "W1fnMCwwoIdG"
   },
   "source": [
    "### M1-Q16 Cylinder volume calculation\n",
    "  (Time limit: 2 seconds)\n",
    "\n",
    "Problem Description:\n",
    "Please write a program for the user to input the radius (float) and height (float) of the circle, and the program outputs the volume (float) of the circle. $π×r^2×h$\n",
    "\n",
    "Input description:\n",
    "Enter the radius (float) and height (float).\n",
    "\n",
    "Output description:\n",
    "Output the volume of the circle (float), and there must be a newline character at the end.\n",
    "\n",
    "example:\n",
    "\t\n",
    "| Sample Input:   |      Sample Output:      |\n",
    "|:----------------|:-------------------------|\n",
    "|18.9  12|13466.49974146572⏎ |\n",
    "|3.2 12|386.0389052731138⏎ |\n"
   ]
  },
  {
   "cell_type": "markdown",
   "metadata": {
    "id": "HazWTemw5fuf"
   },
   "source": [
    "<font size=\"10\">&#x0210B;</font>int:\n",
    "\n",
    "__Input:__ Use the float() function to convert the input string into a float variable\n",
    "\n",
    "__Process:__ Simple addition, subtraction, multiplication and division calculations and math.pi constants\n",
    "\n",
    "__Output:__ Apply f-string"
   ]
  },
  {
   "cell_type": "code",
   "execution_count": null,
   "metadata": {
    "id": "k7gOi_pPoQhP"
   },
   "outputs": [],
   "source": [
    "#Program starts here"
   ]
  },
  {
   "cell_type": "markdown",
   "metadata": {
    "id": "2t3a_fSqoQA_"
   },
   "source": [
    "### M1-Q17 Conversion\n",
    "(Time limit: 2 seconds)\n",
    "\n",
    "Problem Description:\n",
    "The end of each semester is a headache for teachers. Teachers teach attentively, but they will inevitably encounter poor learning results. Teachers often use score adjustment moves in order not to carry the title of \"big knife\" on the department. Please write a program for the user to enter the score (int), and the program outputs the new score (int) with the root sign multiplied by 10.\n",
    "\n",
    "Input description:\n",
    "Enter the grade (int).\n",
    "\n",
    "Output description:\n",
    "Output the new result (int), there must be a newline character at the end.\n",
    "\n",
    "example:\n",
    "\n",
    "| Sample Input:   |      Sample Output:      |\n",
    "|:----------------|:-------------------------|\n",
    "|36| 60⏎|\n",
    "|49| 70⏎|"
   ]
  },
  {
   "cell_type": "markdown",
   "metadata": {
    "id": "JR4gU4Ch5gvO"
   },
   "source": [
    "<font size=\"10\">&#x0210B;</font>int:\n",
    "\n",
    "__Input:__ Use the int() function to convert the input string into an integer variable\n",
    "\n",
    "__Process:__ Simple addition, subtraction, multiplication and division calculation and\n",
    "\n",
    "__Output:__ Apply f-string"
   ]
  },
  {
   "cell_type": "code",
   "execution_count": null,
   "metadata": {
    "id": "VLPOvaKNoT5D"
   },
   "outputs": [],
   "source": [
    "#Program starts here"
   ]
  },
  {
   "cell_type": "markdown",
   "metadata": {
    "id": "eLEytgbGoUAP"
   },
   "source": [
    "### M1-Q18 Interval formula\n",
    "(Time limit: 2 seconds)\n",
    "Problem Description: \n",
    "Let the user input x, and calculate the y value output, the formula is as follows:\n",
    "\n",
    "$y=3×x^2 $if x <-1\n",
    "\n",
    "$y=x^3+3×x-3 $ if -1 ≤ x ≤ 1\n",
    "\n",
    "$y=2×x +3$ if x> 1\n",
    "\n",
    "Input description:\n",
    "Enter an integer x (int).\n",
    "\n",
    "Output description:\n",
    "According to the formula output y value, there must be a newline character at the end.\n",
    "\n",
    "example:\n",
    "\n",
    "| Sample Input:   |      Sample Output:      |\n",
    "|:----------------|:-------------------------|\n",
    "|-5| 75⏎|"
   ]
  },
  {
   "cell_type": "markdown",
   "metadata": {
    "id": "qfA10qxCe58q"
   },
   "source": [
    "<font size=\"10\">&#x0210B;</font>int:\n",
    "\n",
    "__Input:__ Use the int() function to convert the input string into an integer variable\n",
    "\n",
    "__Process:__ Simple addition, subtraction, multiplication and division calculation and\n",
    "\n",
    "__Output:__ Apply f-string"
   ]
  },
  {
   "cell_type": "code",
   "execution_count": null,
   "metadata": {
    "colab": {
     "base_uri": "https://localhost:8080/"
    },
    "id": "yB1nC7juoXYn",
    "outputId": "a58dd444-8448-49c6-828a-b07b2c9fa22b"
   },
   "outputs": [],
   "source": [
    "#Program starts here\n",
    "\n"
   ]
  },
  {
   "cell_type": "markdown",
   "metadata": {
    "id": "QM6JY0ccoXg9"
   },
   "source": [
    "### M1-Q19 Standard weight calculation\n",
    "(Time limit: 2 seconds)\n",
    "\n",
    "Problem Description:\n",
    "It is known that the standard weight of boys=(height-80)×0.7; the standard weight of girls=(height-70)×0.6; try to write a program to calculate the standard weight of boys and girls\n",
    "\n",
    "Input description:\n",
    "Enter two values, which are represented by height (int) and gender (int) in order (1 for male; 2 for female).\n",
    "\n",
    "Output description:\n",
    "Output the standard weight, the floating point number (float) is taken to the first place, and there must be a newline character at the end.\n",
    "\n",
    "example:\n",
    "\n",
    "| Sample Input:   |      Sample Output:      |\n",
    "|:----------------|:-------------------------|\n",
    "|172  1|64.4⏎|\n",
    "|165  2|57.0⏎|\n"
   ]
  },
  {
   "cell_type": "markdown",
   "metadata": {
    "id": "pTM__Nqu5i47"
   },
   "source": [
    "<font size=\"10\">&#x0210B;</font>int:\n",
    "\n",
    "__Input:__ Use the int() function to convert the input string into an integer variable\n",
    "\n",
    "__Process:__ Simple addition, subtraction, multiplication and division calculation and\n",
    "\n",
    "__Output:__ Apply f-string, and the format of the first digit below the decimal point is .1f"
   ]
  },
  {
   "cell_type": "code",
   "execution_count": null,
   "metadata": {
    "id": "GsBM2GYEoavH"
   },
   "outputs": [],
   "source": [
    "#Program starts here"
   ]
  },
  {
   "cell_type": "markdown",
   "metadata": {
    "id": "RLZCfItNoa3c"
   },
   "source": [
    "### M1-Q20 Change problem\n",
    "(Time limit: 2 seconds)\n",
    "\n",
    "Problem Description: \n",
    "Suppose there are three types of copper plates: 1 yuan, 5 yuan, and 50 yuan. My mother asked Xiao Ming to buy fruit at the vegetable market, and gave Xiao Ming n yuan, and the mother confessed that the number of change required for the boss to find Xiao Ming should be the least, and Xiao Ming went to the fruit stand to buy it. I have a_1 apples, a_2 oranges, and a_3 peaches. 1 apple is 15 yuan, 1 orange is 20 yuan, and 1 peach is 30 yuan. How many do I need to find 1 yuan, 5 yuan, 50 yuan, The number of copper plates is the least.\n",
    "\n",
    "Input description:\n",
    "First enter the amount of money n mother gave to Xiaoming, and then enter $a_1, a_2, a_3$, where $n, a_1, a_2, a_3$ are integers (int), and $a_1×15+a_2×20+a_3×30$ Less than or equal to n.\n",
    "\n",
    "Output description:\n",
    "List the total number of 1 yuan, 5 yuan and 50 yuan for Xiaoming. If the money you bring is not enough to buy fruits, it will display \"0\", and there must be a newline character at the end.\n",
    "\n",
    "example:\n",
    "\n",
    "\n",
    "| Sample Input:   |      Sample Output:      |\n",
    "|:----------------|:-------------------------|\n",
    "|500  1  2  3|0|\n",
    "||1|\n",
    "||7⏎|"
   ]
  },
  {
   "cell_type": "markdown",
   "metadata": {
    "id": "M6B5AB6o5lAN"
   },
   "source": [
    "<font size=\"10\">&#x0210B;</font>int:\n",
    "\n",
    "__Input:__ Use split() to cut the input string, and then use the int() function to convert the input string into an integer variable\n",
    "\n",
    "__Process:__ Simple addition, subtraction, multiplication and division calculation and\n",
    "\n",
    "__Output:__ Apply f-string"
   ]
  },
  {
   "cell_type": "code",
   "execution_count": null,
   "metadata": {
    "id": "aCMGzsQVo6Wl"
   },
   "outputs": [],
   "source": [
    "#Program starts here\n"
   ]
  },
  {
   "cell_type": "markdown",
   "metadata": {
    "id": "gsxvPO2gl_ur"
   },
   "source": [
    "## M1 Problems:Q21-Q25"
   ]
  },
  {
   "cell_type": "markdown",
   "metadata": {
    "id": "3lbJkCNvo7Cx"
   },
   "source": [
    "### M1-Q21 Determine whether the coordinates are within the range of the circle\n",
    "(Time limit: 2 seconds)\n",
    "\n",
    "Problem Description: \n",
    "A circle has a diameter of 200 and its center coordinate is (0,0). Please write a program that can input the coordinates of a point and determine whether the point is within the circle. If the position of the point happens to be on the boundary, it is considered to be within the circle (e.g. x = 100, y = 0)\n",
    "\n",
    "Input description:\n",
    "Enter an integer coordinate, x (int) and y (int) in order.\n",
    "\n",
    "Output description:\n",
    "Output the message that the coordinate position is inside or outside the circle, and there must be a newline character at the end.\n",
    "\n",
    "example:\n",
    "\n",
    "| Sample Input:   |      Sample Output:      |\n",
    "|:----------------|:-------------------------|\n",
    "|50  50|inside⏎ |\n",
    "|50  200|outside⏎ |\n"
   ]
  },
  {
   "cell_type": "markdown",
   "metadata": {
    "id": "toNJyoyJ5l4f"
   },
   "source": [
    "<font size=\"10\">&#x0210B;</font>int:\n",
    "\n",
    "__Input:__ Use the int() function to convert the input string into an integer variable\n",
    "\n",
    "__Process:__ Simple addition, subtraction, multiplication and division calculation and\n",
    "\n",
    "__Output:__ print()"
   ]
  },
  {
   "cell_type": "code",
   "execution_count": null,
   "metadata": {
    "id": "lrU2le4qo92h"
   },
   "outputs": [],
   "source": [
    "#Program starts here\n",
    "\n"
   ]
  },
  {
   "cell_type": "markdown",
   "metadata": {
    "id": "P6LRCYEOo984"
   },
   "source": [
    "### M1-Q22 Parking fee calculation\n",
    "(Time limit: 2 seconds)\n",
    "\n",
    "Problem Description:\n",
    "Assuming that the rate of a parking lot is less than 2 hours, 30 yuan per half hour, more than 2 hours, but less than 4 hours, 40 yuan per half hour, more than 4 hours, 60 per half hour Yuan, the part of less than half an hour will not be charged. If you stop from 10:23 in the morning to 3:20 in the afternoon, please write a program to calculate the total parking fee to be paid.\n",
    "\n",
    "Input description:\n",
    "Enter two sets of time (int) and minutes (int), which are the start and departure time respectively, in 24-hour format.\n",
    "\n",
    "Output description:\n",
    "  Output parking fee (int), there must be a newline character at the end.\n",
    "\n",
    "example:\n",
    "\n",
    "| Sample Input:   |      Sample Output:      |\n",
    "|:----------------|:-------------------------|\n",
    "|10  23 |340⏎ |\n",
    "|15  20 | |\n",
    "|11  11 |880⏎ |\n",
    "|20  30 | |"
   ]
  },
  {
   "cell_type": "markdown",
   "metadata": {
    "id": "tRButnnC5ni1"
   },
   "source": [
    "<font size=\"10\">&#x0210B;</font>int:\n",
    "\n",
    "__Input:__ Use the int() function to convert the input string into an integer variable\n",
    "\n",
    "__Process:__ Simple addition, subtraction, multiplication and division calculation and\n",
    "\n",
    "__Output:__ print()"
   ]
  },
  {
   "cell_type": "code",
   "execution_count": null,
   "metadata": {
    "id": "35UwZJeepCS7"
   },
   "outputs": [],
   "source": [
    "#Program starts here\n"
   ]
  },
  {
   "cell_type": "markdown",
   "metadata": {
    "id": "unrF_cTNpAtV"
   },
   "source": [
    "### M1-Q23 Season decision\n",
    "(Time limit: 2 seconds)\n",
    "\n",
    "Problem Description:\n",
    "Try to write a program, you can enter the month, and then determine that the season it belongs to is spring from March to May, summer from June to August, autumn from September to November, and winter from December to February.\n",
    "\n",
    "Input description:\n",
    "Enter the month (int).\n",
    "\n",
    "Output description:\n",
    "Output the season of the month (String), March to May is Spring (Spring), June to August is Summer (Summer), September to November is Autumn (Autumn), December to February is Winter (Winter), and finally There must be newline characters.\n",
    "\n",
    "example:\n",
    "\n",
    "| Sample Input:   |      Sample Output:      |\n",
    "|:----------------|:-------------------------|\n",
    "|3|Spring⏎ |\n",
    "|10|Autumn⏎|\n"
   ]
  },
  {
   "cell_type": "markdown",
   "metadata": {
    "id": "8cMaAkhe5opV"
   },
   "source": [
    "<font size=\"10\">&#x0210B;</font>int:\n",
    "\n",
    "__Input:__ Use the int() function to convert the input string into an integer variable\n",
    "\n",
    "__Process:__ if judgment formula (a< var <b)\n",
    "\n",
    "__Output:__ print() function"
   ]
  },
  {
   "cell_type": "code",
   "execution_count": null,
   "metadata": {
    "colab": {
     "base_uri": "https://localhost:8080/"
    },
    "id": "xtZmXQB3pF5n",
    "outputId": "ac7428e9-10fc-416e-961c-6d5c44c80a90"
   },
   "outputs": [],
   "source": [
    "#Program starts here\n",
    "\n"
   ]
  },
  {
   "cell_type": "markdown",
   "metadata": {
    "id": "-zqwp7C5pGCC"
   },
   "source": [
    "### M1- Q24 Constellation query\n",
    "(Time limit: 2 seconds)\n",
    "Problem Description: \n",
    "Please design a program to output the corresponding constellation according to the input and date.\n",
    "* January 21, 1997 ~ February 18, 1997 Aquarius (Aquarius)\n",
    "* February 19, 1997 ~ March 20, 1997 Pisces\n",
    "* March 21, 1997 ~ April 20, 1997 Aries\n",
    "* April 21, 1997 ~ May 21, 1997 Taurus\n",
    "* May 22, 1997 ~ June 21, 1997 Gemini (Gemini)\n",
    "* June 22, 1997 ~ July 22, 1997 Cancer (Cancer)\n",
    "* July 23, 1997 ~ August 23, 1997 Lion (Leo)\n",
    "* August 24, 1997 ~ September 23, 1997 Virgo\n",
    "* September 24, 1997 ~ October 23, 1997 Libra (Libra)\n",
    "* October 24, 1997 ~ November 22, 1997 Scorpio\n",
    "* November 23, 1997 ~ December 21, 1997 Sagittarius\n",
    "* December 22, 1997 ~ January 20, 1998 Capricorn\n",
    "\n",
    "Input description:\n",
    "Please enter month (int) and date (int).\n",
    "\n",
    "Output description:\n",
    "According to the constellation standard, the date and date are converted into a constellation (String) for output, and there must be a newline character at the end.\n",
    "\n",
    "example:\n",
    "\n",
    "| Sample Input:   |      Sample Output:      |\n",
    "|:----------------|:-------------------------|\n",
    "|8  20|Leo⏎ |\n",
    "|4  15|Aries⏎ |\n"
   ]
  },
  {
   "cell_type": "markdown",
   "metadata": {
    "id": "WEHml8n55qZb"
   },
   "source": [
    "<font size=\"10\">&#x0210B;</font>int:\n",
    "\n",
    "__Input:__ Use the int() function to convert the input string into an integer variable\n",
    "\n",
    "__Process:__ First judge the month, and then see whether it is the first half or the second half\n",
    "\n",
    "__Output:__ print()"
   ]
  },
  {
   "cell_type": "code",
   "execution_count": null,
   "metadata": {
    "id": "2ppPyUnupKML"
   },
   "outputs": [],
   "source": [
    "#Program starts here\n"
   ]
  },
  {
   "cell_type": "markdown",
   "metadata": {
    "id": "_dezTq4LpKTJ"
   },
   "source": [
    "### M1-Q25 Leap Year Judgment\n",
    "(Time limit: 2 seconds)\n",
    "\n",
    "Problem Description: \n",
    "Try to write a program that can read a 4-digit integer from the keyboard to represent the Western year, and then whether this year is a leap year, every four years is a leap, every 100 years is not a leap, every 400 years is a leap, for example, 1900 is 4 A multiple, but it is divisible by 100, so it is not a leap year. Similarly, 2000 is a leap year, because it can be an integer of 400, and 2004 is of course also a leap, because it can be divisible by 4.\n",
    "\n",
    "Input description:\n",
    "Enter the year (int).\n",
    "\n",
    "Output description:\n",
    "Output Leap Year (Leap Year) or Common Year (String), and there must be a newline character at the end.\n",
    "\n",
    "example:\n",
    "\n",
    "| Sample Input:   |      Sample Output:      |\n",
    "|:----------------|:-------------------------|\n",
    "|2000|Leap Year⏎ |\n",
    "|2003|Common Year⏎|"
   ]
  },
  {
   "cell_type": "markdown",
   "metadata": {
    "id": "0AQVSLbR5rp9"
   },
   "source": [
    "<font size=\"10\">&#x0210B;</font>int:\n",
    "\n",
    "__Input:__ Use the int() function to convert the input string into an integer variable\n",
    "\n",
    "__Process:__ Judgment conditions\n",
    "\n",
    "__Output:__ print()"
   ]
  },
  {
   "cell_type": "code",
   "execution_count": null,
   "metadata": {
    "id": "-vGgOXPf5sOU"
   },
   "outputs": [],
   "source": [
    "#Program starts here\n"
   ]
  },
  {
   "cell_type": "markdown",
   "metadata": {
    "id": "Q63JmT7DmCwp"
   },
   "source": [
    "## M1 Problems:Q26-Q30"
   ]
  },
  {
   "cell_type": "markdown",
   "metadata": {
    "id": "UO2hzx41pPao"
   },
   "source": [
    "### M1-Q26 Calculate electricity bill\n",
    "(Time limit: 2 seconds)\n",
    "\n",
    "Problem Description:\n",
    "Enter the number of degrees used to convert the electricity bill for summer months and non-summer months\n",
    "\n",
    "| Per degree (yuan): | summer months: | non-summer months: |\n",
    "|:----------------|:-------------------------|:--- ----------------------|\n",
    "|The part below 120 degrees | 2.10 | 2.10 |\n",
    "|121-330 degree part | 3.02 | 2.68|\n",
    "|331-500 degree part | 4.39 | 3.61|\n",
    "|501-700 degree part | 4.97 | 4.01|\n",
    "|The part above 701 degrees | 5.63 | 4.50|\n",
    "\n",
    "\n",
    "Input description:\n",
    "The number of electric power used (int).\n",
    "\n",
    "Output description:\n",
    "The amount of summer months and non-summer months (float), please output to two decimal places, and there must be a newline character at the end.\n",
    "\n",
    "example:\n",
    "\n",
    "| Sample Input:   |      Sample Output:      |\n",
    "|:----------------|:-------------------------|\n",
    "|525\t| 1756.75 |\n",
    "|   |1528.75⏎ |\n"
   ]
  },
  {
   "cell_type": "markdown",
   "metadata": {
    "id": "fM3GyWY75teZ"
   },
   "source": [
    "<font size=\"10\">&#x0210B;</font>int:\n",
    "\n",
    "__Input:__ Use the int() function to convert the input string into an integer variable\n",
    "\n",
    "__Process:__ Judgment conditions\n",
    "\n",
    "__Output:__ print()"
   ]
  },
  {
   "cell_type": "code",
   "execution_count": null,
   "metadata": {
    "id": "VSxFz3sDpSnn"
   },
   "outputs": [],
   "source": [
    "#Program starts here\n"
   ]
  },
  {
   "cell_type": "markdown",
   "metadata": {
    "id": "ILsGRvCxpSu7"
   },
   "source": [
    "### M1-Q27 Determine case or other characters\n",
    "(Time limit: 2 seconds)\n",
    "\n",
    "Problem Description: \n",
    "Enter a character to determine whether it is uppercase or lowercase or other characters.\n",
    "\n",
    "Input description:\n",
    "Enter a character (char).\n",
    "\n",
    "Output description:\n",
    "Output the judgment result (uppercase: uppercase, lowercase: lowercase, special character: special character), and there must be a newline character at the end.\n",
    "\n",
    "example:\n",
    "Sample Input:\tSample Output:\n",
    "A\tuppercase⏎\n",
    "a\tlowercase⏎\n",
    "*\tspecial character⏎\n",
    "\n",
    "| Sample Input:   |      Sample Output:      |\n",
    "|:----------------|:-------------------------|\n",
    "|A\t| uppercase⏎ |\n",
    "|a  |lowercase⏎ |\n",
    "|*  |special character⏎ |\n",
    "\n"
   ]
  },
  {
   "cell_type": "markdown",
   "metadata": {
    "id": "D--P2xMW5veA"
   },
   "source": [
    "<font size=\"10\">&#x0210B;</font>int:\n",
    "\n",
    "__Input:__ input()a string\n",
    "\n",
    "__Process:__ str.isupper(), str.islower()\n",
    "\n",
    "__Output:__ print()"
   ]
  },
  {
   "cell_type": "code",
   "execution_count": null,
   "metadata": {
    "id": "-xpwS8H8pVMS"
   },
   "outputs": [],
   "source": [
    "#Program starts here\n"
   ]
  },
  {
   "cell_type": "markdown",
   "metadata": {
    "id": "1bw7vD5gpVTT"
   },
   "source": [
    "### M1-Q28 Case conversion\n",
    "(Time limit: 2 seconds)\n",
    "\n",
    "Problem Description: \n",
    "Input a character, convert its case to output (uppercase -> lowercase, lowercase -> uppercase).\n",
    "\n",
    "Input description:\n",
    "  Enter a character (char).\n",
    "\n",
    "Output description:\n",
    "Convert the input to its case and output, and there must be a newline character at the end.\n",
    "\n",
    "example:\n",
    "\n",
    "| Sample Input:   |      Sample Output:      |\n",
    "|:----------------|:-------------------------|\n",
    "|A|a⏎ |\n",
    "|a|A⏎ |\n"
   ]
  },
  {
   "cell_type": "markdown",
   "metadata": {
    "id": "DdbST0Ge5xmG"
   },
   "source": [
    "<font size=\"10\">&#x0210B;</font>int:\n",
    "\n",
    "__Input:__ input()\n",
    "\n",
    "__Process:__ str.upper(), str.lower()\n",
    "\n",
    "__Output:__ print()"
   ]
  },
  {
   "cell_type": "code",
   "execution_count": null,
   "metadata": {
    "id": "ZZhxsgY4pX9P"
   },
   "outputs": [],
   "source": [
    "#Program starts here\n"
   ]
  },
  {
   "cell_type": "markdown",
   "metadata": {
    "id": "hKL556c6pYDv"
   },
   "source": [
    "### M1-Q29 Odd and even\n",
    "(Time limit: 2 seconds)\n",
    "\n",
    "Problem Description: \n",
    "Enter a positive integer to determine its odd and even numbers.\n",
    "\n",
    "Input description:\n",
    "Enter a positive integer (int).\n",
    "\n",
    "Output description:\n",
    "To determine the odd and even number, there must be a newline character at the end.\n",
    "\n",
    "example:\n",
    "\n",
    "| Sample Input:   |      Sample Output:      |\n",
    "|:----------------|:-------------------------|\n",
    "|40|Even⏎ |\n",
    "|39|Odd⏎ |"
   ]
  },
  {
   "cell_type": "markdown",
   "metadata": {
    "id": "Bkr0PCUb5y9R"
   },
   "source": [
    "<font size=\"10\">&#x0210B;</font>int:\n",
    "\n",
    "__Input:__ Use the int() function to convert the input string into an integer variable\n",
    "\n",
    "__Process:__ Judgment conditions\n",
    "\n",
    "__Output:__ print()"
   ]
  },
  {
   "cell_type": "code",
   "execution_count": null,
   "metadata": {
    "id": "gER4p4CEpa_P"
   },
   "outputs": [],
   "source": [
    "#Program starts here\n"
   ]
  },
  {
   "cell_type": "markdown",
   "metadata": {
    "id": "MJjnuAI6pbf8"
   },
   "source": [
    "### M1-Q30 Triangle decision\n",
    "(Time limit: 2 seconds)\n",
    "\n",
    "Problem Description:\n",
    "Let the user input the three-side lengths a, b, c (and a ≤ b ≤ c) of the triangle, judge and output whether a, b, c are legal three-side lengths.\n",
    "\n",
    "Input description:\n",
    "Enter the three sides of the triangle a, b, c (and a ≤ b ≤ c ).\n",
    "\n",
    "Output description:\n",
    "Whether the output is a legal three-sided length, there must be a newline character at the end.\n",
    "\n",
    "example:\n",
    "\n",
    "| Sample Input:   |      Sample Output:      |\n",
    "|:----------------|:-------------------------|\n",
    "|7 9 8\t|False⏎ |\n",
    "|4 1 2\t|False⏎ |\n",
    "|3 4 5  |True⏎ |\n",
    "|1 2 3\t|False⏎ |"
   ]
  },
  {
   "cell_type": "markdown",
   "metadata": {
    "id": "67K5wKrB50wb"
   },
   "source": [
    "<font size=\"10\">&#x0210B;</font>int:\n",
    "\n",
    "__Input:__ Use split() to cut the input string, and then use the int() function to convert the input string into an integer variable\n",
    "\n",
    "__Process:__ Express the condition as if-condition\n",
    "\n",
    "__Output:__ Apply f-string"
   ]
  },
  {
   "cell_type": "code",
   "execution_count": null,
   "metadata": {
    "id": "fUbeGeMSpfWX"
   },
   "outputs": [],
   "source": [
    "#Program starts here\n"
   ]
  },
  {
   "cell_type": "markdown",
   "metadata": {
    "id": "X2QzHtFxmGL9"
   },
   "source": [
    "## M1 Problems:Q31-Q32"
   ]
  },
  {
   "cell_type": "markdown",
   "metadata": {
    "id": "8iDG09TGpkVq"
   },
   "source": [
    "### M1-Q31 Triangle classification\n",
    "(Time limit: 2 seconds)\n",
    "\n",
    "Problem Description: \n",
    "Let the user enter the lengths a, b, c of a legal triangle (and $a ≤ b ≤ c$ ), determine and output the triangle as \"Right triangle\" and \"Obtuse triangle\" , Or \"Acute triangle\".\n",
    "\n",
    "Judgment method:\n",
    "\n",
    "Suppose the three side lengths of the triangle are a, b, c, where c is the longest side length, calculate it\n",
    "\n",
    "if\n",
    "$a^2+b^2<c^2$\n",
    "Then the obtuse triangle is the angle corresponding to c.\n",
    "\n",
    "If $a^2+b^2=c^2$\n",
    "Then the right angle of a right triangle is located at the angle corresponding to c.\n",
    "\n",
    "If $a^2+b^2>c^2$\n",
    "Then it is an acute triangle, the angles corresponding to the three sides of a, b, c are all acute angles\n",
    "\n",
    "Input description:\n",
    "Enter the length of the three sides of a legal triangle a (int), b (int), c(int) (and $a ≤ b ≤ c$ ).\n",
    "\n",
    "Output description:\n",
    "Determine and output that the triangle is \"Right triangle\", \"Obtuse triangle\", or \"Acute triangle\", and there must be a line feed character at the end.\n",
    "\n",
    "example:\n",
    "\n",
    "| Sample Input:   |      Sample Output:      |\n",
    "|:----------------|:-------------------------|\n",
    "|3 4 5\t|Right triangle⏎ |\n",
    "|2 3 4\t|Obtuse triangle⏎ |\n",
    "|4 5 6  |Acute triangle⏎ |"
   ]
  },
  {
   "cell_type": "markdown",
   "metadata": {
    "id": "YxjxoPF453ZV"
   },
   "source": [
    "<font size=\"10\">&#x0210B;</font>int:\n",
    "\n",
    "__Input:__ Use split() to cut the input string, and then use the int() function to convert the input string into an integer variable\n",
    "\n",
    "__Process:__ Express the condition as if-condition\n",
    "\n",
    "__Output:__ Apply f-string"
   ]
  },
  {
   "cell_type": "code",
   "execution_count": null,
   "metadata": {
    "id": "vqIWyqoUpjtw"
   },
   "outputs": [],
   "source": [
    "#Program starts here"
   ]
  },
  {
   "cell_type": "markdown",
   "metadata": {
    "id": "oDAie31bpl3c"
   },
   "source": [
    "### M1-Q32 Digital price to text price\n",
    "(Time limit: 2 seconds)\n",
    "\n",
    "Problem Description: \n",
    "Enter a price of 1~1000, and print the words \"? thousand? hundred? ten? dollar\" on the screen according to this price.\n",
    "\n",
    "Input description:\n",
    "Enter a price (int) ranging from 1 to 1000.\n",
    "\n",
    "Output description:\n",
    "The output price prints \"? thousand? hundred? ten? dollar\" on the screen, and there must be a newline character at the end.\n",
    "\n",
    "example:\n",
    "\n",
    "| Sample Input:   |      Sample Output:      |\n",
    "|:----------------|:-------------------------|\n",
    "|173|0 thousand 1 hundred 7 ten 3 dollar⏎ |\n"
   ]
  },
  {
   "cell_type": "markdown",
   "metadata": {
    "id": "Yvo-RG-455dC"
   },
   "source": [
    "<font size=\"10\">&#x0210B;</font>int:\n",
    "\n",
    "__Input:__ Use the int() function to convert the input string into an integer variable\n",
    "\n",
    "__Process:__ Calculate every digit\n",
    "\n",
    "__Output:__ Apply f-string"
   ]
  },
  {
   "cell_type": "code",
   "execution_count": null,
   "metadata": {
    "id": "gahkHhXbazKy"
   },
   "outputs": [],
   "source": [
    "#Program starts here\n"
   ]
  }
 ],
 "metadata": {
  "colab": {
   "collapsed_sections": [],
   "provenance": []
  },
  "kernelspec": {
   "display_name": "Python 3 (ipykernel)",
   "language": "python",
   "name": "python3"
  },
  "language_info": {
   "codemirror_mode": {
    "name": "ipython",
    "version": 3
   },
   "file_extension": ".py",
   "mimetype": "text/x-python",
   "name": "python",
   "nbconvert_exporter": "python",
   "pygments_lexer": "ipython3",
   "version": "3.9.7"
  }
 },
 "nbformat": 4,
 "nbformat_minor": 1
}
