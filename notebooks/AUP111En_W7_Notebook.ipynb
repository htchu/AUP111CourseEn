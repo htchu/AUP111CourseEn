{
 "cells": [
  {
   "cell_type": "markdown",
   "metadata": {
    "id": "EUjJ7ImLnPVr"
   },
   "source": [
    "![image](https://www.python.org/static/img/python-logo.png)\n",
    "# AUP111En-Fundamentals of Programming\n",
    "[![Open In Colab](https://colab.research.google.com/assets/colab-badge.svg)](https://colab.research.google.com/github/googlecolab/colabtools/blob/master/notebooks/colab-github-demo.ipynb)\n"
   ]
  },
  {
   "attachments": {},
   "cell_type": "markdown",
   "metadata": {
    "id": "RWTPoyw2IyNr"
   },
   "source": [
    "# Week7-Dictionary\n",
    "\n",
    "![image](https://pynative.com/wp-content/uploads/2021/02/dictionaries-in-python.jpg)\n"
   ]
  },
  {
   "attachments": {},
   "cell_type": "markdown",
   "metadata": {
    "id": "Inv9OFALaipt"
   },
   "source": [
    "## Topic 1-Create and print a dictionary\n"
   ]
  },
  {
   "cell_type": "markdown",
   "metadata": {
    "id": "Bs1xyWEeaoUM"
   },
   "source": [
    "### Step 1: create a dictionary using {}"
   ]
  },
  {
   "cell_type": "code",
   "execution_count": null,
   "metadata": {
    "id": "TtoW5CKAaro-"
   },
   "outputs": [],
   "source": [
    "# create a dictionary using {}\n",
    "person = {\"name\": \"Jessa\", \"country\": \"USA\", \"telephone\": 1178}\n",
    "print(person)\n",
    "# output {'name': 'Jessa', 'country': 'USA', 'telephone': 1178}"
   ]
  },
  {
   "cell_type": "markdown",
   "metadata": {
    "id": "be827bE0atO4"
   },
   "source": [
    "### Step 2: create a dictionary using dict()"
   ]
  },
  {
   "cell_type": "code",
   "execution_count": null,
   "metadata": {
    "id": "d4PgHpQJaydE"
   },
   "outputs": [],
   "source": [
    "person = dict({\"name\": \"Jessa\", \"country\": \"USA\", \"telephone\": 1178})\n",
    "print(person)\n",
    "# output {'name': 'Jessa', 'country': 'USA', 'telephone': 1178}"
   ]
  },
  {
   "cell_type": "markdown",
   "metadata": {
    "id": "svAKkh6Sa1wt"
   },
   "source": [
    "### Step 3: create a dictionary from sequence having each item as a pair"
   ]
  },
  {
   "cell_type": "code",
   "execution_count": null,
   "metadata": {
    "id": "0Pw64quNa5ux"
   },
   "outputs": [],
   "source": [
    "person = dict([(\"name\", \"Mark\"), (\"country\", \"USA\"), (\"telephone\", 1178)])\n",
    "print(person)"
   ]
  },
  {
   "attachments": {},
   "cell_type": "markdown",
   "metadata": {
    "id": "vdCSlTjmc_zp"
   },
   "source": [
    "## Topic 2-Dictionary Comprehensions"
   ]
  },
  {
   "cell_type": "markdown",
   "metadata": {
    "id": "lOiVTnw4dDHK"
   },
   "source": [
    "### Step 1: Lists to represent keys and values"
   ]
  },
  {
   "cell_type": "code",
   "execution_count": null,
   "metadata": {
    "id": "Mi840XyldGJt"
   },
   "outputs": [],
   "source": [
    "keys = ['a','b','c','d','e']\n",
    "values = [1,2,3,4,5] \n",
    " \n"
   ]
  },
  {
   "cell_type": "markdown",
   "metadata": {
    "id": "3SkeqvwqdItw"
   },
   "source": [
    "### Step 2: Dictionary Comprehension"
   ]
  },
  {
   "cell_type": "code",
   "execution_count": null,
   "metadata": {
    "id": "7zF-f-bndMCo"
   },
   "outputs": [],
   "source": [
    "myDict = { k:v for (k,v) in zip(keys, values)} \n",
    "\n",
    "print (myDict)"
   ]
  },
  {
   "attachments": {},
   "cell_type": "markdown",
   "metadata": {
    "id": "YmsLqua1nw8T"
   },
   "source": [
    "## Topic 3-Change/update Dictionary items"
   ]
  },
  {
   "cell_type": "markdown",
   "metadata": {
    "id": "_3rpfyQXn82h"
   },
   "source": [
    "### Step 1: Adding items"
   ]
  },
  {
   "cell_type": "code",
   "execution_count": null,
   "metadata": {
    "id": "UW_6EPN9o0wB"
   },
   "outputs": [],
   "source": [
    "thisdict = {\n",
    "  \"brand\": \"Ford\",\n",
    "  \"model\": \"Mustang\",\n",
    "  \"year\": 1964\n",
    "}\n"
   ]
  },
  {
   "cell_type": "code",
   "execution_count": null,
   "metadata": {
    "id": "2bdb9Jn4p-nY"
   },
   "outputs": [],
   "source": [
    "thisdict[\"color\"] = \"red\"\n",
    "print(thisdict)"
   ]
  },
  {
   "cell_type": "markdown",
   "metadata": {
    "id": "tyMXFpzFoVz1"
   },
   "source": [
    "### Step 2: By using the update()"
   ]
  },
  {
   "cell_type": "code",
   "execution_count": null,
   "metadata": {
    "id": "l3vophVGpKNf"
   },
   "outputs": [],
   "source": [
    "thisdict = {\n",
    "  \"brand\": \"Ford\",\n",
    "  \"model\": \"Mustang\",\n",
    "  \"year\": 1964\n",
    "}\n",
    "thisdict.update({\"color\": \"red\"})"
   ]
  },
  {
   "cell_type": "markdown",
   "metadata": {
    "id": "kLe1GoiTtrgI"
   },
   "source": [
    "## Topic 4-Removing Items"
   ]
  },
  {
   "cell_type": "markdown",
   "metadata": {
    "id": "gg7LPehVd2RP"
   },
   "source": [
    "### Step 1: The pop() method"
   ]
  },
  {
   "cell_type": "code",
   "execution_count": null,
   "metadata": {
    "id": "ThLtS25cd3n8"
   },
   "outputs": [],
   "source": [
    "thisdict = {\n",
    "  \"brand\": \"Ford\",\n",
    "  \"model\": \"Mustang\",\n",
    "  \"year\": 1964\n",
    "}\n",
    "thisdict.pop(\"model\")\n",
    "print(thisdict)"
   ]
  },
  {
   "cell_type": "markdown",
   "metadata": {
    "id": "mIAEJ4Rzd8eE"
   },
   "source": [
    "### Step 2: popitem() The popitem() method removes the last inserted item"
   ]
  },
  {
   "cell_type": "code",
   "execution_count": null,
   "metadata": {
    "id": "b2GbyLfId-0U"
   },
   "outputs": [],
   "source": [
    "thisdict = {\n",
    "  \"brand\": \"Ford\",\n",
    "  \"model\": \"Mustang\",\n",
    "  \"year\": 1964\n",
    "}\n",
    "thisdict.popitem()\n",
    "print(thisdict)"
   ]
  },
  {
   "cell_type": "markdown",
   "metadata": {
    "id": "mq7WEsYBeFpI"
   },
   "source": [
    "### Step 3: The del keyword removes the item with the specified key name:"
   ]
  },
  {
   "cell_type": "code",
   "execution_count": null,
   "metadata": {
    "id": "GkIgw_3ReH5O"
   },
   "outputs": [],
   "source": [
    "thisdict = {\n",
    "  \"brand\": \"Ford\",\n",
    "  \"model\": \"Mustang\",\n",
    "  \"year\": 1964\n",
    "}\n",
    "del thisdict[\"model\"]\n",
    "print(thisdict)"
   ]
  },
  {
   "cell_type": "markdown",
   "metadata": {
    "id": "VVGGBcx5eKMm"
   },
   "source": [
    "## Topic 5-Accessing Items"
   ]
  },
  {
   "cell_type": "markdown",
   "metadata": {
    "id": "pl60WTNYeUdo"
   },
   "source": [
    "### Step 1: Accessing Items"
   ]
  },
  {
   "cell_type": "code",
   "execution_count": null,
   "metadata": {
    "id": "vxrWnIOZe3nw"
   },
   "outputs": [],
   "source": [
    "thisdict = {\n",
    "  \"brand\": \"Ford\",\n",
    "  \"model\": \"Mustang\",\n",
    "  \"year\": 1964\n",
    "}\n",
    "x = thisdict[\"model\"]"
   ]
  },
  {
   "cell_type": "markdown",
   "metadata": {
    "id": "tzMk81o9e5pg"
   },
   "source": [
    "### Step 2: get()"
   ]
  },
  {
   "cell_type": "code",
   "execution_count": null,
   "metadata": {
    "id": "7Jml2rqjfHjs"
   },
   "outputs": [],
   "source": [
    "x = thisdict.get(\"model\")"
   ]
  },
  {
   "cell_type": "markdown",
   "metadata": {},
   "source": [
    "## Topic 6-Loop Through a Dictionary"
   ]
  },
  {
   "cell_type": "markdown",
   "metadata": {},
   "source": [
    "### Step 1: Print all key names"
   ]
  },
  {
   "cell_type": "code",
   "execution_count": null,
   "metadata": {},
   "outputs": [],
   "source": [
    "thisdict = {\n",
    "  \"brand\": \"Ford\",\n",
    "  \"model\": \"Mustang\",\n",
    "  \"year\": 1964\n",
    "}\n",
    "for x in thisdict:\n",
    "  print(x)"
   ]
  },
  {
   "cell_type": "code",
   "execution_count": null,
   "metadata": {},
   "outputs": [],
   "source": [
    "for x in thisdict.keys():\n",
    "  print(x)"
   ]
  },
  {
   "cell_type": "markdown",
   "metadata": {},
   "source": [
    "### Step 2: Print all values"
   ]
  },
  {
   "cell_type": "code",
   "execution_count": null,
   "metadata": {},
   "outputs": [],
   "source": [
    "thisdict = {\n",
    "  \"brand\": \"Ford\",\n",
    "  \"model\": \"Mustang\",\n",
    "  \"year\": 1964\n",
    "}\n",
    "for x in thisdict:\n",
    "  print(thisdict[x])"
   ]
  },
  {
   "cell_type": "code",
   "execution_count": null,
   "metadata": {},
   "outputs": [],
   "source": [
    "for x in thisdict.values():\n",
    "  print(x)"
   ]
  },
  {
   "cell_type": "markdown",
   "metadata": {},
   "source": [
    "### Step 3: Print all keys and values"
   ]
  },
  {
   "cell_type": "code",
   "execution_count": null,
   "metadata": {},
   "outputs": [],
   "source": [
    "for x, y in thisdict.items():\n",
    "  print(x, y)"
   ]
  },
  {
   "attachments": {},
   "cell_type": "markdown",
   "metadata": {},
   "source": [
    "## Topic 7-Convert a Dictionary to a List"
   ]
  },
  {
   "cell_type": "markdown",
   "metadata": {},
   "source": [
    "### Step 1: items()"
   ]
  },
  {
   "cell_type": "code",
   "execution_count": null,
   "metadata": {},
   "outputs": [],
   "source": [
    "thisdict.items()"
   ]
  },
  {
   "cell_type": "markdown",
   "metadata": {},
   "source": [
    "### Step 2: List Comprehension"
   ]
  },
  {
   "cell_type": "code",
   "execution_count": null,
   "metadata": {},
   "outputs": [],
   "source": [
    "[(k,v) for k,v in thisdict.items()]"
   ]
  },
  {
   "cell_type": "code",
   "execution_count": null,
   "metadata": {},
   "outputs": [],
   "source": []
  }
 ],
 "metadata": {
  "colab": {
   "name": "AUP110_W7_Notebook.ipynb",
   "provenance": []
  },
  "kernelspec": {
   "display_name": "Python 3 (ipykernel)",
   "language": "python",
   "name": "python3"
  },
  "language_info": {
   "codemirror_mode": {
    "name": "ipython",
    "version": 3
   },
   "file_extension": ".py",
   "mimetype": "text/x-python",
   "name": "python",
   "nbconvert_exporter": "python",
   "pygments_lexer": "ipython3",
   "version": "3.9.7"
  }
 },
 "nbformat": 4,
 "nbformat_minor": 1
}
