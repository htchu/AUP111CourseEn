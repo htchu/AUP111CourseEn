{
 "cells": [
  {
   "cell_type": "markdown",
   "metadata": {
    "id": "9BqahVUKa41l"
   },
   "source": [
    "# AU Fundamentals of Python Programming-111-M1Problems(32)"
   ]
  },
  {
   "cell_type": "markdown",
   "metadata": {
    "id": "QM6JY0ccoXg9"
   },
   "source": [
    "### M1-Q19 Standard weight calculation\n",
    "(Time limit: 2 seconds)\n",
    "\n",
    "Problem Description:\n",
    "It is known that the standard weight of boys=(height-80)×0.7; the standard weight of girls=(height-70)×0.6; try to write a program to calculate the standard weight of boys and girls\n",
    "\n",
    "Input description:\n",
    "Enter two values, which are represented by height (int) and gender (int) in order (1 for male; 2 for female).\n",
    "\n",
    "Output description:\n",
    "Output the standard weight, the floating point number (float) is taken to the first place, and there must be a newline character at the end.\n",
    "\n",
    "example:\n",
    "\n",
    "| Sample Input:   |      Sample Output:      |\n",
    "|:----------------|:-------------------------|\n",
    "|172  1|64.4⏎|\n",
    "|165  2|57.0⏎|\n"
   ]
  },
  {
   "cell_type": "markdown",
   "metadata": {
    "id": "pTM__Nqu5i47"
   },
   "source": [
    "<font size=\"10\">&#x0210B;</font>int:\n",
    "\n",
    "__Input:__ Use the int() function to convert the input string into an integer variable\n",
    "\n",
    "__Process:__ Simple addition, subtraction, multiplication and division calculation and\n",
    "\n",
    "__Output:__ Apply f-string, and the format of the first digit below the decimal point is .1f"
   ]
  },
  {
   "cell_type": "code",
   "execution_count": null,
   "metadata": {
    "id": "GsBM2GYEoavH"
   },
   "outputs": [],
   "source": [
    "#Program starts here"
   ]
  },
  {
   "cell_type": "markdown",
   "metadata": {
    "id": "RLZCfItNoa3c"
   },
   "source": [
    "### M1-Q20 Change problem\n",
    "(Time limit: 2 seconds)\n",
    "\n",
    "Problem Description: \n",
    "Suppose there are three types of copper plates: 1 yuan, 5 yuan, and 50 yuan. My mother asked Xiao Ming to buy fruit at the vegetable market, and gave Xiao Ming n yuan, and the mother confessed that the number of change required for the boss to find Xiao Ming should be the least, and Xiao Ming went to the fruit stand to buy it. I have a_1 apples, a_2 oranges, and a_3 peaches. 1 apple is 15 yuan, 1 orange is 20 yuan, and 1 peach is 30 yuan. How many do I need to find 1 yuan, 5 yuan, 50 yuan, The number of copper plates is the least.\n",
    "\n",
    "Input description:\n",
    "First enter the amount of money n mother gave to Xiaoming, and then enter $a_1, a_2, a_3$, where $n, a_1, a_2, a_3$ are integers (int), and $a_1×15+a_2×20+a_3×30$ Less than or equal to n.\n",
    "\n",
    "Output description:\n",
    "List the total number of 1 yuan, 5 yuan and 50 yuan for Xiaoming. If the money you bring is not enough to buy fruits, it will display \"0\", and there must be a newline character at the end.\n",
    "\n",
    "example:\n",
    "\n",
    "\n",
    "| Sample Input:   |      Sample Output:      |\n",
    "|:----------------|:-------------------------|\n",
    "|500  1  2  3|0|\n",
    "||1|\n",
    "||7⏎|"
   ]
  },
  {
   "cell_type": "markdown",
   "metadata": {
    "id": "M6B5AB6o5lAN"
   },
   "source": [
    "<font size=\"10\">&#x0210B;</font>int:\n",
    "\n",
    "__Input:__ Use split() to cut the input string, and then use the int() function to convert the input string into an integer variable\n",
    "\n",
    "__Process:__ Simple addition, subtraction, multiplication and division calculation and\n",
    "\n",
    "__Output:__ Apply f-string"
   ]
  },
  {
   "cell_type": "code",
   "execution_count": null,
   "metadata": {
    "id": "aCMGzsQVo6Wl"
   },
   "outputs": [],
   "source": [
    "#Program starts here\n"
   ]
  },
  {
   "cell_type": "markdown",
   "metadata": {
    "id": "gsxvPO2gl_ur"
   },
   "source": [
    "## M1 Problems:Q21-Q25"
   ]
  },
  {
   "cell_type": "markdown",
   "metadata": {
    "id": "3lbJkCNvo7Cx"
   },
   "source": [
    "### M1-Q21 Determine whether the coordinates are within the range of the circle\n",
    "(Time limit: 2 seconds)\n",
    "\n",
    "Problem Description: \n",
    "A circle has a diameter of 200 and its center coordinate is (0,0). Please write a program that can input the coordinates of a point and determine whether the point is within the circle. If the position of the point happens to be on the boundary, it is considered to be within the circle (e.g. x = 100, y = 0)\n",
    "\n",
    "Input description:\n",
    "Enter an integer coordinate, x (int) and y (int) in order.\n",
    "\n",
    "Output description:\n",
    "Output the message that the coordinate position is inside or outside the circle, and there must be a newline character at the end.\n",
    "\n",
    "example:\n",
    "\n",
    "| Sample Input:   |      Sample Output:      |\n",
    "|:----------------|:-------------------------|\n",
    "|50  50|inside⏎ |\n",
    "|50  200|outside⏎ |\n"
   ]
  },
  {
   "cell_type": "markdown",
   "metadata": {
    "id": "toNJyoyJ5l4f"
   },
   "source": [
    "<font size=\"10\">&#x0210B;</font>int:\n",
    "\n",
    "__Input:__ Use the int() function to convert the input string into an integer variable\n",
    "\n",
    "__Process:__ Simple addition, subtraction, multiplication and division calculation and\n",
    "\n",
    "__Output:__ print()"
   ]
  },
  {
   "cell_type": "code",
   "execution_count": null,
   "metadata": {
    "id": "lrU2le4qo92h"
   },
   "outputs": [],
   "source": [
    "#Program starts here\n",
    "\n"
   ]
  },
  {
   "cell_type": "markdown",
   "metadata": {
    "id": "P6LRCYEOo984"
   },
   "source": [
    "### M1-Q22 Parking fee calculation\n",
    "(Time limit: 2 seconds)\n",
    "\n",
    "Problem Description:\n",
    "Assuming that the rate of a parking lot is less than 2 hours, 30 yuan per half hour, more than 2 hours, but less than 4 hours, 40 yuan per half hour, more than 4 hours, 60 per half hour Yuan, the part of less than half an hour will not be charged. If you stop from 10:23 in the morning to 3:20 in the afternoon, please write a program to calculate the total parking fee to be paid.\n",
    "\n",
    "Input description:\n",
    "Enter two sets of time (int) and minutes (int), which are the start and departure time respectively, in 24-hour format.\n",
    "\n",
    "Output description:\n",
    "  Output parking fee (int), there must be a newline character at the end.\n",
    "\n",
    "example:\n",
    "\n",
    "| Sample Input:   |      Sample Output:      |\n",
    "|:----------------|:-------------------------|\n",
    "|10  23 |340⏎ |\n",
    "|15  20 | |\n",
    "|11  11 |880⏎ |\n",
    "|20  30 | |"
   ]
  },
  {
   "cell_type": "markdown",
   "metadata": {
    "id": "tRButnnC5ni1"
   },
   "source": [
    "<font size=\"10\">&#x0210B;</font>int:\n",
    "\n",
    "__Input:__ Use the int() function to convert the input string into an integer variable\n",
    "\n",
    "__Process:__ Simple addition, subtraction, multiplication and division calculation and\n",
    "\n",
    "__Output:__ print()"
   ]
  },
  {
   "cell_type": "code",
   "execution_count": null,
   "metadata": {
    "id": "35UwZJeepCS7"
   },
   "outputs": [],
   "source": [
    "#Program starts here\n"
   ]
  },
  {
   "cell_type": "markdown",
   "metadata": {
    "id": "unrF_cTNpAtV"
   },
   "source": [
    "### M1-Q23 Season decision\n",
    "(Time limit: 2 seconds)\n",
    "\n",
    "Problem Description:\n",
    "Try to write a program, you can enter the month, and then determine that the season it belongs to is spring from March to May, summer from June to August, autumn from September to November, and winter from December to February.\n",
    "\n",
    "Input description:\n",
    "Enter the month (int).\n",
    "\n",
    "Output description:\n",
    "Output the season of the month (String), March to May is Spring (Spring), June to August is Summer (Summer), September to November is Autumn (Autumn), December to February is Winter (Winter), and finally There must be newline characters.\n",
    "\n",
    "example:\n",
    "\n",
    "| Sample Input:   |      Sample Output:      |\n",
    "|:----------------|:-------------------------|\n",
    "|3|Spring⏎ |\n",
    "|10|Autumn⏎|\n"
   ]
  },
  {
   "cell_type": "markdown",
   "metadata": {
    "id": "8cMaAkhe5opV"
   },
   "source": [
    "<font size=\"10\">&#x0210B;</font>int:\n",
    "\n",
    "__Input:__ Use the int() function to convert the input string into an integer variable\n",
    "\n",
    "__Process:__ if judgment formula (a< var <b)\n",
    "\n",
    "__Output:__ print() function"
   ]
  },
  {
   "cell_type": "code",
   "execution_count": null,
   "metadata": {
    "colab": {
     "base_uri": "https://localhost:8080/"
    },
    "id": "xtZmXQB3pF5n",
    "outputId": "ac7428e9-10fc-416e-961c-6d5c44c80a90"
   },
   "outputs": [
    {
     "name": "stdout",
     "output_type": "stream",
     "text": [
      "3\n",
      "Spring\n"
     ]
    }
   ],
   "source": [
    "#Program starts here\n",
    "\n"
   ]
  },
  {
   "cell_type": "markdown",
   "metadata": {
    "id": "-zqwp7C5pGCC"
   },
   "source": [
    "### M1- Q24 Constellation query\n",
    "(Time limit: 2 seconds)\n",
    "Problem Description: \n",
    "Please design a program to output the corresponding constellation according to the input and date.\n",
    "* January 21, 1997 ~ February 18, 1997 Aquarius (Aquarius)\n",
    "* February 19, 1997 ~ March 20, 1997 Pisces\n",
    "* March 21, 1997 ~ April 20, 1997 Aries\n",
    "* April 21, 1997 ~ May 21, 1997 Taurus\n",
    "* May 22, 1997 ~ June 21, 1997 Gemini (Gemini)\n",
    "* June 22, 1997 ~ July 22, 1997 Cancer (Cancer)\n",
    "* July 23, 1997 ~ August 23, 1997 Lion (Leo)\n",
    "* August 24, 1997 ~ September 23, 1997 Virgo\n",
    "* September 24, 1997 ~ October 23, 1997 Libra (Libra)\n",
    "* October 24, 1997 ~ November 22, 1997 Scorpio\n",
    "* November 23, 1997 ~ December 21, 1997 Sagittarius\n",
    "* December 22, 1997 ~ January 20, 1998 Capricorn\n",
    "\n",
    "Input description:\n",
    "Please enter month (int) and date (int).\n",
    "\n",
    "Output description:\n",
    "According to the constellation standard, the date and date are converted into a constellation (String) for output, and there must be a newline character at the end.\n",
    "\n",
    "example:\n",
    "\n",
    "| Sample Input:   |      Sample Output:      |\n",
    "|:----------------|:-------------------------|\n",
    "|8  20|Leo⏎ |\n",
    "|4  15|Aries⏎ |\n"
   ]
  },
  {
   "cell_type": "markdown",
   "metadata": {
    "id": "WEHml8n55qZb"
   },
   "source": [
    "<font size=\"10\">&#x0210B;</font>int:\n",
    "\n",
    "__Input:__ Use the int() function to convert the input string into an integer variable\n",
    "\n",
    "__Process:__ First judge the month, and then see whether it is the first half or the second half\n",
    "\n",
    "__Output:__ print()"
   ]
  },
  {
   "cell_type": "code",
   "execution_count": null,
   "metadata": {
    "id": "2ppPyUnupKML"
   },
   "outputs": [],
   "source": [
    "#Program starts here\n"
   ]
  },
  {
   "cell_type": "markdown",
   "metadata": {
    "id": "_dezTq4LpKTJ"
   },
   "source": [
    "### M1-Q25 Leap Year Judgment\n",
    "(Time limit: 2 seconds)\n",
    "\n",
    "Problem Description: \n",
    "Try to write a program that can read a 4-digit integer from the keyboard to represent the Western year, and then whether this year is a leap year, every four years is a leap, every 100 years is not a leap, every 400 years is a leap, for example, 1900 is 4 A multiple, but it is divisible by 100, so it is not a leap year. Similarly, 2000 is a leap year, because it can be an integer of 400, and 2004 is of course also a leap, because it can be divisible by 4.\n",
    "\n",
    "Input description:\n",
    "Enter the year (int).\n",
    "\n",
    "Output description:\n",
    "Output Leap Year (Leap Year) or Common Year (String), and there must be a newline character at the end.\n",
    "\n",
    "example:\n",
    "\n",
    "| Sample Input:   |      Sample Output:      |\n",
    "|:----------------|:-------------------------|\n",
    "|2000|Leap Year⏎ |\n",
    "|2003|Common Year⏎|"
   ]
  },
  {
   "cell_type": "markdown",
   "metadata": {
    "id": "0AQVSLbR5rp9"
   },
   "source": [
    "<font size=\"10\">&#x0210B;</font>int:\n",
    "\n",
    "__Input:__ Use the int() function to convert the input string into an integer variable\n",
    "\n",
    "__Process:__ Judgment conditions\n",
    "\n",
    "__Output:__ print()"
   ]
  },
  {
   "cell_type": "code",
   "execution_count": null,
   "metadata": {
    "id": "-vGgOXPf5sOU"
   },
   "outputs": [],
   "source": [
    "#Program starts here\n"
   ]
  },
  {
   "cell_type": "markdown",
   "metadata": {
    "id": "Q63JmT7DmCwp"
   },
   "source": [
    "## M1 Problems:Q26-Q30"
   ]
  },
  {
   "cell_type": "markdown",
   "metadata": {
    "id": "UO2hzx41pPao"
   },
   "source": [
    "### M1-Q26 Calculate electricity bill\n",
    "(Time limit: 2 seconds)\n",
    "\n",
    "Problem Description:\n",
    "Enter the number of degrees used to convert the electricity bill for summer months and non-summer months\n",
    "\n",
    "| Per degree (yuan): | summer months: | non-summer months: |\n",
    "|:----------------|:-------------------------|:--- ----------------------|\n",
    "|The part below 120 degrees | 2.10 | 2.10 |\n",
    "|121-330 degree part | 3.02 | 2.68|\n",
    "|331-500 degree part | 4.39 | 3.61|\n",
    "|501-700 degree part | 4.97 | 4.01|\n",
    "|The part above 701 degrees | 5.63 | 4.50|\n",
    "\n",
    "\n",
    "Input description:\n",
    "The number of electric power used (int).\n",
    "\n",
    "Output description:\n",
    "The amount of summer months and non-summer months (float), please output to two decimal places, and there must be a newline character at the end.\n",
    "\n",
    "example:\n",
    "\n",
    "| Sample Input:   |      Sample Output:      |\n",
    "|:----------------|:-------------------------|\n",
    "|525\t| 1756.75 |\n",
    "|   |1528.75⏎ |\n"
   ]
  },
  {
   "cell_type": "markdown",
   "metadata": {
    "id": "fM3GyWY75teZ"
   },
   "source": [
    "<font size=\"10\">&#x0210B;</font>int:\n",
    "\n",
    "__Input:__ Use the int() function to convert the input string into an integer variable\n",
    "\n",
    "__Process:__ Judgment conditions\n",
    "\n",
    "__Output:__ print()"
   ]
  },
  {
   "cell_type": "code",
   "execution_count": null,
   "metadata": {
    "id": "VSxFz3sDpSnn"
   },
   "outputs": [],
   "source": [
    "#Program starts here\n"
   ]
  },
  {
   "cell_type": "markdown",
   "metadata": {
    "id": "ILsGRvCxpSu7"
   },
   "source": [
    "### M1-Q27 Determine case or other characters\n",
    "(Time limit: 2 seconds)\n",
    "\n",
    "Problem Description: \n",
    "Enter a character to determine whether it is uppercase or lowercase or other characters.\n",
    "\n",
    "Input description:\n",
    "Enter a character (char).\n",
    "\n",
    "Output description:\n",
    "Output the judgment result (uppercase: uppercase, lowercase: lowercase, special character: special character), and there must be a newline character at the end.\n",
    "\n",
    "example:\n",
    "Sample Input:\tSample Output:\n",
    "A\tuppercase⏎\n",
    "a\tlowercase⏎\n",
    "*\tspecial character⏎\n",
    "\n",
    "| Sample Input:   |      Sample Output:      |\n",
    "|:----------------|:-------------------------|\n",
    "|A\t| uppercase⏎ |\n",
    "|a  |lowercase⏎ |\n",
    "|*  |special character⏎ |\n",
    "\n"
   ]
  },
  {
   "cell_type": "markdown",
   "metadata": {
    "id": "D--P2xMW5veA"
   },
   "source": [
    "<font size=\"10\">&#x0210B;</font>int:\n",
    "\n",
    "__Input:__ input()a string\n",
    "\n",
    "__Process:__ str.isupper(), str.islower()\n",
    "\n",
    "__Output:__ print()"
   ]
  },
  {
   "cell_type": "code",
   "execution_count": null,
   "metadata": {
    "id": "-xpwS8H8pVMS"
   },
   "outputs": [],
   "source": [
    "#Program starts here\n"
   ]
  },
  {
   "cell_type": "markdown",
   "metadata": {
    "id": "1bw7vD5gpVTT"
   },
   "source": [
    "### M1-Q28 Case conversion\n",
    "(Time limit: 2 seconds)\n",
    "\n",
    "Problem Description: \n",
    "Input a character, convert its case to output (uppercase -> lowercase, lowercase -> uppercase).\n",
    "\n",
    "Input description:\n",
    "  Enter a character (char).\n",
    "\n",
    "Output description:\n",
    "Convert the input to its case and output, and there must be a newline character at the end.\n",
    "\n",
    "example:\n",
    "\n",
    "| Sample Input:   |      Sample Output:      |\n",
    "|:----------------|:-------------------------|\n",
    "|A|a⏎ |\n",
    "|a|A⏎ |\n"
   ]
  },
  {
   "cell_type": "markdown",
   "metadata": {
    "id": "DdbST0Ge5xmG"
   },
   "source": [
    "<font size=\"10\">&#x0210B;</font>int:\n",
    "\n",
    "__Input:__ input()\n",
    "\n",
    "__Process:__ str.upper(), str.lower()\n",
    "\n",
    "__Output:__ print()"
   ]
  },
  {
   "cell_type": "code",
   "execution_count": null,
   "metadata": {
    "id": "ZZhxsgY4pX9P"
   },
   "outputs": [],
   "source": [
    "#Program starts here\n"
   ]
  },
  {
   "cell_type": "markdown",
   "metadata": {
    "id": "hKL556c6pYDv"
   },
   "source": [
    "### M1-Q29 Odd and even\n",
    "(Time limit: 2 seconds)\n",
    "\n",
    "Problem Description: \n",
    "Enter a positive integer to determine its odd and even numbers.\n",
    "\n",
    "Input description:\n",
    "Enter a positive integer (int).\n",
    "\n",
    "Output description:\n",
    "To determine the odd and even number, there must be a newline character at the end.\n",
    "\n",
    "example:\n",
    "\n",
    "| Sample Input:   |      Sample Output:      |\n",
    "|:----------------|:-------------------------|\n",
    "|40|Even⏎ |\n",
    "|39|Odd⏎ |"
   ]
  },
  {
   "cell_type": "markdown",
   "metadata": {
    "id": "Bkr0PCUb5y9R"
   },
   "source": [
    "<font size=\"10\">&#x0210B;</font>int:\n",
    "\n",
    "__Input:__ Use the int() function to convert the input string into an integer variable\n",
    "\n",
    "__Process:__ Judgment conditions\n",
    "\n",
    "__Output:__ print()"
   ]
  },
  {
   "cell_type": "code",
   "execution_count": null,
   "metadata": {
    "id": "gER4p4CEpa_P"
   },
   "outputs": [],
   "source": [
    "#Program starts here\n"
   ]
  },
  {
   "cell_type": "markdown",
   "metadata": {
    "id": "MJjnuAI6pbf8"
   },
   "source": [
    "### M1-Q30 Triangle decision\n",
    "(Time limit: 2 seconds)\n",
    "\n",
    "Problem Description:\n",
    "Let the user input the three-side lengths a, b, c (and a ≤ b ≤ c) of the triangle, judge and output whether a, b, c are legal three-side lengths.\n",
    "\n",
    "Input description:\n",
    "Enter the three sides of the triangle a, b, c (and a ≤ b ≤ c ).\n",
    "\n",
    "Output description:\n",
    "Whether the output is a legal three-sided length, there must be a newline character at the end.\n",
    "\n",
    "example:\n",
    "\n",
    "| Sample Input:   |      Sample Output:      |\n",
    "|:----------------|:-------------------------|\n",
    "|7 9 8\t|False⏎ |\n",
    "|4 1 2\t|False⏎ |\n",
    "|3 4 5  |True⏎ |\n",
    "|1 2 3\t|False⏎ |"
   ]
  },
  {
   "cell_type": "markdown",
   "metadata": {
    "id": "67K5wKrB50wb"
   },
   "source": [
    "<font size=\"10\">&#x0210B;</font>int:\n",
    "\n",
    "__Input:__ Use split() to cut the input string, and then use the int() function to convert the input string into an integer variable\n",
    "\n",
    "__Process:__ Express the condition as if-condition\n",
    "\n",
    "__Output:__ Apply f-string"
   ]
  },
  {
   "cell_type": "code",
   "execution_count": null,
   "metadata": {
    "id": "fUbeGeMSpfWX"
   },
   "outputs": [],
   "source": [
    "#Program starts here\n"
   ]
  },
  {
   "cell_type": "markdown",
   "metadata": {
    "id": "X2QzHtFxmGL9"
   },
   "source": [
    "## M1 Problems:Q31-Q32"
   ]
  },
  {
   "cell_type": "markdown",
   "metadata": {
    "id": "8iDG09TGpkVq"
   },
   "source": [
    "### M1-Q31 Triangle classification\n",
    "(Time limit: 2 seconds)\n",
    "\n",
    "Problem Description: \n",
    "Let the user enter the lengths a, b, c of a legal triangle (and $a ≤ b ≤ c$ ), determine and output the triangle as \"Right triangle\" and \"Obtuse triangle\" , Or \"Acute triangle\".\n",
    "\n",
    "Judgment method:\n",
    "\n",
    "Suppose the three side lengths of the triangle are a, b, c, where c is the longest side length, calculate it\n",
    "\n",
    "if\n",
    "$a^2+b^2<c^2$\n",
    "Then the obtuse triangle is the angle corresponding to c.\n",
    "\n",
    "If $a^2+b^2=c^2$\n",
    "Then the right angle of a right triangle is located at the angle corresponding to c.\n",
    "\n",
    "If $a^2+b^2>c^2$\n",
    "Then it is an acute triangle, the angles corresponding to the three sides of a, b, c are all acute angles\n",
    "\n",
    "Input description:\n",
    "Enter the length of the three sides of a legal triangle a (int), b (int), c(int) (and $a ≤ b ≤ c$ ).\n",
    "\n",
    "Output description:\n",
    "Determine and output that the triangle is \"Right triangle\", \"Obtuse triangle\", or \"Acute triangle\", and there must be a line feed character at the end.\n",
    "\n",
    "example:\n",
    "\n",
    "| Sample Input:   |      Sample Output:      |\n",
    "|:----------------|:-------------------------|\n",
    "|3 4 5\t|Right triangle⏎ |\n",
    "|2 3 4\t|Obtuse triangle⏎ |\n",
    "|4 5 6  |Acute triangle⏎ |"
   ]
  },
  {
   "cell_type": "markdown",
   "metadata": {
    "id": "YxjxoPF453ZV"
   },
   "source": [
    "<font size=\"10\">&#x0210B;</font>int:\n",
    "\n",
    "__Input:__ Use split() to cut the input string, and then use the int() function to convert the input string into an integer variable\n",
    "\n",
    "__Process:__ Express the condition as if-condition\n",
    "\n",
    "__Output:__ Apply f-string"
   ]
  },
  {
   "cell_type": "code",
   "execution_count": null,
   "metadata": {
    "id": "vqIWyqoUpjtw"
   },
   "outputs": [],
   "source": [
    "#Program starts here"
   ]
  },
  {
   "cell_type": "markdown",
   "metadata": {
    "id": "oDAie31bpl3c"
   },
   "source": [
    "### M1-Q32 Digital price to text price\n",
    "(Time limit: 2 seconds)\n",
    "\n",
    "Problem Description: \n",
    "Enter a price of 1~1000, and print the words \"? thousand? hundred? ten? dollar\" on the screen according to this price.\n",
    "\n",
    "Input description:\n",
    "Enter a price (int) ranging from 1 to 1000.\n",
    "\n",
    "Output description:\n",
    "The output price prints \"? thousand? hundred? ten? dollar\" on the screen, and there must be a newline character at the end.\n",
    "\n",
    "example:\n",
    "\n",
    "| Sample Input:   |      Sample Output:      |\n",
    "|:----------------|:-------------------------|\n",
    "|173|0 thousand 1 hundred 7 ten 3 dollar⏎ |\n"
   ]
  },
  {
   "cell_type": "markdown",
   "metadata": {
    "id": "Yvo-RG-455dC"
   },
   "source": [
    "<font size=\"10\">&#x0210B;</font>int:\n",
    "\n",
    "__Input:__ Use the int() function to convert the input string into an integer variable\n",
    "\n",
    "__Process:__ Calculate every digit\n",
    "\n",
    "__Output:__ Apply f-string"
   ]
  },
  {
   "cell_type": "code",
   "execution_count": null,
   "metadata": {
    "id": "gahkHhXbazKy"
   },
   "outputs": [],
   "source": [
    "#Program starts here\n"
   ]
  }
 ],
 "metadata": {
  "colab": {
   "collapsed_sections": [],
   "provenance": []
  },
  "kernelspec": {
   "display_name": "Python 3 (ipykernel)",
   "language": "python",
   "name": "python3"
  },
  "language_info": {
   "codemirror_mode": {
    "name": "ipython",
    "version": 3
   },
   "file_extension": ".py",
   "mimetype": "text/x-python",
   "name": "python",
   "nbconvert_exporter": "python",
   "pygments_lexer": "ipython3",
   "version": "3.9.7"
  }
 },
 "nbformat": 4,
 "nbformat_minor": 1
}
