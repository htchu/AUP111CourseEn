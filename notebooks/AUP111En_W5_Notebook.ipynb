{
  "nbformat": 4,
  "nbformat_minor": 0,
  "metadata": {
    "colab": {
      "provenance": [],
      "collapsed_sections": [
        "lOiVTnw4dDHK",
        "3SkeqvwqdItw",
        "_3rpfyQXn82h",
        "tyMXFpzFoVz1",
        "gg7LPehVd2RP",
        "mIAEJ4Rzd8eE",
        "pl60WTNYeUdo",
        "tzMk81o9e5pg"
      ]
    },
    "kernelspec": {
      "name": "python3",
      "display_name": "Python 3"
    }
  },
  "cells": [
    {
      "cell_type": "markdown",
      "metadata": {
        "id": "EUjJ7ImLnPVr"
      },
      "source": [
        "![image](https://www.python.org/static/img/python-logo.png)\n",
        "# AUP110-Fundamentals of Programming\n",
        "[![Open In Colab](https://colab.research.google.com/assets/colab-badge.svg)](https://colab.research.google.com/github/googlecolab/colabtools/blob/master/notebooks/colab-github-demo.ipynb)\n",
        "\n"
      ]
    },
    {
      "cell_type": "markdown",
      "metadata": {
        "id": "RWTPoyw2IyNr"
      },
      "source": [
        "# Week7-Built-in functions and the use of strings\n",
        "\n",
        "![image](https://i.ibb.co/ZzFNzyP/ipo7.png)\n"
      ]
    },
    {
      "cell_type": "markdown",
      "metadata": {
        "id": "Inv9OFALaipt"
      },
      "source": [
        "## Topic 1-Review of input parameters\n",
        "\n",
        "```\n",
        "input()\n",
        "```"
      ]
    },
    {
      "cell_type": "markdown",
      "metadata": {
        "id": "Bs1xyWEeaoUM"
      },
      "source": [
        "### Step 1: Enter a string parameter"
      ]
    },
    {
      "cell_type": "code",
      "metadata": {
        "id": "TtoW5CKAaro-",
        "colab": {
          "base_uri": "https://localhost:8080/"
        },
        "outputId": "f25b1796-5d9a-4ea8-8c96-f93243cb2ecb"
      },
      "source": [
        "instr = input()\n",
        "print(instr)"
      ],
      "execution_count": null,
      "outputs": [
        {
          "output_type": "stream",
          "name": "stdout",
          "text": [
            "jegdfsjdgfjagkfjgkjafjksgjsdj\n",
            "jegdfsjdgfjagkfjgkjafjksgjsdj\n"
          ]
        }
      ]
    },
    {
      "cell_type": "markdown",
      "metadata": {
        "id": "be827bE0atO4"
      },
      "source": [
        "### Step 2: Enter an integer parameter"
      ]
    },
    {
      "cell_type": "code",
      "metadata": {
        "id": "d4PgHpQJaydE",
        "colab": {
          "base_uri": "https://localhost:8080/"
        },
        "outputId": "915fb996-bf7f-4288-dea4-d7a9d8b8b935"
      },
      "source": [
        "val = int(input())\n",
        "print(val)"
      ],
      "execution_count": null,
      "outputs": [
        {
          "output_type": "stream",
          "name": "stdout",
          "text": [
            "554\n",
            "554\n"
          ]
        }
      ]
    },
    {
      "cell_type": "code",
      "metadata": {
        "id": "Kgi4EZvna0RK",
        "colab": {
          "base_uri": "https://localhost:8080/"
        },
        "outputId": "130aa2b8-1725-423c-8cd7-073654ee99fb"
      },
      "source": [
        "#Combine input and integer conversion\n",
        "val = int(input())\n",
        "print(val)"
      ],
      "execution_count": null,
      "outputs": [
        {
          "output_type": "stream",
          "name": "stdout",
          "text": [
            "554\n",
            "554\n"
          ]
        }
      ]
    },
    {
      "cell_type": "markdown",
      "metadata": {
        "id": "svAKkh6Sa1wt"
      },
      "source": [
        "### Step 3: Enter a floating-point number parameter"
      ]
    },
    {
      "cell_type": "code",
      "metadata": {
        "id": "0Pw64quNa5ux"
      },
      "source": [
        "instr = input()\n",
        "val = float(instr)\n",
        "print(val)"
      ],
      "execution_count": null,
      "outputs": []
    },
    {
      "cell_type": "code",
      "metadata": {
        "id": "_qg9bd3Va7Ko"
      },
      "source": [
        "#Combine input and floating-point number conversion\n",
        "val = float(input())\n",
        "print(val)"
      ],
      "execution_count": null,
      "outputs": []
    },
    {
      "cell_type": "markdown",
      "metadata": {
        "id": "eUEUZlEDa93a"
      },
      "source": [
        "### Step 4: Enter two string parameters"
      ]
    },
    {
      "cell_type": "code",
      "metadata": {
        "id": "phe48kYmbB-I"
      },
      "source": [
        "instr = input()\n",
        "paras = instr.split()\n",
        "a = paras[0]\n",
        "b = paras[1]\n",
        "print(f\"{a} {b}\")"
      ],
      "execution_count": null,
      "outputs": []
    },
    {
      "cell_type": "code",
      "metadata": {
        "id": "LSB42VfebDqS"
      },
      "source": [
        "#Combining input and string splitting\n",
        "a, b = input().split()\n",
        "print(f\"{a} {b}\")"
      ],
      "execution_count": null,
      "outputs": []
    },
    {
      "cell_type": "markdown",
      "metadata": {
        "id": "qyAccngpbFLE"
      },
      "source": [
        "### Step 5: Enter three string parameters"
      ]
    },
    {
      "cell_type": "code",
      "metadata": {
        "id": "VW0SpNrrbIfh"
      },
      "source": [
        "instr = input()\n",
        "paras = instr.split()\n",
        "a = int(paras[0])\n",
        "b = int(paras[1])\n",
        "c = int(paras[2])\n",
        "print(f\"a={a} b={b} c={c}\")"
      ],
      "execution_count": null,
      "outputs": []
    },
    {
      "cell_type": "code",
      "metadata": {
        "id": "-tPyZMLzbKAG"
      },
      "source": [
        "#合併輸入和數字轉換\n",
        "a, b, c = map(int, input().split())\n",
        "print(f\"a={a} b={b} c={c}\")"
      ],
      "execution_count": null,
      "outputs": []
    },
    {
      "cell_type": "markdown",
      "metadata": {
        "id": "vdCSlTjmc_zp"
      },
      "source": [
        "## Topic 2-Review of formatted output"
      ]
    },
    {
      "cell_type": "markdown",
      "metadata": {
        "id": "lOiVTnw4dDHK"
      },
      "source": [
        "### Step 1: Format multiple variables"
      ]
    },
    {
      "cell_type": "code",
      "metadata": {
        "id": "Mi840XyldGJt"
      },
      "source": [
        "year = 2016\n",
        "event = 'Referendum'\n",
        "print(f'Results of the {year} {event}') "
      ],
      "execution_count": null,
      "outputs": []
    },
    {
      "cell_type": "markdown",
      "metadata": {
        "id": "3SkeqvwqdItw"
      },
      "source": [
        "### Step 2: Control the width and arrangement of formatted output"
      ]
    },
    {
      "cell_type": "code",
      "metadata": {
        "id": "7zF-f-bndMCo",
        "colab": {
          "base_uri": "https://localhost:8080/"
        },
        "outputId": "f1eb3200-d489-44f0-ec29-c7cf28962b1b"
      },
      "source": [
        "yes_votes = 42572654\n",
        "no_votes = 43132495\n",
        "percentage = yes_votes / (yes_votes + no_votes)\n",
        "print(f'{yes_votes:9} YES votes {percentage:2.2%}')"
      ],
      "execution_count": null,
      "outputs": [
        {
          "output_type": "stream",
          "name": "stdout",
          "text": [
            " 42572654 YES votes 49.67%\n"
          ]
        }
      ]
    },
    {
      "cell_type": "markdown",
      "metadata": {
        "id": "YmsLqua1nw8T"
      },
      "source": [
        "## Topic 3-Indexing and slicing of strings"
      ]
    },
    {
      "cell_type": "markdown",
      "metadata": {
        "id": "_3rpfyQXn82h"
      },
      "source": [
        "### Step 1: Indexing\n",
        "\n",
        "string.index(value, start, end)"
      ]
    },
    {
      "cell_type": "code",
      "metadata": {
        "id": "UW_6EPN9o0wB",
        "colab": {
          "base_uri": "https://localhost:8080/"
        },
        "outputId": "32daa215-a237-4b33-96bc-d44ae3a8b55a"
      },
      "source": [
        "txt = \"Hello, welcome to my world.\"\n",
        "x = txt.index(\"welcome\")\n",
        "print(x)"
      ],
      "execution_count": null,
      "outputs": [
        {
          "output_type": "stream",
          "name": "stdout",
          "text": [
            "7\n"
          ]
        }
      ]
    },
    {
      "cell_type": "code",
      "metadata": {
        "id": "2bdb9Jn4p-nY",
        "colab": {
          "base_uri": "https://localhost:8080/"
        },
        "outputId": "db45216e-890a-4767-b1f4-5ea2e7183860"
      },
      "source": [
        "txt = \"Hello, welcome to my world.\"\n",
        "print(txt[7])"
      ],
      "execution_count": null,
      "outputs": [
        {
          "output_type": "stream",
          "name": "stdout",
          "text": [
            "w\n"
          ]
        }
      ]
    },
    {
      "cell_type": "code",
      "metadata": {
        "id": "Mny9RMSoqFb_",
        "colab": {
          "base_uri": "https://localhost:8080/"
        },
        "outputId": "fb2c05fc-50b3-4ccc-8350-4aeb6f1492b9"
      },
      "source": [
        "       012345678901234\n",
        "txt = \"Hello, welcome to my world.\"\n",
        "print(txt[7:14])"
      ],
      "execution_count": null,
      "outputs": [
        {
          "output_type": "stream",
          "name": "stdout",
          "text": [
            "welcome\n"
          ]
        }
      ]
    },
    {
      "cell_type": "markdown",
      "metadata": {
        "id": "tyMXFpzFoVz1"
      },
      "source": [
        "### Step 2: Slicing"
      ]
    },
    {
      "cell_type": "code",
      "metadata": {
        "id": "l3vophVGpKNf",
        "colab": {
          "base_uri": "https://localhost:8080/"
        },
        "outputId": "f6a70062-86ed-4143-8a98-914e487fd105"
      },
      "source": [
        "str1 = \"Hello, World!\"\n",
        "print(str1[7:13])"
      ],
      "execution_count": null,
      "outputs": [
        {
          "output_type": "stream",
          "name": "stdout",
          "text": [
            "World!\n"
          ]
        }
      ]
    },
    {
      "cell_type": "code",
      "metadata": {
        "id": "uHYf_6W1pS0P",
        "colab": {
          "base_uri": "https://localhost:8080/"
        },
        "outputId": "25981a11-2830-47f7-c354-3511b9ccc203"
      },
      "source": [
        "str1 = \"Hello, World!\"\n",
        "print(str1[7:])"
      ],
      "execution_count": null,
      "outputs": [
        {
          "output_type": "stream",
          "name": "stdout",
          "text": [
            "World!\n"
          ]
        }
      ]
    },
    {
      "cell_type": "code",
      "metadata": {
        "id": "Mm_zk9-fpWoI",
        "colab": {
          "base_uri": "https://localhost:8080/"
        },
        "outputId": "616b7898-8510-4551-f433-7b76b53267d7"
      },
      "source": [
        "str1 = \"Hello, World!\"\n",
        "print(str1[-6:])"
      ],
      "execution_count": null,
      "outputs": [
        {
          "output_type": "stream",
          "name": "stdout",
          "text": [
            "World!\n"
          ]
        }
      ]
    },
    {
      "cell_type": "code",
      "metadata": {
        "id": "sEymw9V2pv9x"
      },
      "source": [
        "str1 = \"Hello, World!\"\n",
        "print(str1[-6:-3])"
      ],
      "execution_count": null,
      "outputs": []
    },
    {
      "cell_type": "code",
      "metadata": {
        "id": "7-5003Nxpi0S",
        "colab": {
          "base_uri": "https://localhost:8080/"
        },
        "outputId": "dc36dccd-8adf-44e6-d35c-abdfef4c04de"
      },
      "source": [
        "str1 = \"Hello, World!\"\n",
        "print(str1[::-1])"
      ],
      "execution_count": null,
      "outputs": [
        {
          "output_type": "stream",
          "name": "stdout",
          "text": [
            "!dlroW ,olleH\n"
          ]
        }
      ]
    },
    {
      "cell_type": "markdown",
      "metadata": {
        "id": "kLe1GoiTtrgI"
      },
      "source": [
        "## Topic 4-String function\n",
        "* Split string str.split()\n",
        "* Uppercase and lowercase str.lower(),str.upper()\n",
        "* Go to the beginning and end str.strip(),str.rstrip(),str.lstrip()"
      ]
    },
    {
      "cell_type": "markdown",
      "metadata": {
        "id": "gg7LPehVd2RP"
      },
      "source": [
        "### Step 1: str.split()"
      ]
    },
    {
      "cell_type": "code",
      "metadata": {
        "id": "ThLtS25cd3n8",
        "colab": {
          "base_uri": "https://localhost:8080/"
        },
        "outputId": "ed12694f-42b8-406d-b149-6137cc2acab5"
      },
      "source": [
        "original_string = \"ab_cd_ef\"\n",
        "split_string = original_string.split(\"_\")#splits string by \"_\"\n",
        "print(split_string)"
      ],
      "execution_count": null,
      "outputs": [
        {
          "output_type": "stream",
          "name": "stdout",
          "text": [
            "['ab', 'cd', 'ef']\n"
          ]
        }
      ]
    },
    {
      "cell_type": "code",
      "metadata": {
        "id": "vB1EDG0wd5_E"
      },
      "source": [
        "original_string = \"ab cd ef\"\n",
        "split_string = original_string.split()#splits string by \" \"\n",
        "print(split_string)"
      ],
      "execution_count": null,
      "outputs": []
    },
    {
      "cell_type": "markdown",
      "metadata": {
        "id": "mIAEJ4Rzd8eE"
      },
      "source": [
        "### Step 2: str.lower(),str.upper()"
      ]
    },
    {
      "cell_type": "code",
      "metadata": {
        "id": "b2GbyLfId-0U",
        "colab": {
          "base_uri": "https://localhost:8080/"
        },
        "outputId": "f2efb545-87df-49ee-a44e-e81998e6889b"
      },
      "source": [
        "ss = \"Google was founded in September 1998 by Larry Page and Sergey Brin\";\n",
        "s1 = ss.lower()\n",
        "s2 = ss.upper()\n",
        "print(s1)\n",
        "print(s2)"
      ],
      "execution_count": null,
      "outputs": [
        {
          "output_type": "stream",
          "name": "stdout",
          "text": [
            "google was founded in september 1998 by larry page and sergey brin\n",
            "GOOGLE WAS FOUNDED IN SEPTEMBER 1998 BY LARRY PAGE AND SERGEY BRIN\n"
          ]
        }
      ]
    },
    {
      "cell_type": "markdown",
      "metadata": {
        "id": "mq7WEsYBeFpI"
      },
      "source": [
        "Step 3: 去頭去尾 str.strip(),str.rstrip(),str.lstrip()"
      ]
    },
    {
      "cell_type": "code",
      "metadata": {
        "id": "GkIgw_3ReH5O"
      },
      "source": [
        "ss = \"   Google was founded in September 1998 by Larry Page and Sergey Brin   \";\n",
        "s1 = ss.strip() #去頭尾\n",
        "s2 = ss.rstrip() #去尾\n",
        "s3 = ss.lstrip() #去頭\n",
        "print(s1)\n",
        "print(s2)\n",
        "print(s3)"
      ],
      "execution_count": null,
      "outputs": []
    },
    {
      "cell_type": "markdown",
      "metadata": {
        "id": "VVGGBcx5eKMm"
      },
      "source": [
        "## Topic 5(主題5)-ascii/unicode conversion functions"
      ]
    },
    {
      "cell_type": "markdown",
      "metadata": {
        "id": "pl60WTNYeUdo"
      },
      "source": [
        "### Step 1: ord()\n",
        "\n",
        "ord() Given a string of length 1, when the parameter is a unicode object, it returns an integer that represents the Unicode code point of the character; if the parameter is an 8-bit string, it returns the value of ascii."
      ]
    },
    {
      "cell_type": "code",
      "metadata": {
        "id": "vxrWnIOZe3nw",
        "colab": {
          "base_uri": "https://localhost:8080/"
        },
        "outputId": "cbe4179c-ad41-4a59-c393-15efeeef399a"
      },
      "source": [
        "# 輸入字元\n",
        "ch = input(\"Keyin a character: \")\n",
        "print( \"The ascii code of character {} is {}\".format(ch, ord(ch))) "
      ],
      "execution_count": null,
      "outputs": [
        {
          "output_type": "stream",
          "name": "stdout",
          "text": [
            "Keyin a character: X\n",
            "The ascii code of character X is 88\n"
          ]
        }
      ]
    },
    {
      "cell_type": "markdown",
      "metadata": {
        "id": "tzMk81o9e5pg"
      },
      "source": [
        "### Step 2: chr()"
      ]
    },
    {
      "cell_type": "code",
      "metadata": {
        "colab": {
          "base_uri": "https://localhost:8080/"
        },
        "id": "y85NQhCpW1br",
        "outputId": "d33de549-4c5a-4254-afa1-6883c80bcd8c"
      },
      "source": [
        "help(chr)"
      ],
      "execution_count": null,
      "outputs": [
        {
          "output_type": "stream",
          "name": "stdout",
          "text": [
            "Help on built-in function chr in module builtins:\n",
            "\n",
            "chr(i, /)\n",
            "    Return a Unicode string of one character with ordinal i; 0 <= i <= 0x10ffff.\n",
            "\n"
          ]
        }
      ]
    },
    {
      "cell_type": "code",
      "metadata": {
        "colab": {
          "base_uri": "https://localhost:8080/"
        },
        "id": "f5UMEqyAW8Na",
        "outputId": "ceab28b9-54c2-4526-b79e-a19b306a79df"
      },
      "source": [
        "help(ord)"
      ],
      "execution_count": null,
      "outputs": [
        {
          "output_type": "stream",
          "name": "stdout",
          "text": [
            "Help on built-in function ord in module builtins:\n",
            "\n",
            "ord(c, /)\n",
            "    Return the Unicode code point for a one-character string.\n",
            "\n"
          ]
        }
      ]
    },
    {
      "cell_type": "code",
      "metadata": {
        "id": "7Jml2rqjfHjs",
        "colab": {
          "base_uri": "https://localhost:8080/"
        },
        "outputId": "a6b3b009-ac57-40c3-e962-38df1defcbb8"
      },
      "source": [
        "s1 = \"大家好\"\n",
        "s2 = \"\\u5927\\u5bb6\\u597d\"\n",
        "print(s1)\n",
        "print(s2)"
      ],
      "execution_count": null,
      "outputs": [
        {
          "output_type": "stream",
          "name": "stdout",
          "text": [
            "大家好\n",
            "大家好\n"
          ]
        }
      ]
    },
    {
      "cell_type": "code",
      "metadata": {
        "id": "v34lFXZFfKPR",
        "colab": {
          "base_uri": "https://localhost:8080/"
        },
        "outputId": "b12185d6-287a-400d-89ed-05d5fdba7b33"
      },
      "source": [
        "s1 = \"大家好\"\n",
        "s2 = \"\\u5927\\u5bb6\\u597d\"\n",
        "print(\"The unicode code of characters {} is {:d} {:d} {:d}\".format(s1, ord(s1[0]), ord(s1[1]), ord(s1[2])))"
      ],
      "execution_count": null,
      "outputs": [
        {
          "output_type": "stream",
          "name": "stdout",
          "text": [
            "The unicode code of characters 大家好 is 22823 23478 22909\n"
          ]
        }
      ]
    },
    {
      "cell_type": "code",
      "metadata": {
        "id": "n07-PA0IfML4",
        "colab": {
          "base_uri": "https://localhost:8080/"
        },
        "outputId": "610ab9eb-bd82-445e-c5a2-67aee3cafed7"
      },
      "source": [
        "s1 = \"大家好\"\n",
        "s2 = \"\\u5927\\u5bb6\\u597d\"\n",
        "print(\"The unicode code of characters {} is \\\\u{:x} \\\\u{:x} \\\\u{:x}\".format(s1, ord(s1[0]), ord(s1[1]), ord(s1[2])))"
      ],
      "execution_count": null,
      "outputs": [
        {
          "output_type": "stream",
          "name": "stdout",
          "text": [
            "The unicode code of characters 大家好 is \\u5927 \\u5bb6 \\u597d\n"
          ]
        }
      ]
    },
    {
      "cell_type": "code",
      "metadata": {
        "id": "ow0QusybfN_N"
      },
      "source": [
        "# 輸入字元\n",
        "ch = input(\"Keyin a character: \")\n",
        "print( \"The unicode code of character {} is {:d}\".format(ch, ord(ch))) #:d 10進位數\n",
        "print( \"The unicode code of character {} is \\\\u{:x}\".format(ch, ord(ch))) #:x 16進位數"
      ],
      "execution_count": null,
      "outputs": []
    },
    {
      "cell_type": "code",
      "metadata": {
        "id": "86D9OPuLfQy1"
      },
      "source": [
        "code = 23478\n",
        "print(f\"The unicode code of code {code} is {chr(code)}\") # 10進位數"
      ],
      "execution_count": null,
      "outputs": []
    },
    {
      "cell_type": "code",
      "metadata": {
        "id": "6xGkCZYtfTEp"
      },
      "source": [
        "code = \"23478\"\n",
        "code = int(code)\n",
        "print(f\"The unicode code of code {code} is {chr(code)}\") # 10進位數"
      ],
      "execution_count": null,
      "outputs": []
    },
    {
      "cell_type": "code",
      "metadata": {
        "id": "vVOXaiSzfUws"
      },
      "source": [
        "code = \"597d\"# 16進位數\n",
        "code = int(code,16)# 16進位數轉換\n",
        "print(f\"The unicode code of code {code:x} is {chr(code)}\") # 16進位數"
      ],
      "execution_count": null,
      "outputs": []
    }
  ]
}