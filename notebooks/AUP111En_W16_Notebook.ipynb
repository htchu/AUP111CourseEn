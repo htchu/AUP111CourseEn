{
  "nbformat": 4,
  "nbformat_minor": 0,
  "metadata": {
    "colab": {
      "provenance": []
    },
    "kernelspec": {
      "name": "python3",
      "display_name": "Python 3"
    }
  },
  "cells": [
    {
      "cell_type": "markdown",
      "metadata": {
        "id": "b4-1tJhnmy6C"
      },
      "source": [
        "![image](https://www.python.org/static/img/python-logo.png)\n",
        "# AUP111-Fundamentals of Programming\n",
        "![Open In Colab](https://colab.research.google.com/assets/colab-badge.svg)\n"
      ]
    },
    {
      "cell_type": "markdown",
      "metadata": {
        "id": "EUjJ7ImLnPVr"
      },
      "source": [
        "# Week16-Module and Package\n",
        "\n",
        "https://docs.python.org/zh-tw/3/tutorial/modules.html\n",
        "\n",
        "\n",
        "As the program becomes longer and longer, for a better program structure, the program code of a project will be divided into several files to make it easier to maintain, and functions written in other programs will also be referenced. To support this, Python puts the definition into the file through a module (module) method. The definitions in the module can be imported to other modules, or imported to the main module (the script executed at the top level and the set of variables used in the interactive mode).\n",
        "\n",
        "A module is a file containing Python definitions and statements. The file name is the name of the module plus .py. In the module, the name of the module (as a string) will be the value of the global variable __name__.\n"
      ]
    },
    {
      "cell_type": "markdown",
      "metadata": {
        "id": "kLe1GoiTtrgI"
      },
      "source": [
        "## Topic 1-Module usage"
      ]
    },
    {
      "cell_type": "markdown",
      "metadata": {
        "id": "Bw-umRtmqGOT"
      },
      "source": [
        "### Step 1: Create a file: fibo.py"
      ]
    },
    {
      "cell_type": "markdown",
      "metadata": {
        "id": "mFxKQK_Bmm0p"
      },
      "source": [
        "```\n",
        "# Fibonacci numbers module\n",
        "\n",
        "def fib(n):    # write Fibonacci series up to n\n",
        "    a, b = 0, 1\n",
        "    while a < n:\n",
        "        print(a, end=' ')\n",
        "        a, b = b, a+b\n",
        "    print()\n",
        "\n",
        "def fib2(n):   # return Fibonacci series up to n\n",
        "    result = []\n",
        "    a, b = 0, 1\n",
        "    while a < n:\n",
        "        result.append(a)\n",
        "        a, b = b, a+b\n",
        "    return result\n",
        "```"
      ]
    },
    {
      "cell_type": "markdown",
      "metadata": {
        "id": "gWTox2iVqVs8"
      },
      "source": [
        "### Step 2: Import fibo module"
      ]
    },
    {
      "cell_type": "code",
      "metadata": {
        "id": "MR8X8qbtmmFC"
      },
      "source": [
        "import fibo"
      ],
      "execution_count": null,
      "outputs": []
    },
    {
      "cell_type": "markdown",
      "metadata": {
        "id": "otqr0UNhqkWl"
      },
      "source": [
        "### Step 3: Access function"
      ]
    },
    {
      "cell_type": "code",
      "metadata": {
        "id": "0Egb2bpoqtF0",
        "colab": {
          "base_uri": "https://localhost:8080/"
        },
        "outputId": "e6708c3e-8a73-4080-9882-f20fa7c784e2"
      },
      "source": [
        "fibo.fib(1000)"
      ],
      "execution_count": null,
      "outputs": [
        {
          "output_type": "stream",
          "name": "stdout",
          "text": [
            "0 1 1 2 3 5 8 13 21 34 55 89 144 233 377 610 987 \n"
          ]
        }
      ]
    },
    {
      "cell_type": "code",
      "metadata": {
        "id": "Ik_O8wAgquKE",
        "colab": {
          "base_uri": "https://localhost:8080/"
        },
        "outputId": "d0036cc4-2359-40f6-e2ae-2a29290b2680"
      },
      "source": [
        "fibo.fib2(100)"
      ],
      "execution_count": null,
      "outputs": [
        {
          "output_type": "execute_result",
          "data": {
            "text/plain": [
              "[0, 1, 1, 2, 3, 5, 8, 13, 21, 34, 55, 89]"
            ]
          },
          "metadata": {},
          "execution_count": 3
        }
      ]
    },
    {
      "cell_type": "markdown",
      "metadata": {
        "id": "Jh8JnoDTqwWR"
      },
      "source": [
        "### Step 4: Assign module functions to regional variables"
      ]
    },
    {
      "cell_type": "code",
      "metadata": {
        "id": "xvOfSE6Rq8mA",
        "colab": {
          "base_uri": "https://localhost:8080/"
        },
        "outputId": "5998ad4b-bc68-4255-c07f-8d86c980df58"
      },
      "source": [
        "fib = fibo.fib\n",
        "fib(500)"
      ],
      "execution_count": null,
      "outputs": [
        {
          "output_type": "stream",
          "name": "stdout",
          "text": [
            "0 1 1 2 3 5 8 13 21 34 55 89 144 233 377 \n"
          ]
        }
      ]
    },
    {
      "cell_type": "markdown",
      "metadata": {
        "id": "zmdgJkYLrYh0"
      },
      "source": [
        "### Step 5: from"
      ]
    },
    {
      "cell_type": "code",
      "metadata": {
        "id": "P7d6e7rdrht6",
        "colab": {
          "base_uri": "https://localhost:8080/"
        },
        "outputId": "b8e4080d-bca2-4f12-df91-f85e9acfe0a0"
      },
      "source": [
        "from fibo import fib\n",
        "fib(500)"
      ],
      "execution_count": null,
      "outputs": [
        {
          "output_type": "stream",
          "name": "stdout",
          "text": [
            "0 1 1 2 3 5 8 13 21 34 55 89 144 233 377 \n"
          ]
        }
      ]
    },
    {
      "cell_type": "code",
      "metadata": {
        "id": "FWzlNmGirnsT",
        "colab": {
          "base_uri": "https://localhost:8080/"
        },
        "outputId": "fcfaf33e-4f6a-4cce-dfea-7ea0536150de"
      },
      "source": [
        "from fibo import *\n",
        "fib2(500)"
      ],
      "execution_count": null,
      "outputs": [
        {
          "output_type": "execute_result",
          "data": {
            "text/plain": [
              "[0, 1, 1, 2, 3, 5, 8, 13, 21, 34, 55, 89, 144, 233, 377]"
            ]
          },
          "metadata": {},
          "execution_count": 6
        }
      ]
    },
    {
      "cell_type": "markdown",
      "metadata": {
        "id": "iJMubEh4rsDC"
      },
      "source": [
        "### Step 6: as"
      ]
    },
    {
      "cell_type": "code",
      "metadata": {
        "id": "SEN65NZwrwdk",
        "colab": {
          "base_uri": "https://localhost:8080/"
        },
        "outputId": "8eebd10f-420e-4ad2-900c-b59f1d5599e8"
      },
      "source": [
        "import fibo as fi\n",
        "fi.fib(500)"
      ],
      "execution_count": null,
      "outputs": [
        {
          "output_type": "stream",
          "name": "stdout",
          "text": [
            "0 1 1 2 3 5 8 13 21 34 55 89 144 233 377 \n"
          ]
        }
      ]
    },
    {
      "cell_type": "code",
      "metadata": {
        "id": "LfiUVRBosBod"
      },
      "source": [
        "from fibo import fib as fibonacci\n",
        "fibonacci(500)"
      ],
      "execution_count": null,
      "outputs": []
    },
    {
      "cell_type": "markdown",
      "metadata": {
        "id": "drQ0A6VIrGOe"
      },
      "source": [
        "## Topic 2-Use of Package\n",
        "\n",
        "Packages are a way to use Python module namespaces. For example, the module name A.B represents the submodule named B in package A. Just as when modules are used, authors of different modules don’t need to worry about duplication of global variable names with other modules. The use of dot-separated module names also allows authors of multi-module packages (like NumPy or Pillow) not to worry. The module name of the other package.\n",
        "\n",
        "When importing a package, Python will search the directories in sys.path to find the subdirectories of the package."
      ]
    },
    {
      "cell_type": "markdown",
      "metadata": {
        "id": "SugYMWwJtGxS"
      },
      "source": [
        "### Step 7: csv  (Standard Library)\n",
        "\n",
        "CSV (Comma Separated Values) format is the most common input and output file format in spreadsheets and databases.\n",
        "https://en.wikipedia.org/wiki/Comma-separated_values"
      ]
    },
    {
      "cell_type": "code",
      "metadata": {
        "id": "H5z-jhoMtSqD"
      },
      "source": [
        "Names  = [ \"John\", \"Frank\", \"Joe\", \"Ben\"]\n",
        "Scores = [ 50, 77, 33, 22]"
      ],
      "execution_count": null,
      "outputs": []
    },
    {
      "cell_type": "code",
      "metadata": {
        "id": "89azpjPwuqlu"
      },
      "source": [
        "import csv\n",
        "pairs = zip(Names, Scores)\n",
        "with open('students.csv', 'w', newline='') as student_file:\n",
        "    writer = csv.writer(student_file)\n",
        "    writer.writerow([\"No\", \"Name\", \"Score\"])\n",
        "    for i, (n, s) in enumerate(pairs):\n",
        "      writer.writerow([i, n, s])"
      ],
      "execution_count": null,
      "outputs": []
    },
    {
      "cell_type": "code",
      "metadata": {
        "id": "93GTdZm-wY1f",
        "colab": {
          "base_uri": "https://localhost:8080/"
        },
        "outputId": "429c355e-c2f2-4068-cf62-5a272c1504d5"
      },
      "source": [
        "import csv, sys\n",
        "filename = 'students.csv'\n",
        "with open(filename, newline='') as f:\n",
        "    reader = csv.reader(f)\n",
        "    try:\n",
        "        for row in reader:\n",
        "            print(row)\n",
        "    except csv.Error as e:\n",
        "        sys.exit('file {}, line {}: {}'.format(filename, reader.line_num, e))"
      ],
      "execution_count": null,
      "outputs": [
        {
          "output_type": "stream",
          "name": "stdout",
          "text": [
            "['No', 'Name', 'Score']\n",
            "['0', 'John', '50']\n",
            "['1', 'Frank', '77']\n",
            "['2', 'Joe', '33']\n",
            "['3', 'Ben', '22']\n"
          ]
        }
      ]
    },
    {
      "cell_type": "markdown",
      "metadata": {
        "id": "mElULChZwt8k"
      },
      "source": [
        "### Step 8: pandas(Python for Data Analysis)\n",
        "https://pandas.pydata.org/"
      ]
    },
    {
      "cell_type": "code",
      "metadata": {
        "id": "CnF1rosNxFfl"
      },
      "source": [
        "import pandas as pd\n",
        "filename = 'students.csv'\n",
        "df = pd.read_csv(filename, index_col=\"No\")"
      ],
      "execution_count": null,
      "outputs": []
    },
    {
      "cell_type": "markdown",
      "metadata": {
        "id": "ogjHCgwZyPBM"
      },
      "source": [
        "https://pandas.pydata.org/pandas-docs/stable/reference/api/pandas.read_csv.html\n",
        "\n",
        "pandas.read_csv(filepath_or_buffer, sep=NoDefault.no_default, delimiter=None, header='infer', names=NoDefault.no_default, index_col=None, usecols=None, squeeze=False, prefix=NoDefault.no_default, mangle_dupe_cols=True, dtype=None, engine=None, converters=None, true_values=None, false_values=None, skipinitialspace=False, skiprows=None, skipfooter=0, nrows=None, na_values=None, keep_default_na=True, na_filter=True, verbose=False, skip_blank_lines=True, parse_dates=False, infer_datetime_format=False, keep_date_col=False, date_parser=None, dayfirst=False, cache_dates=True, iterator=False, chunksize=None, compression='infer', thousands=None, decimal='.', lineterminator=None, quotechar='\"', quoting=0, doublequote=True, escapechar=None, comment=None, encoding=None, encoding_errors='strict', dialect=None, error_bad_lines=None, warn_bad_lines=None, on_bad_lines=None, delim_whitespace=False, low_memory=True, memory_map=False, float_precision=None, storage_options=None)"
      ]
    },
    {
      "cell_type": "code",
      "metadata": {
        "id": "jbi8ABGIxa-P"
      },
      "source": [
        "df.head()"
      ],
      "execution_count": null,
      "outputs": []
    },
    {
      "cell_type": "markdown",
      "metadata": {
        "id": "oJs-2ih0y_r8"
      },
      "source": [
        "## Topic 3-Package installation\n",
        "\n",
        "pip is a software package management system written in the Python computer programming language. It can install and manage software packages. Many other software packages can also be found in the \"Python Package Index\" (English: Python Package Index, PyPI). Pip is pre-installed in many Python distributions."
      ]
    },
    {
      "cell_type": "markdown",
      "metadata": {
        "id": "CJ3jCksMzLv_"
      },
      "source": [
        "### Step 9: Install folium kit\n"
      ]
    },
    {
      "cell_type": "code",
      "metadata": {
        "id": "0f1LERo_14Fp",
        "colab": {
          "base_uri": "https://localhost:8080/"
        },
        "outputId": "a5410d1c-1de1-4b60-a36a-2ec66150cadc"
      },
      "source": [
        "# Install folium package\n",
        "!pip install folium"
      ],
      "execution_count": null,
      "outputs": [
        {
          "output_type": "stream",
          "name": "stdout",
          "text": [
            "Requirement already satisfied: folium in /usr/local/lib/python3.7/dist-packages (0.8.3)\n",
            "Requirement already satisfied: six in /usr/local/lib/python3.7/dist-packages (from folium) (1.15.0)\n",
            "Requirement already satisfied: branca>=0.3.0 in /usr/local/lib/python3.7/dist-packages (from folium) (0.4.2)\n",
            "Requirement already satisfied: requests in /usr/local/lib/python3.7/dist-packages (from folium) (2.23.0)\n",
            "Requirement already satisfied: jinja2 in /usr/local/lib/python3.7/dist-packages (from folium) (2.11.3)\n",
            "Requirement already satisfied: numpy in /usr/local/lib/python3.7/dist-packages (from folium) (1.19.5)\n",
            "Requirement already satisfied: MarkupSafe>=0.23 in /usr/local/lib/python3.7/dist-packages (from jinja2->folium) (2.0.1)\n",
            "Requirement already satisfied: urllib3!=1.25.0,!=1.25.1,<1.26,>=1.21.1 in /usr/local/lib/python3.7/dist-packages (from requests->folium) (1.24.3)\n",
            "Requirement already satisfied: chardet<4,>=3.0.2 in /usr/local/lib/python3.7/dist-packages (from requests->folium) (3.0.4)\n",
            "Requirement already satisfied: certifi>=2017.4.17 in /usr/local/lib/python3.7/dist-packages (from requests->folium) (2021.10.8)\n",
            "Requirement already satisfied: idna<3,>=2.5 in /usr/local/lib/python3.7/dist-packages (from requests->folium) (2.10)\n"
          ]
        }
      ]
    },
    {
      "cell_type": "markdown",
      "metadata": {
        "id": "k4dr9hU818mz"
      },
      "source": [
        "### Step 10:Use folium  to show Asia Univ. map\n",
        "\n",
        "https://python-visualization.github.io/folium/quickstart.html"
      ]
    },
    {
      "cell_type": "code",
      "metadata": {
        "id": "ySTsjihk2NNY"
      },
      "source": [
        "# Making a map using the folium module\n",
        "import folium"
      ],
      "execution_count": null,
      "outputs": []
    },
    {
      "cell_type": "code",
      "metadata": {
        "id": "Acd8vIZz2DgR",
        "colab": {
          "base_uri": "https://localhost:8080/",
          "height": 442
        },
        "outputId": "61dadcbc-19a8-423c-d40e-35c608d6d91a"
      },
      "source": [
        "fmap = folium.Map(location=[24.0470246,120.6894981], zoom_start=17)\n",
        "fmap"
      ],
      "execution_count": null,
      "outputs": [
        {
          "output_type": "execute_result",
          "data": {
            "text/html": [
              "<div style=\"width:100%;\"><div style=\"position:relative;width:100%;height:0;padding-bottom:60%;\"><span style=\"color:#565656\">Make this Notebook Trusted to load map: File -> Trust Notebook</span><iframe src=\"about:blank\" style=\"position:absolute;width:100%;height:100%;left:0;top:0;border:none !important;\" data-html=%3C%21DOCTYPE%20html%3E%0A%3Chead%3E%20%20%20%20%0A%20%20%20%20%3Cmeta%20http-equiv%3D%22content-type%22%20content%3D%22text/html%3B%20charset%3DUTF-8%22%20/%3E%0A%20%20%20%20%3Cscript%3EL_PREFER_CANVAS%3Dfalse%3B%20L_NO_TOUCH%3Dfalse%3B%20L_DISABLE_3D%3Dfalse%3B%3C/script%3E%0A%20%20%20%20%3Cscript%20src%3D%22https%3A//cdn.jsdelivr.net/npm/leaflet%401.4.0/dist/leaflet.js%22%3E%3C/script%3E%0A%20%20%20%20%3Cscript%20src%3D%22https%3A//code.jquery.com/jquery-1.12.4.min.js%22%3E%3C/script%3E%0A%20%20%20%20%3Cscript%20src%3D%22https%3A//maxcdn.bootstrapcdn.com/bootstrap/3.2.0/js/bootstrap.min.js%22%3E%3C/script%3E%0A%20%20%20%20%3Cscript%20src%3D%22https%3A//cdnjs.cloudflare.com/ajax/libs/Leaflet.awesome-markers/2.0.2/leaflet.awesome-markers.js%22%3E%3C/script%3E%0A%20%20%20%20%3Clink%20rel%3D%22stylesheet%22%20href%3D%22https%3A//cdn.jsdelivr.net/npm/leaflet%401.4.0/dist/leaflet.css%22/%3E%0A%20%20%20%20%3Clink%20rel%3D%22stylesheet%22%20href%3D%22https%3A//maxcdn.bootstrapcdn.com/bootstrap/3.2.0/css/bootstrap.min.css%22/%3E%0A%20%20%20%20%3Clink%20rel%3D%22stylesheet%22%20href%3D%22https%3A//maxcdn.bootstrapcdn.com/bootstrap/3.2.0/css/bootstrap-theme.min.css%22/%3E%0A%20%20%20%20%3Clink%20rel%3D%22stylesheet%22%20href%3D%22https%3A//maxcdn.bootstrapcdn.com/font-awesome/4.6.3/css/font-awesome.min.css%22/%3E%0A%20%20%20%20%3Clink%20rel%3D%22stylesheet%22%20href%3D%22https%3A//cdnjs.cloudflare.com/ajax/libs/Leaflet.awesome-markers/2.0.2/leaflet.awesome-markers.css%22/%3E%0A%20%20%20%20%3Clink%20rel%3D%22stylesheet%22%20href%3D%22https%3A//rawcdn.githack.com/python-visualization/folium/master/folium/templates/leaflet.awesome.rotate.css%22/%3E%0A%20%20%20%20%3Cstyle%3Ehtml%2C%20body%20%7Bwidth%3A%20100%25%3Bheight%3A%20100%25%3Bmargin%3A%200%3Bpadding%3A%200%3B%7D%3C/style%3E%0A%20%20%20%20%3Cstyle%3E%23map%20%7Bposition%3Aabsolute%3Btop%3A0%3Bbottom%3A0%3Bright%3A0%3Bleft%3A0%3B%7D%3C/style%3E%0A%20%20%20%20%0A%20%20%20%20%3Cmeta%20name%3D%22viewport%22%20content%3D%22width%3Ddevice-width%2C%0A%20%20%20%20%20%20%20%20initial-scale%3D1.0%2C%20maximum-scale%3D1.0%2C%20user-scalable%3Dno%22%20/%3E%0A%20%20%20%20%3Cstyle%3E%23map_061748d40d2c406ba64ee60d1efd9c09%20%7B%0A%20%20%20%20%20%20%20%20position%3A%20relative%3B%0A%20%20%20%20%20%20%20%20width%3A%20100.0%25%3B%0A%20%20%20%20%20%20%20%20height%3A%20100.0%25%3B%0A%20%20%20%20%20%20%20%20left%3A%200.0%25%3B%0A%20%20%20%20%20%20%20%20top%3A%200.0%25%3B%0A%20%20%20%20%20%20%20%20%7D%0A%20%20%20%20%3C/style%3E%0A%3C/head%3E%0A%3Cbody%3E%20%20%20%20%0A%20%20%20%20%0A%20%20%20%20%3Cdiv%20class%3D%22folium-map%22%20id%3D%22map_061748d40d2c406ba64ee60d1efd9c09%22%20%3E%3C/div%3E%0A%3C/body%3E%0A%3Cscript%3E%20%20%20%20%0A%20%20%20%20%0A%20%20%20%20%0A%20%20%20%20%20%20%20%20var%20bounds%20%3D%20null%3B%0A%20%20%20%20%0A%0A%20%20%20%20var%20map_061748d40d2c406ba64ee60d1efd9c09%20%3D%20L.map%28%0A%20%20%20%20%20%20%20%20%27map_061748d40d2c406ba64ee60d1efd9c09%27%2C%20%7B%0A%20%20%20%20%20%20%20%20center%3A%20%5B24.0470246%2C%20120.6894981%5D%2C%0A%20%20%20%20%20%20%20%20zoom%3A%2017%2C%0A%20%20%20%20%20%20%20%20maxBounds%3A%20bounds%2C%0A%20%20%20%20%20%20%20%20layers%3A%20%5B%5D%2C%0A%20%20%20%20%20%20%20%20worldCopyJump%3A%20false%2C%0A%20%20%20%20%20%20%20%20crs%3A%20L.CRS.EPSG3857%2C%0A%20%20%20%20%20%20%20%20zoomControl%3A%20true%2C%0A%20%20%20%20%20%20%20%20%7D%29%3B%0A%0A%0A%20%20%20%20%0A%20%20%20%20var%20tile_layer_be5a2ba2264e4111813e118a32b6ba79%20%3D%20L.tileLayer%28%0A%20%20%20%20%20%20%20%20%27https%3A//%7Bs%7D.tile.openstreetmap.org/%7Bz%7D/%7Bx%7D/%7By%7D.png%27%2C%0A%20%20%20%20%20%20%20%20%7B%0A%20%20%20%20%20%20%20%20%22attribution%22%3A%20null%2C%0A%20%20%20%20%20%20%20%20%22detectRetina%22%3A%20false%2C%0A%20%20%20%20%20%20%20%20%22maxNativeZoom%22%3A%2018%2C%0A%20%20%20%20%20%20%20%20%22maxZoom%22%3A%2018%2C%0A%20%20%20%20%20%20%20%20%22minZoom%22%3A%200%2C%0A%20%20%20%20%20%20%20%20%22noWrap%22%3A%20false%2C%0A%20%20%20%20%20%20%20%20%22opacity%22%3A%201%2C%0A%20%20%20%20%20%20%20%20%22subdomains%22%3A%20%22abc%22%2C%0A%20%20%20%20%20%20%20%20%22tms%22%3A%20false%0A%7D%29.addTo%28map_061748d40d2c406ba64ee60d1efd9c09%29%3B%0A%3C/script%3E onload=\"this.contentDocument.open();this.contentDocument.write(    decodeURIComponent(this.getAttribute('data-html')));this.contentDocument.close();\" allowfullscreen webkitallowfullscreen mozallowfullscreen></iframe></div></div>"
            ],
            "text/plain": [
              "<folium.folium.Map at 0x7f8fd72db910>"
            ]
          },
          "metadata": {},
          "execution_count": 14
        }
      ]
    },
    {
      "cell_type": "markdown",
      "metadata": {
        "id": "yeqI0IJO3C6l"
      },
      "source": [
        "### Step 11:Use folium's markers to show the location of the colledge\n"
      ]
    },
    {
      "cell_type": "code",
      "metadata": {
        "id": "9r98ATCf3mvj",
        "colab": {
          "base_uri": "https://localhost:8080/",
          "height": 442
        },
        "outputId": "60d1b042-8d3e-4335-b35f-d4f1890e1155"
      },
      "source": [
        "tooltip = \"Colledge of eecs\"\n",
        "fmap = folium.Map(location=[24.0470246,120.6893], zoom_start=17)\n",
        "folium.Marker(\n",
        "    [24.045670,120.6858], popup=\"Office of eecs is at 6F...\", tooltip=tooltip\n",
        ").add_to(fmap)\n",
        "\n",
        "fmap"
      ],
      "execution_count": null,
      "outputs": [
        {
          "output_type": "execute_result",
          "data": {
            "text/html": [
              "<div style=\"width:100%;\"><div style=\"position:relative;width:100%;height:0;padding-bottom:60%;\"><span style=\"color:#565656\">Make this Notebook Trusted to load map: File -> Trust Notebook</span><iframe src=\"about:blank\" style=\"position:absolute;width:100%;height:100%;left:0;top:0;border:none !important;\" data-html=%3C%21DOCTYPE%20html%3E%0A%3Chead%3E%20%20%20%20%0A%20%20%20%20%3Cmeta%20http-equiv%3D%22content-type%22%20content%3D%22text/html%3B%20charset%3DUTF-8%22%20/%3E%0A%20%20%20%20%3Cscript%3EL_PREFER_CANVAS%3Dfalse%3B%20L_NO_TOUCH%3Dfalse%3B%20L_DISABLE_3D%3Dfalse%3B%3C/script%3E%0A%20%20%20%20%3Cscript%20src%3D%22https%3A//cdn.jsdelivr.net/npm/leaflet%401.4.0/dist/leaflet.js%22%3E%3C/script%3E%0A%20%20%20%20%3Cscript%20src%3D%22https%3A//code.jquery.com/jquery-1.12.4.min.js%22%3E%3C/script%3E%0A%20%20%20%20%3Cscript%20src%3D%22https%3A//maxcdn.bootstrapcdn.com/bootstrap/3.2.0/js/bootstrap.min.js%22%3E%3C/script%3E%0A%20%20%20%20%3Cscript%20src%3D%22https%3A//cdnjs.cloudflare.com/ajax/libs/Leaflet.awesome-markers/2.0.2/leaflet.awesome-markers.js%22%3E%3C/script%3E%0A%20%20%20%20%3Clink%20rel%3D%22stylesheet%22%20href%3D%22https%3A//cdn.jsdelivr.net/npm/leaflet%401.4.0/dist/leaflet.css%22/%3E%0A%20%20%20%20%3Clink%20rel%3D%22stylesheet%22%20href%3D%22https%3A//maxcdn.bootstrapcdn.com/bootstrap/3.2.0/css/bootstrap.min.css%22/%3E%0A%20%20%20%20%3Clink%20rel%3D%22stylesheet%22%20href%3D%22https%3A//maxcdn.bootstrapcdn.com/bootstrap/3.2.0/css/bootstrap-theme.min.css%22/%3E%0A%20%20%20%20%3Clink%20rel%3D%22stylesheet%22%20href%3D%22https%3A//maxcdn.bootstrapcdn.com/font-awesome/4.6.3/css/font-awesome.min.css%22/%3E%0A%20%20%20%20%3Clink%20rel%3D%22stylesheet%22%20href%3D%22https%3A//cdnjs.cloudflare.com/ajax/libs/Leaflet.awesome-markers/2.0.2/leaflet.awesome-markers.css%22/%3E%0A%20%20%20%20%3Clink%20rel%3D%22stylesheet%22%20href%3D%22https%3A//rawcdn.githack.com/python-visualization/folium/master/folium/templates/leaflet.awesome.rotate.css%22/%3E%0A%20%20%20%20%3Cstyle%3Ehtml%2C%20body%20%7Bwidth%3A%20100%25%3Bheight%3A%20100%25%3Bmargin%3A%200%3Bpadding%3A%200%3B%7D%3C/style%3E%0A%20%20%20%20%3Cstyle%3E%23map%20%7Bposition%3Aabsolute%3Btop%3A0%3Bbottom%3A0%3Bright%3A0%3Bleft%3A0%3B%7D%3C/style%3E%0A%20%20%20%20%0A%20%20%20%20%3Cmeta%20name%3D%22viewport%22%20content%3D%22width%3Ddevice-width%2C%0A%20%20%20%20%20%20%20%20initial-scale%3D1.0%2C%20maximum-scale%3D1.0%2C%20user-scalable%3Dno%22%20/%3E%0A%20%20%20%20%3Cstyle%3E%23map_6be31c1b74c74943ace7c528a9161aa7%20%7B%0A%20%20%20%20%20%20%20%20position%3A%20relative%3B%0A%20%20%20%20%20%20%20%20width%3A%20100.0%25%3B%0A%20%20%20%20%20%20%20%20height%3A%20100.0%25%3B%0A%20%20%20%20%20%20%20%20left%3A%200.0%25%3B%0A%20%20%20%20%20%20%20%20top%3A%200.0%25%3B%0A%20%20%20%20%20%20%20%20%7D%0A%20%20%20%20%3C/style%3E%0A%3C/head%3E%0A%3Cbody%3E%20%20%20%20%0A%20%20%20%20%0A%20%20%20%20%3Cdiv%20class%3D%22folium-map%22%20id%3D%22map_6be31c1b74c74943ace7c528a9161aa7%22%20%3E%3C/div%3E%0A%3C/body%3E%0A%3Cscript%3E%20%20%20%20%0A%20%20%20%20%0A%20%20%20%20%0A%20%20%20%20%20%20%20%20var%20bounds%20%3D%20null%3B%0A%20%20%20%20%0A%0A%20%20%20%20var%20map_6be31c1b74c74943ace7c528a9161aa7%20%3D%20L.map%28%0A%20%20%20%20%20%20%20%20%27map_6be31c1b74c74943ace7c528a9161aa7%27%2C%20%7B%0A%20%20%20%20%20%20%20%20center%3A%20%5B24.0470246%2C%20120.6893%5D%2C%0A%20%20%20%20%20%20%20%20zoom%3A%2017%2C%0A%20%20%20%20%20%20%20%20maxBounds%3A%20bounds%2C%0A%20%20%20%20%20%20%20%20layers%3A%20%5B%5D%2C%0A%20%20%20%20%20%20%20%20worldCopyJump%3A%20false%2C%0A%20%20%20%20%20%20%20%20crs%3A%20L.CRS.EPSG3857%2C%0A%20%20%20%20%20%20%20%20zoomControl%3A%20true%2C%0A%20%20%20%20%20%20%20%20%7D%29%3B%0A%0A%0A%20%20%20%20%0A%20%20%20%20var%20tile_layer_592415db8820403588319e304cc823e0%20%3D%20L.tileLayer%28%0A%20%20%20%20%20%20%20%20%27https%3A//%7Bs%7D.tile.openstreetmap.org/%7Bz%7D/%7Bx%7D/%7By%7D.png%27%2C%0A%20%20%20%20%20%20%20%20%7B%0A%20%20%20%20%20%20%20%20%22attribution%22%3A%20null%2C%0A%20%20%20%20%20%20%20%20%22detectRetina%22%3A%20false%2C%0A%20%20%20%20%20%20%20%20%22maxNativeZoom%22%3A%2018%2C%0A%20%20%20%20%20%20%20%20%22maxZoom%22%3A%2018%2C%0A%20%20%20%20%20%20%20%20%22minZoom%22%3A%200%2C%0A%20%20%20%20%20%20%20%20%22noWrap%22%3A%20false%2C%0A%20%20%20%20%20%20%20%20%22opacity%22%3A%201%2C%0A%20%20%20%20%20%20%20%20%22subdomains%22%3A%20%22abc%22%2C%0A%20%20%20%20%20%20%20%20%22tms%22%3A%20false%0A%7D%29.addTo%28map_6be31c1b74c74943ace7c528a9161aa7%29%3B%0A%20%20%20%20%0A%20%20%20%20%20%20%20%20var%20marker_ea1a62394d7549bbb2feb3a22de06373%20%3D%20L.marker%28%0A%20%20%20%20%20%20%20%20%20%20%20%20%5B24.04567%2C%20120.6858%5D%2C%0A%20%20%20%20%20%20%20%20%20%20%20%20%7B%0A%20%20%20%20%20%20%20%20%20%20%20%20%20%20%20%20icon%3A%20new%20L.Icon.Default%28%29%2C%0A%20%20%20%20%20%20%20%20%20%20%20%20%20%20%20%20%7D%0A%20%20%20%20%20%20%20%20%20%20%20%20%29.addTo%28map_6be31c1b74c74943ace7c528a9161aa7%29%3B%0A%20%20%20%20%20%20%20%20%0A%20%20%20%20%0A%20%20%20%20%20%20%20%20%20%20%20%20var%20popup_3ac2685576a14c37b49838620ba88cff%20%3D%20L.popup%28%7BmaxWidth%3A%20%27100%25%27%0A%20%20%20%20%20%20%20%20%20%20%20%20%0A%20%20%20%20%20%20%20%20%20%20%20%20%7D%29%3B%0A%0A%20%20%20%20%20%20%20%20%20%20%20%20%0A%20%20%20%20%20%20%20%20%20%20%20%20%20%20%20%20var%20html_550eebeebf2543e2834f7f1f0227c7d4%20%3D%20%24%28%60%3Cdiv%20id%3D%22html_550eebeebf2543e2834f7f1f0227c7d4%22%20style%3D%22width%3A%20100.0%25%3B%20height%3A%20100.0%25%3B%22%3EOffice%20of%20eecs%20is%20at%206F...%3C/div%3E%60%29%5B0%5D%3B%0A%20%20%20%20%20%20%20%20%20%20%20%20%20%20%20%20popup_3ac2685576a14c37b49838620ba88cff.setContent%28html_550eebeebf2543e2834f7f1f0227c7d4%29%3B%0A%20%20%20%20%20%20%20%20%20%20%20%20%0A%0A%20%20%20%20%20%20%20%20%20%20%20%20marker_ea1a62394d7549bbb2feb3a22de06373.bindPopup%28popup_3ac2685576a14c37b49838620ba88cff%29%0A%20%20%20%20%20%20%20%20%20%20%20%20%3B%0A%0A%20%20%20%20%20%20%20%20%20%20%20%20%0A%20%20%20%20%20%20%20%20%0A%20%20%20%20%0A%20%20%20%20%20%20%20%20marker_ea1a62394d7549bbb2feb3a22de06373.bindTooltip%28%0A%20%20%20%20%20%20%20%20%20%20%20%20%60%3Cdiv%3E%60%0A%20%20%20%20%20%20%20%20%20%20%20%20%2B%20%60Colledge%20of%20eecs%60%20%2B%20%60%3C/div%3E%60%2C%0A%20%20%20%20%20%20%20%20%20%20%20%20%7B%22sticky%22%3A%20true%7D%0A%20%20%20%20%20%20%20%20%29%3B%0A%20%20%20%20%20%20%20%20%0A%3C/script%3E onload=\"this.contentDocument.open();this.contentDocument.write(    decodeURIComponent(this.getAttribute('data-html')));this.contentDocument.close();\" allowfullscreen webkitallowfullscreen mozallowfullscreen></iframe></div></div>"
            ],
            "text/plain": [
              "<folium.folium.Map at 0x7f8fd72ed690>"
            ]
          },
          "metadata": {},
          "execution_count": 15
        }
      ]
    },
    {
      "cell_type": "markdown",
      "metadata": {
        "id": "1Sm4jaAz6cYn"
      },
      "source": [
        "## Topic 4(主題4)-Time related package of Python standard library\n",
        "https://docs.python.org/3/tutorial/stdlib.html#dates-and-times\n",
        "* time\n",
        "* datetime\n",
        "* calendar"
      ]
    },
    {
      "cell_type": "markdown",
      "metadata": {
        "id": "Obapodi1DApW"
      },
      "source": [
        "### Step 12: time \n",
        "\n",
        "Python's time function library is based on the C language time function library."
      ]
    },
    {
      "cell_type": "code",
      "metadata": {
        "id": "1vEXaUHhD59R",
        "colab": {
          "base_uri": "https://localhost:8080/"
        },
        "outputId": "ee9b44f0-3d3f-4020-dd8d-04565d70b67f"
      },
      "source": [
        "import time\n",
        "print(time.time())   # wall clock time, unit: second\n",
        "print(time.clock())  # processor clock time, unit: second"
      ],
      "execution_count": null,
      "outputs": [
        {
          "output_type": "stream",
          "name": "stdout",
          "text": [
            "1640609360.40309\n",
            "4.756605\n"
          ]
        },
        {
          "output_type": "stream",
          "name": "stderr",
          "text": [
            "/usr/local/lib/python3.7/dist-packages/ipykernel_launcher.py:3: DeprecationWarning: time.clock has been deprecated in Python 3.3 and will be removed from Python 3.8: use time.perf_counter or time.process_time instead\n",
            "  This is separate from the ipykernel package so we can avoid doing imports until\n"
          ]
        }
      ]
    },
    {
      "cell_type": "code",
      "metadata": {
        "id": "nx3YPXj8SSO9",
        "colab": {
          "base_uri": "https://localhost:8080/"
        },
        "outputId": "f1a2506c-745a-4bfa-a61c-075cbe1b86e6"
      },
      "source": [
        "import time\n",
        "print('start')\n",
        "time.sleep(10)     # sleep for 10 seconds\n",
        "print('wake up')"
      ],
      "execution_count": null,
      "outputs": [
        {
          "output_type": "stream",
          "name": "stdout",
          "text": [
            "start\n",
            "wake up\n"
          ]
        }
      ]
    },
    {
      "cell_type": "markdown",
      "metadata": {
        "id": "jBpVFnjGD6F6"
      },
      "source": [
        "### Step 13: datetime \n",
        "https://docs.python.org/3/library/datetime.html#module-datetime\n",
        "\n",
        "The datetime module provides many classes to manipulate date and time, ranging from simple to complex. The module supports date and time calculations, and the focus of the implementation is efficient member capture to achieve output formatting and operations. The module also provides categories that support time zone conversion."
      ]
    },
    {
      "cell_type": "code",
      "metadata": {
        "id": "H3O9OY6iD7DV",
        "colab": {
          "base_uri": "https://localhost:8080/",
          "height": 53
        },
        "outputId": "6deeb50b-506d-47df-de34-f22d1956bda8"
      },
      "source": [
        "from datetime import date\n",
        "now = date.today()\n",
        "print(now)\n",
        "now.strftime(\"%m-%d-%y. %d %b %Y is a %A on the %d day of %B.\")\n"
      ],
      "execution_count": null,
      "outputs": [
        {
          "output_type": "stream",
          "name": "stdout",
          "text": [
            "2021-12-27\n"
          ]
        },
        {
          "output_type": "execute_result",
          "data": {
            "application/vnd.google.colaboratory.intrinsic+json": {
              "type": "string"
            },
            "text/plain": [
              "'12-27-21. 27 Dec 2021 is a Monday on the 27 day of December.'"
            ]
          },
          "metadata": {},
          "execution_count": 18
        }
      ]
    },
    {
      "cell_type": "markdown",
      "metadata": {
        "id": "ivPbA1raZOIH"
      },
      "source": [
        "### Step 14: Calculate how old are by birthday"
      ]
    },
    {
      "cell_type": "code",
      "metadata": {
        "id": "9sy0S2MWEUZB"
      },
      "source": [
        "# dates support calendar arithmetic\n",
        "from datetime import date\n",
        "now = date.today()\n",
        "birthday = date(2003, 7, 31)\n",
        "age = now - birthday\n",
        "print(age)\n",
        "print(age.days)"
      ],
      "execution_count": null,
      "outputs": []
    },
    {
      "cell_type": "code",
      "metadata": {
        "id": "G-j6OZxPFBIU"
      },
      "source": [
        "from datetime import date\n",
        "now = date.today()\n",
        "birthday = date(2003, 7, 31)\n",
        "age = now.year - birthday.year + 1\n",
        "moncmp = now.month - birthday.month\n",
        "daycmp = now.day - birthday.day\n",
        "\n",
        "#type conversion here\n",
        "age = int(age)\n",
        "moncmp = int(moncmp)\n",
        "daycmp = int(daycmp)\n",
        "\n",
        "# some decisions\n",
        "if moncmp < 0 :\n",
        "  age = age-1\n",
        "elif daycmp < 0 and daycmp == 0:\n",
        "  age = age-1\n",
        "print(f\"You are {age} years old\")"
      ],
      "execution_count": null,
      "outputs": []
    },
    {
      "cell_type": "markdown",
      "metadata": {
        "id": "1tG863XBY8-_"
      },
      "source": [
        "### Step 15: Specify the time zone to get the current time"
      ]
    },
    {
      "cell_type": "code",
      "metadata": {
        "id": "ssfoyj2OVDBp"
      },
      "source": [
        "dt=datetime.datetime.now()\n",
        "print(dt)"
      ],
      "execution_count": null,
      "outputs": []
    },
    {
      "cell_type": "code",
      "metadata": {
        "id": "_RLJS-JpYEH0"
      },
      "source": [
        "# Specify the time zone to get the current time\n",
        "from datetime import datetime, timezone, timedelta\n",
        "# 設定為 +8 時區\n",
        "tz = timezone(timedelta(hours=+8))\n",
        "dt=datetime.now(tz)\n",
        "print(dt)"
      ],
      "execution_count": null,
      "outputs": []
    },
    {
      "cell_type": "markdown",
      "metadata": {
        "id": "C5chVUJJYl-g"
      },
      "source": [
        "### Step 16: 後天星期幾?"
      ]
    },
    {
      "cell_type": "code",
      "metadata": {
        "id": "r5FchiNDD8VA"
      },
      "source": [
        "ws=[\"Monday\", \"Tuesday\", \"Wednesday\", \"Thursday\", \"Friday\", \"Saturday\", \"Sunday\"]\n",
        "\n",
        "# What day of the day after tomorrow?\n",
        "import datetime\n",
        "# Set to +8 time zone\n",
        "tz = timezone(timedelta(hours=+8))\n",
        "#the day after tomorrow\n",
        "dt=datetime.datetime.now() + datetime.timedelta(days=2)\n",
        "print(ws[dt.weekday()])#Monday is 0 and Sunday is 6"
      ],
      "execution_count": null,
      "outputs": []
    },
    {
      "cell_type": "markdown",
      "metadata": {
        "id": "LRvZ2TnHUuQs"
      },
      "source": [
        "### Step 17: pytz \n",
        "pytz time zone setting module\n",
        "\n",
        "datetime模組中有tzinfo相關的東西，但是它是一個抽象類，文件上說：\n",
        "tzinfo is an abstract base clase, meaning that this class should not be instantiated directly. You need to derive a concrete subclass, and (at least) supply implementations of the standard tzinfo methods needed by the datetime methods you use. The datetime module does not supply any concrete subclasses of tzinfo."
      ]
    },
    {
      "cell_type": "code",
      "metadata": {
        "id": "fZXuG-jrVhij"
      },
      "source": [
        "import pytz\n",
        "pytz.country_timezones('tw')"
      ],
      "execution_count": null,
      "outputs": []
    },
    {
      "cell_type": "code",
      "metadata": {
        "id": "jGe4zFnYVxys"
      },
      "source": [
        "tz = pytz.timezone('Asia/Taipei')\n",
        "dt=datetime.datetime.now(tz)\n",
        "print(dt)"
      ],
      "execution_count": null,
      "outputs": []
    },
    {
      "cell_type": "code",
      "metadata": {
        "id": "QfsjEskIU0DK"
      },
      "source": [
        "ws=[\"Monday\", \"Tuesday\", \"Wednesday\", \"Thursday\", \"Friday\", \"Saturday\", \"Sunday\"]\n",
        "\n",
        "# What day of the day after tomorrow?\n",
        "import datetime\n",
        "import pytz\n",
        "tz = pytz.timezone('Asia/Taipei')\n",
        "#the day after tomorrow\n",
        "dt=datetime.datetime.now(tz) + datetime.timedelta(days=2)\n",
        "print(ws[dt.weekday()])#Monday is 0 and Sunday is 6"
      ],
      "execution_count": null,
      "outputs": []
    },
    {
      "cell_type": "markdown",
      "metadata": {
        "id": "RRAo6LwBD8c0"
      },
      "source": [
        "### Step 18: calendar "
      ]
    },
    {
      "cell_type": "code",
      "metadata": {
        "id": "L8HxA-IjS1-R"
      },
      "source": [
        "import calendar\n",
        "help(calendar.monthrange)"
      ],
      "execution_count": null,
      "outputs": []
    },
    {
      "cell_type": "code",
      "metadata": {
        "id": "8gvYUIBISvRT"
      },
      "source": [
        "year = 2021\n",
        "month = 12\n",
        "wday, mdays = calendar.monthrange(year,12)\n",
        "print(f\"For {year}/{month}, weekday is {wday}; number of days is {mdays}\")"
      ],
      "execution_count": null,
      "outputs": []
    }
  ]
}