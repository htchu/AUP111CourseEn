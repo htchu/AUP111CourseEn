{
  "cells": [
    {
      "cell_type": "markdown",
      "metadata": {
        "id": "NmNGnQFiHXY5"
      },
      "source": [
        "# AU Fundamentals of Python Programming-111-M3 Questions(29)"
      ]
    },
    {
      "cell_type": "markdown",
      "metadata": {
        "id": "orTAgycrMVCo"
      },
      "source": [
        "### M3Q22. Digits and sorting\n",
        "\n",
        "Problem Description:\n",
        "Input an integer N and N integers, please output in descending order of the digits in the decimal place. If everybody\n",
        "If the numbers are equal to each other, the comparison values are arranged in descending order. For example: The sum of the digits of 9122 is 9+1+2+2=14, 3128\n",
        "The sum of the digits of 5112 is 3+1+2+8=14 and the sum of the digits of 5112 is 5+1+1+2=9. So enter 9122\n",
        "3128 5112 needs to output 5112 3128 9122, this is because 5112(9) <3128(14) <9122(14), where\n",
        "Because the sum of the digits of both 3128 and 9122 is 14, put 3128 with the smaller value in front.\n",
        "\n",
        "Input description:\n",
        "Enter N in the first line and N integers in the second line, separated by blanks, N<10.\n",
        "\n",
        "Output description:\n",
        "The output sort results are separated by tab spaces, and there must be a newline character at the end.\n",
        "\n",
        "| Sample Input:   |      Sample Output:      |\n",
        "|:----------------|:-------------------------|\n",
        "|9122 3128 5112|5112 3128 9122⏎|\n",
        "|1725 3821 2011 1428|2011 3821 1428 1725⏎ |"
      ]
    },
    {
      "cell_type": "markdown",
      "metadata": {
        "id": "-Z-P5jhIEQE9"
      },
      "source": [
        "<font size=\"10\">&#x0210B;</font>int(祕技):\n",
        "\n",
        "__Input:__ The input is a number of integers\n",
        "\n",
        "__Process:__ Use dictionary record\n",
        "\n",
        "__Output:__"
      ]
    },
    {
      "cell_type": "code",
      "execution_count": null,
      "metadata": {
        "id": "opXowzy_MYFD"
      },
      "outputs": [],
      "source": [
        "#from here\n"
      ]
    },
    {
      "cell_type": "markdown",
      "metadata": {
        "id": "g3urLfQLMYZe"
      },
      "source": [
        "### M3Q23. Goldbach Conjecture\n",
        "Problem Description:\n",
        "In 1742, Christian Goldbach, a German amateur mathematician, made the following guess: any one is better than 4\n",
        "Large even numbers must be able to find 2 prime numbers to make their sum equal.\n",
        "* 8=3+5 (3 and 5 are both prime numbers)\n",
        "* 20=3+17=7+13\n",
        "* 42=5+37=11+31=13+29=19+23\n",
        "\n",
        "Input description:\n",
        "Enter an even number.\n",
        "\n",
        "Output description:\n",
        "Output all possible results, and there must be a newline character at the end.\n",
        "\n",
        "\n",
        "| Sample Input:   |      Sample Output:      |\n",
        "|:----------------|:-------------------------|\n",
        "|8 | 3+5 ⏎  |\n",
        "|42|5+37|\n",
        "||11+31|\n",
        "||13+29|\n",
        "||19+23⏎|"
      ]
    },
    {
      "cell_type": "markdown",
      "metadata": {
        "id": "eJSDg-HcEROw"
      },
      "source": [
        "<font size=\"10\">&#x0210B;</font>int:\n",
        "\n",
        "__Input:__ The input is an even number\n",
        "\n",
        "__Process:__ Two-level for-loop, exhaustively add up all two numbers, whether they are all prime numbers\n",
        "\n",
        "__Output:__"
      ]
    },
    {
      "cell_type": "code",
      "execution_count": null,
      "metadata": {
        "id": "KXbcKpRVMbZS"
      },
      "outputs": [],
      "source": [
        "#from here\n"
      ]
    },
    {
      "cell_type": "markdown",
      "metadata": {
        "id": "VxP8E06EMbh2"
      },
      "source": [
        "### M3Q24. ID card validator\n",
        "\n",
        "Problem Description:\n",
        "Design a program to check the correctness of the ID number (the gender column and check code should be checked).\n",
        "There are ten codes for the ID number, and there are certain coding rules. The rules for checking the coding are as follows:\n",
        "\n",
        "\n",
        "|A1 | N1 |N2 |N3 |N4 |N5 |N6 |N7 |N8 |N9 |\n",
        "|:---|:---|:---|:---|:---|:---|:---|:---|:---|:--- |\n",
        "|English | 1: on behalf of boys 2: on behalf of girls |||||||check code|\n",
        "\n",
        "The calculation method of the check code is as follows:\n",
        "\n",
        "http://www2.lssh.tp.edu.tw/~hlf/class-1/lang-c/id/index.htm\n",
        "\n",
        "Input description:\n",
        "Enter the ID number, the first code is in English capital.\n",
        "\n",
        "Output description:\n",
        "If the ID number is correct, print \"CORRECT!!!\"; if it is incorrect, print \"WRONG!!!\", and it must have\n",
        "Newline characters.\n",
        "\n",
        "| Sample Input:   |      Sample Output:      |\n",
        "|:----------------|:-------------------------|\n",
        "|A123456789 | CORRECT!!!  |\n",
        "||⏎|\n",
        "|L163690274|WRONG!!!|\n",
        "||⏎ |"
      ]
    },
    {
      "cell_type": "markdown",
      "metadata": {
        "id": "wKviUcXdESeD"
      },
      "source": [
        "<font size=\"10\">&#x0210B;</font>int:\n",
        "\n",
        "__Refer:__ http://mrcjtech.blogspot.com/2017/09/python.html\n",
        "\n",
        "__Input:__ The input is a string of ID cards, the first word is an English letter\n",
        "\n",
        "__Process:__ Check whether the last number is CheckSum\n",
        "\n",
        "__Output:__"
      ]
    },
    {
      "cell_type": "code",
      "execution_count": null,
      "metadata": {
        "colab": {
          "base_uri": "https://localhost:8080/"
        },
        "id": "f7o1VkVuMeBn",
        "outputId": "d44b0484-a035-4575-91a0-ddd563a01a67"
      },
      "outputs": [
        {
          "name": "stdout",
          "output_type": "stream",
          "text": [
            "A123456789\n",
            "CORRECT!!!\n"
          ]
        }
      ],
      "source": [
        "#from here\n",
        "alphaTable = {'A': 1, 'B': 10, 'C': 19, 'D': 28, 'E': 37, 'F': 46,\n",
        "        'G': 55, 'H': 64, 'I': 39, 'J': 73, 'K': 82, 'L': 2, 'M': 11,\n",
        "        'N': 20, 'O': 48, 'P': 29, 'Q': 38, 'R': 47, 'S': 56, 'T': 65,\n",
        "        'U': 74, 'V': 83, 'W': 21, 'X': 3, 'Y': 12, 'Z': 30}\n",
        "  "
      ]
    },
    {
      "cell_type": "markdown",
      "metadata": {
        "id": "fdDjAcssMeK4"
      },
      "source": [
        "### M3Q25. ISBN verification\n",
        "\n",
        "Problem Description:\n",
        "\n",
        "ISBN (International Standard Book Number) is a universal book coding method.\n",
        "Every book is published with a unique set of ISBN codes. This code consists of ten digits, each of which can be\n",
        "Think of any number from 0 to 9, or X, which means that this digit is 10. The judgment method is as follows. First of all,\n",
        "Separate the ten digits of this ISBN code, from left to right the first digit, the second digit to the tenth digit, and then\n",
        "Perform the first accumulation so that the second digit becomes the sum of the first digit to the second digit, and the third digit is the first\n",
        "The cumulative sum of the digit to the third digit, the tenth digit is the cumulative sum of the first digit to the tenth digit; the first time is completed\n",
        "After the cumulative sum of, then follow the same method for the second cumulative action, we call the last obtained at this time\n",
        "The cumulative sum is the identification code of this ISBN code. If the identification code is a multiple of 11, the ISBN code is legal\n",
        "of. For example, if the input ISBN code is 0 1 3 1 6 2 9 5 9 X, the result of the calculation is shown in the following table:\n",
        "\n",
        "|ISBN code | 0| 1 | 3 | 1 | 6 | 2 | 9 | 5 | 9 | X|\n",
        "|:---|:---|:---|:---|:---|:---|:---|:---|:---|:--- |:---|\n",
        "|First cumulative sum | 0|1|4|5|11|13|22|27|36|46|\n",
        "|The second cumulative sum | 0|1|5|10|21|34|56|83|119|165|\n",
        "Through calculation, the identification code is 165, which is a multiple of 11, so it is a legal ISBN code.\n",
        "\n",
        "Input description:\n",
        "Enter a string of ISBN codes, separated by spaces.\n",
        "\n",
        "Output description:\n",
        "Legal ISBN code, print YES, illegal ISBN code, print NO, there must be a newline character at the end.\n",
        "\n",
        "example:\n",
        "\n",
        "| Sample Input:   |      Sample Output:      |\n",
        "|:----------------|:-------------------------|\n",
        "|013162959X | YES  |\n",
        "||⏎|"
      ]
    },
    {
      "cell_type": "markdown",
      "metadata": {
        "id": "6LDJq0dhEUBZ"
      },
      "source": [
        "<font size=\"10\">&#x0210B;</font>int(祕技):\n",
        "\n",
        "http://hk.uwenku.com/question/p-mtxvroux-bgh.html\n",
        "\n",
        "__Input:__ The input is a string of length 10\n",
        "\n",
        "__Process:__ Check whether the tenth code is the same as CheckSum\n",
        "\n",
        "__Output:__"
      ]
    },
    {
      "cell_type": "code",
      "execution_count": null,
      "metadata": {
        "id": "RVLgqDoZMgNY"
      },
      "outputs": [],
      "source": [
        "#from here\n"
      ]
    }
  ],
  "metadata": {
    "colab": {
      "provenance": [],
      "toc_visible": true
    },
    "kernelspec": {
      "display_name": "Python 3 (ipykernel)",
      "language": "python",
      "name": "python3"
    },
    "language_info": {
      "codemirror_mode": {
        "name": "ipython",
        "version": 3
      },
      "file_extension": ".py",
      "mimetype": "text/x-python",
      "name": "python",
      "nbconvert_exporter": "python",
      "pygments_lexer": "ipython3",
      "version": "3.9.7"
    }
  },
  "nbformat": 4,
  "nbformat_minor": 0
}