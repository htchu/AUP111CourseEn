{
 "cells": [
  {
   "cell_type": "markdown",
   "metadata": {
    "id": "3tHmSlPKjSDR"
   },
   "source": [
    "# AU Fundamentals of Python Programming-111-M2 Questions(26)"
   ]
  },
  {
   "cell_type": "markdown",
   "metadata": {
    "id": "G6dSTQmQ6uLf"
   },
   "source": [
    "## M2 Problems:Q01-Q05"
   ]
  },
  {
   "cell_type": "markdown",
   "metadata": {
    "id": "o10sMcW7jd0L"
   },
   "source": [
    "### M2-Q01  Maximum and minimum\n",
    "Problem Description:\n",
    "Write a program to find the maximum and minimum values of the five numbers entered. The value is not limited to an integer, and the value can be stored in a float type value.\n",
    "\n",
    "Input description:\n",
    "Enter 5 numbers\n",
    "\n",
    "Output description:\n",
    "When outputting the maximum and minimum values in the number sequence, two digits after the decimal point must be attached when outputting, and there must be a newline character at the end.\n",
    "\n",
    "\n",
    "| Sample Input:   |      Sample Output:      |\n",
    "|:----------------|:-------------------------|\n",
    "|-2 -15.2 0 9.5 100 | max=100.00   |\n",
    "|          |min=-15.20⏎ |\n",
    "| 0 3 52.7 998 135 | max=998.00   |\n",
    "|          |min=0.00⏎ |"
   ]
  },
  {
   "cell_type": "markdown",
   "metadata": {
    "id": "paQh8-6yty1a"
   },
   "source": [
    "<font size=\"10\">&#x0210B;</font>int:\n",
    "\n",
    "__Input:__ Use the float() function to convert the input string into a float variable\n",
    "\n",
    "__Process:__ if-condition\n",
    "\n",
    "__Output:__ The format of the second digit below the decimal point is .2f"
   ]
  },
  {
   "cell_type": "code",
   "execution_count": null,
   "metadata": {
    "id": "7kNXwlkQjRWy",
    "vscode": {
     "languageId": "python"
    }
   },
   "outputs": [],
   "source": [
    "#Coding from here\n"
   ]
  },
  {
   "cell_type": "markdown",
   "metadata": {
    "id": "VADAq_PbkVbj"
   },
   "source": [
    "### M2-Q02 '*'triangle\n",
    "(Time limit: 2 seconds)\n",
    "\n",
    "Problem Description:\n",
    "Let the user input a positive integer n, and use the loop to output a triangle with height n with the character'*'.\n",
    "\n",
    "Input description:\n",
    "Enter a positive integer n.\n",
    "\n",
    "Output description:\n",
    "Use the loop to output a triangle of height n with the character'*', and there must be a newline character at the end.\n",
    "\n",
    "| Sample Input:   |      Sample Output:      |\n",
    "|:----------------|:-------------------------|\n",
    "|4 | \\*   |\n",
    "|          |\\*\\* |\n",
    "|  | \\*\\*\\*   |\n",
    "|          |\\*\\*\\*\\*⏎ |\n"
   ]
  },
  {
   "cell_type": "markdown",
   "metadata": {
    "id": "BiCnMCnPuAwU"
   },
   "source": [
    "<font size=\"10\">&#x0210B;</font>int:\n",
    "\n",
    "__Input:__ Use the int() function to convert the input string into an integer variable\n",
    "\n",
    "__Process:__ For-loop using range()\n",
    "\n",
    "__Output:__ print() plus the end parameter"
   ]
  },
  {
   "cell_type": "code",
   "execution_count": null,
   "metadata": {
    "id": "ICkcvOD4kuK9",
    "vscode": {
     "languageId": "python"
    }
   },
   "outputs": [],
   "source": [
    "#Coding from here\n",
    "\n"
   ]
  },
  {
   "cell_type": "markdown",
   "metadata": {
    "id": "Jen3UxgYkudE"
   },
   "source": [
    "### M2-Q03 '*' reverse triangle\n",
    "Problem Description:\n",
    "Let the user input a positive integer n, and use the loop to output a triangle with height n with the character'*'.\n",
    "\n",
    "Input description:\n",
    "Enter a positive integer n.\n",
    "\n",
    "Output description:\n",
    "Use the loop to output a triangle of height n with the character'*', and there must be a newline character at the end.\n",
    "\n",
    "| Sample Input:   |      Sample Output:      |\n",
    "|:----------------|:-------------------------|\n",
    "|4 | &nbsp;&nbsp;&nbsp;\\*   |\n",
    "|          |&nbsp;&nbsp;\\*\\* |\n",
    "|  | &nbsp;\\*\\*\\*   |\n",
    "|          |\\*\\*\\*\\*⏎ |"
   ]
  },
  {
   "cell_type": "markdown",
   "metadata": {
    "id": "3ibx3NOVuWpk"
   },
   "source": [
    "<font size=\"10\">&#x0210B;</font>int:\n",
    "\n",
    "__Input:__ Using int() \n",
    "\n",
    "__Process:__ Using range() in for-loop\n",
    "\n",
    "__Output:__ print()with argument 'end'"
   ]
  },
  {
   "cell_type": "code",
   "execution_count": null,
   "metadata": {
    "id": "ipMCU87flKjT",
    "vscode": {
     "languageId": "python"
    }
   },
   "outputs": [],
   "source": [
    "#Coding from here\n",
    "\n"
   ]
  },
  {
   "cell_type": "markdown",
   "metadata": {
    "id": "m6hH_THllLg4"
   },
   "source": [
    "### M2-Q04 '*' regular triangle\n",
    "Problem Description:\n",
    "Let the user input a positive integer n, and use the loop to output a triangle with height n with the character'*'.\n",
    "\n",
    "Input description:\n",
    "Enter a positive integer n.\n",
    "\n",
    "Output description:\n",
    "Use the loop to output a triangle of height n with the character'*', and there must be a newline character at the end.\n",
    "\n",
    "| Sample Input:   |      Sample Output:      |\n",
    "|:----------------|:-------------------------|\n",
    "|4 | &nbsp;&nbsp;&nbsp;\\*   |\n",
    "|          |&nbsp;&nbsp;\\*\\*\\* |\n",
    "|  | &nbsp;\\*\\*\\*\\*\\*   |\n",
    "|          |\\*\\*\\*\\*\\*\\*\\*⏎ |"
   ]
  },
  {
   "cell_type": "markdown",
   "metadata": {
    "id": "eEiZwb-Sulff"
   },
   "source": [
    "<font size=\"10\">&#x0210B;</font>int(祕技):\n",
    "\n",
    "__Input:__ Using int()\n",
    "\n",
    "__Process:__ Using range()in for-loop\n",
    "\n",
    "__Output:__ print()with argument 'end'"
   ]
  },
  {
   "cell_type": "code",
   "execution_count": null,
   "metadata": {
    "id": "j9HGTbUVlajc",
    "vscode": {
     "languageId": "python"
    }
   },
   "outputs": [],
   "source": [
    "#Coding from here\n"
   ]
  },
  {
   "cell_type": "markdown",
   "metadata": {
    "id": "HSrPResGmHYW"
   },
   "source": [
    "###  M2-Q05 Decimal to Binary\n",
    "\n",
    "Problem Description:\n",
    "Write a program where the user enters a non-negative integer and prints out its 8-bit binary representation.\n",
    "\n",
    "Input description:\n",
    "Enter a non-negative integer between 0 and 255.\n",
    "\n",
    "Output description:\n",
    "In 8-bit binary representation, there must be a newline character at the end.\n",
    "\n",
    "| Sample Input:   |      Sample Output:      |\n",
    "|:----------------|:-------------------------|\n",
    "|15 | 00001111⏎   |\n",
    "|254    |11111110⏎ |"
   ]
  },
  {
   "cell_type": "markdown",
   "metadata": {
    "id": "7WqVV17AvkWJ"
   },
   "source": [
    "<font size=\"10\">&#x0210B;</font>int:\n",
    "\n",
    "__Input:__ Using int()\n",
    "\n",
    "__Process:__ Using range() in for-loop\n",
    "\n",
    "__Output:__ print() f-string"
   ]
  },
  {
   "cell_type": "code",
   "execution_count": null,
   "metadata": {
    "id": "2PCSxGATmcJ7",
    "vscode": {
     "languageId": "python"
    }
   },
   "outputs": [],
   "source": [
    "#Coding from here\n"
   ]
  },
  {
   "cell_type": "markdown",
   "metadata": {
    "id": "zZPkdEEP66dl"
   },
   "source": [
    "## M2 Problems:Q06-Q10"
   ]
  },
  {
   "cell_type": "markdown",
   "metadata": {
    "id": "t8-v9ylQmcX-"
   },
   "source": [
    "### M2-Q06 Prime number discrimination\n",
    "\n",
    "Problem Description:\n",
    "Try to write a program, by inputting an integer, and then judging whether the number is a prime number. A prime number refers to a number that can be divided evenly by no other number except 1 and itself. For example, 2, 3, 5, 7 and 11 are all prime numbers.\n",
    "\n",
    "Input description:\n",
    "Enter a positive integer.\n",
    "\n",
    "Output description:\n",
    "Prime numbers display YES; non-prime numbers display NO, and there must be a newline character at the end.\n",
    "\n",
    "| Sample Input:   |      Sample Output:      |\n",
    "|:----------------|:-------------------------|\n",
    "|23 | YES⏎   |\n",
    "|37    |YES⏎ |\n",
    "|39    |NO⏎ |\n"
   ]
  },
  {
   "cell_type": "markdown",
   "metadata": {
    "id": "CMzb6IF08d8N"
   },
   "source": [
    "<font size=\"10\">&#x0210B;</font>int:\n",
    "\n",
    "__Input:__ Using int()\n",
    "\n",
    "__Process:__ Using range() in for-loop\n",
    "\n",
    "__Output:__ print() f-string"
   ]
  },
  {
   "cell_type": "code",
   "execution_count": null,
   "metadata": {
    "id": "9in2OxWFmuq2",
    "vscode": {
     "languageId": "python"
    }
   },
   "outputs": [],
   "source": [
    "#Coding from here\n"
   ]
  },
  {
   "cell_type": "markdown",
   "metadata": {
    "id": "Sba5RrXom3Mz"
   },
   "source": [
    "### M2-Q07 Exam quiz\n",
    "\n",
    "Problem Description:\n",
    "A certain school held an English proficiency test. If a student passed the test, he would be able to pass the graduation threshold. The English test prepared by the teacher is divided into three items as examinations, namely listening, reading, and speaking. The full score of each item test is 100 points, and the total score is 300 points. There are two ways to pass the test.\n",
    "Method 1: If the scores of the three items are all 60 points or more (including 60 points), the test is passed.\n",
    "Way two:\n",
    "1. If one of the three items has a score of less than 60 points, but the total score of the three items is greater than or equal to 220 points, it can be considered as passing the test.\n",
    "2. If the score of one of the three items is less than 60 points, and the total score of the three items does not reach 220 points, you will get the opportunity to take the exam.\n",
    "3. If two of the three items fail, but the score of another item is higher than 80 points (including 80 points), you can also get the opportunity to make up the exam.\n",
    "The rest were judged to fail the test.\n",
    "\n",
    "Input description:\n",
    "The first line is an integer N, representing a total of N sets of test data. After that, there are N rows, and each row has 3 non-negative integers (the range is 0 to 100), which represent the student's listening, reading, and speaking test scores.\n",
    "\n",
    "Output description:\n",
    "If the test is passed, \"P\" is output. If you need to make up the exam, output \"M\". If it fails the test, output \"F\". The results of each group of answers are output on one line, and there must be a newline character at the end.\n",
    "\n",
    "| Sample Input:   |      Sample Output:      |\n",
    "|:----------------|:-------------------------|\n",
    "|5 | P   |\n",
    "|95   86   100    |M |\n",
    "|30   60   80   |P |\n",
    "|80   55   85 | F   |\n",
    "|20   30   60    |M |\n",
    "|10   80   10    | |"
   ]
  },
  {
   "cell_type": "markdown",
   "metadata": {
    "id": "b8m17EPreBiw"
   },
   "source": [
    "<font size=\"10\">&#x0210B;</font>int:\n",
    "\n",
    "__Input:__ Using int() \n",
    "\n",
    "__Process:__ if condition\n",
    "\n",
    "__Output:__ print() f-string"
   ]
  },
  {
   "cell_type": "code",
   "execution_count": null,
   "metadata": {
    "id": "GuIQwoPunhWR",
    "vscode": {
     "languageId": "python"
    }
   },
   "outputs": [],
   "source": [
    "#Coding from here\n",
    "\n",
    "\n",
    "    "
   ]
  },
  {
   "cell_type": "markdown",
   "metadata": {
    "id": "IhQ8MKjinhi8"
   },
   "source": [
    "### M2-Q08 Calculate the sum of the positive integers divided by 3\n",
    "\n",
    "Problem Description:\n",
    "Try to write a program, enter a positive integer N, you can calculate the sum of the values between 1 and N that are divisible by 3.\n",
    "\n",
    "Input description:\n",
    "Enter a positive integer.\n",
    "\n",
    "Output description:\n",
    "The output sum must have a newline character at the end.\n",
    "\n",
    "| Sample Input:   |      Sample Output:      |\n",
    "|:----------------|:-------------------------|\n",
    "|100 | 1683⏎   |\n",
    "|150   |3825⏎ |"
   ]
  },
  {
   "cell_type": "markdown",
   "metadata": {
    "id": "zEP4EWc8eea7"
   },
   "source": [
    "<font size=\"10\">&#x0210B;</font>int(祕技):\n",
    "\n",
    "__Input:__ Using int()\n",
    "\n",
    "__Process:__the values between 1 and N that are divisible by 3\n",
    "\n",
    "__Output:__ print() f-string"
   ]
  },
  {
   "cell_type": "code",
   "execution_count": null,
   "metadata": {
    "id": "lIfPj8FIn1vj",
    "vscode": {
     "languageId": "python"
    }
   },
   "outputs": [],
   "source": [
    "#Coding from here\n",
    "\n"
   ]
  },
  {
   "cell_type": "markdown",
   "metadata": {
    "id": "Zcn88_XIn18C"
   },
   "source": [
    "### M2-Q09 Greatest common factor and least common multiple\n",
    "\n",
    "Problem Description:\n",
    "Given two positive integers, find the greatest common factor and least common multiple.\n",
    "$LCM(a, b) = (a * b) / GCD(a, b)$\n",
    "\n",
    "Input description:\n",
    "Given two positive integers.\n",
    "\n",
    "Output description:\n",
    "Output the greatest common factor and least common multiple, and there must be a newline character at the end.\n",
    "\n",
    "| Sample Input:   |      Sample Output:      |\n",
    "|:----------------|:-------------------------|\n",
    "|300 250 | 50   |\n",
    "|   |1500⏎ |"
   ]
  },
  {
   "cell_type": "markdown",
   "metadata": {
    "id": "NAdlUuF7esEU"
   },
   "source": [
    "<font size=\"10\">&#x0210B;</font>int:\n",
    "\n",
    "__Input:__ Use map(), int() functions to convert the input string into two integer variables\n",
    "\n",
    "__Process:__ first calculate gcd (the largest number that can be divided evenly by two numbers), and then calculate lcm according to the formula\n",
    "\n",
    "__Output:__ print() f-string"
   ]
  },
  {
   "cell_type": "code",
   "execution_count": null,
   "metadata": {
    "id": "-_25jQ7-oCq-",
    "vscode": {
     "languageId": "python"
    }
   },
   "outputs": [],
   "source": [
    "#Coding from here\n"
   ]
  },
  {
   "cell_type": "markdown",
   "metadata": {
    "id": "UavkmCJSoC1x"
   },
   "source": [
    "### M2-Q10 n×n multiplication table\n",
    "\n",
    "Problem Description:\n",
    "Output n×n multiplication table.\n",
    "\n",
    "Input description:\n",
    "Enter a positive integer n.\n",
    "\n",
    "Output description:\n",
    "Output n×n multiplication table (0<n<=9), each output number is divided into tabs, and there must be a newline character at the end.\n",
    "\n",
    "\n",
    "| Sample Input:   |      Sample Output:      |\n",
    "|:----------------|:-------------------------|\n",
    "|8 | 1      &nbsp;2      &nbsp;3       &nbsp;4     &nbsp;5      &nbsp;6       &nbsp;7      &nbsp;8   |\n",
    "| | 2     &nbsp;4      &nbsp;6       &nbsp;8   10    12    14    16   |\n",
    "| | 3     &nbsp;6      &nbsp;9     12   15    18    21    24   |\n",
    "| | 4    &nbsp;8    12     16   20   24   28   32   |\n",
    "| | 5   10    15    20   25    30   35  40   |\n",
    "| | 6   12    18    24   30   36   42   48   |\n",
    "| | 7   14    21    28   35    42   49   56   |\n",
    "| | 8   16   24    32   40   48   56   64⏎   |\n",
    "|5   |1     2      3       4      5 |\n",
    "| | 2     4      6      8    10   |\n",
    "| | 3     6      9    12    15   |\n",
    "| | 4     8    12    16    20   |\n",
    "| | 5   10    15    20   25⏎   |\n"
   ]
  },
  {
   "cell_type": "markdown",
   "metadata": {
    "id": "gi4v2e-PfEmQ"
   },
   "source": [
    "<font size=\"10\">&#x0210B;</font>int:\n",
    "\n",
    "__Input:__ Use the int() function to convert the input string into an integer variable\n",
    "\n",
    "__Process:__The second layer for loop\n",
    "\n",
    "__Output:__ print() Each output number is divided into tabs"
   ]
  },
  {
   "cell_type": "code",
   "execution_count": null,
   "metadata": {
    "id": "I3VhmwXRpuEk",
    "vscode": {
     "languageId": "python"
    }
   },
   "outputs": [],
   "source": [
    "#Coding from here\n"
   ]
  },
  {
   "cell_type": "markdown",
   "metadata": {
    "id": "Jz0lFM7u6-OV"
   },
   "source": [
    "## M2 Problems:Q11-Q15"
   ]
  },
  {
   "cell_type": "markdown",
   "metadata": {
    "id": "KtOtlKY6pug-"
   },
   "source": [
    "### M2-Q11 Positive factor\n",
    "\n",
    "Problem Description:\n",
    "Let the user input a positive integer n and output all the positive factors of n.\n",
    "\n",
    "Input description:\n",
    "Enter a positive integer n.\n",
    "\n",
    "Output description:\n",
    "All positive factors of n are output, and there must be a newline character at the end.\n",
    "\n",
    "| Sample Input:   |      Sample Output:      |\n",
    "|:----------------|:-------------------------|\n",
    "|5 | 1   |\n",
    "|   |5⏎ |\n",
    "|10 | 1   |\n",
    "|   |2 |\n",
    "| | 5   |\n",
    "|   |10⏎ |"
   ]
  },
  {
   "cell_type": "markdown",
   "metadata": {
    "id": "T6sRMEMdh6lY"
   },
   "source": [
    "<font size=\"10\">&#x0210B;</font>int:\n",
    "\n",
    "__Input:__ Use the int() function to convert the input string into an integer variable\n",
    "\n",
    "__Process:__ one layer of for loop, a judgment formula\n",
    "\n",
    "__Output:__ print()"
   ]
  },
  {
   "cell_type": "code",
   "execution_count": null,
   "metadata": {
    "id": "S6rQ0wF6qIUz",
    "vscode": {
     "languageId": "python"
    }
   },
   "outputs": [],
   "source": [
    "#Coding from here\n"
   ]
  },
  {
   "cell_type": "markdown",
   "metadata": {
    "id": "4dLmZ7DPqMRe"
   },
   "source": [
    "### M2-Q12 Solid square\n",
    "\n",
    "Problem Description:\n",
    "Try to write a program in which the user inputs a positive integer n and the character c, and prints a solid square with the side length n in the character c.\n",
    "\n",
    "Input description:\n",
    "Enter a positive integer n and character c respectively.\n",
    "\n",
    "Output description:\n",
    "The output uses c characters, and prints a solid square with a side length of n, and there must be a newline character at the end.\n",
    "\n",
    "| Sample Input:   |      Sample Output:      |\n",
    "|:----------------|:-------------------------|\n",
    "|3@ | \\@\\@\\@   |\n",
    "|   |\\@\\@\\@ |\n",
    "|   |\\@\\@\\@⏎ |"
   ]
  },
  {
   "cell_type": "markdown",
   "metadata": {
    "id": "O9qZpSjPiFVu"
   },
   "source": [
    "<font size=\"10\">&#x0210B;</font>int:\n",
    "\n",
    "__Input:__ Use the int() function to convert the first character of the input string into an integer variable\n",
    "\n",
    "__Process:__The second layer for loop\n",
    "\n",
    "__Output:__ print()"
   ]
  },
  {
   "cell_type": "code",
   "execution_count": null,
   "metadata": {
    "id": "6wMrmcfJtRJ2",
    "vscode": {
     "languageId": "python"
    }
   },
   "outputs": [],
   "source": [
    "#Coding from here\n",
    "\n"
   ]
  },
  {
   "cell_type": "markdown",
   "metadata": {
    "id": "fOAWHfkbtRZy"
   },
   "source": [
    "### M2-Q13   n factorial\n",
    "\n",
    "Problem Description:\n",
    "Let the user input a positive integer n, use a loop to calculate the value of n! and output it.\n",
    "\n",
    "Input description:\n",
    "Enter a positive integer n (n <= 20 ).\n",
    "\n",
    "Output description:\n",
    "Calculate the value of n! (long) in a loop and output it, and there must be a newline character at the end.\n",
    "\n",
    "| Sample Input:   |      Sample Output:      |\n",
    "|:----------------|:-------------------------|\n",
    "|8 | 40320⏎   |\n",
    "| 14  |87178291200⏎ |\n"
   ]
  },
  {
   "cell_type": "markdown",
   "metadata": {
    "id": "Ye1E9drDiXGK"
   },
   "source": [
    "<font size=\"10\">&#x0210B;</font>int:\n",
    "\n",
    "__Input:__ Using int()\n",
    "\n",
    "__Process:__for loop\n",
    "\n",
    "__Output:__ print()"
   ]
  },
  {
   "cell_type": "code",
   "execution_count": null,
   "metadata": {
    "id": "Yn9yvqsw54rC",
    "vscode": {
     "languageId": "python"
    }
   },
   "outputs": [],
   "source": [
    "#Coding from here\n",
    "\n"
   ]
  },
  {
   "cell_type": "markdown",
   "metadata": {
    "id": "K4YCAX2J7OB4"
   },
   "source": [
    "### M2-Q14   n*(n+1) sum\n",
    "Problem Description:\n",
    "Let the user input a positive integer n, calculate 1*(1+1) + 2*(2+1) + 3*(3+1) +… + n*(n+1) and output the result.\n",
    "\n",
    "Input description:\n",
    "Enter a positive integer n.\n",
    "\n",
    "Output description:\n",
    "Calculate 1*(1+1) + 2*(2+1) + 3*(3+1) +… + n*(n+1) and output the result. There must be a newline character at the end.\n",
    "\n",
    "\n",
    "\n",
    "\n",
    "| Sample Input:   |      Sample Output:      |\n",
    "|:----------------|:-------------------------|\n",
    "| 5         |70⏎ |"
   ]
  },
  {
   "cell_type": "markdown",
   "metadata": {
    "id": "5luzS5cdidKB"
   },
   "source": [
    "<font size=\"10\">&#x0210B;</font>int:\n",
    "\n",
    "__Input:__ Using int()\n",
    "\n",
    "__Process:__for loop\n",
    "\n",
    "__Output:__ print()"
   ]
  },
  {
   "cell_type": "code",
   "execution_count": null,
   "metadata": {
    "id": "4SW5U9DY7O8F",
    "vscode": {
     "languageId": "python"
    }
   },
   "outputs": [],
   "source": [
    "#Coding from here\n"
   ]
  },
  {
   "cell_type": "markdown",
   "metadata": {
    "id": "nS627wXG7S7y"
   },
   "source": [
    "### M2-Q15 1/[(2n-1)*(2n)] sum\n",
    "(Time limit: 2 seconds)\n",
    "\n",
    "Problem Description:\n",
    "Let the user enter a positive integer n to calculate $1/(1*2)+1/(3*4)+1/(5*6)+…+1/[(2n-1)*(2n)]$ And output the result.\n",
    "\n",
    "Input description:\n",
    "Enter a positive integer n.\n",
    "\n",
    "Output description:\n",
    "Calculate $1/(1*2)+1/(3*4)+1/(5*6)+…+1/[(2n-1)*(2n)]$ and output the result (double), the last must There are newline characters.\n",
    "\n",
    "\n",
    "| Sample Input:   |      Sample Output:      |\n",
    "|:----------------|:-------------------------|\n",
    "|20 | 0.6808033817926938⏎   |\n"
   ]
  },
  {
   "cell_type": "markdown",
   "metadata": {
    "id": "_-w92rTPif1Y"
   },
   "source": [
    "<font size=\"10\">&#x0210B;</font>int:\n",
    "\n",
    "__Input:__ Using int()\n",
    "\n",
    "__Process:__for loop\n",
    "\n",
    "__Output:__ print()"
   ]
  },
  {
   "cell_type": "code",
   "execution_count": null,
   "metadata": {
    "id": "Nt8RKFLEEAVD",
    "vscode": {
     "languageId": "python"
    }
   },
   "outputs": [],
   "source": [
    "#Coding from here\n",
    "\n"
   ]
  },
  {
   "cell_type": "markdown",
   "metadata": {
    "id": "BeRdXgUQ7DiJ"
   },
   "source": [
    "## M2 Problems:Q16-Q20"
   ]
  },
  {
   "cell_type": "markdown",
   "metadata": {
    "id": "YPhjkCeN7XWs"
   },
   "source": [
    "### M2-Q16 Calculate the sum of $2^n$\n",
    "Problem Description:\n",
    "Let the user input a positive integer n, and output the value of $2^1+2^2+2^3+...+2^n$.\n",
    "\n",
    "Input description:\n",
    "Enter a positive integer n.\n",
    "\n",
    "Output description:\n",
    "Output the value of $2^1+2^2+2^3+...+2^n$, there must be a newline character at the end.\n",
    "\n",
    "\n",
    "| Sample Input:   |      Sample Output:      |\n",
    "|:----------------|:-------------------------|\n",
    "|9 | 1022⏎   |\n",
    "|14          |32766⏎ |"
   ]
  },
  {
   "cell_type": "markdown",
   "metadata": {
    "id": "XAxH1MOZiiZd"
   },
   "source": [
    "<font size=\"10\">&#x0210B;</font>int:\n",
    "\n",
    "__Input:__ Using int()\n",
    "\n",
    "__Process:__for loop\n",
    "\n",
    "__Output:__ print()"
   ]
  },
  {
   "cell_type": "code",
   "execution_count": null,
   "metadata": {
    "id": "uU3MiNzY7aIG",
    "vscode": {
     "languageId": "python"
    }
   },
   "outputs": [],
   "source": [
    "#Coding from here\n",
    "\n",
    "\n"
   ]
  },
  {
   "cell_type": "markdown",
   "metadata": {
    "id": "FPCIseyk7agA"
   },
   "source": [
    "### M2-Q17 Digit string and\n",
    "Problem Description:\n",
    "Let the user input a positive integer n, determine and output the number of digits and the sum of each digit of the integer.\n",
    "For example: input 12345, output is 15 (1+2+3+4+5=15)\n",
    "\n",
    "Input description:\n",
    "Enter a positive integer n.\n",
    "\n",
    "Output description:\n",
    "Determine and output the sum of the number of digits and the number of digits of the integer, and there must be a newline character at the end.\n",
    "\n",
    "\n",
    "| Sample Input:   |      Sample Output:      |\n",
    "|:----------------|:-------------------------|\n",
    "|12345 | 5   |\n",
    "|          |15⏎ |"
   ]
  },
  {
   "cell_type": "markdown",
   "metadata": {
    "id": "CHvoYpu9il9d"
   },
   "source": [
    "<font size=\"10\">&#x0210B;</font>int:\n",
    "\n",
    "__Input:__ Using int()\n",
    "\n",
    "__Process:__for loop\n",
    "\n",
    "__Output:__ print()"
   ]
  },
  {
   "cell_type": "code",
   "execution_count": null,
   "metadata": {
    "id": "uyiabEOM7gR0",
    "vscode": {
     "languageId": "python"
    }
   },
   "outputs": [],
   "source": [
    "#Coding from here\n",
    "\n"
   ]
  },
  {
   "cell_type": "markdown",
   "metadata": {
    "id": "UCrFOdu57hJa"
   },
   "source": [
    "### M2-Q18 Find consecutive integers to add\n",
    "Problem Description:\n",
    "Let the user enter a positive integer, write a program to find a series of consecutive integers so that the sum of the series is a positive integer,\n",
    "If a positive integer cannot find the sum of consecutive integers, please print \"No\".\n",
    "E.g:\n",
    "\n",
    "15 =1+2+3+4+5\n",
    "=4+5+6\n",
    "=7+8\n",
    "\n",
    "Input description:\n",
    "Enter a positive integer.\n",
    "\n",
    "Output description:\n",
    "Output possible integers plus consecutive integers. If you can’t find it, please print \"No\", and there must be a newline character at the end.\n",
    "\n",
    "\n",
    "\n",
    "| Sample Input:   |      Sample Output:      |\n",
    "|:----------------|:-------------------------|\n",
    "|15 | 1+2+3+4+5   |\n",
    "|    |4+5+6 |\n",
    "|    |7+8⏎ |\n",
    "|4    |NO⏎ |"
   ]
  },
  {
   "cell_type": "markdown",
   "metadata": {
    "id": "w61Kdbu4isg-"
   },
   "source": [
    "<font size=\"10\">&#x0210B;</font>int:\n",
    "\n",
    "__Input:__ Using int()\n",
    "\n",
    "__Process:__for loop in for loop\n",
    "\n",
    "__Output:__ print()"
   ]
  },
  {
   "cell_type": "code",
   "execution_count": null,
   "metadata": {
    "id": "d5mdPckS7mQc",
    "vscode": {
     "languageId": "python"
    }
   },
   "outputs": [],
   "source": [
    "#Coding from here\n"
   ]
  },
  {
   "cell_type": "markdown",
   "metadata": {
    "id": "of57Iq6n7mc7"
   },
   "source": [
    "### M2-Q19 sequence\n",
    "\n",
    "Problem Description:\n",
    "Enter a positive integer N and enumerate the following sequence until the number exceeds N.\n",
    "Sequence 1: 1 2 4 7 11 16 22 29...\n",
    "Sequence 2: 1 2 2 3 3 3 4 4 4 4 5 5 5 5 5...\n",
    "\n",
    "Input description:\n",
    "Enter a positive integer N.\n",
    "\n",
    "Output description:\n",
    "The output number exceeds N in the series, the number is divided into tabs, and there must be a newline character at the end.\n",
    "\n",
    "\n",
    "| Sample Input:   |      Sample Output:      |\n",
    "|:----------------|:-------------------------|\n",
    "|5 | 1  2  4  7     |\n",
    "|  |1  2  2  3  3  3  4  4  4  4  5  5  5  5  5  6  6  6  6  6  6 ⏎ |"
   ]
  },
  {
   "cell_type": "markdown",
   "metadata": {
    "id": "L4PWWEH5iwou"
   },
   "source": [
    "<font size=\"10\">&#x0210B;</font>int:\n",
    "\n",
    "__Input:__ Using int()\n",
    "\n",
    "__Process:__while loop and for loop\n",
    "\n",
    "__Output:__ print()"
   ]
  },
  {
   "cell_type": "code",
   "execution_count": null,
   "metadata": {
    "id": "PIB3gDTe7pQK",
    "vscode": {
     "languageId": "python"
    }
   },
   "outputs": [],
   "source": [
    "#Coding from here\n",
    "\n"
   ]
  },
  {
   "cell_type": "markdown",
   "metadata": {
    "id": "SHxG5Vuw7p8b"
   },
   "source": [
    "### M2-Q20 List of prime numbers\n",
    "\n",
    "Problem Description:\n",
    "Let the user input a positive integer n and output all prime numbers less than n.\n",
    "\n",
    "Input description:\n",
    "Enter a positive integer n.\n",
    "\n",
    "Output description:\n",
    "Output all prime numbers less than n (1 is not a prime number), and there must be a newline character at the end.\n",
    "\n",
    "| Sample Input:   |      Sample Output:      |\n",
    "|:----------------|:-------------------------|\n",
    "|12 | 2   |\n",
    "|  | 3   |\n",
    "|  | 5   |\n",
    "|  | 7   |\n",
    "|   |11⏎ |"
   ]
  },
  {
   "cell_type": "markdown",
   "metadata": {
    "id": "8w9q3Es1i5JH"
   },
   "source": [
    "<font size=\"10\">&#x0210B;</font>int:\n",
    "\n",
    "__Input:__ Using int()\n",
    "\n",
    "__Process:__for loop in for loop\n",
    "\n",
    "__Output:__ print()"
   ]
  },
  {
   "cell_type": "code",
   "execution_count": null,
   "metadata": {
    "id": "31a_aXmT7sAu",
    "vscode": {
     "languageId": "python"
    }
   },
   "outputs": [],
   "source": [
    "#Coding from here\n",
    "\n"
   ]
  },
  {
   "cell_type": "markdown",
   "metadata": {
    "id": "mgg2VMX67IUL"
   },
   "source": [
    "## M2 Problems:Q21-Q25"
   ]
  },
  {
   "cell_type": "markdown",
   "metadata": {
    "id": "JhWP6Ssj7tPA"
   },
   "source": [
    "### M2-Q21 Number of consecutive 0s\n",
    "\n",
    "Problem Description:\n",
    "Let the user input a positive integer n, and output the number of consecutive 0s after the n! value.\n",
    "\n",
    "Input description:\n",
    "Enter a positive integer n.\n",
    "\n",
    "Output description:\n",
    "Output the number of consecutive 0s after the n! value, and there must be a newline character at the end.\n",
    "\n",
    "\n",
    "| Sample Input:   |      Sample Output:      |\n",
    "|:----------------|:-------------------------|\n",
    "|6 | 1⏎ |\n",
    "|15 | 3⏎ |\n",
    "|100 |24⏎  |\n"
   ]
  },
  {
   "cell_type": "markdown",
   "metadata": {
    "id": "88o1FTVnjA5E"
   },
   "source": [
    "<font size=\"10\">&#x0210B;</font>int:\n",
    "\n",
    "__Input:__ Using int()\n",
    "\n",
    "__Process:__while loop\n",
    "\n",
    "__Output:__ print()"
   ]
  },
  {
   "cell_type": "code",
   "execution_count": null,
   "metadata": {
    "id": "bIz8sKgU7xar",
    "vscode": {
     "languageId": "python"
    }
   },
   "outputs": [],
   "source": [
    "#Coding from here\n"
   ]
  },
  {
   "cell_type": "markdown",
   "metadata": {
    "id": "xmGiPBnT7xsN"
   },
   "source": [
    "### M2-Q22 Right triangle side length\n",
    "\n",
    "Problem Description:\n",
    "Print out all possible three-sided lengths of right-angled triangles whose side length is less than or equal to n.\n",
    "\n",
    "Input description:\n",
    "Enter a positive integer n.\n",
    "\n",
    "Output description:\n",
    "Output all possible right-angled triangles whose side lengths are less than or equal to n, with three sides in tabs, and a newline character is required at the end.\n",
    "\n",
    "\n",
    "| Sample Input:   |      Sample Output:      |\n",
    "|:----------------|:-------------------------|\n",
    "|30 | 3     4     5  |\n",
    "|   |5   12   13 |\n",
    "|   |6     8   10⏎ |"
   ]
  },
  {
   "cell_type": "markdown",
   "metadata": {
    "id": "kG3b6JotjDhy"
   },
   "source": [
    "<font size=\"10\">&#x0210B;</font>int:\n",
    "\n",
    "__Input:__ Using int()\n",
    "\n",
    "__Process:__for loop in for loop in for loop\n",
    "\n",
    "__Output:__ print()"
   ]
  },
  {
   "cell_type": "code",
   "execution_count": null,
   "metadata": {
    "id": "eEfmomAN78GW",
    "vscode": {
     "languageId": "python"
    }
   },
   "outputs": [],
   "source": [
    "#Coding from here\n",
    "\n"
   ]
  },
  {
   "cell_type": "markdown",
   "metadata": {
    "id": "5Kx6CNV278S8"
   },
   "source": [
    "### M2-Q23 Digital inversion\n",
    "\n",
    "Problem Description:\n",
    "Design a program that allows the user to input a positive integer and reverse the number, such as input: 12345, output: 54321.\n",
    "\n",
    "Input description:\n",
    "Enter a positive integer n.\n",
    "\n",
    "Output description:\n",
    "The input number is reversely transferred out, and there must be a line feed character at the end.\n",
    "\n",
    "\n",
    "\n",
    "| Sample Input:   |      Sample Output:      |\n",
    "|:----------------|:-------------------------|\n",
    "|123456 | 654321⏎ |\n"
   ]
  },
  {
   "cell_type": "markdown",
   "metadata": {
    "id": "dYlWSn3TjS7v"
   },
   "source": [
    "<font size=\"10\">&#x0210B;</font>int(祕技):\n",
    "\n",
    "__Input:__ The input string does not need to be converted into an integer variable\n",
    "\n",
    "__Process:__ Slice with negative index\n",
    "\n",
    "__Output:__ print()"
   ]
  },
  {
   "cell_type": "code",
   "execution_count": null,
   "metadata": {
    "id": "sERMbQmd7-Za",
    "vscode": {
     "languageId": "python"
    }
   },
   "outputs": [],
   "source": [
    "#Coding from here\n",
    "\n"
   ]
  },
  {
   "cell_type": "markdown",
   "metadata": {
    "id": "0qPSRyX77-p1"
   },
   "source": [
    "### M2-Q24 $1+2+3+…+m<=n$\n",
    "\n",
    "Problem Description:\n",
    "Let the user input a positive integer n, output 1+2+3+…+m<=n the largest integer m=?\n",
    "\n",
    "Input description:\n",
    "Enter a positive integer n.\n",
    "\n",
    "Output description:\n",
    "Output the largest integer m of 1+2+3+…+m<=n, and there must be a newline character at the end.\n",
    "\n",
    "\n",
    "| Sample Input:   |      Sample Output:      |\n",
    "|:----------------|:-------------------------|\n",
    "|55 | 10⏎   |\n",
    "| 77  |11⏎ |\n"
   ]
  },
  {
   "cell_type": "markdown",
   "metadata": {
    "id": "ojLca9KhjgW_"
   },
   "source": [
    "<font size=\"10\">&#x0210B;</font>int:\n",
    "\n",
    "__Input:__ Use the int() function to convert the input string into an integer variable\n",
    "\n",
    "__Process:__while loop\n",
    "\n",
    "__Output:__ print()"
   ]
  },
  {
   "cell_type": "code",
   "execution_count": null,
   "metadata": {
    "id": "oXQqk49n8Bic",
    "vscode": {
     "languageId": "python"
    }
   },
   "outputs": [],
   "source": [
    "#Coding from here\n",
    "\n"
   ]
  },
  {
   "cell_type": "markdown",
   "metadata": {
    "id": "gH3Tzc5A8CCX"
   },
   "source": [
    "### M2-Q25 Sum of numbers\n",
    "\n",
    "Problem Description:\n",
    "The user enters a positive integer n, and finds the sum of numbers less than or equal to n whose prime factors are only 2 or 3 or 5.\n",
    "\n",
    "Input description:\n",
    "Enter a positive integer n.\n",
    "\n",
    "Output description:\n",
    "Find the sum of numbers that are less than or equal to n whose prime factors are only 2 or 3 or 5, and there must be a newline character at the end.\n",
    "\n",
    "\n",
    "| Sample Input:   |      Sample Output:      |\n",
    "|:----------------|:-------------------------|\n",
    "|30 | 234⏎   |\n",
    "|50  |485⏎ |\n"
   ]
  },
  {
   "cell_type": "markdown",
   "metadata": {
    "id": "pFGisxa7z49a"
   },
   "source": [
    "<font size=\"10\">&#x0210B;</font>int:\n",
    "\n",
    "__Input:__ use the int() function to convert the input string to an integer variable\n",
    "\n",
    "__Process:__ use loop to check if its prime factors are only 2 or 3 or 5\n",
    "\n",
    "__Output:__ apply f-string"
   ]
  },
  {
   "cell_type": "code",
   "execution_count": null,
   "metadata": {
    "id": "iQnCC-VVzfYE",
    "vscode": {
     "languageId": "python"
    }
   },
   "outputs": [],
   "source": [
    "#Coding from here\n",
    "\n"
   ]
  },
  {
   "cell_type": "markdown",
   "metadata": {
    "id": "ANEfq6j7sI5c"
   },
   "source": [
    "## M2 Problems:Q26-Q27"
   ]
  },
  {
   "cell_type": "markdown",
   "metadata": {
    "id": "lUcG3aR78G5f"
   },
   "source": [
    "### M2-Q26 Recycle\n",
    "\n",
    "Problem Description:\n",
    "Recycling is a virtue, and the store owner came up with a way of encouragement: three empty cans can be exchanged for a new one. Suppose you have N cans of soda, try using the program to figure out how many cans of soda you can drink in the end?\n",
    "\n",
    "Input description:\n",
    "Enter a positive integer N.\n",
    "\n",
    "Output description:\n",
    "The maximum amount of soda you can drink, with a newline character at the end.\n",
    "\n",
    "\n",
    "| Sample Input:   |      Sample Output:      |\n",
    "|:----------------|:-------------------------|\n",
    "|5 |7⏎   |\n",
    "| 100  |149⏎ |\n"
   ]
  },
  {
   "cell_type": "markdown",
   "metadata": {
    "id": "rnEG-Hzh9CEy"
   },
   "source": [
    "<font size=\"10\">&#x0210B;</font>int:\n",
    "\n",
    "__Input:__ use the int() function to convert the input string to an integer variable\n",
    "\n",
    "__Process:__ Is there a need to change the loop: three empty cans for a new one\n",
    "\n",
    "__Output:__ apply f-string"
   ]
  },
  {
   "cell_type": "code",
   "execution_count": null,
   "metadata": {
    "id": "IInvOJaR9Cam",
    "vscode": {
     "languageId": "python"
    }
   },
   "outputs": [],
   "source": [
    "#Coding from here\n"
   ]
  },
  {
   "cell_type": "markdown",
   "metadata": {
    "id": "D1ph_qkF9Xku"
   },
   "source": [
    "### M2-Q27 Check adjacent odd numbers\n",
    "\n",
    "Problem Description:\n",
    "Enter 5 numbers\n",
    "\n",
    "Input description:\n",
    "Whether the output has adjacent odd numbers.\n",
    "\n",
    "Output description:\n",
    "\n",
    "\n",
    "| Sample Input:   |      Sample Output:      |\n",
    "|:----------------|:-------------------------|\n",
    "|5 6 7 8 9 |NO⏎   |\n",
    "|8 9 11 13 15|9,11⏎ |"
   ]
  },
  {
   "cell_type": "markdown",
   "metadata": {
    "id": "ObS33f0O_Gp3"
   },
   "source": [
    "<font size=\"10\">&#x0210B;</font>int:\n",
    "\n",
    "__Input:__ use the list(), map(), int() functions to convert the input string to a sequence of integers\n",
    "\n",
    "__Process:__ uses a loop to check for adjacent odd numbers\n",
    "\n",
    "__Output:__ apply f-string"
   ]
  },
  {
   "cell_type": "code",
   "execution_count": null,
   "metadata": {
    "id": "CAanv81-8NWZ",
    "vscode": {
     "languageId": "python"
    }
   },
   "outputs": [],
   "source": [
    "#Coding from here\n"
   ]
  }
 ],
 "metadata": {
  "colab": {
   "collapsed_sections": [],
   "provenance": [],
   "toc_visible": true
  },
  "kernelspec": {
   "display_name": "Python 3 (ipykernel)",
   "language": "python",
   "name": "python3"
  },
  "language_info": {
   "codemirror_mode": {
    "name": "ipython",
    "version": 3
   },
   "file_extension": ".py",
   "mimetype": "text/x-python",
   "name": "python",
   "nbconvert_exporter": "python",
   "pygments_lexer": "ipython3",
   "version": "3.9.7"
  }
 },
 "nbformat": 4,
 "nbformat_minor": 1
}
